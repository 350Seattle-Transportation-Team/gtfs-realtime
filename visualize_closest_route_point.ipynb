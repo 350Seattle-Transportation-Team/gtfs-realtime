{
 "cells": [
  {
   "cell_type": "markdown",
   "metadata": {
    "ExecuteTime": {
     "end_time": "2019-11-30T19:49:21.963188Z",
     "start_time": "2019-11-30T19:49:21.957187Z"
    }
   },
   "source": [
    "# visualizations to help understand the closest point on a route to our actual data point\n",
    "\n",
    "Started by Ben M to understand Nathaniels functions on Saturday, November 30, 2019"
   ]
  },
  {
   "cell_type": "code",
   "execution_count": 1,
   "metadata": {
    "ExecuteTime": {
     "end_time": "2019-11-30T20:00:04.791384Z",
     "start_time": "2019-11-30T20:00:04.717360Z"
    }
   },
   "outputs": [],
   "source": [
    "%load_ext autoreload\n",
    "%autoreload 2"
   ]
  },
  {
   "cell_type": "code",
   "execution_count": 2,
   "metadata": {
    "ExecuteTime": {
     "end_time": "2019-11-30T20:00:07.281354Z",
     "start_time": "2019-11-30T20:00:05.141358Z"
    }
   },
   "outputs": [],
   "source": [
    "from shapely.geometry import Point\n",
    "import matplotlib.pyplot as plt\n",
    "import geopandas as gpd\n",
    "%matplotlib inline"
   ]
  },
  {
   "cell_type": "code",
   "execution_count": 3,
   "metadata": {
    "ExecuteTime": {
     "end_time": "2019-11-30T20:00:10.891353Z",
     "start_time": "2019-11-30T20:00:07.285361Z"
    }
   },
   "outputs": [
    {
     "name": "stdout",
     "output_type": "stream",
     "text": [
      "11/30/2019 12:00\n",
      "benjamin.malnor\n"
     ]
    }
   ],
   "source": [
    "from datetime import datetime #added for Windows users\n",
    "current_time = datetime.now() #added for Windows users\n",
    "#!date #did not work on Windows\n",
    "print(current_time.strftime('%m/%d/%Y %H:%M'))\n",
    "!whoami"
   ]
  },
  {
   "cell_type": "code",
   "execution_count": 4,
   "metadata": {
    "ExecuteTime": {
     "end_time": "2019-11-30T20:00:11.027368Z",
     "start_time": "2019-11-30T20:00:10.894353Z"
    }
   },
   "outputs": [],
   "source": [
    "import numpy as np\n",
    "import pandas as pd"
   ]
  },
  {
   "cell_type": "markdown",
   "metadata": {},
   "source": [
    "## import Nathaniels `find_closest_route_point` functions"
   ]
  },
  {
   "cell_type": "code",
   "execution_count": 5,
   "metadata": {
    "ExecuteTime": {
     "end_time": "2019-11-30T20:00:11.199353Z",
     "start_time": "2019-11-30T20:00:11.030352Z"
    }
   },
   "outputs": [],
   "source": [
    "import find_closest_route_point as f"
   ]
  },
  {
   "cell_type": "code",
   "execution_count": 6,
   "metadata": {
    "ExecuteTime": {
     "end_time": "2019-11-30T20:00:11.353350Z",
     "start_time": "2019-11-30T20:00:11.204356Z"
    }
   },
   "outputs": [],
   "source": [
    "#make sure to download gtfs data from \n",
    "# https://transitfeeds.com/p/king-county-metro/73 \n",
    "# and unzipped to data/source/gtfs_YYYYMMDD folders\n",
    "gtfs_source_folder = \"./data/source/gtfs_20191118/\""
   ]
  },
  {
   "cell_type": "code",
   "execution_count": 7,
   "metadata": {
    "ExecuteTime": {
     "end_time": "2019-11-30T20:00:11.732350Z",
     "start_time": "2019-11-30T20:00:11.355352Z"
    }
   },
   "outputs": [
    {
     "data": {
      "text/html": [
       "<div>\n",
       "<style scoped>\n",
       "    .dataframe tbody tr th:only-of-type {\n",
       "        vertical-align: middle;\n",
       "    }\n",
       "\n",
       "    .dataframe tbody tr th {\n",
       "        vertical-align: top;\n",
       "    }\n",
       "\n",
       "    .dataframe thead th {\n",
       "        text-align: right;\n",
       "    }\n",
       "</style>\n",
       "<table border=\"1\" class=\"dataframe\">\n",
       "  <thead>\n",
       "    <tr style=\"text-align: right;\">\n",
       "      <th></th>\n",
       "      <th>shape_id</th>\n",
       "      <th>shape_pt_lat</th>\n",
       "      <th>shape_pt_lon</th>\n",
       "      <th>shape_pt_sequence</th>\n",
       "      <th>shape_dist_traveled</th>\n",
       "    </tr>\n",
       "  </thead>\n",
       "  <tbody>\n",
       "    <tr>\n",
       "      <td>0</td>\n",
       "      <td>10002005</td>\n",
       "      <td>47.612137</td>\n",
       "      <td>-122.281769</td>\n",
       "      <td>1</td>\n",
       "      <td>0.0</td>\n",
       "    </tr>\n",
       "    <tr>\n",
       "      <td>1</td>\n",
       "      <td>10002005</td>\n",
       "      <td>47.612144</td>\n",
       "      <td>-122.281784</td>\n",
       "      <td>2</td>\n",
       "      <td>5.8</td>\n",
       "    </tr>\n",
       "    <tr>\n",
       "      <td>2</td>\n",
       "      <td>10002005</td>\n",
       "      <td>47.612148</td>\n",
       "      <td>-122.281830</td>\n",
       "      <td>3</td>\n",
       "      <td>13.5</td>\n",
       "    </tr>\n",
       "    <tr>\n",
       "      <td>3</td>\n",
       "      <td>10002005</td>\n",
       "      <td>47.612141</td>\n",
       "      <td>-122.281853</td>\n",
       "      <td>4</td>\n",
       "      <td>22.0</td>\n",
       "    </tr>\n",
       "    <tr>\n",
       "      <td>4</td>\n",
       "      <td>10002005</td>\n",
       "      <td>47.612102</td>\n",
       "      <td>-122.281921</td>\n",
       "      <td>5</td>\n",
       "      <td>45.0</td>\n",
       "    </tr>\n",
       "  </tbody>\n",
       "</table>\n",
       "</div>"
      ],
      "text/plain": [
       "   shape_id  shape_pt_lat  shape_pt_lon  shape_pt_sequence  \\\n",
       "0  10002005     47.612137   -122.281769                  1   \n",
       "1  10002005     47.612144   -122.281784                  2   \n",
       "2  10002005     47.612148   -122.281830                  3   \n",
       "3  10002005     47.612141   -122.281853                  4   \n",
       "4  10002005     47.612102   -122.281921                  5   \n",
       "\n",
       "   shape_dist_traveled  \n",
       "0                  0.0  \n",
       "1                  5.8  \n",
       "2                 13.5  \n",
       "3                 22.0  \n",
       "4                 45.0  "
      ]
     },
     "execution_count": 7,
     "metadata": {},
     "output_type": "execute_result"
    }
   ],
   "source": [
    "shapes_df = pd.read_csv(f'{gtfs_source_folder}shapes.txt')\n",
    "shapes_df.head()"
   ]
  },
  {
   "cell_type": "markdown",
   "metadata": {},
   "source": [
    "## pick a `shape_id` to test, select a `shape_pt_sequence` along the route to generate a fake `vehicle_location`"
   ]
  },
  {
   "cell_type": "code",
   "execution_count": 8,
   "metadata": {
    "ExecuteTime": {
     "end_time": "2019-11-30T20:00:13.512349Z",
     "start_time": "2019-11-30T20:00:13.369355Z"
    }
   },
   "outputs": [
    {
     "data": {
      "text/html": [
       "<div>\n",
       "<style scoped>\n",
       "    .dataframe tbody tr th:only-of-type {\n",
       "        vertical-align: middle;\n",
       "    }\n",
       "\n",
       "    .dataframe tbody tr th {\n",
       "        vertical-align: top;\n",
       "    }\n",
       "\n",
       "    .dataframe thead th {\n",
       "        text-align: right;\n",
       "    }\n",
       "</style>\n",
       "<table border=\"1\" class=\"dataframe\">\n",
       "  <thead>\n",
       "    <tr style=\"text-align: right;\">\n",
       "      <th></th>\n",
       "      <th>shape_id</th>\n",
       "      <th>shape_pt_lat</th>\n",
       "      <th>shape_pt_lon</th>\n",
       "      <th>shape_pt_sequence</th>\n",
       "      <th>shape_dist_traveled</th>\n",
       "    </tr>\n",
       "  </thead>\n",
       "  <tbody>\n",
       "    <tr>\n",
       "      <td>5472</td>\n",
       "      <td>10014601</td>\n",
       "      <td>47.585152</td>\n",
       "      <td>-122.292999</td>\n",
       "      <td>20</td>\n",
       "      <td>4188.9</td>\n",
       "    </tr>\n",
       "  </tbody>\n",
       "</table>\n",
       "</div>"
      ],
      "text/plain": [
       "      shape_id  shape_pt_lat  shape_pt_lon  shape_pt_sequence  \\\n",
       "5472  10014601     47.585152   -122.292999                 20   \n",
       "\n",
       "      shape_dist_traveled  \n",
       "5472               4188.9  "
      ]
     },
     "execution_count": 8,
     "metadata": {},
     "output_type": "execute_result"
    }
   ],
   "source": [
    "#this shape is using gtfs 2019118\n",
    "#if you use a different gtfs file\n",
    "#you may need to pick a different shape_id\n",
    "shape_id = 10014601\n",
    "shape_pt_sequence = 20\n",
    "point_data = f.get_shape_point_data(shapes_df, shape_id, shape_pt_sequence)\n",
    "point_data"
   ]
  },
  {
   "cell_type": "markdown",
   "metadata": {},
   "source": [
    "## turn the random `point_data` into an numpy `array`"
   ]
  },
  {
   "cell_type": "code",
   "execution_count": 9,
   "metadata": {
    "ExecuteTime": {
     "end_time": "2019-11-30T20:00:14.556350Z",
     "start_time": "2019-11-30T20:00:14.429350Z"
    }
   },
   "outputs": [
    {
     "data": {
      "text/plain": [
       "array([[-122.292999 ,   47.5851517]])"
      ]
     },
     "execution_count": 9,
     "metadata": {},
     "output_type": "execute_result"
    }
   ],
   "source": [
    "# ['shape_pt_lat', 'shape_pt_lon']\n",
    "point_coords = point_data[['shape_pt_lon', 'shape_pt_lat']].values\n",
    "point_coords"
   ]
  },
  {
   "cell_type": "markdown",
   "metadata": {},
   "source": [
    "## make a fake `vehicle_location` by adding some noise to the `point_coords` above"
   ]
  },
  {
   "cell_type": "code",
   "execution_count": 17,
   "metadata": {
    "ExecuteTime": {
     "end_time": "2019-11-30T20:19:11.627410Z",
     "start_time": "2019-11-30T20:19:11.475422Z"
    }
   },
   "outputs": [
    {
     "data": {
      "text/plain": [
       "array([[-122.29303406,   47.58526629]])"
      ]
     },
     "execution_count": 17,
     "metadata": {},
     "output_type": "execute_result"
    }
   ],
   "source": [
    "# Add normally distributed noise to the shape point coordinates to get a fake vehicle location\n",
    "veh_coords = np.random.normal(point_coords, 1e-4)\n",
    "veh_coords"
   ]
  },
  {
   "cell_type": "code",
   "execution_count": 18,
   "metadata": {
    "ExecuteTime": {
     "end_time": "2019-11-30T20:19:12.020397Z",
     "start_time": "2019-11-30T20:19:11.767402Z"
    }
   },
   "outputs": [
    {
     "data": {
      "text/plain": [
       "(array([-122.292999  ,   47.58526629]), 4230.5938909265205)"
      ]
     },
     "execution_count": 18,
     "metadata": {},
     "output_type": "execute_result"
    }
   ],
   "source": [
    "veh_lon, veh_lat = veh_coords.reshape(2,)\n",
    "f.find_closest_point_on_route(shapes_df, shape_id, veh_lat, veh_lon, shape_pt_sequence)"
   ]
  },
  {
   "cell_type": "code",
   "execution_count": 19,
   "metadata": {
    "ExecuteTime": {
     "end_time": "2019-11-30T20:19:12.443394Z",
     "start_time": "2019-11-30T20:19:12.032390Z"
    }
   },
   "outputs": [],
   "source": [
    "close_point_coords, official_shape_dist_traveled = f.find_closest_point_on_route(shapes_df, shape_id, veh_lat, veh_lon, shape_pt_sequence)\n",
    "close_pt_shp = Point(close_point_coords)\n",
    "close_gpd = gpd.GeoDataFrame([{'name':'close_pt'}], crs={'init':'4326'},geometry=[close_pt_shp])\n",
    "shape_pt_data = f.get_shape_point_data(shapes_df, shape_id, shape_pt_sequence)\n",
    "adjacent_shape_pt_data = f.get_adjacent_shape_point_data(shapes_df, shape_pt_data.index[0])\n",
    "vehicle_pt = np.array([veh_lon, veh_lat])\n",
    "vehicle_pt_shp = Point(vehicle_pt)\n",
    "vehicle_gpd = gpd.GeoDataFrame([{'name':'vehicle_pt'}], crs={'init':'4326'},geometry=[vehicle_pt_shp])\n",
    "closest_shape_pt = shape_pt_data[['shape_pt_lon', 'shape_pt_lat']].values\n",
    "adjacent_pts = adjacent_shape_pt_data[['shape_pt_lon', 'shape_pt_lat']].values\n",
    "adjacent_points_shp_lst = [Point(pt) for pt in adjacent_pts]\n",
    "adjacent_gpd = gpd.GeoDataFrame([{'name':'adjacent_pt1'},{'name':'adjacent_pt2'}], crs={'init':'4326'},geometry=adjacent_points_shp_lst)\n",
    "union1_gpd = close_gpd.append(adjacent_gpd)\n",
    "full_union_gpd = union1_gpd.append(vehicle_gpd)"
   ]
  },
  {
   "cell_type": "code",
   "execution_count": 20,
   "metadata": {
    "ExecuteTime": {
     "end_time": "2019-11-30T20:19:12.821388Z",
     "start_time": "2019-11-30T20:19:12.450357Z"
    }
   },
   "outputs": [
    {
     "data": {
      "text/html": [
       "<div>\n",
       "<style scoped>\n",
       "    .dataframe tbody tr th:only-of-type {\n",
       "        vertical-align: middle;\n",
       "    }\n",
       "\n",
       "    .dataframe tbody tr th {\n",
       "        vertical-align: top;\n",
       "    }\n",
       "\n",
       "    .dataframe thead th {\n",
       "        text-align: right;\n",
       "    }\n",
       "</style>\n",
       "<table border=\"1\" class=\"dataframe\">\n",
       "  <thead>\n",
       "    <tr style=\"text-align: right;\">\n",
       "      <th></th>\n",
       "      <th>shape_id</th>\n",
       "      <th>shape_pt_lat</th>\n",
       "      <th>shape_pt_lon</th>\n",
       "      <th>shape_pt_sequence</th>\n",
       "      <th>shape_dist_traveled</th>\n",
       "    </tr>\n",
       "  </thead>\n",
       "  <tbody>\n",
       "    <tr>\n",
       "      <td>5472</td>\n",
       "      <td>10014601</td>\n",
       "      <td>47.585152</td>\n",
       "      <td>-122.292999</td>\n",
       "      <td>20</td>\n",
       "      <td>4188.9</td>\n",
       "    </tr>\n",
       "  </tbody>\n",
       "</table>\n",
       "</div>"
      ],
      "text/plain": [
       "      shape_id  shape_pt_lat  shape_pt_lon  shape_pt_sequence  \\\n",
       "5472  10014601     47.585152   -122.292999                 20   \n",
       "\n",
       "      shape_dist_traveled  \n",
       "5472               4188.9  "
      ]
     },
     "execution_count": 20,
     "metadata": {},
     "output_type": "execute_result"
    }
   ],
   "source": [
    "shape_pt_data"
   ]
  },
  {
   "cell_type": "code",
   "execution_count": 21,
   "metadata": {
    "ExecuteTime": {
     "end_time": "2019-11-30T20:19:13.569282Z",
     "start_time": "2019-11-30T20:19:12.833333Z"
    }
   },
   "outputs": [
    {
     "data": {
      "text/plain": [
       "(47.58499829999999, 47.5863274)"
      ]
     },
     "execution_count": 21,
     "metadata": {},
     "output_type": "execute_result"
    },
    {
     "data": {
      "image/png": "[encoded data removed]",
      "text/plain": [
       "<Figure size 288x360 with 1 Axes>"
      ]
     },
     "metadata": {
      "needs_background": "light"
     },
     "output_type": "display_data"
    }
   ],
   "source": [
    "fig, ax = plt.subplots(figsize=(4,5))\n",
    "x_max = max(adjacent_gpd.geometry.x.max(axis=0), close_gpd.geometry.x.max(axis=0))+1e-4\n",
    "x_min = min(adjacent_gpd.geometry.x.min(axis=0), close_gpd.geometry.x.min(axis=0))-1e-4\n",
    "y_max = max(adjacent_gpd.geometry.y.max(axis=0), close_gpd.geometry.y.max(axis=0))+1e-4\n",
    "y_min = min(adjacent_gpd.geometry.y.min(axis=0), close_gpd.geometry.y.min(axis=0))-1e-4\n",
    "close_gpd.plot(ax=ax, color='blue')\n",
    "adjacent_gpd.plot(ax=ax, color='red')\n",
    "vehicle_gpd.plot(ax=ax, color='green')\n",
    "ax.set_xlim(x_min, x_max)\n",
    "ax.set_ylim(y_min, y_max)"
   ]
  },
  {
   "cell_type": "code",
   "execution_count": 22,
   "metadata": {
    "ExecuteTime": {
     "end_time": "2019-11-30T20:19:13.851285Z",
     "start_time": "2019-11-30T20:19:13.573286Z"
    }
   },
   "outputs": [
    {
     "data": {
      "text/html": [
       "<div>\n",
       "<style scoped>\n",
       "    .dataframe tbody tr th:only-of-type {\n",
       "        vertical-align: middle;\n",
       "    }\n",
       "\n",
       "    .dataframe tbody tr th {\n",
       "        vertical-align: top;\n",
       "    }\n",
       "\n",
       "    .dataframe thead th {\n",
       "        text-align: right;\n",
       "    }\n",
       "</style>\n",
       "<table border=\"1\" class=\"dataframe\">\n",
       "  <thead>\n",
       "    <tr style=\"text-align: right;\">\n",
       "      <th></th>\n",
       "      <th>shape_id</th>\n",
       "      <th>shape_pt_lat</th>\n",
       "      <th>shape_pt_lon</th>\n",
       "      <th>shape_pt_sequence</th>\n",
       "      <th>shape_dist_traveled</th>\n",
       "    </tr>\n",
       "  </thead>\n",
       "  <tbody>\n",
       "    <tr>\n",
       "      <td>5471</td>\n",
       "      <td>10014601</td>\n",
       "      <td>47.585098</td>\n",
       "      <td>-122.292999</td>\n",
       "      <td>19</td>\n",
       "      <td>4169.9</td>\n",
       "    </tr>\n",
       "    <tr>\n",
       "      <td>5473</td>\n",
       "      <td>10014601</td>\n",
       "      <td>47.586227</td>\n",
       "      <td>-122.292999</td>\n",
       "      <td>21</td>\n",
       "      <td>4580.3</td>\n",
       "    </tr>\n",
       "  </tbody>\n",
       "</table>\n",
       "</div>"
      ],
      "text/plain": [
       "      shape_id  shape_pt_lat  shape_pt_lon  shape_pt_sequence  \\\n",
       "5471  10014601     47.585098   -122.292999                 19   \n",
       "5473  10014601     47.586227   -122.292999                 21   \n",
       "\n",
       "      shape_dist_traveled  \n",
       "5471               4169.9  \n",
       "5473               4580.3  "
      ]
     },
     "execution_count": 22,
     "metadata": {},
     "output_type": "execute_result"
    }
   ],
   "source": [
    "adjacent_shape_pt_data"
   ]
  },
  {
   "cell_type": "code",
   "execution_count": 23,
   "metadata": {
    "ExecuteTime": {
     "end_time": "2019-11-30T20:19:18.999725Z",
     "start_time": "2019-11-30T20:19:18.845151Z"
    }
   },
   "outputs": [
    {
     "data": {
      "text/plain": [
       "4230.5938909265205"
      ]
     },
     "execution_count": 23,
     "metadata": {},
     "output_type": "execute_result"
    }
   ],
   "source": [
    "official_shape_dist_traveled"
   ]
  },
  {
   "cell_type": "markdown",
   "metadata": {},
   "source": [
    "## now let's try with REAL data"
   ]
  },
  {
   "cell_type": "code",
   "execution_count": null,
   "metadata": {},
   "outputs": [],
   "source": []
  },
  {
   "cell_type": "code",
   "execution_count": null,
   "metadata": {},
   "outputs": [],
   "source": []
  },
  {
   "cell_type": "code",
   "execution_count": null,
   "metadata": {},
   "outputs": [],
   "source": []
  },
  {
   "cell_type": "code",
   "execution_count": 23,
   "metadata": {
    "ExecuteTime": {
     "end_time": "2019-11-30T19:58:53.664808Z",
     "start_time": "2019-11-30T19:58:53.516804Z"
    }
   },
   "outputs": [],
   "source": [
    "base_path = \".\\\\data\\\\transformed\\\\map_samples\"\n",
    "sample_json = full_union_gpd.to_json()\n",
    "with open(f'{base_path}\\\\close_point_sample.json', 'w') as f:\n",
    "    f.write(sample_json)"
   ]
  },
  {
   "cell_type": "code",
   "execution_count": null,
   "metadata": {},
   "outputs": [],
   "source": []
  }
 ],
 "metadata": {
  "kernelspec": {
   "display_name": "Python 3",
   "language": "python",
   "name": "python3"
  },
  "language_info": {
   "codemirror_mode": {
    "name": "ipython",
    "version": 3
   },
   "file_extension": ".py",
   "mimetype": "text/x-python",
   "name": "python",
   "nbconvert_exporter": "python",
   "pygments_lexer": "ipython3",
   "version": "3.6.6"
  }
 },
 "nbformat": 4,
 "nbformat_minor": 2
}
