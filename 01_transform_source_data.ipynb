{
 "cells": [
  {
   "cell_type": "code",
   "execution_count": 20,
   "metadata": {},
   "outputs": [],
   "source": [
    "# assumes you've downloaded data into ./data/source via ./download.sh\n",
    "\n",
    "import os, glob, tables\n",
    "import pandas as pd\n",
    "from tqdm import tqdm as tqdm_base, tqdm_notebook as tqdm\n",
    "\n",
    "tqdm_base.pandas()"
   ]
  },
  {
   "cell_type": "code",
   "execution_count": 2,
   "metadata": {},
   "outputs": [],
   "source": [
    "position_files = glob.glob('./data/source/*_positions.csv')"
   ]
  },
  {
   "cell_type": "code",
   "execution_count": 3,
   "metadata": {},
   "outputs": [
    {
     "data": {
      "application/vnd.jupyter.widget-view+json": {
       "model_id": "a8ebde88179047c09eb052799299f7d0",
       "version_major": 2,
       "version_minor": 0
      },
      "text/plain": [
       "HBox(children=(IntProgress(value=0, max=31), HTML(value='')))"
      ]
     },
     "metadata": {},
     "output_type": "display_data"
    },
    {
     "name": "stdout",
     "output_type": "stream",
     "text": [
      "\n"
     ]
    }
   ],
   "source": [
    "dfs = [pd.read_csv(f) for f in tqdm(position_files)]\n",
    "df = pd.concat(dfs)"
   ]
  },
  {
   "cell_type": "code",
   "execution_count": 4,
   "metadata": {},
   "outputs": [
    {
     "data": {
      "text/plain": [
       "(5162629, 8)"
      ]
     },
     "execution_count": 4,
     "metadata": {},
     "output_type": "execute_result"
    }
   ],
   "source": [
    "df.shape"
   ]
  },
  {
   "cell_type": "code",
   "execution_count": 5,
   "metadata": {},
   "outputs": [
    {
     "data": {
      "text/html": [
       "<div>\n",
       "<style scoped>\n",
       "    .dataframe tbody tr th:only-of-type {\n",
       "        vertical-align: middle;\n",
       "    }\n",
       "\n",
       "    .dataframe tbody tr th {\n",
       "        vertical-align: top;\n",
       "    }\n",
       "\n",
       "    .dataframe thead th {\n",
       "        text-align: right;\n",
       "    }\n",
       "</style>\n",
       "<table border=\"1\" class=\"dataframe\">\n",
       "  <thead>\n",
       "    <tr style=\"text-align: right;\">\n",
       "      <th></th>\n",
       "      <th>route_id</th>\n",
       "      <th>timestamp</th>\n",
       "      <th>trip_id</th>\n",
       "      <th>vehicle_id</th>\n",
       "      <th>vehicle_lat</th>\n",
       "      <th>vehicle_long</th>\n",
       "      <th>time_utc</th>\n",
       "      <th>time_pct</th>\n",
       "    </tr>\n",
       "  </thead>\n",
       "  <tbody>\n",
       "    <tr>\n",
       "      <th>0</th>\n",
       "      <td>100162</td>\n",
       "      <td>1515172533</td>\n",
       "      <td>34746138</td>\n",
       "      <td>7222</td>\n",
       "      <td>47.615437</td>\n",
       "      <td>-122.195480</td>\n",
       "      <td>2018-01-05 17:15:33</td>\n",
       "      <td>2018-01-05 09:15:33-08:00</td>\n",
       "    </tr>\n",
       "    <tr>\n",
       "      <th>1</th>\n",
       "      <td>100268</td>\n",
       "      <td>1515172609</td>\n",
       "      <td>34939262</td>\n",
       "      <td>6845</td>\n",
       "      <td>47.664951</td>\n",
       "      <td>-122.306503</td>\n",
       "      <td>2018-01-05 17:16:49</td>\n",
       "      <td>2018-01-05 09:16:49-08:00</td>\n",
       "    </tr>\n",
       "    <tr>\n",
       "      <th>2</th>\n",
       "      <td>100223</td>\n",
       "      <td>1515172627</td>\n",
       "      <td>34742858</td>\n",
       "      <td>2708</td>\n",
       "      <td>47.611298</td>\n",
       "      <td>-122.337379</td>\n",
       "      <td>2018-01-05 17:17:07</td>\n",
       "      <td>2018-01-05 09:17:07-08:00</td>\n",
       "    </tr>\n",
       "    <tr>\n",
       "      <th>3</th>\n",
       "      <td>100214</td>\n",
       "      <td>1515172587</td>\n",
       "      <td>34939012</td>\n",
       "      <td>6886</td>\n",
       "      <td>47.758350</td>\n",
       "      <td>-122.249443</td>\n",
       "      <td>2018-01-05 17:16:27</td>\n",
       "      <td>2018-01-05 09:16:27-08:00</td>\n",
       "    </tr>\n",
       "    <tr>\n",
       "      <th>4</th>\n",
       "      <td>100204</td>\n",
       "      <td>1515172591</td>\n",
       "      <td>34938946</td>\n",
       "      <td>3646</td>\n",
       "      <td>47.776638</td>\n",
       "      <td>-122.313705</td>\n",
       "      <td>2018-01-05 17:16:31</td>\n",
       "      <td>2018-01-05 09:16:31-08:00</td>\n",
       "    </tr>\n",
       "  </tbody>\n",
       "</table>\n",
       "</div>"
      ],
      "text/plain": [
       "   route_id   timestamp   trip_id  vehicle_id  vehicle_lat  vehicle_long  \\\n",
       "0    100162  1515172533  34746138        7222    47.615437   -122.195480   \n",
       "1    100268  1515172609  34939262        6845    47.664951   -122.306503   \n",
       "2    100223  1515172627  34742858        2708    47.611298   -122.337379   \n",
       "3    100214  1515172587  34939012        6886    47.758350   -122.249443   \n",
       "4    100204  1515172591  34938946        3646    47.776638   -122.313705   \n",
       "\n",
       "              time_utc                   time_pct  \n",
       "0  2018-01-05 17:15:33  2018-01-05 09:15:33-08:00  \n",
       "1  2018-01-05 17:16:49  2018-01-05 09:16:49-08:00  \n",
       "2  2018-01-05 17:17:07  2018-01-05 09:17:07-08:00  \n",
       "3  2018-01-05 17:16:27  2018-01-05 09:16:27-08:00  \n",
       "4  2018-01-05 17:16:31  2018-01-05 09:16:31-08:00  "
      ]
     },
     "execution_count": 5,
     "metadata": {},
     "output_type": "execute_result"
    }
   ],
   "source": [
    "df.head()"
   ]
  },
  {
   "cell_type": "code",
   "execution_count": 6,
   "metadata": {},
   "outputs": [],
   "source": [
    "df.drop_duplicates(inplace=True)"
   ]
  },
  {
   "cell_type": "code",
   "execution_count": 7,
   "metadata": {},
   "outputs": [
    {
     "data": {
      "text/plain": [
       "(5154140, 8)"
      ]
     },
     "execution_count": 7,
     "metadata": {},
     "output_type": "execute_result"
    }
   ],
   "source": [
    "df.shape"
   ]
  },
  {
   "cell_type": "code",
   "execution_count": 8,
   "metadata": {},
   "outputs": [
    {
     "data": {
      "text/plain": [
       "route_id          int64\n",
       "timestamp         int64\n",
       "trip_id           int64\n",
       "vehicle_id        int64\n",
       "vehicle_lat     float64\n",
       "vehicle_long    float64\n",
       "time_utc         object\n",
       "time_pct         object\n",
       "dtype: object"
      ]
     },
     "execution_count": 8,
     "metadata": {},
     "output_type": "execute_result"
    }
   ],
   "source": [
    "df.dtypes"
   ]
  },
  {
   "cell_type": "code",
   "execution_count": 9,
   "metadata": {},
   "outputs": [
    {
     "name": "stderr",
     "output_type": "stream",
     "text": [
      "100%|██████████| 5154140/5154140 [05:36<00:00, 15317.33it/s]\n"
     ]
    }
   ],
   "source": [
    "df['timestamp_tzone'] = df['time_pct'].progress_apply(pd.to_datetime)"
   ]
  },
  {
   "cell_type": "code",
   "execution_count": 10,
   "metadata": {},
   "outputs": [
    {
     "data": {
      "text/plain": [
       "route_id                    int64\n",
       "timestamp                   int64\n",
       "trip_id                     int64\n",
       "vehicle_id                  int64\n",
       "vehicle_lat               float64\n",
       "vehicle_long              float64\n",
       "time_utc                   object\n",
       "time_pct                   object\n",
       "timestamp_tzone    datetime64[ns]\n",
       "dtype: object"
      ]
     },
     "execution_count": 10,
     "metadata": {},
     "output_type": "execute_result"
    }
   ],
   "source": [
    "df.dtypes"
   ]
  },
  {
   "cell_type": "code",
   "execution_count": null,
   "metadata": {
    "scrolled": true
   },
   "outputs": [],
   "source": [
    "# output cleared for notebook (just cleared error output), but run this anyway\n",
    "df.set_index('timestamp_tzone', inplace=True)"
   ]
  },
  {
   "cell_type": "code",
   "execution_count": 16,
   "metadata": {},
   "outputs": [],
   "source": [
    "df.sort_index(inplace=True)"
   ]
  },
  {
   "cell_type": "code",
   "execution_count": 17,
   "metadata": {},
   "outputs": [
    {
     "data": {
      "text/html": [
       "<div>\n",
       "<style scoped>\n",
       "    .dataframe tbody tr th:only-of-type {\n",
       "        vertical-align: middle;\n",
       "    }\n",
       "\n",
       "    .dataframe tbody tr th {\n",
       "        vertical-align: top;\n",
       "    }\n",
       "\n",
       "    .dataframe thead th {\n",
       "        text-align: right;\n",
       "    }\n",
       "</style>\n",
       "<table border=\"1\" class=\"dataframe\">\n",
       "  <thead>\n",
       "    <tr style=\"text-align: right;\">\n",
       "      <th></th>\n",
       "      <th>route_id</th>\n",
       "      <th>timestamp</th>\n",
       "      <th>trip_id</th>\n",
       "      <th>vehicle_id</th>\n",
       "      <th>vehicle_lat</th>\n",
       "      <th>vehicle_long</th>\n",
       "      <th>time_utc</th>\n",
       "      <th>time_pct</th>\n",
       "    </tr>\n",
       "    <tr>\n",
       "      <th>timestamp_tzone</th>\n",
       "      <th></th>\n",
       "      <th></th>\n",
       "      <th></th>\n",
       "      <th></th>\n",
       "      <th></th>\n",
       "      <th></th>\n",
       "      <th></th>\n",
       "      <th></th>\n",
       "    </tr>\n",
       "  </thead>\n",
       "  <tbody>\n",
       "    <tr>\n",
       "      <th>2017-12-31 23:55:06</th>\n",
       "      <td>100249</td>\n",
       "      <td>1514764506</td>\n",
       "      <td>34922827</td>\n",
       "      <td>7006</td>\n",
       "      <td>47.617992</td>\n",
       "      <td>-122.320847</td>\n",
       "      <td>2017-12-31 23:55:06</td>\n",
       "      <td>2017-12-31 15:55:06-08:00</td>\n",
       "    </tr>\n",
       "    <tr>\n",
       "      <th>2017-12-31 23:55:07</th>\n",
       "      <td>100146</td>\n",
       "      <td>1514764507</td>\n",
       "      <td>34763985</td>\n",
       "      <td>6905</td>\n",
       "      <td>47.598827</td>\n",
       "      <td>-122.328072</td>\n",
       "      <td>2017-12-31 23:55:07</td>\n",
       "      <td>2017-12-31 15:55:07-08:00</td>\n",
       "    </tr>\n",
       "    <tr>\n",
       "      <th>2017-12-31 23:55:08</th>\n",
       "      <td>100469</td>\n",
       "      <td>1514764508</td>\n",
       "      <td>34970012</td>\n",
       "      <td>7062</td>\n",
       "      <td>47.412113</td>\n",
       "      <td>-122.272278</td>\n",
       "      <td>2017-12-31 23:55:08</td>\n",
       "      <td>2017-12-31 15:55:08-08:00</td>\n",
       "    </tr>\n",
       "    <tr>\n",
       "      <th>2017-12-31 23:55:28</th>\n",
       "      <td>100259</td>\n",
       "      <td>1514764528</td>\n",
       "      <td>34771722</td>\n",
       "      <td>3676</td>\n",
       "      <td>47.706902</td>\n",
       "      <td>-122.317825</td>\n",
       "      <td>2017-12-31 23:55:28</td>\n",
       "      <td>2017-12-31 15:55:28-08:00</td>\n",
       "    </tr>\n",
       "    <tr>\n",
       "      <th>2017-12-31 23:55:28</th>\n",
       "      <td>100101</td>\n",
       "      <td>1514764528</td>\n",
       "      <td>34922364</td>\n",
       "      <td>2770</td>\n",
       "      <td>47.555485</td>\n",
       "      <td>-122.376259</td>\n",
       "      <td>2017-12-31 23:55:28</td>\n",
       "      <td>2017-12-31 15:55:28-08:00</td>\n",
       "    </tr>\n",
       "  </tbody>\n",
       "</table>\n",
       "</div>"
      ],
      "text/plain": [
       "                     route_id   timestamp   trip_id  vehicle_id  vehicle_lat  \\\n",
       "timestamp_tzone                                                                \n",
       "2017-12-31 23:55:06    100249  1514764506  34922827        7006    47.617992   \n",
       "2017-12-31 23:55:07    100146  1514764507  34763985        6905    47.598827   \n",
       "2017-12-31 23:55:08    100469  1514764508  34970012        7062    47.412113   \n",
       "2017-12-31 23:55:28    100259  1514764528  34771722        3676    47.706902   \n",
       "2017-12-31 23:55:28    100101  1514764528  34922364        2770    47.555485   \n",
       "\n",
       "                     vehicle_long             time_utc  \\\n",
       "timestamp_tzone                                          \n",
       "2017-12-31 23:55:06   -122.320847  2017-12-31 23:55:06   \n",
       "2017-12-31 23:55:07   -122.328072  2017-12-31 23:55:07   \n",
       "2017-12-31 23:55:08   -122.272278  2017-12-31 23:55:08   \n",
       "2017-12-31 23:55:28   -122.317825  2017-12-31 23:55:28   \n",
       "2017-12-31 23:55:28   -122.376259  2017-12-31 23:55:28   \n",
       "\n",
       "                                      time_pct  \n",
       "timestamp_tzone                                 \n",
       "2017-12-31 23:55:06  2017-12-31 15:55:06-08:00  \n",
       "2017-12-31 23:55:07  2017-12-31 15:55:07-08:00  \n",
       "2017-12-31 23:55:08  2017-12-31 15:55:08-08:00  \n",
       "2017-12-31 23:55:28  2017-12-31 15:55:28-08:00  \n",
       "2017-12-31 23:55:28  2017-12-31 15:55:28-08:00  "
      ]
     },
     "execution_count": 17,
     "metadata": {},
     "output_type": "execute_result"
    }
   ],
   "source": [
    "df.head()"
   ]
  },
  {
   "cell_type": "code",
   "execution_count": 21,
   "metadata": {},
   "outputs": [],
   "source": [
    "df.to_hdf('./data/intermed/positions_201801.h5', key='df', mode='w')"
   ]
  },
  {
   "cell_type": "code",
   "execution_count": 23,
   "metadata": {},
   "outputs": [
    {
     "data": {
      "text/plain": [
       "(110963, 8)"
      ]
     },
     "execution_count": 23,
     "metadata": {},
     "output_type": "execute_result"
    }
   ],
   "source": [
    "df.loc['2018-01-01'].shape"
   ]
  },
  {
   "cell_type": "code",
   "execution_count": null,
   "metadata": {},
   "outputs": [],
   "source": []
  }
 ],
 "metadata": {
  "kernelspec": {
   "display_name": "Python 3",
   "language": "python",
   "name": "python3"
  },
  "language_info": {
   "codemirror_mode": {
    "name": "ipython",
    "version": 3
   },
   "file_extension": ".py",
   "mimetype": "text/x-python",
   "name": "python",
   "nbconvert_exporter": "python",
   "pygments_lexer": "ipython3",
   "version": "3.6.8"
  }
 },
 "nbformat": 4,
 "nbformat_minor": 2
}
