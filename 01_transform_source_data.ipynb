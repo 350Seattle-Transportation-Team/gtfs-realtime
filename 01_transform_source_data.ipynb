{
 "cells": [
  {
   "cell_type": "code",
   "execution_count": 1,
   "metadata": {},
   "outputs": [],
   "source": [
    "# assumes you've downloaded data into ./data/source via ./download.sh\n",
    "\n",
    "import os, glob, tables\n",
    "import pandas as pd\n",
    "from tqdm import tqdm as tqdm_base, tqdm_notebook as tqdm\n",
    "\n",
    "tqdm_base.pandas()"
   ]
  },
  {
   "cell_type": "code",
   "execution_count": 2,
   "metadata": {},
   "outputs": [],
   "source": [
    "position_files = glob.glob('./data/source/*_positions.csv')"
   ]
  },
  {
   "cell_type": "code",
   "execution_count": 3,
   "metadata": {},
   "outputs": [
    {
     "data": {
      "application/vnd.jupyter.widget-view+json": {
       "model_id": "01051cd8a05e407d8d18072831f6356f",
       "version_major": 2,
       "version_minor": 0
      },
      "text/plain": [
       "HBox(children=(IntProgress(value=0, max=31), HTML(value='')))"
      ]
     },
     "metadata": {},
     "output_type": "display_data"
    },
    {
     "name": "stdout",
     "output_type": "stream",
     "text": [
      "\n"
     ]
    }
   ],
   "source": [
    "dfs = [pd.read_csv(f) for f in tqdm(position_files)]\n",
    "df = pd.concat(dfs)"
   ]
  },
  {
   "cell_type": "code",
   "execution_count": 4,
   "metadata": {},
   "outputs": [],
   "source": [
    "df.drop_duplicates(inplace=True)"
   ]
  },
  {
   "cell_type": "code",
   "execution_count": 5,
   "metadata": {},
   "outputs": [
    {
     "name": "stderr",
     "output_type": "stream",
     "text": [
      "100%|██████████| 5154140/5154140 [05:36<00:00, 15318.18it/s]\n"
     ]
    }
   ],
   "source": [
    "# NOTE: pd.to_datetime is converting time_pct back into utc\n",
    "df['timestamp_utc'] = df['time_pct'].progress_apply(pd.to_datetime)"
   ]
  },
  {
   "cell_type": "code",
   "execution_count": 6,
   "metadata": {
    "scrolled": true
   },
   "outputs": [],
   "source": [
    "# output cleared for notebook (just cleared error output), but run this anyway\n",
    "df.set_index('timestamp_utc', inplace=True)"
   ]
  },
  {
   "cell_type": "code",
   "execution_count": 7,
   "metadata": {},
   "outputs": [],
   "source": [
    "df.sort_index(inplace=True)"
   ]
  },
  {
   "cell_type": "code",
   "execution_count": 8,
   "metadata": {},
   "outputs": [
    {
     "data": {
      "text/html": [
       "<div>\n",
       "<style scoped>\n",
       "    .dataframe tbody tr th:only-of-type {\n",
       "        vertical-align: middle;\n",
       "    }\n",
       "\n",
       "    .dataframe tbody tr th {\n",
       "        vertical-align: top;\n",
       "    }\n",
       "\n",
       "    .dataframe thead th {\n",
       "        text-align: right;\n",
       "    }\n",
       "</style>\n",
       "<table border=\"1\" class=\"dataframe\">\n",
       "  <thead>\n",
       "    <tr style=\"text-align: right;\">\n",
       "      <th></th>\n",
       "      <th>route_id</th>\n",
       "      <th>timestamp</th>\n",
       "      <th>trip_id</th>\n",
       "      <th>vehicle_id</th>\n",
       "      <th>vehicle_lat</th>\n",
       "      <th>vehicle_long</th>\n",
       "      <th>time_utc</th>\n",
       "      <th>time_pct</th>\n",
       "    </tr>\n",
       "    <tr>\n",
       "      <th>timestamp_utc</th>\n",
       "      <th></th>\n",
       "      <th></th>\n",
       "      <th></th>\n",
       "      <th></th>\n",
       "      <th></th>\n",
       "      <th></th>\n",
       "      <th></th>\n",
       "      <th></th>\n",
       "    </tr>\n",
       "  </thead>\n",
       "  <tbody>\n",
       "    <tr>\n",
       "      <th>2017-12-31 23:55:06</th>\n",
       "      <td>100249</td>\n",
       "      <td>1514764506</td>\n",
       "      <td>34922827</td>\n",
       "      <td>7006</td>\n",
       "      <td>47.617992</td>\n",
       "      <td>-122.320847</td>\n",
       "      <td>2017-12-31 23:55:06</td>\n",
       "      <td>2017-12-31 15:55:06-08:00</td>\n",
       "    </tr>\n",
       "    <tr>\n",
       "      <th>2017-12-31 23:55:07</th>\n",
       "      <td>100146</td>\n",
       "      <td>1514764507</td>\n",
       "      <td>34763985</td>\n",
       "      <td>6905</td>\n",
       "      <td>47.598827</td>\n",
       "      <td>-122.328072</td>\n",
       "      <td>2017-12-31 23:55:07</td>\n",
       "      <td>2017-12-31 15:55:07-08:00</td>\n",
       "    </tr>\n",
       "    <tr>\n",
       "      <th>2017-12-31 23:55:08</th>\n",
       "      <td>100469</td>\n",
       "      <td>1514764508</td>\n",
       "      <td>34970012</td>\n",
       "      <td>7062</td>\n",
       "      <td>47.412113</td>\n",
       "      <td>-122.272278</td>\n",
       "      <td>2017-12-31 23:55:08</td>\n",
       "      <td>2017-12-31 15:55:08-08:00</td>\n",
       "    </tr>\n",
       "    <tr>\n",
       "      <th>2017-12-31 23:55:28</th>\n",
       "      <td>100259</td>\n",
       "      <td>1514764528</td>\n",
       "      <td>34771722</td>\n",
       "      <td>3676</td>\n",
       "      <td>47.706902</td>\n",
       "      <td>-122.317825</td>\n",
       "      <td>2017-12-31 23:55:28</td>\n",
       "      <td>2017-12-31 15:55:28-08:00</td>\n",
       "    </tr>\n",
       "    <tr>\n",
       "      <th>2017-12-31 23:55:28</th>\n",
       "      <td>100101</td>\n",
       "      <td>1514764528</td>\n",
       "      <td>34922364</td>\n",
       "      <td>2770</td>\n",
       "      <td>47.555485</td>\n",
       "      <td>-122.376259</td>\n",
       "      <td>2017-12-31 23:55:28</td>\n",
       "      <td>2017-12-31 15:55:28-08:00</td>\n",
       "    </tr>\n",
       "  </tbody>\n",
       "</table>\n",
       "</div>"
      ],
      "text/plain": [
       "                     route_id   timestamp   trip_id  vehicle_id  vehicle_lat  \\\n",
       "timestamp_utc                                                                  \n",
       "2017-12-31 23:55:06    100249  1514764506  34922827        7006    47.617992   \n",
       "2017-12-31 23:55:07    100146  1514764507  34763985        6905    47.598827   \n",
       "2017-12-31 23:55:08    100469  1514764508  34970012        7062    47.412113   \n",
       "2017-12-31 23:55:28    100259  1514764528  34771722        3676    47.706902   \n",
       "2017-12-31 23:55:28    100101  1514764528  34922364        2770    47.555485   \n",
       "\n",
       "                     vehicle_long             time_utc  \\\n",
       "timestamp_utc                                            \n",
       "2017-12-31 23:55:06   -122.320847  2017-12-31 23:55:06   \n",
       "2017-12-31 23:55:07   -122.328072  2017-12-31 23:55:07   \n",
       "2017-12-31 23:55:08   -122.272278  2017-12-31 23:55:08   \n",
       "2017-12-31 23:55:28   -122.317825  2017-12-31 23:55:28   \n",
       "2017-12-31 23:55:28   -122.376259  2017-12-31 23:55:28   \n",
       "\n",
       "                                      time_pct  \n",
       "timestamp_utc                                   \n",
       "2017-12-31 23:55:06  2017-12-31 15:55:06-08:00  \n",
       "2017-12-31 23:55:07  2017-12-31 15:55:07-08:00  \n",
       "2017-12-31 23:55:08  2017-12-31 15:55:08-08:00  \n",
       "2017-12-31 23:55:28  2017-12-31 15:55:28-08:00  \n",
       "2017-12-31 23:55:28  2017-12-31 15:55:28-08:00  "
      ]
     },
     "execution_count": 8,
     "metadata": {},
     "output_type": "execute_result"
    }
   ],
   "source": [
    "df.head()"
   ]
  },
  {
   "cell_type": "code",
   "execution_count": 9,
   "metadata": {},
   "outputs": [],
   "source": [
    "df.to_hdf('./data/intermed/positions_201801.h5', key='df', mode='w')"
   ]
  }
 ],
 "metadata": {
  "kernelspec": {
   "display_name": "Python 3",
   "language": "python",
   "name": "python3"
  },
  "language_info": {
   "codemirror_mode": {
    "name": "ipython",
    "version": 3
   },
   "file_extension": ".py",
   "mimetype": "text/x-python",
   "name": "python",
   "nbconvert_exporter": "python",
   "pygments_lexer": "ipython3",
   "version": "3.6.4"
  }
 },
 "nbformat": 4,
 "nbformat_minor": 2
}
