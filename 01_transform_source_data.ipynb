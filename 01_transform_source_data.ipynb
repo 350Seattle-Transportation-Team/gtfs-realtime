{
 "cells": [
  {
   "cell_type": "code",
   "execution_count": 1,
   "metadata": {
    "ExecuteTime": {
     "end_time": "2019-11-30T20:37:49.125143Z",
     "start_time": "2019-11-30T20:37:46.920160Z"
    }
   },
   "outputs": [
    {
     "name": "stderr",
     "output_type": "stream",
     "text": [
      "/opt/conda/lib/python3.7/site-packages/tqdm/std.py:656: FutureWarning: The Panel class is removed from pandas. Accessing it from the top-level namespace will also be removed in the next version\n",
      "  from pandas import Panel\n"
     ]
    }
   ],
   "source": [
    "# assumes you've downloaded data into ./data/source via ./download.sh\n",
    "\n",
    "import os, glob, tables\n",
    "import pandas as pd\n",
    "from tqdm.notebook import tqdm_notebook\n",
    "from tqdm import tqdm\n",
    "\n",
    "tqdm.pandas()"
   ]
  },
  {
   "cell_type": "code",
   "execution_count": 2,
   "metadata": {
    "ExecuteTime": {
     "end_time": "2019-11-30T20:37:50.495471Z",
     "start_time": "2019-11-30T20:37:50.491507Z"
    }
   },
   "outputs": [],
   "source": [
    "position_files = glob.glob('./data/source/*_positions.csv')"
   ]
  },
  {
   "cell_type": "code",
   "execution_count": 3,
   "metadata": {
    "ExecuteTime": {
     "end_time": "2019-11-30T20:40:52.352682Z",
     "start_time": "2019-11-30T20:40:52.346684Z"
    }
   },
   "outputs": [
    {
     "data": {
      "text/plain": [
       "['./data/source/2019_05_01_positions.csv']"
      ]
     },
     "execution_count": 3,
     "metadata": {},
     "output_type": "execute_result"
    }
   ],
   "source": [
    "position_files"
   ]
  },
  {
   "cell_type": "code",
   "execution_count": 4,
   "metadata": {
    "ExecuteTime": {
     "end_time": "2019-11-30T20:37:54.353388Z",
     "start_time": "2019-11-30T20:37:53.740389Z"
    }
   },
   "outputs": [
    {
     "data": {
      "application/vnd.jupyter.widget-view+json": {
       "model_id": "e3b195a7613146729cd255352a7790e4",
       "version_major": 2,
       "version_minor": 0
      },
      "text/plain": [
       "HBox(children=(FloatProgress(value=0.0, max=1.0), HTML(value='')))"
      ]
     },
     "metadata": {},
     "output_type": "display_data"
    },
    {
     "name": "stdout",
     "output_type": "stream",
     "text": [
      "\n"
     ]
    }
   ],
   "source": [
    "dfs = [pd.read_csv(f) for f in tqdm_notebook(position_files)]\n",
    "df = pd.concat(dfs)"
   ]
  },
  {
   "cell_type": "code",
   "execution_count": 5,
   "metadata": {
    "ExecuteTime": {
     "end_time": "2019-11-30T20:37:56.621397Z",
     "start_time": "2019-11-30T20:37:56.100401Z"
    }
   },
   "outputs": [],
   "source": [
    "df.drop_duplicates(inplace=True)"
   ]
  },
  {
   "cell_type": "code",
   "execution_count": 6,
   "metadata": {
    "ExecuteTime": {
     "end_time": "2019-11-30T20:38:51.226276Z",
     "start_time": "2019-11-30T20:37:57.626400Z"
    }
   },
   "outputs": [
    {
     "name": "stderr",
     "output_type": "stream",
     "text": [
      "100%|██████████| 409238/409238 [01:56<00:00, 3499.48it/s]\n"
     ]
    }
   ],
   "source": [
    "# NOTE: pd.to_datetime is converting time_pct back into utc\n",
    "df['timestamp_utc'] = df['time_pct'].progress_apply(pd.to_datetime)"
   ]
  },
  {
   "cell_type": "code",
   "execution_count": 7,
   "metadata": {
    "ExecuteTime": {
     "end_time": "2019-11-30T20:38:53.222700Z",
     "start_time": "2019-11-30T20:38:53.217664Z"
    },
    "scrolled": true
   },
   "outputs": [],
   "source": [
    "# output cleared for notebook (just cleared error output), but run this anyway\n",
    "df.set_index('timestamp_utc', inplace=True)"
   ]
  },
  {
   "cell_type": "code",
   "execution_count": 8,
   "metadata": {
    "ExecuteTime": {
     "end_time": "2019-11-30T20:38:57.778187Z",
     "start_time": "2019-11-30T20:38:57.679173Z"
    }
   },
   "outputs": [],
   "source": [
    "df.sort_index(inplace=True)"
   ]
  },
  {
   "cell_type": "code",
   "execution_count": 9,
   "metadata": {
    "ExecuteTime": {
     "end_time": "2019-11-30T20:38:58.766427Z",
     "start_time": "2019-11-30T20:38:58.731409Z"
    }
   },
   "outputs": [
    {
     "data": {
      "text/html": [
       "<div>\n",
       "<style scoped>\n",
       "    .dataframe tbody tr th:only-of-type {\n",
       "        vertical-align: middle;\n",
       "    }\n",
       "\n",
       "    .dataframe tbody tr th {\n",
       "        vertical-align: top;\n",
       "    }\n",
       "\n",
       "    .dataframe thead th {\n",
       "        text-align: right;\n",
       "    }\n",
       "</style>\n",
       "<table border=\"1\" class=\"dataframe\">\n",
       "  <thead>\n",
       "    <tr style=\"text-align: right;\">\n",
       "      <th></th>\n",
       "      <th>route_id</th>\n",
       "      <th>timestamp</th>\n",
       "      <th>trip_id</th>\n",
       "      <th>vehicle_id</th>\n",
       "      <th>vehicle_lat</th>\n",
       "      <th>vehicle_long</th>\n",
       "      <th>time_utc</th>\n",
       "      <th>time_pct</th>\n",
       "    </tr>\n",
       "    <tr>\n",
       "      <th>timestamp_utc</th>\n",
       "      <th></th>\n",
       "      <th></th>\n",
       "      <th></th>\n",
       "      <th></th>\n",
       "      <th></th>\n",
       "      <th></th>\n",
       "      <th></th>\n",
       "      <th></th>\n",
       "    </tr>\n",
       "  </thead>\n",
       "  <tbody>\n",
       "    <tr>\n",
       "      <th>2019-04-30 16:55:20-07:00</th>\n",
       "      <td>100264</td>\n",
       "      <td>1556668520</td>\n",
       "      <td>43273165</td>\n",
       "      <td>4542</td>\n",
       "      <td>47.602890</td>\n",
       "      <td>-122.331520</td>\n",
       "      <td>2019-04-30 23:55:20</td>\n",
       "      <td>2019-04-30 16:55:20-07:00</td>\n",
       "    </tr>\n",
       "    <tr>\n",
       "      <th>2019-04-30 16:55:20-07:00</th>\n",
       "      <td>100002</td>\n",
       "      <td>1556668520</td>\n",
       "      <td>43271314</td>\n",
       "      <td>4372</td>\n",
       "      <td>47.632500</td>\n",
       "      <td>-122.312492</td>\n",
       "      <td>2019-04-30 23:55:20</td>\n",
       "      <td>2019-04-30 16:55:20-07:00</td>\n",
       "    </tr>\n",
       "    <tr>\n",
       "      <th>2019-04-30 16:55:27-07:00</th>\n",
       "      <td>100133</td>\n",
       "      <td>1556668527</td>\n",
       "      <td>43258478</td>\n",
       "      <td>3430</td>\n",
       "      <td>47.480568</td>\n",
       "      <td>-122.208710</td>\n",
       "      <td>2019-04-30 23:55:27</td>\n",
       "      <td>2019-04-30 16:55:27-07:00</td>\n",
       "    </tr>\n",
       "    <tr>\n",
       "      <th>2019-04-30 16:55:29-07:00</th>\n",
       "      <td>100019</td>\n",
       "      <td>1556668529</td>\n",
       "      <td>43276252</td>\n",
       "      <td>2803</td>\n",
       "      <td>47.470131</td>\n",
       "      <td>-122.337158</td>\n",
       "      <td>2019-04-30 23:55:29</td>\n",
       "      <td>2019-04-30 16:55:29-07:00</td>\n",
       "    </tr>\n",
       "    <tr>\n",
       "      <th>2019-04-30 16:55:35-07:00</th>\n",
       "      <td>100187</td>\n",
       "      <td>1556668535</td>\n",
       "      <td>43137941</td>\n",
       "      <td>6847</td>\n",
       "      <td>47.763859</td>\n",
       "      <td>-122.193634</td>\n",
       "      <td>2019-04-30 23:55:35</td>\n",
       "      <td>2019-04-30 16:55:35-07:00</td>\n",
       "    </tr>\n",
       "  </tbody>\n",
       "</table>\n",
       "</div>"
      ],
      "text/plain": [
       "                           route_id   timestamp   trip_id  vehicle_id  \\\n",
       "timestamp_utc                                                           \n",
       "2019-04-30 16:55:20-07:00    100264  1556668520  43273165        4542   \n",
       "2019-04-30 16:55:20-07:00    100002  1556668520  43271314        4372   \n",
       "2019-04-30 16:55:27-07:00    100133  1556668527  43258478        3430   \n",
       "2019-04-30 16:55:29-07:00    100019  1556668529  43276252        2803   \n",
       "2019-04-30 16:55:35-07:00    100187  1556668535  43137941        6847   \n",
       "\n",
       "                           vehicle_lat  vehicle_long             time_utc  \\\n",
       "timestamp_utc                                                               \n",
       "2019-04-30 16:55:20-07:00    47.602890   -122.331520  2019-04-30 23:55:20   \n",
       "2019-04-30 16:55:20-07:00    47.632500   -122.312492  2019-04-30 23:55:20   \n",
       "2019-04-30 16:55:27-07:00    47.480568   -122.208710  2019-04-30 23:55:27   \n",
       "2019-04-30 16:55:29-07:00    47.470131   -122.337158  2019-04-30 23:55:29   \n",
       "2019-04-30 16:55:35-07:00    47.763859   -122.193634  2019-04-30 23:55:35   \n",
       "\n",
       "                                            time_pct  \n",
       "timestamp_utc                                         \n",
       "2019-04-30 16:55:20-07:00  2019-04-30 16:55:20-07:00  \n",
       "2019-04-30 16:55:20-07:00  2019-04-30 16:55:20-07:00  \n",
       "2019-04-30 16:55:27-07:00  2019-04-30 16:55:27-07:00  \n",
       "2019-04-30 16:55:29-07:00  2019-04-30 16:55:29-07:00  \n",
       "2019-04-30 16:55:35-07:00  2019-04-30 16:55:35-07:00  "
      ]
     },
     "execution_count": 9,
     "metadata": {},
     "output_type": "execute_result"
    }
   ],
   "source": [
    "df.head()"
   ]
  },
  {
   "cell_type": "code",
   "execution_count": 10,
   "metadata": {
    "ExecuteTime": {
     "end_time": "2019-11-30T20:41:14.010695Z",
     "start_time": "2019-11-30T20:41:13.771708Z"
    }
   },
   "outputs": [],
   "source": [
    "df.to_hdf('./data/intermed/positions_20190501.h5', key='df', mode='w')"
   ]
  },
  {
   "cell_type": "code",
   "execution_count": null,
   "metadata": {},
   "outputs": [],
   "source": []
  }
 ],
 "metadata": {
  "kernelspec": {
   "display_name": "Python 3",
   "language": "python",
   "name": "python3"
  },
  "language_info": {
   "codemirror_mode": {
    "name": "ipython",
    "version": 3
   },
   "file_extension": ".py",
   "mimetype": "text/x-python",
   "name": "python",
   "nbconvert_exporter": "python",
   "pygments_lexer": "ipython3",
   "version": "3.7.3"
  }
 },
 "nbformat": 4,
 "nbformat_minor": 4
}
