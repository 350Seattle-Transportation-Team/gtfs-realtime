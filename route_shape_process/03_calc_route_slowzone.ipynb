{
 "cells": [
  {
   "cell_type": "code",
   "execution_count": 1,
   "metadata": {
    "ExecuteTime": {
     "end_time": "2019-05-19T04:26:14.971670Z",
     "start_time": "2019-05-19T04:26:12.869277Z"
    }
   },
   "outputs": [],
   "source": [
    "import ipywidgets as widgets\n",
    "from ipywidgets import interact, interact_manual\n",
    "import mplleaflet"
   ]
  },
  {
   "cell_type": "code",
   "execution_count": 19,
   "metadata": {
    "ExecuteTime": {
     "end_time": "2019-05-19T14:23:12.299463Z",
     "start_time": "2019-05-19T14:23:12.219756Z"
    }
   },
   "outputs": [],
   "source": [
    "from route_shape_process_scripts import *\n",
    "import matplotlib.pyplot as plt\n",
    "%matplotlib inline\n",
    "import datetime\n",
    "import numpy as np\n",
    "import time\n",
    "import pandas as pd\n",
    "import math\n",
    "import multiprocessing\n",
    "from geopandas import GeoDataFrame\n",
    "from shapely.geometry import Point, LineString, MultiLineString\n",
    "import boto3\n",
    "import io"
   ]
  },
  {
   "cell_type": "markdown",
   "metadata": {},
   "source": [
    "# import gtfs"
   ]
  },
  {
   "cell_type": "code",
   "execution_count": 5,
   "metadata": {
    "ExecuteTime": {
     "end_time": "2019-05-19T04:29:39.842110Z",
     "start_time": "2019-05-19T04:29:03.623658Z"
    }
   },
   "outputs": [
    {
     "name": "stderr",
     "output_type": "stream",
     "text": [
      "/Users/benjaminmalnor/anaconda2/envs/geopy36/lib/python3.6/site-packages/IPython/core/interactiveshell.py:2728: DtypeWarning: Columns (5,26) have mixed types. Specify dtype option on import or set low_memory=False.\n",
      "  interactivity=interactivity, compiler=compiler, result=result)\n"
     ]
    }
   ],
   "source": [
    "full_routes_gtfs = pd.read_csv(\"/Users/benjaminmalnor/sandbox/bus350/gtfs-realtime/route_shape_process/input_gtfs/gtfs_routes_2018-08-15_2018-12-12.csv\")\n",
    "full_shapes_gtfs = pd.read_csv(\"/Users/benjaminmalnor/sandbox/bus350/gtfs-realtime/route_shape_process/input_gtfs/gtfs_shapes_2018-08-15_2018-12-12.csv\")\n",
    "full_trips_gtfs = pd.read_csv(\"/Users/benjaminmalnor/sandbox/bus350/gtfs-realtime/route_shape_process/input_gtfs/gtfs_trips_2018-08-15_2018-12-12.csv\")\n",
    "full_trip_stop_schedule = pd.read_csv(\"/Users/benjaminmalnor/sandbox/bus350/gtfs-realtime/route_shape_process/input_gtfs/gtfs_2018-08-15_2018-12-12.csv\")"
   ]
  },
  {
   "cell_type": "code",
   "execution_count": 14,
   "metadata": {
    "ExecuteTime": {
     "end_time": "2019-05-19T14:19:28.742754Z",
     "start_time": "2019-05-19T14:19:28.703784Z"
    }
   },
   "outputs": [],
   "source": [
    "route_name_to_id_dict = dict(zip(full_routes_gtfs.route_short_name.tolist(),\n",
    "                                full_routes_gtfs.route_id.tolist()))"
   ]
  },
  {
   "cell_type": "code",
   "execution_count": 94,
   "metadata": {
    "ExecuteTime": {
     "end_time": "2019-05-19T22:28:45.963444Z",
     "start_time": "2019-05-19T22:28:45.818748Z"
    }
   },
   "outputs": [],
   "source": [
    "route_of_interest = \"41\"\n",
    "direction_of_interest = 1\n",
    "input_dict = {}\n",
    "route_id = route_name_to_id_dict[route_of_interest]\n",
    "shape_id, trip_headsign = get_most_used_shape_id_per_direction(full_trip_stop_schedule, route_id, direction_of_interest)"
   ]
  },
  {
   "cell_type": "code",
   "execution_count": 95,
   "metadata": {
    "ExecuteTime": {
     "end_time": "2019-05-19T22:28:47.036474Z",
     "start_time": "2019-05-19T22:28:46.995945Z"
    }
   },
   "outputs": [
    {
     "data": {
      "text/plain": [
       "'route_shape_files/raw/route_41_DowntownSeattleNorthgate_shape_20041006_raw_w_nearest_2018-08-15_2018-12-11.csv'"
      ]
     },
     "execution_count": 95,
     "metadata": {},
     "output_type": "execute_result"
    }
   ],
   "source": [
    "base_key = \"route_shape_files/raw/\"\n",
    "route_specific_key = \"route_{}_{}_shape_{}\".format(route_of_interest, \n",
    "                                                                 \"\".join(trip_headsign.replace(\"/\",\"-\").split(\" \")),\n",
    "                                                                        shape_id)\n",
    "key_timeframe = \"_raw_w_nearest_2018-08-15_2018-12-11.csv\"\n",
    "file_key = base_key+route_specific_key+key_timeframe\n",
    "file_key"
   ]
  },
  {
   "cell_type": "markdown",
   "metadata": {},
   "source": [
    "# Import file from S3"
   ]
  },
  {
   "cell_type": "code",
   "execution_count": 96,
   "metadata": {
    "ExecuteTime": {
     "end_time": "2019-05-19T22:29:01.041861Z",
     "start_time": "2019-05-19T22:28:50.567609Z"
    }
   },
   "outputs": [],
   "source": [
    "s3 = boto3.client(\"s3\")\n",
    "bucket_name = \"malnor.seattle.bustime\"\n",
    "s3_object = s3.get_object(Bucket=bucket_name, Key=file_key)\n",
    "unpacked_positions_full = pd.read_csv(io.BytesIO(s3_object['Body'].read()))"
   ]
  },
  {
   "cell_type": "markdown",
   "metadata": {},
   "source": [
    "# we need to grab the shape_pt_sequence and so we can match shape_pt_sequence with shape_dist_traveled TODO: make add this field earlier in the position join"
   ]
  },
  {
   "cell_type": "code",
   "execution_count": 97,
   "metadata": {
    "ExecuteTime": {
     "end_time": "2019-05-19T22:29:42.975809Z",
     "start_time": "2019-05-19T22:29:42.524858Z"
    }
   },
   "outputs": [
    {
     "data": {
      "text/html": [
       "<div>\n",
       "<style scoped>\n",
       "    .dataframe tbody tr th:only-of-type {\n",
       "        vertical-align: middle;\n",
       "    }\n",
       "\n",
       "    .dataframe tbody tr th {\n",
       "        vertical-align: top;\n",
       "    }\n",
       "\n",
       "    .dataframe thead th {\n",
       "        text-align: right;\n",
       "    }\n",
       "</style>\n",
       "<table border=\"1\" class=\"dataframe\">\n",
       "  <thead>\n",
       "    <tr style=\"text-align: right;\">\n",
       "      <th></th>\n",
       "      <th>shape_id</th>\n",
       "      <th>shape_pt_lat</th>\n",
       "      <th>shape_pt_lon</th>\n",
       "      <th>shape_pt_sequence</th>\n",
       "      <th>shape_dist_traveled</th>\n",
       "      <th>start_gtfs_date</th>\n",
       "      <th>end_gtfs_date</th>\n",
       "    </tr>\n",
       "  </thead>\n",
       "  <tbody>\n",
       "    <tr>\n",
       "      <th>145225</th>\n",
       "      <td>20041006</td>\n",
       "      <td>47.722698</td>\n",
       "      <td>-122.291702</td>\n",
       "      <td>1</td>\n",
       "      <td>0.0</td>\n",
       "      <td>2018-08-15</td>\n",
       "      <td>2018-09-23</td>\n",
       "    </tr>\n",
       "    <tr>\n",
       "      <th>145226</th>\n",
       "      <td>20041006</td>\n",
       "      <td>47.722732</td>\n",
       "      <td>-122.291992</td>\n",
       "      <td>2</td>\n",
       "      <td>70.3</td>\n",
       "      <td>2018-08-15</td>\n",
       "      <td>2018-09-23</td>\n",
       "    </tr>\n",
       "    <tr>\n",
       "      <th>145227</th>\n",
       "      <td>20041006</td>\n",
       "      <td>47.722897</td>\n",
       "      <td>-122.292999</td>\n",
       "      <td>3</td>\n",
       "      <td>326.1</td>\n",
       "      <td>2018-08-15</td>\n",
       "      <td>2018-09-23</td>\n",
       "    </tr>\n",
       "    <tr>\n",
       "      <th>145228</th>\n",
       "      <td>20041006</td>\n",
       "      <td>47.722897</td>\n",
       "      <td>-122.293190</td>\n",
       "      <td>4</td>\n",
       "      <td>373.7</td>\n",
       "      <td>2018-08-15</td>\n",
       "      <td>2018-09-23</td>\n",
       "    </tr>\n",
       "    <tr>\n",
       "      <th>145229</th>\n",
       "      <td>20041006</td>\n",
       "      <td>47.722668</td>\n",
       "      <td>-122.293312</td>\n",
       "      <td>5</td>\n",
       "      <td>463.8</td>\n",
       "      <td>2018-08-15</td>\n",
       "      <td>2018-09-23</td>\n",
       "    </tr>\n",
       "  </tbody>\n",
       "</table>\n",
       "</div>"
      ],
      "text/plain": [
       "        shape_id  shape_pt_lat  shape_pt_lon  shape_pt_sequence  \\\n",
       "145225  20041006     47.722698   -122.291702                  1   \n",
       "145226  20041006     47.722732   -122.291992                  2   \n",
       "145227  20041006     47.722897   -122.292999                  3   \n",
       "145228  20041006     47.722897   -122.293190                  4   \n",
       "145229  20041006     47.722668   -122.293312                  5   \n",
       "\n",
       "        shape_dist_traveled start_gtfs_date end_gtfs_date  \n",
       "145225                  0.0      2018-08-15    2018-09-23  \n",
       "145226                 70.3      2018-08-15    2018-09-23  \n",
       "145227                326.1      2018-08-15    2018-09-23  \n",
       "145228                373.7      2018-08-15    2018-09-23  \n",
       "145229                463.8      2018-08-15    2018-09-23  "
      ]
     },
     "execution_count": 97,
     "metadata": {},
     "output_type": "execute_result"
    }
   ],
   "source": [
    "one_shape = full_shapes_gtfs[(full_shapes_gtfs['shape_id']==shape_id)&\\\n",
    "                            (full_shapes_gtfs['start_gtfs_date']=='2018-08-15')&\\\n",
    "                            (full_shapes_gtfs['end_gtfs_date']=='2018-09-23')]\n",
    "one_shape.head()"
   ]
  },
  {
   "cell_type": "code",
   "execution_count": 98,
   "metadata": {
    "ExecuteTime": {
     "end_time": "2019-05-19T22:29:44.373609Z",
     "start_time": "2019-05-19T22:29:44.283401Z"
    }
   },
   "outputs": [],
   "source": [
    "unpacked_positions_full = unpacked_positions_full.merge(one_shape[['shape_pt_sequence','shape_dist_traveled']],how='left', on='shape_pt_sequence' )"
   ]
  },
  {
   "cell_type": "code",
   "execution_count": 99,
   "metadata": {
    "ExecuteTime": {
     "end_time": "2019-05-19T22:29:44.982016Z",
     "start_time": "2019-05-19T22:29:44.941711Z"
    }
   },
   "outputs": [],
   "source": [
    "def make_geopandas_shape_df(gtfs_shapes, shape_id):\n",
    "    '''\n",
    "    INPUT\n",
    "    -------\n",
    "    gtfs_shapes = gtfs shapes.txt file dataframe\n",
    "    shape_id = one shape_id to filter on\n",
    "    OUTPUT\n",
    "    -------\n",
    "    route_vertex_geo <-- geopandas version of a particular schedule shapes.txt geometry = route vertex points\n",
    "    '''\n",
    "    one_shape_df = gtfs_shapes[gtfs_shapes['shape_id'] == shape_id].copy()\n",
    "    crs = {'init':'epsg:4326'}\n",
    "    shape_geometry = [Point(xy) for xy in zip(one_shape_df.shape_pt_lon, one_shape_df.shape_pt_lat)]\n",
    "    route_vertex_geo = GeoDataFrame(one_shape_df, crs=crs, geometry=shape_geometry)\n",
    "    return route_vertex_geo"
   ]
  },
  {
   "cell_type": "code",
   "execution_count": 100,
   "metadata": {
    "ExecuteTime": {
     "end_time": "2019-05-19T22:29:45.440958Z",
     "start_time": "2019-05-19T22:29:45.335250Z"
    }
   },
   "outputs": [],
   "source": [
    "route_shape_vertex = make_geopandas_shape_df(full_shapes_gtfs, shape_id)"
   ]
  },
  {
   "cell_type": "code",
   "execution_count": 101,
   "metadata": {
    "ExecuteTime": {
     "end_time": "2019-05-19T22:29:45.691725Z",
     "start_time": "2019-05-19T22:29:45.651518Z"
    }
   },
   "outputs": [],
   "source": [
    "def datetime_transform_df(df):\n",
    "    '''\n",
    "    '''\n",
    "    df['time_pct'] = df['time_utc'].apply(pd.to_datetime)\n",
    "    df.set_index('time_pct', inplace=True)\n",
    "    df.sort_index(inplace=True)\n",
    "    df = df.tz_localize('UTC')\n",
    "    df = df.tz_convert('US/Pacific')\n",
    "    \n",
    "    return df"
   ]
  },
  {
   "cell_type": "code",
   "execution_count": 102,
   "metadata": {
    "ExecuteTime": {
     "end_time": "2019-05-19T22:29:50.993897Z",
     "start_time": "2019-05-19T22:29:45.927714Z"
    }
   },
   "outputs": [],
   "source": [
    "unpacked_positions_full = datetime_transform_df(unpacked_positions_full)"
   ]
  },
  {
   "cell_type": "code",
   "execution_count": 103,
   "metadata": {
    "ExecuteTime": {
     "end_time": "2019-05-19T22:29:51.081821Z",
     "start_time": "2019-05-19T22:29:50.996522Z"
    },
    "scrolled": false
   },
   "outputs": [
    {
     "data": {
      "text/html": [
       "<div>\n",
       "<style scoped>\n",
       "    .dataframe tbody tr th:only-of-type {\n",
       "        vertical-align: middle;\n",
       "    }\n",
       "\n",
       "    .dataframe tbody tr th {\n",
       "        vertical-align: top;\n",
       "    }\n",
       "\n",
       "    .dataframe thead th {\n",
       "        text-align: right;\n",
       "    }\n",
       "</style>\n",
       "<table border=\"1\" class=\"dataframe\">\n",
       "  <thead>\n",
       "    <tr style=\"text-align: right;\">\n",
       "      <th></th>\n",
       "      <th>month_day_trip_veh</th>\n",
       "      <th>timestamp</th>\n",
       "      <th>vehicle_lat</th>\n",
       "      <th>vehicle_long</th>\n",
       "      <th>shape_pt_sequence</th>\n",
       "      <th>shape_dist_traveled</th>\n",
       "    </tr>\n",
       "    <tr>\n",
       "      <th>time_pct</th>\n",
       "      <th></th>\n",
       "      <th></th>\n",
       "      <th></th>\n",
       "      <th></th>\n",
       "      <th></th>\n",
       "      <th></th>\n",
       "    </tr>\n",
       "  </thead>\n",
       "  <tbody>\n",
       "    <tr>\n",
       "      <th>2018-09-22 05:48:18-07:00</th>\n",
       "      <td>2018_9_22_39686550_6908</td>\n",
       "      <td>1537620498</td>\n",
       "      <td>47.722801</td>\n",
       "      <td>-122.292412</td>\n",
       "      <td>2</td>\n",
       "      <td>70.3</td>\n",
       "    </tr>\n",
       "    <tr>\n",
       "      <th>2018-09-22 05:49:48-07:00</th>\n",
       "      <td>2018_9_22_39686550_6908</td>\n",
       "      <td>1537620588</td>\n",
       "      <td>47.722633</td>\n",
       "      <td>-122.293327</td>\n",
       "      <td>5</td>\n",
       "      <td>463.8</td>\n",
       "    </tr>\n",
       "    <tr>\n",
       "      <th>2018-09-22 05:51:18-07:00</th>\n",
       "      <td>2018_9_22_39686550_6908</td>\n",
       "      <td>1537620678</td>\n",
       "      <td>47.719280</td>\n",
       "      <td>-122.295784</td>\n",
       "      <td>9</td>\n",
       "      <td>1921.6</td>\n",
       "    </tr>\n",
       "    <tr>\n",
       "      <th>2018-09-22 05:52:48-07:00</th>\n",
       "      <td>2018_9_22_39686550_6908</td>\n",
       "      <td>1537620768</td>\n",
       "      <td>47.719318</td>\n",
       "      <td>-122.302299</td>\n",
       "      <td>20</td>\n",
       "      <td>3513.8</td>\n",
       "    </tr>\n",
       "    <tr>\n",
       "      <th>2018-09-22 05:54:17-07:00</th>\n",
       "      <td>2018_9_22_39686550_6908</td>\n",
       "      <td>1537620857</td>\n",
       "      <td>47.719437</td>\n",
       "      <td>-122.313156</td>\n",
       "      <td>34</td>\n",
       "      <td>6191.8</td>\n",
       "    </tr>\n",
       "  </tbody>\n",
       "</table>\n",
       "</div>"
      ],
      "text/plain": [
       "                                month_day_trip_veh   timestamp  vehicle_lat  \\\n",
       "time_pct                                                                      \n",
       "2018-09-22 05:48:18-07:00  2018_9_22_39686550_6908  1537620498    47.722801   \n",
       "2018-09-22 05:49:48-07:00  2018_9_22_39686550_6908  1537620588    47.722633   \n",
       "2018-09-22 05:51:18-07:00  2018_9_22_39686550_6908  1537620678    47.719280   \n",
       "2018-09-22 05:52:48-07:00  2018_9_22_39686550_6908  1537620768    47.719318   \n",
       "2018-09-22 05:54:17-07:00  2018_9_22_39686550_6908  1537620857    47.719437   \n",
       "\n",
       "                           vehicle_long  shape_pt_sequence  \\\n",
       "time_pct                                                     \n",
       "2018-09-22 05:48:18-07:00   -122.292412                  2   \n",
       "2018-09-22 05:49:48-07:00   -122.293327                  5   \n",
       "2018-09-22 05:51:18-07:00   -122.295784                  9   \n",
       "2018-09-22 05:52:48-07:00   -122.302299                 20   \n",
       "2018-09-22 05:54:17-07:00   -122.313156                 34   \n",
       "\n",
       "                           shape_dist_traveled  \n",
       "time_pct                                        \n",
       "2018-09-22 05:48:18-07:00                 70.3  \n",
       "2018-09-22 05:49:48-07:00                463.8  \n",
       "2018-09-22 05:51:18-07:00               1921.6  \n",
       "2018-09-22 05:52:48-07:00               3513.8  \n",
       "2018-09-22 05:54:17-07:00               6191.8  "
      ]
     },
     "execution_count": 103,
     "metadata": {},
     "output_type": "execute_result"
    }
   ],
   "source": [
    "unpacked_positions_full[['month_day_trip_veh','timestamp',\n",
    "                                 'vehicle_lat','vehicle_long',\n",
    "                                 'shape_pt_sequence','shape_dist_traveled'\n",
    "                               ]].head(5)"
   ]
  },
  {
   "cell_type": "code",
   "execution_count": 104,
   "metadata": {
    "ExecuteTime": {
     "end_time": "2019-05-19T22:29:51.151350Z",
     "start_time": "2019-05-19T22:29:51.084162Z"
    }
   },
   "outputs": [],
   "source": [
    "def get_travel_rate(row):\n",
    "    ##shape dist traveled is in feet, time in seconds travel_rate_update mph\n",
    "    travel_rate = (row['shape_dist_diff']/row['total_seconds_delta'])*(5280)*(1/(60*60))\n",
    "    return travel_rate"
   ]
  },
  {
   "cell_type": "code",
   "execution_count": 105,
   "metadata": {
    "ExecuteTime": {
     "end_time": "2019-05-19T22:29:51.251014Z",
     "start_time": "2019-05-19T22:29:51.156027Z"
    }
   },
   "outputs": [],
   "source": [
    "def get_distance_time_parallel(df):\n",
    "    '''\n",
    "    '''\n",
    "    df.sort_index(inplace=True)\n",
    "    df.loc[:,'shape_dist_diff'] = df.loc[:,'shape_dist_traveled'].diff(1)\n",
    "    df.loc[:,'time_delta'] = df.index.to_series().diff(1)\n",
    "    \n",
    "    df['shape_pt_seq_tuple'] = list(zip(df.shift(1).apply(lambda x: 9999 if math.isnan(x['shape_pt_sequence']) else int(x['shape_pt_sequence']), axis=1).values,\n",
    "                            df.apply(lambda x: x['shape_pt_sequence'], axis=1).values))\n",
    "    \n",
    "    df.dropna(axis=0, how='any', subset=['time_delta','shape_dist_diff'], inplace=True)\n",
    "    \n",
    "    df.loc[:,'total_seconds_delta'] = df['time_delta'].apply(lambda x: x.total_seconds())\n",
    "    \n",
    "    if df.empty:\n",
    "        pass\n",
    "    else:\n",
    "        df.loc[:,'travel_rate_mph'] = df.apply(get_travel_rate, axis=1)\n",
    "\n",
    "    return df"
   ]
  },
  {
   "cell_type": "code",
   "execution_count": 106,
   "metadata": {
    "ExecuteTime": {
     "end_time": "2019-05-19T22:29:51.310234Z",
     "start_time": "2019-05-19T22:29:51.254034Z"
    }
   },
   "outputs": [],
   "source": [
    "def get_distance_time_diffs(unpacked_positions_full):\n",
    "    n_pools = multiprocessing.cpu_count() - 1\n",
    "    pool = multiprocessing.Pool(n_pools)\n",
    "    distance_time_list = []\n",
    "    grouped =  unpacked_positions_full.groupby('month_day_trip_veh')\n",
    "    for name, group in grouped:\n",
    "        distance_time_list.append(group)\n",
    "    distance_time_list_df = pd.concat(pool.map(get_distance_time_parallel, distance_time_list))\n",
    "    return distance_time_list_df"
   ]
  },
  {
   "cell_type": "markdown",
   "metadata": {},
   "source": [
    "# below starts the 'get_distance_time_diffs' function - if you have a windows I don't think this will work... just run it without multiprocessing"
   ]
  },
  {
   "cell_type": "code",
   "execution_count": 107,
   "metadata": {
    "ExecuteTime": {
     "end_time": "2019-05-19T22:30:26.800841Z",
     "start_time": "2019-05-19T22:29:51.313199Z"
    }
   },
   "outputs": [
    {
     "name": "stdout",
     "output_type": "stream",
     "text": [
      "35.42965316772461\n"
     ]
    }
   ],
   "source": [
    "if __name__ == \"__main__\":\n",
    "    start = time.time()\n",
    "    distance_time_list_df = get_distance_time_diffs(unpacked_positions_full)\n",
    "    end = time.time()\n",
    "    print(end - start)"
   ]
  },
  {
   "cell_type": "markdown",
   "metadata": {},
   "source": [
    "# flag all trip segments with travel_rate < threshold "
   ]
  },
  {
   "cell_type": "code",
   "execution_count": 108,
   "metadata": {
    "ExecuteTime": {
     "end_time": "2019-05-19T22:30:33.816557Z",
     "start_time": "2019-05-19T22:30:26.805842Z"
    }
   },
   "outputs": [],
   "source": [
    "mph_rate_flag = 10 #can change\n",
    "new_df = distance_time_list_df.copy()\n",
    "new_df['trouble_flag'] = new_df.apply(lambda x: True if x['travel_rate_mph'] < mph_rate_flag else False, axis=1)"
   ]
  },
  {
   "cell_type": "markdown",
   "metadata": {},
   "source": [
    "# isolate only the bad segments :)"
   ]
  },
  {
   "cell_type": "code",
   "execution_count": 109,
   "metadata": {
    "ExecuteTime": {
     "end_time": "2019-05-19T22:30:33.875489Z",
     "start_time": "2019-05-19T22:30:33.818747Z"
    }
   },
   "outputs": [],
   "source": [
    "new_df_true = new_df[new_df['trouble_flag'] == True]"
   ]
  },
  {
   "cell_type": "code",
   "execution_count": 110,
   "metadata": {
    "ExecuteTime": {
     "end_time": "2019-05-19T22:30:33.919815Z",
     "start_time": "2019-05-19T22:30:33.877341Z"
    }
   },
   "outputs": [],
   "source": [
    "new_df_true.reset_index(inplace=True)"
   ]
  },
  {
   "cell_type": "code",
   "execution_count": 111,
   "metadata": {
    "ExecuteTime": {
     "end_time": "2019-05-19T22:30:33.981838Z",
     "start_time": "2019-05-19T22:30:33.922517Z"
    }
   },
   "outputs": [
    {
     "data": {
      "text/html": [
       "<div>\n",
       "<style scoped>\n",
       "    .dataframe tbody tr th:only-of-type {\n",
       "        vertical-align: middle;\n",
       "    }\n",
       "\n",
       "    .dataframe tbody tr th {\n",
       "        vertical-align: top;\n",
       "    }\n",
       "\n",
       "    .dataframe thead th {\n",
       "        text-align: right;\n",
       "    }\n",
       "</style>\n",
       "<table border=\"1\" class=\"dataframe\">\n",
       "  <thead>\n",
       "    <tr style=\"text-align: right;\">\n",
       "      <th></th>\n",
       "      <th>time_pct</th>\n",
       "      <th>day</th>\n",
       "      <th>direction_id</th>\n",
       "      <th>dist_to_nearest_route_pt</th>\n",
       "      <th>dow</th>\n",
       "      <th>geometry</th>\n",
       "      <th>hour</th>\n",
       "      <th>month</th>\n",
       "      <th>month_day_trip_veh</th>\n",
       "      <th>near_node_pt</th>\n",
       "      <th>...</th>\n",
       "      <th>time_utc</th>\n",
       "      <th>timestamp</th>\n",
       "      <th>total_seconds_delta</th>\n",
       "      <th>travel_rate_mph</th>\n",
       "      <th>trip_id</th>\n",
       "      <th>vehicle_id</th>\n",
       "      <th>vehicle_lat</th>\n",
       "      <th>vehicle_long</th>\n",
       "      <th>year</th>\n",
       "      <th>trouble_flag</th>\n",
       "    </tr>\n",
       "  </thead>\n",
       "  <tbody>\n",
       "    <tr>\n",
       "      <th>0</th>\n",
       "      <td>2018-10-10 17:18:44-07:00</td>\n",
       "      <td>10</td>\n",
       "      <td>1</td>\n",
       "      <td>0.000024</td>\n",
       "      <td>2</td>\n",
       "      <td>POINT (-122.2933197021484 47.7226448059082)</td>\n",
       "      <td>17</td>\n",
       "      <td>10</td>\n",
       "      <td>2018_10_10_39682688_6897</td>\n",
       "      <td>(-122.293312, 47.7226677)</td>\n",
       "      <td>...</td>\n",
       "      <td>2018-10-11 00:18:44</td>\n",
       "      <td>1539217124</td>\n",
       "      <td>90.0</td>\n",
       "      <td>7.558222</td>\n",
       "      <td>39682688</td>\n",
       "      <td>6897</td>\n",
       "      <td>47.722645</td>\n",
       "      <td>-122.293320</td>\n",
       "      <td>2018</td>\n",
       "      <td>True</td>\n",
       "    </tr>\n",
       "    <tr>\n",
       "      <th>1</th>\n",
       "      <td>2018-10-10 17:32:14-07:00</td>\n",
       "      <td>10</td>\n",
       "      <td>1</td>\n",
       "      <td>0.000017</td>\n",
       "      <td>2</td>\n",
       "      <td>POINT (-122.3232650756836 47.70817947387695)</td>\n",
       "      <td>17</td>\n",
       "      <td>10</td>\n",
       "      <td>2018_10_10_39682688_6897</td>\n",
       "      <td>(-122.323273, 47.70819470000001)</td>\n",
       "      <td>...</td>\n",
       "      <td>2018-10-11 00:32:14</td>\n",
       "      <td>1539217934</td>\n",
       "      <td>180.0</td>\n",
       "      <td>4.730815</td>\n",
       "      <td>39682688</td>\n",
       "      <td>6897</td>\n",
       "      <td>47.708179</td>\n",
       "      <td>-122.323265</td>\n",
       "      <td>2018</td>\n",
       "      <td>True</td>\n",
       "    </tr>\n",
       "    <tr>\n",
       "      <th>2</th>\n",
       "      <td>2018-10-10 17:38:15-07:00</td>\n",
       "      <td>10</td>\n",
       "      <td>1</td>\n",
       "      <td>0.000065</td>\n",
       "      <td>2</td>\n",
       "      <td>POINT (-122.3271408081055 47.70196533203125)</td>\n",
       "      <td>17</td>\n",
       "      <td>10</td>\n",
       "      <td>2018_10_10_39682688_6897</td>\n",
       "      <td>(-122.327148, 47.7020302)</td>\n",
       "      <td>...</td>\n",
       "      <td>2018-10-11 00:38:15</td>\n",
       "      <td>1539218295</td>\n",
       "      <td>270.0</td>\n",
       "      <td>7.035654</td>\n",
       "      <td>39682688</td>\n",
       "      <td>6897</td>\n",
       "      <td>47.701965</td>\n",
       "      <td>-122.327141</td>\n",
       "      <td>2018</td>\n",
       "      <td>True</td>\n",
       "    </tr>\n",
       "  </tbody>\n",
       "</table>\n",
       "<p>3 rows × 27 columns</p>\n",
       "</div>"
      ],
      "text/plain": [
       "                   time_pct  day  direction_id  dist_to_nearest_route_pt  dow  \\\n",
       "0 2018-10-10 17:18:44-07:00   10             1                  0.000024    2   \n",
       "1 2018-10-10 17:32:14-07:00   10             1                  0.000017    2   \n",
       "2 2018-10-10 17:38:15-07:00   10             1                  0.000065    2   \n",
       "\n",
       "                                       geometry  hour  month  \\\n",
       "0   POINT (-122.2933197021484 47.7226448059082)    17     10   \n",
       "1  POINT (-122.3232650756836 47.70817947387695)    17     10   \n",
       "2  POINT (-122.3271408081055 47.70196533203125)    17     10   \n",
       "\n",
       "         month_day_trip_veh                      near_node_pt      ...       \\\n",
       "0  2018_10_10_39682688_6897         (-122.293312, 47.7226677)      ...        \n",
       "1  2018_10_10_39682688_6897  (-122.323273, 47.70819470000001)      ...        \n",
       "2  2018_10_10_39682688_6897         (-122.327148, 47.7020302)      ...        \n",
       "\n",
       "              time_utc   timestamp  total_seconds_delta  travel_rate_mph  \\\n",
       "0  2018-10-11 00:18:44  1539217124                 90.0         7.558222   \n",
       "1  2018-10-11 00:32:14  1539217934                180.0         4.730815   \n",
       "2  2018-10-11 00:38:15  1539218295                270.0         7.035654   \n",
       "\n",
       "    trip_id  vehicle_id vehicle_lat vehicle_long  year  trouble_flag  \n",
       "0  39682688        6897   47.722645  -122.293320  2018          True  \n",
       "1  39682688        6897   47.708179  -122.323265  2018          True  \n",
       "2  39682688        6897   47.701965  -122.327141  2018          True  \n",
       "\n",
       "[3 rows x 27 columns]"
      ]
     },
     "execution_count": 111,
     "metadata": {},
     "output_type": "execute_result"
    }
   ],
   "source": [
    "new_df_true.head(3)"
   ]
  },
  {
   "cell_type": "code",
   "execution_count": 112,
   "metadata": {
    "ExecuteTime": {
     "end_time": "2019-05-19T22:30:34.058733Z",
     "start_time": "2019-05-19T22:30:33.984213Z"
    }
   },
   "outputs": [],
   "source": [
    "def get_all_segments_parallel(row):\n",
    "    '''\n",
    "    '''\n",
    "    col_list = ['month_day_trip_veh',\n",
    "                'trip_hour',\n",
    "               'time_pct',\n",
    "               'trip_dow',\n",
    "               'travel_rate_mph',\n",
    "                'pt_seq',\n",
    "               'real_obv',\n",
    "               'trouble_spot_flag']\n",
    "    edge_for_upload = []\n",
    "    month_day_trip_veh = row['month_day_trip_veh']\n",
    "    trip_hour = row['hour']\n",
    "    time_pct = row['time_pct']\n",
    "    trip_dow = row['dow']\n",
    "    travel_rate_mph = row['travel_rate_mph']\n",
    "    \n",
    "    pt_seq_start = row['shape_pt_seq_tuple'][0]\n",
    "    pt_seq_end = row['shape_pt_seq_tuple'][1]\n",
    "    full_edge_df = pd.DataFrame()\n",
    "    for idx, pt_seq in enumerate(range(pt_seq_start,pt_seq_end)):\n",
    "        if idx == 0:\n",
    "            real_obv = True\n",
    "        else:\n",
    "            real_obv = False\n",
    "        trouble_spot = 1\n",
    "        info_tuple = (month_day_trip_veh,\n",
    "                     trip_hour,\n",
    "                     time_pct,\n",
    "                     trip_dow,\n",
    "                     travel_rate_mph,\n",
    "                      pt_seq,\n",
    "                     real_obv,\n",
    "                     trouble_spot)\n",
    "        edge_for_upload.append(info_tuple)\n",
    "        edge_df = pd.DataFrame(edge_for_upload, columns=col_list)\n",
    "\n",
    "        \n",
    "        if full_edge_df.empty:\n",
    "            full_edge_df = edge_df.copy()\n",
    "        else:\n",
    "            full_edge_df = full_edge_df.append(edge_df)\n",
    "    return full_edge_df"
   ]
  },
  {
   "cell_type": "code",
   "execution_count": 113,
   "metadata": {
    "ExecuteTime": {
     "end_time": "2019-05-19T22:30:34.111784Z",
     "start_time": "2019-05-19T22:30:34.061685Z"
    }
   },
   "outputs": [],
   "source": [
    "def get_segments(new_df_true):\n",
    "    n_pools = multiprocessing.cpu_count() - 1\n",
    "    pool = multiprocessing.Pool(n_pools)\n",
    "    row_list = []\n",
    "    for index, row in new_df_true.iterrows():\n",
    "        row_list.append(row)\n",
    "    full_edge_df = pd.concat(pool.map(get_all_segments_parallel, row_list))\n",
    "    return full_edge_df"
   ]
  },
  {
   "cell_type": "code",
   "execution_count": 114,
   "metadata": {
    "ExecuteTime": {
     "end_time": "2019-05-19T22:31:50.220263Z",
     "start_time": "2019-05-19T22:30:34.114690Z"
    }
   },
   "outputs": [
    {
     "name": "stdout",
     "output_type": "stream",
     "text": [
      "76.04532480239868\n"
     ]
    }
   ],
   "source": [
    "if __name__ == \"__main__\":\n",
    "    start = time.time()\n",
    "    full_edge_df = get_segments(new_df_true)\n",
    "    end = time.time()\n",
    "    print(end - start)"
   ]
  },
  {
   "cell_type": "code",
   "execution_count": 115,
   "metadata": {
    "ExecuteTime": {
     "end_time": "2019-05-19T22:31:50.315487Z",
     "start_time": "2019-05-19T22:31:50.223834Z"
    }
   },
   "outputs": [
    {
     "data": {
      "text/html": [
       "<div>\n",
       "<style scoped>\n",
       "    .dataframe tbody tr th:only-of-type {\n",
       "        vertical-align: middle;\n",
       "    }\n",
       "\n",
       "    .dataframe tbody tr th {\n",
       "        vertical-align: top;\n",
       "    }\n",
       "\n",
       "    .dataframe thead th {\n",
       "        text-align: right;\n",
       "    }\n",
       "</style>\n",
       "<table border=\"1\" class=\"dataframe\">\n",
       "  <thead>\n",
       "    <tr style=\"text-align: right;\">\n",
       "      <th></th>\n",
       "      <th>month_day_trip_veh</th>\n",
       "      <th>trip_hour</th>\n",
       "      <th>time_pct</th>\n",
       "      <th>trip_dow</th>\n",
       "      <th>travel_rate_mph</th>\n",
       "      <th>pt_seq</th>\n",
       "      <th>real_obv</th>\n",
       "      <th>trouble_spot_flag</th>\n",
       "    </tr>\n",
       "  </thead>\n",
       "  <tbody>\n",
       "    <tr>\n",
       "      <th>0</th>\n",
       "      <td>2018_10_10_39682688_6897</td>\n",
       "      <td>17</td>\n",
       "      <td>2018-10-10 17:18:44-07:00</td>\n",
       "      <td>2</td>\n",
       "      <td>7.558222</td>\n",
       "      <td>1</td>\n",
       "      <td>True</td>\n",
       "      <td>1</td>\n",
       "    </tr>\n",
       "    <tr>\n",
       "      <th>0</th>\n",
       "      <td>2018_10_10_39682688_6897</td>\n",
       "      <td>17</td>\n",
       "      <td>2018-10-10 17:18:44-07:00</td>\n",
       "      <td>2</td>\n",
       "      <td>7.558222</td>\n",
       "      <td>1</td>\n",
       "      <td>True</td>\n",
       "      <td>1</td>\n",
       "    </tr>\n",
       "    <tr>\n",
       "      <th>1</th>\n",
       "      <td>2018_10_10_39682688_6897</td>\n",
       "      <td>17</td>\n",
       "      <td>2018-10-10 17:18:44-07:00</td>\n",
       "      <td>2</td>\n",
       "      <td>7.558222</td>\n",
       "      <td>2</td>\n",
       "      <td>False</td>\n",
       "      <td>1</td>\n",
       "    </tr>\n",
       "    <tr>\n",
       "      <th>0</th>\n",
       "      <td>2018_10_10_39682688_6897</td>\n",
       "      <td>17</td>\n",
       "      <td>2018-10-10 17:18:44-07:00</td>\n",
       "      <td>2</td>\n",
       "      <td>7.558222</td>\n",
       "      <td>1</td>\n",
       "      <td>True</td>\n",
       "      <td>1</td>\n",
       "    </tr>\n",
       "    <tr>\n",
       "      <th>1</th>\n",
       "      <td>2018_10_10_39682688_6897</td>\n",
       "      <td>17</td>\n",
       "      <td>2018-10-10 17:18:44-07:00</td>\n",
       "      <td>2</td>\n",
       "      <td>7.558222</td>\n",
       "      <td>2</td>\n",
       "      <td>False</td>\n",
       "      <td>1</td>\n",
       "    </tr>\n",
       "  </tbody>\n",
       "</table>\n",
       "</div>"
      ],
      "text/plain": [
       "         month_day_trip_veh  trip_hour                  time_pct  trip_dow  \\\n",
       "0  2018_10_10_39682688_6897         17 2018-10-10 17:18:44-07:00         2   \n",
       "0  2018_10_10_39682688_6897         17 2018-10-10 17:18:44-07:00         2   \n",
       "1  2018_10_10_39682688_6897         17 2018-10-10 17:18:44-07:00         2   \n",
       "0  2018_10_10_39682688_6897         17 2018-10-10 17:18:44-07:00         2   \n",
       "1  2018_10_10_39682688_6897         17 2018-10-10 17:18:44-07:00         2   \n",
       "\n",
       "   travel_rate_mph  pt_seq  real_obv  trouble_spot_flag  \n",
       "0         7.558222       1      True                  1  \n",
       "0         7.558222       1      True                  1  \n",
       "1         7.558222       2     False                  1  \n",
       "0         7.558222       1      True                  1  \n",
       "1         7.558222       2     False                  1  "
      ]
     },
     "execution_count": 115,
     "metadata": {},
     "output_type": "execute_result"
    }
   ],
   "source": [
    "full_edge_df.head()"
   ]
  },
  {
   "cell_type": "markdown",
   "metadata": {},
   "source": [
    "# export results - need to find an appropriate place / way to store this info"
   ]
  },
  {
   "cell_type": "code",
   "execution_count": 116,
   "metadata": {
    "ExecuteTime": {
     "end_time": "2019-05-19T22:31:53.237217Z",
     "start_time": "2019-05-19T22:31:50.320695Z"
    }
   },
   "outputs": [],
   "source": [
    "full_edge_df.to_csv('route_{}_shape_{}_slowspots_2018-08-15_2018-12-11.csv'.format(\n",
    "                                        route_id, shape_id), index=True)"
   ]
  },
  {
   "cell_type": "code",
   "execution_count": 117,
   "metadata": {
    "ExecuteTime": {
     "end_time": "2019-05-19T22:31:53.305368Z",
     "start_time": "2019-05-19T22:31:53.240160Z"
    }
   },
   "outputs": [
    {
     "data": {
      "text/html": [
       "<div>\n",
       "<style scoped>\n",
       "    .dataframe tbody tr th:only-of-type {\n",
       "        vertical-align: middle;\n",
       "    }\n",
       "\n",
       "    .dataframe tbody tr th {\n",
       "        vertical-align: top;\n",
       "    }\n",
       "\n",
       "    .dataframe thead th {\n",
       "        text-align: right;\n",
       "    }\n",
       "</style>\n",
       "<table border=\"1\" class=\"dataframe\">\n",
       "  <thead>\n",
       "    <tr style=\"text-align: right;\">\n",
       "      <th></th>\n",
       "      <th>shape_id</th>\n",
       "      <th>shape_pt_lat</th>\n",
       "      <th>shape_pt_lon</th>\n",
       "      <th>shape_pt_sequence</th>\n",
       "      <th>shape_dist_traveled</th>\n",
       "      <th>start_gtfs_date</th>\n",
       "      <th>end_gtfs_date</th>\n",
       "      <th>geometry</th>\n",
       "    </tr>\n",
       "  </thead>\n",
       "  <tbody>\n",
       "    <tr>\n",
       "      <th>145225</th>\n",
       "      <td>20041006</td>\n",
       "      <td>47.722698</td>\n",
       "      <td>-122.291702</td>\n",
       "      <td>1</td>\n",
       "      <td>0.0</td>\n",
       "      <td>2018-08-15</td>\n",
       "      <td>2018-09-23</td>\n",
       "      <td>POINT (-122.291702 47.7226982)</td>\n",
       "    </tr>\n",
       "    <tr>\n",
       "      <th>145226</th>\n",
       "      <td>20041006</td>\n",
       "      <td>47.722732</td>\n",
       "      <td>-122.291992</td>\n",
       "      <td>2</td>\n",
       "      <td>70.3</td>\n",
       "      <td>2018-08-15</td>\n",
       "      <td>2018-09-23</td>\n",
       "      <td>POINT (-122.291992 47.7227325)</td>\n",
       "    </tr>\n",
       "    <tr>\n",
       "      <th>145227</th>\n",
       "      <td>20041006</td>\n",
       "      <td>47.722897</td>\n",
       "      <td>-122.292999</td>\n",
       "      <td>3</td>\n",
       "      <td>326.1</td>\n",
       "      <td>2018-08-15</td>\n",
       "      <td>2018-09-23</td>\n",
       "      <td>POINT (-122.292999 47.7228966)</td>\n",
       "    </tr>\n",
       "    <tr>\n",
       "      <th>145228</th>\n",
       "      <td>20041006</td>\n",
       "      <td>47.722897</td>\n",
       "      <td>-122.293190</td>\n",
       "      <td>4</td>\n",
       "      <td>373.7</td>\n",
       "      <td>2018-08-15</td>\n",
       "      <td>2018-09-23</td>\n",
       "      <td>POINT (-122.29319 47.7228966)</td>\n",
       "    </tr>\n",
       "    <tr>\n",
       "      <th>145229</th>\n",
       "      <td>20041006</td>\n",
       "      <td>47.722668</td>\n",
       "      <td>-122.293312</td>\n",
       "      <td>5</td>\n",
       "      <td>463.8</td>\n",
       "      <td>2018-08-15</td>\n",
       "      <td>2018-09-23</td>\n",
       "      <td>POINT (-122.293312 47.7226677)</td>\n",
       "    </tr>\n",
       "  </tbody>\n",
       "</table>\n",
       "</div>"
      ],
      "text/plain": [
       "        shape_id  shape_pt_lat  shape_pt_lon  shape_pt_sequence  \\\n",
       "145225  20041006     47.722698   -122.291702                  1   \n",
       "145226  20041006     47.722732   -122.291992                  2   \n",
       "145227  20041006     47.722897   -122.292999                  3   \n",
       "145228  20041006     47.722897   -122.293190                  4   \n",
       "145229  20041006     47.722668   -122.293312                  5   \n",
       "\n",
       "        shape_dist_traveled start_gtfs_date end_gtfs_date  \\\n",
       "145225                  0.0      2018-08-15    2018-09-23   \n",
       "145226                 70.3      2018-08-15    2018-09-23   \n",
       "145227                326.1      2018-08-15    2018-09-23   \n",
       "145228                373.7      2018-08-15    2018-09-23   \n",
       "145229                463.8      2018-08-15    2018-09-23   \n",
       "\n",
       "                              geometry  \n",
       "145225  POINT (-122.291702 47.7226982)  \n",
       "145226  POINT (-122.291992 47.7227325)  \n",
       "145227  POINT (-122.292999 47.7228966)  \n",
       "145228   POINT (-122.29319 47.7228966)  \n",
       "145229  POINT (-122.293312 47.7226677)  "
      ]
     },
     "execution_count": 117,
     "metadata": {},
     "output_type": "execute_result"
    }
   ],
   "source": [
    "route_shape_vertex.head()"
   ]
  },
  {
   "cell_type": "markdown",
   "metadata": {},
   "source": [
    "# match shape_pt_sequence to stops"
   ]
  },
  {
   "cell_type": "code",
   "execution_count": 118,
   "metadata": {
    "ExecuteTime": {
     "end_time": "2019-05-19T22:31:56.300899Z",
     "start_time": "2019-05-19T22:31:53.307252Z"
    }
   },
   "outputs": [],
   "source": [
    "grouped_trips = full_trip_stop_schedule.groupby(['start_gtfs_date','end_gtfs_date'])\n",
    "day_trips = grouped_trips.get_group(('2018-09-24', '2018-09-24'))\n",
    "shape_trips = day_trips[(day_trips['shape_id']==shape_id)]\n",
    "route_shape_w_names = route_shape_vertex.merge(shape_trips[['stop_sequence','stop_name']], \n",
    "                                               how='left', left_on='shape_pt_sequence',\n",
    "                                              right_on='stop_sequence')"
   ]
  },
  {
   "cell_type": "code",
   "execution_count": 119,
   "metadata": {
    "ExecuteTime": {
     "end_time": "2019-05-19T22:31:56.385270Z",
     "start_time": "2019-05-19T22:31:56.302699Z"
    }
   },
   "outputs": [],
   "source": [
    "route_shape_w_names = route_shape_w_names.drop_duplicates(subset='stop_sequence', keep='first')\\\n",
    "                        .copy()"
   ]
  },
  {
   "cell_type": "code",
   "execution_count": 120,
   "metadata": {
    "ExecuteTime": {
     "end_time": "2019-05-19T22:31:56.429740Z",
     "start_time": "2019-05-19T22:31:56.387591Z"
    }
   },
   "outputs": [],
   "source": [
    "route_shape_w_names = route_shape_w_names[route_shape_w_names.stop_sequence.notnull()].copy()"
   ]
  },
  {
   "cell_type": "code",
   "execution_count": 121,
   "metadata": {
    "ExecuteTime": {
     "end_time": "2019-05-19T22:31:56.475973Z",
     "start_time": "2019-05-19T22:31:56.431744Z"
    }
   },
   "outputs": [],
   "source": [
    "stop_name_dict = pd.Series(data=route_shape_w_names.stop_name.values,\n",
    "          index=route_shape_w_names.shape_pt_sequence.values).to_dict()"
   ]
  },
  {
   "cell_type": "code",
   "execution_count": 122,
   "metadata": {
    "ExecuteTime": {
     "end_time": "2019-05-19T22:31:56.523054Z",
     "start_time": "2019-05-19T22:31:56.477795Z"
    }
   },
   "outputs": [],
   "source": [
    "morning_hours = [7,8,9]\n",
    "afternoon_hours = [15,16,17,18]\n",
    "peak_hours = morning_hours+afternoon_hours\n",
    "all_hours = list(full_edge_df.trip_hour.unique())\n",
    "offpeak_hours = [hours for hours in all_hours if hours not in peak_hours]"
   ]
  },
  {
   "cell_type": "markdown",
   "metadata": {},
   "source": [
    "# all hours"
   ]
  },
  {
   "cell_type": "code",
   "execution_count": 123,
   "metadata": {
    "ExecuteTime": {
     "end_time": "2019-05-19T22:31:57.588750Z",
     "start_time": "2019-05-19T22:31:56.525033Z"
    }
   },
   "outputs": [
    {
     "data": {
      "image/png": "[encoded data removed]",
      "text/plain": [
       "<Figure size 1080x504 with 1 Axes>"
      ]
     },
     "metadata": {},
     "output_type": "display_data"
    }
   ],
   "source": [
    "total_trips = len(full_edge_df.month_day_trip_veh.unique())\n",
    "pivot_sums = full_edge_df.pivot_table(values='trouble_spot_flag', \n",
    "                                      index='month_day_trip_veh', \n",
    "                                      columns='pt_seq')\\\n",
    "                                        .sum(axis=0)*100/total_trips\n",
    "# GET LABELS\n",
    "###################\n",
    "x_labels = []\n",
    "for idx_num in pivot_sums.index:\n",
    "    if idx_num in stop_name_dict.keys():\n",
    "        idx_num_label = str(stop_name_dict[idx_num])\n",
    "        label_str = idx_num_label[:6]+\" \"+idx_num_label[-10:-2]\n",
    "        x_labels.append(label_str)\n",
    "    else:\n",
    "        x_labels.append(\"\")\n",
    "###################\n",
    "fig, ax = plt.subplots(figsize=(15,7))\n",
    "x_pos = pivot_sums.index\n",
    "bar_h = pivot_sums.values*100\n",
    "#ax.set_xticklabels(x_labels)\n",
    "plt.xticks(x_pos, x_labels, rotation='vertical')\n",
    "ax.bar(x_pos, bar_h)\n",
    "ax.set_ylabel(\"% of total trips slowdown occurred\", fontsize=14)\n",
    "ax.set_xlabel(\"Stops Along Route\", fontsize=14)\n",
    "title_str = (\"\"\"{} \\\"{}\\\" All Hours \n",
    "                \\n travel rate < 10 MPH along the route \n",
    "                \\n August to November 2018\"\"\".format(trip_headsign,\n",
    "                                                    route_of_interest))\n",
    "_ = ax.set_title(title_str, fontsize=14)"
   ]
  },
  {
   "cell_type": "code",
   "execution_count": 124,
   "metadata": {
    "ExecuteTime": {
     "end_time": "2019-05-19T22:31:58.552052Z",
     "start_time": "2019-05-19T22:31:57.590587Z"
    }
   },
   "outputs": [
    {
     "data": {
      "image/png": "[encoded data removed]",
      "text/plain": [
       "<Figure size 1080x504 with 1 Axes>"
      ]
     },
     "metadata": {},
     "output_type": "display_data"
    }
   ],
   "source": [
    "total_trips = len(full_edge_df[full_edge_df['trip_hour'].isin(peak_hours)]\\\n",
    "                                                          .month_day_trip_veh.unique())\n",
    "pivot_sums = full_edge_df[full_edge_df['trip_hour'].isin(peak_hours)]\\\n",
    "                                                    .pivot_table(values='trouble_spot_flag', \n",
    "                                                                  index='month_day_trip_veh', \n",
    "                                                                  columns='pt_seq')\\\n",
    "                                                    .sum(axis=0)/total_trips\n",
    "fig, ax = plt.subplots(figsize=(15,7))\n",
    "x_pos = pivot_sums.index\n",
    "bar_h = pivot_sums.values*100\n",
    "ax.bar(x_pos, bar_h)\n",
    "plt.xticks(x_pos, x_labels, rotation='vertical')\n",
    "ax.set_ylabel(\"% of total trips slow down occurred\", fontsize=14)\n",
    "ax.set_xlabel(\"Stops Along Route\", fontsize=14)\n",
    "title_str = (\"\"\"{} \\\"{}\\\" Peak Hours \n",
    "                \\n travel rate < 10 MPH along the route \n",
    "                \\n August to November 2018\"\"\".format(trip_headsign,\n",
    "                                                    route_of_interest))\n",
    "_ = ax.set_title(title_str, fontsize=14)"
   ]
  },
  {
   "cell_type": "code",
   "execution_count": 125,
   "metadata": {
    "ExecuteTime": {
     "end_time": "2019-05-19T22:31:59.469587Z",
     "start_time": "2019-05-19T22:31:58.554679Z"
    }
   },
   "outputs": [
    {
     "data": {
      "image/png": "[encoded data removed]",
      "text/plain": [
       "<Figure size 1080x504 with 1 Axes>"
      ]
     },
     "metadata": {},
     "output_type": "display_data"
    }
   ],
   "source": [
    "total_trips = len(full_edge_df[full_edge_df['trip_hour'].isin(offpeak_hours)]\\\n",
    "                                                          .month_day_trip_veh.unique())\n",
    "pivot_sums = full_edge_df[full_edge_df['trip_hour'].isin(offpeak_hours)]\\\n",
    "                                                    .pivot_table(values='trouble_spot_flag', \n",
    "                                                                 index='month_day_trip_veh', \n",
    "                                                                 columns='pt_seq')\\\n",
    "                                                    .sum(axis=0)/total_trips\n",
    "fig, ax = plt.subplots(figsize=(15,7))\n",
    "x_pos = pivot_sums.index\n",
    "bar_h = pivot_sums.values*100\n",
    "ax.bar(x_pos, bar_h)\n",
    "plt.xticks(x_pos, x_labels, rotation='vertical')\n",
    "ax.set_ylabel(\"% of total trips slow down occurred\", fontsize=14)\n",
    "ax.set_xlabel(\"Stops Along Route\", fontsize=14)\n",
    "title_str = (\"\"\"{} \\\"{}\\\" Off-Peak Hours \n",
    "                \\n travel rate < 10 MPH along the route \n",
    "                \\n August to November 2018\"\"\".format(trip_headsign,\n",
    "                                                    route_of_interest))\n",
    "_ = ax.set_title(title_str, fontsize=14)"
   ]
  },
  {
   "cell_type": "code",
   "execution_count": 126,
   "metadata": {
    "ExecuteTime": {
     "end_time": "2019-05-19T22:35:57.576795Z",
     "start_time": "2019-05-19T22:35:56.982955Z"
    }
   },
   "outputs": [],
   "source": [
    "full_edge_counts = full_edge_df.groupby('pt_seq').agg({'trouble_spot_flag':'sum'})\\\n",
    "    .reset_index()"
   ]
  },
  {
   "cell_type": "code",
   "execution_count": 127,
   "metadata": {
    "ExecuteTime": {
     "end_time": "2019-05-19T22:35:57.637307Z",
     "start_time": "2019-05-19T22:35:57.579343Z"
    }
   },
   "outputs": [],
   "source": [
    "route_with_counts = route_shape_vertex.merge(full_edge_counts, how='left', left_on='shape_pt_sequence', right_on='pt_seq')"
   ]
  },
  {
   "cell_type": "code",
   "execution_count": 128,
   "metadata": {
    "ExecuteTime": {
     "end_time": "2019-05-19T22:35:57.687191Z",
     "start_time": "2019-05-19T22:35:57.638987Z"
    }
   },
   "outputs": [],
   "source": [
    "route_with_counts.dropna(axis=0,how='any',subset=['trouble_spot_flag'], inplace=True)"
   ]
  },
  {
   "cell_type": "markdown",
   "metadata": {},
   "source": [
    "# this leaflet widget does not always work for me"
   ]
  },
  {
   "cell_type": "code",
   "execution_count": 129,
   "metadata": {
    "ExecuteTime": {
     "end_time": "2019-05-19T22:35:58.000615Z",
     "start_time": "2019-05-19T22:35:57.692252Z"
    }
   },
   "outputs": [
    {
     "data": {
      "text/plain": [
       "<matplotlib.axes._subplots.AxesSubplot at 0x12b28c550>"
      ]
     },
     "execution_count": 129,
     "metadata": {},
     "output_type": "execute_result"
    },
    {
     "data": {
      "image/png": "[encoded data removed]",
      "text/plain": [
       "<Figure size 360x360 with 1 Axes>"
      ]
     },
     "metadata": {},
     "output_type": "display_data"
    }
   ],
   "source": [
    "fig, ax = plt.subplots(figsize=(5,5))\n",
    "route_with_counts.plot(ax=ax, column='trouble_spot_flag', \n",
    "                    cmap='YlOrRd',\n",
    "                   markersize=route_with_counts['trouble_spot_flag'].values/200)"
   ]
  },
  {
   "cell_type": "code",
   "execution_count": 130,
   "metadata": {
    "ExecuteTime": {
     "end_time": "2019-05-19T22:36:00.391326Z",
     "start_time": "2019-05-19T22:35:59.672923Z"
    }
   },
   "outputs": [],
   "source": [
    "mplleaflet.show(fig=ax.figure,crs=route_with_counts.crs)"
   ]
  },
  {
   "cell_type": "markdown",
   "metadata": {},
   "source": [
    "# save to geojson and view in QGIS or Tableau/PowerBI"
   ]
  },
  {
   "cell_type": "code",
   "execution_count": 66,
   "metadata": {},
   "outputs": [],
   "source": [
    "route_with_counts_json = route_with_counts.to_json()\n",
    "file_name = \"route_{}_{}_{}_bad_speed_count.geojson\".format(input_dict['route_id'],\n",
    "                                                         input_dict['shape_id'], \n",
    "                                                         trip_sign)\n",
    "with open(file_name, \"w\") as f:\n",
    "    f.write(route_with_counts_json)"
   ]
  },
  {
   "cell_type": "code",
   "execution_count": 81,
   "metadata": {
    "ExecuteTime": {
     "end_time": "2019-05-19T14:53:04.638690Z",
     "start_time": "2019-05-19T14:53:04.447935Z"
    }
   },
   "outputs": [],
   "source": [
    "import requests\n",
    "api_key = os.environ[\"ONEBUSAWAY_KEY\"]"
   ]
  },
  {
   "cell_type": "code",
   "execution_count": 86,
   "metadata": {
    "ExecuteTime": {
     "end_time": "2019-05-19T14:54:43.123671Z",
     "start_time": "2019-05-19T14:54:43.082419Z"
    }
   },
   "outputs": [],
   "source": [
    "agency = '1'  # this is the agency ID for King County Metro\n",
    "base_url = 'http://pugetsound.onebusaway.org/api/'\n",
    "endpoints = {'position': 'gtfs_realtime/vehicle-positions-for-agency/{agency}.json',\n",
    "           'alert': 'gtfs_realtime/alerts-for-agency/{agency}.json',\n",
    "           'update': 'gtfs_realtime/trip-updates-for-agency/{agency}.json'}"
   ]
  },
  {
   "cell_type": "code",
   "execution_count": 87,
   "metadata": {
    "ExecuteTime": {
     "end_time": "2019-05-19T14:54:43.445081Z",
     "start_time": "2019-05-19T14:54:43.396988Z"
    }
   },
   "outputs": [],
   "source": [
    "def single_request(url, api_key):\n",
    "    params = {'key': api_key}\n",
    "    r = requests.get(url,params=params)\n",
    "    try:\n",
    "        if r.status_code == 200:\n",
    "            return r.content\n",
    "    except:\n",
    "        logging.error('status code {}'.format(r.status_code))"
   ]
  },
  {
   "cell_type": "code",
   "execution_count": 88,
   "metadata": {
    "ExecuteTime": {
     "end_time": "2019-05-19T14:54:44.108639Z",
     "start_time": "2019-05-19T14:54:43.718069Z"
    }
   },
   "outputs": [],
   "source": [
    "url = base_url + endpoints['position'].format(agency=agency)\n",
    "api_content = single_request(url, api_key)"
   ]
  },
  {
   "cell_type": "code",
   "execution_count": 91,
   "metadata": {
    "ExecuteTime": {
     "end_time": "2019-05-19T14:56:52.112840Z",
     "start_time": "2019-05-19T14:56:52.069053Z"
    }
   },
   "outputs": [
    {
     "data": {
      "text/plain": [
       "'02c542c2-023d-47c4-891c-bd22c8c2a552'"
      ]
     },
     "execution_count": 91,
     "metadata": {},
     "output_type": "execute_result"
    }
   ],
   "source": [
    "api_key"
   ]
  },
  {
   "cell_type": "code",
   "execution_count": 90,
   "metadata": {
    "ExecuteTime": {
     "end_time": "2019-05-19T14:55:22.087096Z",
     "start_time": "2019-05-19T14:55:22.043166Z"
    }
   },
   "outputs": [
    {
     "data": {
      "text/plain": [
       "'http://pugetsound.onebusaway.org/api/gtfs_realtime/vehicle-positions-for-agency/1.json'"
      ]
     },
     "execution_count": 90,
     "metadata": {},
     "output_type": "execute_result"
    }
   ],
   "source": [
    "url"
   ]
  },
  {
   "cell_type": "code",
   "execution_count": null,
   "metadata": {},
   "outputs": [],
   "source": []
  }
 ],
 "metadata": {
  "kernelspec": {
   "display_name": "Python 3",
   "language": "python",
   "name": "python3"
  },
  "language_info": {
   "codemirror_mode": {
    "name": "ipython",
    "version": 3
   },
   "file_extension": ".py",
   "mimetype": "text/x-python",
   "name": "python",
   "nbconvert_exporter": "python",
   "pygments_lexer": "ipython3",
   "version": "3.6.4"
  }
 },
 "nbformat": 4,
 "nbformat_minor": 2
}
