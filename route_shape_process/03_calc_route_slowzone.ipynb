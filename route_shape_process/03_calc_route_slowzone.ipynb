{
 "cells": [
  {
   "cell_type": "code",
   "execution_count": 1,
   "metadata": {},
   "outputs": [],
   "source": [
    "import ipywidgets as widgets\n",
    "from ipywidgets import interact, interact_manual\n",
    "import mplleaflet"
   ]
  },
  {
   "cell_type": "code",
   "execution_count": 2,
   "metadata": {},
   "outputs": [],
   "source": [
    "from route_shape_process_scripts import *\n",
    "import matplotlib.pyplot as plt\n",
    "%matplotlib inline\n",
    "import datetime\n",
    "import numpy as np\n",
    "import time\n",
    "import pandas as pd\n",
    "import math\n",
    "import multiprocessing\n",
    "from geopandas import GeoDataFrame\n",
    "from shapely.geometry import Point, LineString, MultiLineString"
   ]
  },
  {
   "cell_type": "markdown",
   "metadata": {},
   "source": [
    "# import gtfs"
   ]
  },
  {
   "cell_type": "code",
   "execution_count": 3,
   "metadata": {},
   "outputs": [
    {
     "name": "stderr",
     "output_type": "stream",
     "text": [
      "/Users/benjaminmalnor/anaconda2/envs/geopy36/lib/python3.6/site-packages/IPython/core/interactiveshell.py:2728: DtypeWarning: Columns (5,26) have mixed types. Specify dtype option on import or set low_memory=False.\n",
      "  interactivity=interactivity, compiler=compiler, result=result)\n"
     ]
    }
   ],
   "source": [
    "full_routes_gtfs = pd.read_csv(\"gtfs_routes_2018-08-15_2018-12-12.csv\")\n",
    "full_shapes_gtfs = pd.read_csv(\"gtfs_shapes_2018-08-15_2018-12-12.csv\")\n",
    "full_trips_gtfs = pd.read_csv(\"gtfs_trips_2018-08-15_2018-12-12.csv\")\n",
    "full_trip_stop_schedule = pd.read_csv(\"gtfs_2018-08-15_2018-12-12.csv\")"
   ]
  },
  {
   "cell_type": "markdown",
   "metadata": {},
   "source": [
    "# set your route, shape variables"
   ]
  },
  {
   "cell_type": "code",
   "execution_count": 4,
   "metadata": {},
   "outputs": [
    {
     "data": {
      "text/plain": [
       "{'E Line': 102615}"
      ]
     },
     "execution_count": 4,
     "metadata": {},
     "output_type": "execute_result"
    }
   ],
   "source": [
    "route_name = 'E Line'\n",
    "get_select_routeid_name(full_routes_gtfs, [route_name])[2]"
   ]
  },
  {
   "cell_type": "code",
   "execution_count": 5,
   "metadata": {},
   "outputs": [],
   "source": [
    "route_desc = get_select_routeid_name(full_routes_gtfs, [route_name])[0]['route_desc'].iloc[0]"
   ]
  },
  {
   "cell_type": "code",
   "execution_count": 6,
   "metadata": {},
   "outputs": [],
   "source": [
    "input_dict = {'route_id':102615}\n",
    "input_dict['shape_id'] = 11675003"
   ]
  },
  {
   "cell_type": "code",
   "execution_count": 41,
   "metadata": {},
   "outputs": [],
   "source": [
    "trip_sign = full_trips_gtfs[(full_trips_gtfs['route_id']==input_dict['route_id'])&(full_trips_gtfs['shape_id']==input_dict['shape_id'])]['trip_headsign'].unique()[0]"
   ]
  },
  {
   "cell_type": "markdown",
   "metadata": {},
   "source": [
    "# import"
   ]
  },
  {
   "cell_type": "code",
   "execution_count": 7,
   "metadata": {},
   "outputs": [],
   "source": [
    "file_path = \"route_{}_shape_{}_raw_w_nearest_2018-08-15_2018-12-11.csv\".format(\n",
    "                                       input_dict['route_id'], input_dict['shape_id'])\n",
    "unpacked_positions_full = pd.read_csv(file_path)"
   ]
  },
  {
   "cell_type": "markdown",
   "metadata": {},
   "source": [
    "# we need to grab the shape_pt_sequence and so we can match shape_pt_sequence with shape_dist_traveled TODO: make add this field earlier in the position join"
   ]
  },
  {
   "cell_type": "code",
   "execution_count": 8,
   "metadata": {},
   "outputs": [
    {
     "data": {
      "text/html": [
       "<div>\n",
       "<style scoped>\n",
       "    .dataframe tbody tr th:only-of-type {\n",
       "        vertical-align: middle;\n",
       "    }\n",
       "\n",
       "    .dataframe tbody tr th {\n",
       "        vertical-align: top;\n",
       "    }\n",
       "\n",
       "    .dataframe thead th {\n",
       "        text-align: right;\n",
       "    }\n",
       "</style>\n",
       "<table border=\"1\" class=\"dataframe\">\n",
       "  <thead>\n",
       "    <tr style=\"text-align: right;\">\n",
       "      <th></th>\n",
       "      <th>shape_id</th>\n",
       "      <th>shape_pt_lat</th>\n",
       "      <th>shape_pt_lon</th>\n",
       "      <th>shape_pt_sequence</th>\n",
       "      <th>shape_dist_traveled</th>\n",
       "      <th>start_gtfs_date</th>\n",
       "      <th>end_gtfs_date</th>\n",
       "    </tr>\n",
       "  </thead>\n",
       "  <tbody>\n",
       "    <tr>\n",
       "      <th>130945</th>\n",
       "      <td>11675003</td>\n",
       "      <td>47.601677</td>\n",
       "      <td>-122.330170</td>\n",
       "      <td>1</td>\n",
       "      <td>0.0</td>\n",
       "      <td>2018-08-15</td>\n",
       "      <td>2018-09-23</td>\n",
       "    </tr>\n",
       "    <tr>\n",
       "      <th>130946</th>\n",
       "      <td>11675003</td>\n",
       "      <td>47.601719</td>\n",
       "      <td>-122.330269</td>\n",
       "      <td>2</td>\n",
       "      <td>30.0</td>\n",
       "      <td>2018-08-15</td>\n",
       "      <td>2018-09-23</td>\n",
       "    </tr>\n",
       "    <tr>\n",
       "      <th>130947</th>\n",
       "      <td>11675003</td>\n",
       "      <td>47.601788</td>\n",
       "      <td>-122.330429</td>\n",
       "      <td>3</td>\n",
       "      <td>78.6</td>\n",
       "      <td>2018-08-15</td>\n",
       "      <td>2018-09-23</td>\n",
       "    </tr>\n",
       "    <tr>\n",
       "      <th>130948</th>\n",
       "      <td>11675003</td>\n",
       "      <td>47.601826</td>\n",
       "      <td>-122.330513</td>\n",
       "      <td>4</td>\n",
       "      <td>100.4</td>\n",
       "      <td>2018-08-15</td>\n",
       "      <td>2018-09-23</td>\n",
       "    </tr>\n",
       "    <tr>\n",
       "      <th>130949</th>\n",
       "      <td>11675003</td>\n",
       "      <td>47.601872</td>\n",
       "      <td>-122.330566</td>\n",
       "      <td>5</td>\n",
       "      <td>123.0</td>\n",
       "      <td>2018-08-15</td>\n",
       "      <td>2018-09-23</td>\n",
       "    </tr>\n",
       "  </tbody>\n",
       "</table>\n",
       "</div>"
      ],
      "text/plain": [
       "        shape_id  shape_pt_lat  shape_pt_lon  shape_pt_sequence  \\\n",
       "130945  11675003     47.601677   -122.330170                  1   \n",
       "130946  11675003     47.601719   -122.330269                  2   \n",
       "130947  11675003     47.601788   -122.330429                  3   \n",
       "130948  11675003     47.601826   -122.330513                  4   \n",
       "130949  11675003     47.601872   -122.330566                  5   \n",
       "\n",
       "        shape_dist_traveled start_gtfs_date end_gtfs_date  \n",
       "130945                  0.0      2018-08-15    2018-09-23  \n",
       "130946                 30.0      2018-08-15    2018-09-23  \n",
       "130947                 78.6      2018-08-15    2018-09-23  \n",
       "130948                100.4      2018-08-15    2018-09-23  \n",
       "130949                123.0      2018-08-15    2018-09-23  "
      ]
     },
     "execution_count": 8,
     "metadata": {},
     "output_type": "execute_result"
    }
   ],
   "source": [
    "one_shape = full_shapes_gtfs[(full_shapes_gtfs['shape_id']==input_dict['shape_id'])&\\\n",
    "                            (full_shapes_gtfs['start_gtfs_date']=='2018-08-15')&\\\n",
    "                            (full_shapes_gtfs['end_gtfs_date']=='2018-09-23')]\n",
    "one_shape.head()"
   ]
  },
  {
   "cell_type": "code",
   "execution_count": 9,
   "metadata": {},
   "outputs": [],
   "source": [
    "unpacked_positions_full = unpacked_positions_full.merge(one_shape[['shape_pt_sequence','shape_dist_traveled']],how='left', on='shape_pt_sequence' )"
   ]
  },
  {
   "cell_type": "code",
   "execution_count": 10,
   "metadata": {},
   "outputs": [],
   "source": [
    "def make_geopandas_shape_df(gtfs_shapes, shape_id):\n",
    "    '''\n",
    "    INPUT\n",
    "    -------\n",
    "    gtfs_shapes = gtfs shapes.txt file dataframe\n",
    "    shape_id = one shape_id to filter on\n",
    "    OUTPUT\n",
    "    -------\n",
    "    route_vertex_geo <-- geopandas version of a particular schedule shapes.txt geometry = route vertex points\n",
    "    '''\n",
    "    one_shape_df = gtfs_shapes[gtfs_shapes['shape_id'] == shape_id].copy()\n",
    "    crs = {'init':'epsg:4326'}\n",
    "    shape_geometry = [Point(xy) for xy in zip(one_shape_df.shape_pt_lon, one_shape_df.shape_pt_lat)]\n",
    "    route_vertex_geo = GeoDataFrame(one_shape_df, crs=crs, geometry=shape_geometry)\n",
    "    return route_vertex_geo"
   ]
  },
  {
   "cell_type": "code",
   "execution_count": 11,
   "metadata": {},
   "outputs": [],
   "source": [
    "route_shape_vertex = make_geopandas_shape_df(full_shapes_gtfs, input_dict['shape_id'])"
   ]
  },
  {
   "cell_type": "code",
   "execution_count": 12,
   "metadata": {},
   "outputs": [],
   "source": [
    "def datetime_transform_df(df):\n",
    "    '''\n",
    "    '''\n",
    "    df['time_pct'] = df['time_utc'].apply(pd.to_datetime)\n",
    "    df.set_index('time_pct', inplace=True)\n",
    "    df.sort_index(inplace=True)\n",
    "    df = df.tz_localize('UTC')\n",
    "    df = df.tz_convert('US/Pacific')\n",
    "    \n",
    "    return df"
   ]
  },
  {
   "cell_type": "code",
   "execution_count": 13,
   "metadata": {},
   "outputs": [],
   "source": [
    "unpacked_positions_full = datetime_transform_df(unpacked_positions_full)"
   ]
  },
  {
   "cell_type": "code",
   "execution_count": 18,
   "metadata": {
    "scrolled": false
   },
   "outputs": [
    {
     "data": {
      "text/html": [
       "<div>\n",
       "<style scoped>\n",
       "    .dataframe tbody tr th:only-of-type {\n",
       "        vertical-align: middle;\n",
       "    }\n",
       "\n",
       "    .dataframe tbody tr th {\n",
       "        vertical-align: top;\n",
       "    }\n",
       "\n",
       "    .dataframe thead th {\n",
       "        text-align: right;\n",
       "    }\n",
       "</style>\n",
       "<table border=\"1\" class=\"dataframe\">\n",
       "  <thead>\n",
       "    <tr style=\"text-align: right;\">\n",
       "      <th></th>\n",
       "      <th>month_day_trip_veh</th>\n",
       "      <th>timestamp</th>\n",
       "      <th>vehicle_lat</th>\n",
       "      <th>vehicle_long</th>\n",
       "      <th>shape_pt_sequence</th>\n",
       "      <th>shape_dist_traveled</th>\n",
       "    </tr>\n",
       "    <tr>\n",
       "      <th>time_pct</th>\n",
       "      <th></th>\n",
       "      <th></th>\n",
       "      <th></th>\n",
       "      <th></th>\n",
       "      <th></th>\n",
       "      <th></th>\n",
       "    </tr>\n",
       "  </thead>\n",
       "  <tbody>\n",
       "    <tr>\n",
       "      <th>2018-08-31 16:59:07-07:00</th>\n",
       "      <td>2018_8_31_39512518_6046</td>\n",
       "      <td>1535759947</td>\n",
       "      <td>47.723824</td>\n",
       "      <td>-122.344978</td>\n",
       "      <td>301</td>\n",
       "      <td>46768.3</td>\n",
       "    </tr>\n",
       "    <tr>\n",
       "      <th>2018-08-31 16:59:32-07:00</th>\n",
       "      <td>2018_8_31_39512951_2667</td>\n",
       "      <td>1535759972</td>\n",
       "      <td>47.664989</td>\n",
       "      <td>-122.347260</td>\n",
       "      <td>175</td>\n",
       "      <td>24952.0</td>\n",
       "    </tr>\n",
       "    <tr>\n",
       "      <th>2018-08-31 16:59:36-07:00</th>\n",
       "      <td>2018_8_31_39512547_6071</td>\n",
       "      <td>1535759976</td>\n",
       "      <td>47.698055</td>\n",
       "      <td>-122.344612</td>\n",
       "      <td>267</td>\n",
       "      <td>37476.0</td>\n",
       "    </tr>\n",
       "    <tr>\n",
       "      <th>2018-08-31 16:59:39-07:00</th>\n",
       "      <td>2018_8_31_39512516_6040</td>\n",
       "      <td>1535759979</td>\n",
       "      <td>47.604149</td>\n",
       "      <td>-122.332672</td>\n",
       "      <td>11</td>\n",
       "      <td>1105.0</td>\n",
       "    </tr>\n",
       "    <tr>\n",
       "      <th>2018-08-31 16:59:39-07:00</th>\n",
       "      <td>2018_8_31_39512611_2803</td>\n",
       "      <td>1535759979</td>\n",
       "      <td>47.712730</td>\n",
       "      <td>-122.344818</td>\n",
       "      <td>288</td>\n",
       "      <td>42836.9</td>\n",
       "    </tr>\n",
       "  </tbody>\n",
       "</table>\n",
       "</div>"
      ],
      "text/plain": [
       "                                month_day_trip_veh   timestamp  vehicle_lat  \\\n",
       "time_pct                                                                      \n",
       "2018-08-31 16:59:07-07:00  2018_8_31_39512518_6046  1535759947    47.723824   \n",
       "2018-08-31 16:59:32-07:00  2018_8_31_39512951_2667  1535759972    47.664989   \n",
       "2018-08-31 16:59:36-07:00  2018_8_31_39512547_6071  1535759976    47.698055   \n",
       "2018-08-31 16:59:39-07:00  2018_8_31_39512516_6040  1535759979    47.604149   \n",
       "2018-08-31 16:59:39-07:00  2018_8_31_39512611_2803  1535759979    47.712730   \n",
       "\n",
       "                           vehicle_long  shape_pt_sequence  \\\n",
       "time_pct                                                     \n",
       "2018-08-31 16:59:07-07:00   -122.344978                301   \n",
       "2018-08-31 16:59:32-07:00   -122.347260                175   \n",
       "2018-08-31 16:59:36-07:00   -122.344612                267   \n",
       "2018-08-31 16:59:39-07:00   -122.332672                 11   \n",
       "2018-08-31 16:59:39-07:00   -122.344818                288   \n",
       "\n",
       "                           shape_dist_traveled  \n",
       "time_pct                                        \n",
       "2018-08-31 16:59:07-07:00              46768.3  \n",
       "2018-08-31 16:59:32-07:00              24952.0  \n",
       "2018-08-31 16:59:36-07:00              37476.0  \n",
       "2018-08-31 16:59:39-07:00               1105.0  \n",
       "2018-08-31 16:59:39-07:00              42836.9  "
      ]
     },
     "execution_count": 18,
     "metadata": {},
     "output_type": "execute_result"
    }
   ],
   "source": [
    "unpacked_positions_full[['month_day_trip_veh','timestamp',\n",
    "                                 'vehicle_lat','vehicle_long',\n",
    "                                 'shape_pt_sequence','shape_dist_traveled'\n",
    "                               ]].head(5)"
   ]
  },
  {
   "cell_type": "code",
   "execution_count": 19,
   "metadata": {},
   "outputs": [],
   "source": [
    "def get_travel_rate(row):\n",
    "    ##shape dist traveled is in feet, time in seconds travel_rate_update mph\n",
    "    travel_rate = (row['shape_dist_diff']/row['total_seconds_delta'])*(5280)*(1/(60*60))\n",
    "    return travel_rate"
   ]
  },
  {
   "cell_type": "code",
   "execution_count": 20,
   "metadata": {},
   "outputs": [],
   "source": [
    "def get_distance_time_parallel(df):\n",
    "    '''\n",
    "    '''\n",
    "    df.sort_index(inplace=True)\n",
    "    df.loc[:,'shape_dist_diff'] = df.loc[:,'shape_dist_traveled'].diff(1)\n",
    "    df.loc[:,'time_delta'] = df.index.to_series().diff(1)\n",
    "    \n",
    "    df['shape_pt_seq_tuple'] = list(zip(df.shift(1).apply(lambda x: 9999 if math.isnan(x['shape_pt_sequence']) else int(x['shape_pt_sequence']), axis=1).values,\n",
    "                            df.apply(lambda x: x['shape_pt_sequence'], axis=1).values))\n",
    "    \n",
    "    df.dropna(axis=0, how='any', subset=['time_delta','shape_dist_diff'], inplace=True)\n",
    "    \n",
    "    df.loc[:,'total_seconds_delta'] = df['time_delta'].apply(lambda x: x.total_seconds())\n",
    "    \n",
    "    if df.empty:\n",
    "        pass\n",
    "    else:\n",
    "        df.loc[:,'travel_rate_mph'] = df.apply(get_travel_rate, axis=1)\n",
    "\n",
    "    return df"
   ]
  },
  {
   "cell_type": "code",
   "execution_count": 21,
   "metadata": {},
   "outputs": [],
   "source": [
    "def get_distance_time_diffs(unpacked_positions_full):\n",
    "    n_pools = multiprocessing.cpu_count() - 1\n",
    "    pool = multiprocessing.Pool(n_pools)\n",
    "    distance_time_list = []\n",
    "    grouped =  unpacked_positions_full.groupby('month_day_trip_veh')\n",
    "    for name, group in grouped:\n",
    "        distance_time_list.append(group)\n",
    "    distance_time_list_df = pd.concat(pool.map(get_distance_time_parallel, distance_time_list))\n",
    "    return distance_time_list_df"
   ]
  },
  {
   "cell_type": "markdown",
   "metadata": {},
   "source": [
    "# below starts the 'get_distance_time_diffs' function - if you have a windows I don't think this will work... just run it without multiprocessing"
   ]
  },
  {
   "cell_type": "code",
   "execution_count": 22,
   "metadata": {},
   "outputs": [
    {
     "name": "stdout",
     "output_type": "stream",
     "text": [
      "121.46232223510742\n"
     ]
    }
   ],
   "source": [
    "if __name__ == \"__main__\":\n",
    "    start = time.time()\n",
    "    distance_time_list_df = get_distance_time_diffs(unpacked_positions_full)\n",
    "    end = time.time()\n",
    "    print(end - start)"
   ]
  },
  {
   "cell_type": "markdown",
   "metadata": {},
   "source": [
    "# flag all trip segments with travel_rate < threshold "
   ]
  },
  {
   "cell_type": "code",
   "execution_count": 23,
   "metadata": {},
   "outputs": [],
   "source": [
    "mph_rate_flag = 10 #can change\n",
    "new_df = distance_time_list_df.copy()\n",
    "new_df['trouble_flag'] = new_df.apply(lambda x: True if x['travel_rate_mph'] < mph_rate_flag else False, axis=1)"
   ]
  },
  {
   "cell_type": "markdown",
   "metadata": {},
   "source": [
    "# isolate only the bad segments :)"
   ]
  },
  {
   "cell_type": "code",
   "execution_count": 24,
   "metadata": {},
   "outputs": [],
   "source": [
    "new_df_true = new_df[new_df['trouble_flag'] == True]"
   ]
  },
  {
   "cell_type": "code",
   "execution_count": 25,
   "metadata": {},
   "outputs": [],
   "source": [
    "new_df_true.reset_index(inplace=True)"
   ]
  },
  {
   "cell_type": "code",
   "execution_count": 26,
   "metadata": {},
   "outputs": [
    {
     "data": {
      "text/html": [
       "<div>\n",
       "<style scoped>\n",
       "    .dataframe tbody tr th:only-of-type {\n",
       "        vertical-align: middle;\n",
       "    }\n",
       "\n",
       "    .dataframe tbody tr th {\n",
       "        vertical-align: top;\n",
       "    }\n",
       "\n",
       "    .dataframe thead th {\n",
       "        text-align: right;\n",
       "    }\n",
       "</style>\n",
       "<table border=\"1\" class=\"dataframe\">\n",
       "  <thead>\n",
       "    <tr style=\"text-align: right;\">\n",
       "      <th></th>\n",
       "      <th>time_pct</th>\n",
       "      <th>day</th>\n",
       "      <th>direction_id</th>\n",
       "      <th>dist_to_nearest_route_pt</th>\n",
       "      <th>dow</th>\n",
       "      <th>geometry</th>\n",
       "      <th>hour</th>\n",
       "      <th>month</th>\n",
       "      <th>month_day_trip_veh</th>\n",
       "      <th>near_node_pt</th>\n",
       "      <th>...</th>\n",
       "      <th>time_utc</th>\n",
       "      <th>timestamp</th>\n",
       "      <th>total_seconds_delta</th>\n",
       "      <th>travel_rate_mph</th>\n",
       "      <th>trip_id</th>\n",
       "      <th>vehicle_id</th>\n",
       "      <th>vehicle_lat</th>\n",
       "      <th>vehicle_long</th>\n",
       "      <th>year</th>\n",
       "      <th>trouble_flag</th>\n",
       "    </tr>\n",
       "  </thead>\n",
       "  <tbody>\n",
       "    <tr>\n",
       "      <th>0</th>\n",
       "      <td>2018-10-10 17:34:46-07:00</td>\n",
       "      <td>10</td>\n",
       "      <td>0</td>\n",
       "      <td>0.000019</td>\n",
       "      <td>2</td>\n",
       "      <td>POINT (-122.3326873779297 47.60416412353516)</td>\n",
       "      <td>17</td>\n",
       "      <td>10</td>\n",
       "      <td>2018_10_10_40955465_6110</td>\n",
       "      <td>(-122.332672, 47.6041527)</td>\n",
       "      <td>...</td>\n",
       "      <td>2018-10-11 00:34:46</td>\n",
       "      <td>1539218086</td>\n",
       "      <td>180.0</td>\n",
       "      <td>9.003704</td>\n",
       "      <td>40955465</td>\n",
       "      <td>6110</td>\n",
       "      <td>47.604164</td>\n",
       "      <td>-122.332687</td>\n",
       "      <td>2018</td>\n",
       "      <td>True</td>\n",
       "    </tr>\n",
       "    <tr>\n",
       "      <th>1</th>\n",
       "      <td>2018-10-10 17:37:46-07:00</td>\n",
       "      <td>10</td>\n",
       "      <td>0</td>\n",
       "      <td>0.000017</td>\n",
       "      <td>2</td>\n",
       "      <td>POINT (-122.3353118896484 47.60703659057617)</td>\n",
       "      <td>17</td>\n",
       "      <td>10</td>\n",
       "      <td>2018_10_10_40955465_6110</td>\n",
       "      <td>(-122.33532, 47.6070518)</td>\n",
       "      <td>...</td>\n",
       "      <td>2018-10-11 00:37:46</td>\n",
       "      <td>1539218266</td>\n",
       "      <td>90.0</td>\n",
       "      <td>0.257481</td>\n",
       "      <td>40955465</td>\n",
       "      <td>6110</td>\n",
       "      <td>47.607037</td>\n",
       "      <td>-122.335312</td>\n",
       "      <td>2018</td>\n",
       "      <td>True</td>\n",
       "    </tr>\n",
       "    <tr>\n",
       "      <th>2</th>\n",
       "      <td>2018-10-10 17:45:17-07:00</td>\n",
       "      <td>10</td>\n",
       "      <td>0</td>\n",
       "      <td>0.000022</td>\n",
       "      <td>2</td>\n",
       "      <td>POINT (-122.3452835083008 47.61499786376953)</td>\n",
       "      <td>17</td>\n",
       "      <td>10</td>\n",
       "      <td>2018_10_10_40955465_6110</td>\n",
       "      <td>(-122.345268, 47.6149826)</td>\n",
       "      <td>...</td>\n",
       "      <td>2018-10-11 00:45:17</td>\n",
       "      <td>1539218717</td>\n",
       "      <td>181.0</td>\n",
       "      <td>8.817017</td>\n",
       "      <td>40955465</td>\n",
       "      <td>6110</td>\n",
       "      <td>47.614998</td>\n",
       "      <td>-122.345284</td>\n",
       "      <td>2018</td>\n",
       "      <td>True</td>\n",
       "    </tr>\n",
       "  </tbody>\n",
       "</table>\n",
       "<p>3 rows × 27 columns</p>\n",
       "</div>"
      ],
      "text/plain": [
       "                   time_pct  day  direction_id  dist_to_nearest_route_pt  dow  \\\n",
       "0 2018-10-10 17:34:46-07:00   10             0                  0.000019    2   \n",
       "1 2018-10-10 17:37:46-07:00   10             0                  0.000017    2   \n",
       "2 2018-10-10 17:45:17-07:00   10             0                  0.000022    2   \n",
       "\n",
       "                                       geometry  hour  month  \\\n",
       "0  POINT (-122.3326873779297 47.60416412353516)    17     10   \n",
       "1  POINT (-122.3353118896484 47.60703659057617)    17     10   \n",
       "2  POINT (-122.3452835083008 47.61499786376953)    17     10   \n",
       "\n",
       "         month_day_trip_veh               near_node_pt      ...       \\\n",
       "0  2018_10_10_40955465_6110  (-122.332672, 47.6041527)      ...        \n",
       "1  2018_10_10_40955465_6110   (-122.33532, 47.6070518)      ...        \n",
       "2  2018_10_10_40955465_6110  (-122.345268, 47.6149826)      ...        \n",
       "\n",
       "              time_utc   timestamp  total_seconds_delta  travel_rate_mph  \\\n",
       "0  2018-10-11 00:34:46  1539218086                180.0         9.003704   \n",
       "1  2018-10-11 00:37:46  1539218266                 90.0         0.257481   \n",
       "2  2018-10-11 00:45:17  1539218717                181.0         8.817017   \n",
       "\n",
       "    trip_id  vehicle_id vehicle_lat vehicle_long  year  trouble_flag  \n",
       "0  40955465        6110   47.604164  -122.332687  2018          True  \n",
       "1  40955465        6110   47.607037  -122.335312  2018          True  \n",
       "2  40955465        6110   47.614998  -122.345284  2018          True  \n",
       "\n",
       "[3 rows x 27 columns]"
      ]
     },
     "execution_count": 26,
     "metadata": {},
     "output_type": "execute_result"
    }
   ],
   "source": [
    "new_df_true.head(3)"
   ]
  },
  {
   "cell_type": "code",
   "execution_count": 27,
   "metadata": {},
   "outputs": [],
   "source": [
    "def get_all_segments_parallel(row):\n",
    "    '''\n",
    "    '''\n",
    "    col_list = ['month_day_trip_veh',\n",
    "                'trip_hour',\n",
    "               'time_pct',\n",
    "               'trip_dow',\n",
    "               'travel_rate_mph',\n",
    "                'pt_seq',\n",
    "               'real_obv',\n",
    "               'trouble_spot_flag']\n",
    "    edge_for_upload = []\n",
    "    month_day_trip_veh = row['month_day_trip_veh']\n",
    "    trip_hour = row['hour']\n",
    "    time_pct = row['time_pct']\n",
    "    trip_dow = row['dow']\n",
    "    travel_rate_mph = row['travel_rate_mph']\n",
    "    \n",
    "    pt_seq_start = row['shape_pt_seq_tuple'][0]\n",
    "    pt_seq_end = row['shape_pt_seq_tuple'][1]\n",
    "    full_edge_df = pd.DataFrame()\n",
    "    for idx, pt_seq in enumerate(range(pt_seq_start,pt_seq_end)):\n",
    "        if idx == 0:\n",
    "            real_obv = True\n",
    "        else:\n",
    "            real_obv = False\n",
    "        trouble_spot = 1\n",
    "        info_tuple = (month_day_trip_veh,\n",
    "                     trip_hour,\n",
    "                     time_pct,\n",
    "                     trip_dow,\n",
    "                     travel_rate_mph,\n",
    "                      pt_seq,\n",
    "                     real_obv,\n",
    "                     trouble_spot)\n",
    "        edge_for_upload.append(info_tuple)\n",
    "        edge_df = pd.DataFrame(edge_for_upload, columns=col_list)\n",
    "\n",
    "        \n",
    "        if full_edge_df.empty:\n",
    "            full_edge_df = edge_df.copy()\n",
    "        else:\n",
    "            full_edge_df = full_edge_df.append(edge_df)\n",
    "    return full_edge_df"
   ]
  },
  {
   "cell_type": "code",
   "execution_count": 28,
   "metadata": {},
   "outputs": [],
   "source": [
    "def get_segments(new_df_true):\n",
    "    n_pools = multiprocessing.cpu_count() - 1\n",
    "    pool = multiprocessing.Pool(n_pools)\n",
    "    row_list = []\n",
    "    for index, row in new_df_true.iterrows():\n",
    "        row_list.append(row)\n",
    "    full_edge_df = pd.concat(pool.map(get_all_segments_parallel, row_list))\n",
    "    return full_edge_df"
   ]
  },
  {
   "cell_type": "code",
   "execution_count": 29,
   "metadata": {},
   "outputs": [
    {
     "name": "stdout",
     "output_type": "stream",
     "text": [
      "180.6173791885376\n"
     ]
    }
   ],
   "source": [
    "if __name__ == \"__main__\":\n",
    "    start = time.time()\n",
    "    full_edge_df = get_segments(new_df_true)\n",
    "    end = time.time()\n",
    "    print(end - start)"
   ]
  },
  {
   "cell_type": "code",
   "execution_count": 30,
   "metadata": {},
   "outputs": [
    {
     "data": {
      "text/html": [
       "<div>\n",
       "<style scoped>\n",
       "    .dataframe tbody tr th:only-of-type {\n",
       "        vertical-align: middle;\n",
       "    }\n",
       "\n",
       "    .dataframe tbody tr th {\n",
       "        vertical-align: top;\n",
       "    }\n",
       "\n",
       "    .dataframe thead th {\n",
       "        text-align: right;\n",
       "    }\n",
       "</style>\n",
       "<table border=\"1\" class=\"dataframe\">\n",
       "  <thead>\n",
       "    <tr style=\"text-align: right;\">\n",
       "      <th></th>\n",
       "      <th>month_day_trip_veh</th>\n",
       "      <th>trip_hour</th>\n",
       "      <th>time_pct</th>\n",
       "      <th>trip_dow</th>\n",
       "      <th>travel_rate_mph</th>\n",
       "      <th>pt_seq</th>\n",
       "      <th>real_obv</th>\n",
       "      <th>trouble_spot_flag</th>\n",
       "    </tr>\n",
       "  </thead>\n",
       "  <tbody>\n",
       "    <tr>\n",
       "      <th>0</th>\n",
       "      <td>2018_10_10_40955465_6110</td>\n",
       "      <td>17</td>\n",
       "      <td>2018-10-10 17:34:46-07:00</td>\n",
       "      <td>2</td>\n",
       "      <td>9.003704</td>\n",
       "      <td>1</td>\n",
       "      <td>True</td>\n",
       "      <td>1</td>\n",
       "    </tr>\n",
       "    <tr>\n",
       "      <th>0</th>\n",
       "      <td>2018_10_10_40955465_6110</td>\n",
       "      <td>17</td>\n",
       "      <td>2018-10-10 17:34:46-07:00</td>\n",
       "      <td>2</td>\n",
       "      <td>9.003704</td>\n",
       "      <td>1</td>\n",
       "      <td>True</td>\n",
       "      <td>1</td>\n",
       "    </tr>\n",
       "    <tr>\n",
       "      <th>1</th>\n",
       "      <td>2018_10_10_40955465_6110</td>\n",
       "      <td>17</td>\n",
       "      <td>2018-10-10 17:34:46-07:00</td>\n",
       "      <td>2</td>\n",
       "      <td>9.003704</td>\n",
       "      <td>2</td>\n",
       "      <td>False</td>\n",
       "      <td>1</td>\n",
       "    </tr>\n",
       "    <tr>\n",
       "      <th>0</th>\n",
       "      <td>2018_10_10_40955465_6110</td>\n",
       "      <td>17</td>\n",
       "      <td>2018-10-10 17:34:46-07:00</td>\n",
       "      <td>2</td>\n",
       "      <td>9.003704</td>\n",
       "      <td>1</td>\n",
       "      <td>True</td>\n",
       "      <td>1</td>\n",
       "    </tr>\n",
       "    <tr>\n",
       "      <th>1</th>\n",
       "      <td>2018_10_10_40955465_6110</td>\n",
       "      <td>17</td>\n",
       "      <td>2018-10-10 17:34:46-07:00</td>\n",
       "      <td>2</td>\n",
       "      <td>9.003704</td>\n",
       "      <td>2</td>\n",
       "      <td>False</td>\n",
       "      <td>1</td>\n",
       "    </tr>\n",
       "  </tbody>\n",
       "</table>\n",
       "</div>"
      ],
      "text/plain": [
       "         month_day_trip_veh  trip_hour                  time_pct  trip_dow  \\\n",
       "0  2018_10_10_40955465_6110         17 2018-10-10 17:34:46-07:00         2   \n",
       "0  2018_10_10_40955465_6110         17 2018-10-10 17:34:46-07:00         2   \n",
       "1  2018_10_10_40955465_6110         17 2018-10-10 17:34:46-07:00         2   \n",
       "0  2018_10_10_40955465_6110         17 2018-10-10 17:34:46-07:00         2   \n",
       "1  2018_10_10_40955465_6110         17 2018-10-10 17:34:46-07:00         2   \n",
       "\n",
       "   travel_rate_mph  pt_seq  real_obv  trouble_spot_flag  \n",
       "0         9.003704       1      True                  1  \n",
       "0         9.003704       1      True                  1  \n",
       "1         9.003704       2     False                  1  \n",
       "0         9.003704       1      True                  1  \n",
       "1         9.003704       2     False                  1  "
      ]
     },
     "execution_count": 30,
     "metadata": {},
     "output_type": "execute_result"
    }
   ],
   "source": [
    "full_edge_df.head()"
   ]
  },
  {
   "cell_type": "markdown",
   "metadata": {},
   "source": [
    "# export results - need to find an appropriate place / way to store this info"
   ]
  },
  {
   "cell_type": "code",
   "execution_count": 31,
   "metadata": {},
   "outputs": [],
   "source": [
    "full_edge_df.to_csv('route_{}_shape_{}_slowspots_2018-08-15_2018-12-11.csv'.format(\n",
    "                                        input_dict['route_id'], input_dict['shape_id']), index=True)"
   ]
  },
  {
   "cell_type": "code",
   "execution_count": 32,
   "metadata": {},
   "outputs": [
    {
     "data": {
      "text/html": [
       "<div>\n",
       "<style scoped>\n",
       "    .dataframe tbody tr th:only-of-type {\n",
       "        vertical-align: middle;\n",
       "    }\n",
       "\n",
       "    .dataframe tbody tr th {\n",
       "        vertical-align: top;\n",
       "    }\n",
       "\n",
       "    .dataframe thead th {\n",
       "        text-align: right;\n",
       "    }\n",
       "</style>\n",
       "<table border=\"1\" class=\"dataframe\">\n",
       "  <thead>\n",
       "    <tr style=\"text-align: right;\">\n",
       "      <th></th>\n",
       "      <th>shape_id</th>\n",
       "      <th>shape_pt_lat</th>\n",
       "      <th>shape_pt_lon</th>\n",
       "      <th>shape_pt_sequence</th>\n",
       "      <th>shape_dist_traveled</th>\n",
       "      <th>start_gtfs_date</th>\n",
       "      <th>end_gtfs_date</th>\n",
       "      <th>geometry</th>\n",
       "    </tr>\n",
       "  </thead>\n",
       "  <tbody>\n",
       "    <tr>\n",
       "      <th>130945</th>\n",
       "      <td>11675003</td>\n",
       "      <td>47.601677</td>\n",
       "      <td>-122.330170</td>\n",
       "      <td>1</td>\n",
       "      <td>0.0</td>\n",
       "      <td>2018-08-15</td>\n",
       "      <td>2018-09-23</td>\n",
       "      <td>POINT (-122.33017 47.6016769)</td>\n",
       "    </tr>\n",
       "    <tr>\n",
       "      <th>130946</th>\n",
       "      <td>11675003</td>\n",
       "      <td>47.601719</td>\n",
       "      <td>-122.330269</td>\n",
       "      <td>2</td>\n",
       "      <td>30.0</td>\n",
       "      <td>2018-08-15</td>\n",
       "      <td>2018-09-23</td>\n",
       "      <td>POINT (-122.330269 47.6017189)</td>\n",
       "    </tr>\n",
       "    <tr>\n",
       "      <th>130947</th>\n",
       "      <td>11675003</td>\n",
       "      <td>47.601788</td>\n",
       "      <td>-122.330429</td>\n",
       "      <td>3</td>\n",
       "      <td>78.6</td>\n",
       "      <td>2018-08-15</td>\n",
       "      <td>2018-09-23</td>\n",
       "      <td>POINT (-122.330429 47.6017876)</td>\n",
       "    </tr>\n",
       "    <tr>\n",
       "      <th>130948</th>\n",
       "      <td>11675003</td>\n",
       "      <td>47.601826</td>\n",
       "      <td>-122.330513</td>\n",
       "      <td>4</td>\n",
       "      <td>100.4</td>\n",
       "      <td>2018-08-15</td>\n",
       "      <td>2018-09-23</td>\n",
       "      <td>POINT (-122.330513 47.60182570000001)</td>\n",
       "    </tr>\n",
       "    <tr>\n",
       "      <th>130949</th>\n",
       "      <td>11675003</td>\n",
       "      <td>47.601872</td>\n",
       "      <td>-122.330566</td>\n",
       "      <td>5</td>\n",
       "      <td>123.0</td>\n",
       "      <td>2018-08-15</td>\n",
       "      <td>2018-09-23</td>\n",
       "      <td>POINT (-122.330566 47.6018715)</td>\n",
       "    </tr>\n",
       "  </tbody>\n",
       "</table>\n",
       "</div>"
      ],
      "text/plain": [
       "        shape_id  shape_pt_lat  shape_pt_lon  shape_pt_sequence  \\\n",
       "130945  11675003     47.601677   -122.330170                  1   \n",
       "130946  11675003     47.601719   -122.330269                  2   \n",
       "130947  11675003     47.601788   -122.330429                  3   \n",
       "130948  11675003     47.601826   -122.330513                  4   \n",
       "130949  11675003     47.601872   -122.330566                  5   \n",
       "\n",
       "        shape_dist_traveled start_gtfs_date end_gtfs_date  \\\n",
       "130945                  0.0      2018-08-15    2018-09-23   \n",
       "130946                 30.0      2018-08-15    2018-09-23   \n",
       "130947                 78.6      2018-08-15    2018-09-23   \n",
       "130948                100.4      2018-08-15    2018-09-23   \n",
       "130949                123.0      2018-08-15    2018-09-23   \n",
       "\n",
       "                                     geometry  \n",
       "130945          POINT (-122.33017 47.6016769)  \n",
       "130946         POINT (-122.330269 47.6017189)  \n",
       "130947         POINT (-122.330429 47.6017876)  \n",
       "130948  POINT (-122.330513 47.60182570000001)  \n",
       "130949         POINT (-122.330566 47.6018715)  "
      ]
     },
     "execution_count": 32,
     "metadata": {},
     "output_type": "execute_result"
    }
   ],
   "source": [
    "route_shape_vertex.head()"
   ]
  },
  {
   "cell_type": "markdown",
   "metadata": {},
   "source": [
    "# match shape_pt_sequence to stops"
   ]
  },
  {
   "cell_type": "code",
   "execution_count": 33,
   "metadata": {},
   "outputs": [],
   "source": [
    "grouped_trips = full_trip_stop_schedule.groupby(['start_gtfs_date','end_gtfs_date'])\n",
    "day_trips = grouped_trips.get_group(('2018-09-24', '2018-09-24'))\n",
    "shape_trips = day_trips[(day_trips['shape_id']==input_dict['shape_id'])]\n",
    "route_shape_w_names = route_shape_vertex.merge(shape_trips[['stop_sequence','stop_name']], \n",
    "                                               how='left', left_on='shape_pt_sequence',\n",
    "                                              right_on='stop_sequence')"
   ]
  },
  {
   "cell_type": "code",
   "execution_count": 34,
   "metadata": {},
   "outputs": [],
   "source": [
    "route_shape_w_names = route_shape_w_names.drop_duplicates(subset='stop_sequence', keep='first')\\\n",
    "                        .copy()"
   ]
  },
  {
   "cell_type": "code",
   "execution_count": 35,
   "metadata": {},
   "outputs": [],
   "source": [
    "route_shape_w_names = route_shape_w_names[route_shape_w_names.stop_sequence.notnull()].copy()"
   ]
  },
  {
   "cell_type": "code",
   "execution_count": 36,
   "metadata": {},
   "outputs": [],
   "source": [
    "stop_name_dict = pd.Series(data=route_shape_w_names.stop_name.values,\n",
    "          index=route_shape_w_names.shape_pt_sequence.values).to_dict()"
   ]
  },
  {
   "cell_type": "code",
   "execution_count": 37,
   "metadata": {},
   "outputs": [],
   "source": [
    "morning_hours = [7,8,9]\n",
    "afternoon_hours = [15,16,17,18]\n",
    "peak_hours = morning_hours+afternoon_hours\n",
    "all_hours = list(full_edge_df.trip_hour.unique())\n",
    "offpeak_hours = [hours for hours in all_hours if hours not in peak_hours]"
   ]
  },
  {
   "cell_type": "markdown",
   "metadata": {},
   "source": [
    "# all hours"
   ]
  },
  {
   "cell_type": "code",
   "execution_count": 42,
   "metadata": {},
   "outputs": [
    {
     "data": {
      "image/png": "[encoded data removed]",
      "text/plain": [
       "<Figure size 1080x504 with 1 Axes>"
      ]
     },
     "metadata": {},
     "output_type": "display_data"
    }
   ],
   "source": [
    "total_trips = len(full_edge_df.month_day_trip_veh.unique())\n",
    "pivot_sums = full_edge_df.pivot_table(values='trouble_spot_flag', \n",
    "                                      index='month_day_trip_veh', \n",
    "                                      columns='pt_seq')\\\n",
    "                                        .sum(axis=0)/total_trips\n",
    "# GET LABELS\n",
    "###################\n",
    "x_labels = []\n",
    "for idx_num in pivot_sums.index:\n",
    "    if idx_num in stop_name_dict.keys():\n",
    "        idx_num_label = str(stop_name_dict[idx_num])\n",
    "        label_str = idx_num_label[:6]+\" \"+idx_num_label[-10:-2]\n",
    "        x_labels.append(label_str)\n",
    "    else:\n",
    "        x_labels.append(\"\")\n",
    "###################\n",
    "fig, ax = plt.subplots(figsize=(15,7))\n",
    "x_pos = pivot_sums.index\n",
    "bar_h = pivot_sums.values*100\n",
    "#ax.set_xticklabels(x_labels)\n",
    "plt.xticks(x_pos, x_labels, rotation='vertical')\n",
    "ax.bar(x_pos, bar_h)\n",
    "ax.set_ylabel(\"% of total trips slow down occurred\", fontsize=14)\n",
    "ax.set_xlabel(\"Stops Along Route\", fontsize=14)\n",
    "title_str = (\"\"\"{} \\\"{}\\\" All Hours \n",
    "                \\n travel rate < 10 MPH along the route \n",
    "                \\n August to November 2018\"\"\".format(route_desc,\n",
    "                                                    route_name,\n",
    "                                                    trip_sign))\n",
    "_ = ax.set_title(title_str, fontsize=14)"
   ]
  },
  {
   "cell_type": "code",
   "execution_count": 43,
   "metadata": {},
   "outputs": [
    {
     "data": {
      "image/png": "[encoded data removed]",
      "text/plain": [
       "<Figure size 1080x504 with 1 Axes>"
      ]
     },
     "metadata": {},
     "output_type": "display_data"
    }
   ],
   "source": [
    "total_trips = len(full_edge_df[full_edge_df['trip_hour'].isin(peak_hours)]\\\n",
    "                                                          .month_day_trip_veh.unique())\n",
    "pivot_sums = full_edge_df[full_edge_df['trip_hour'].isin(peak_hours)]\\\n",
    "                                                    .pivot_table(values='trouble_spot_flag', \n",
    "                                                                  index='month_day_trip_veh', \n",
    "                                                                  columns='pt_seq')\\\n",
    "                                                    .sum(axis=0)/total_trips\n",
    "fig, ax = plt.subplots(figsize=(15,7))\n",
    "x_pos = pivot_sums.index\n",
    "bar_h = pivot_sums.values*100\n",
    "ax.bar(x_pos, bar_h)\n",
    "plt.xticks(x_pos, x_labels, rotation='vertical')\n",
    "ax.set_ylabel(\"% of total trips slow down occurred\", fontsize=14)\n",
    "ax.set_xlabel(\"Stops Along Route\", fontsize=14)\n",
    "title_str = (\"\"\"{} \\\"{}\\\" Peak Hours \n",
    "                \\n travel rate < 10 MPH along the route \n",
    "                \\n August to November 2018\"\"\".format(route_desc,\n",
    "                                                    route_name,\n",
    "                                                    trip_sign))\n",
    "_ = ax.set_title(title_str, fontsize=14)"
   ]
  },
  {
   "cell_type": "code",
   "execution_count": 44,
   "metadata": {},
   "outputs": [
    {
     "data": {
      "image/png": "[encoded data removed]",
      "text/plain": [
       "<Figure size 1080x504 with 1 Axes>"
      ]
     },
     "metadata": {},
     "output_type": "display_data"
    }
   ],
   "source": [
    "total_trips = len(full_edge_df[full_edge_df['trip_hour'].isin(offpeak_hours)]\\\n",
    "                                                          .month_day_trip_veh.unique())\n",
    "pivot_sums = full_edge_df[full_edge_df['trip_hour'].isin(offpeak_hours)]\\\n",
    "                                                    .pivot_table(values='trouble_spot_flag', \n",
    "                                                                 index='month_day_trip_veh', \n",
    "                                                                 columns='pt_seq')\\\n",
    "                                                    .sum(axis=0)/total_trips\n",
    "fig, ax = plt.subplots(figsize=(15,7))\n",
    "x_pos = pivot_sums.index\n",
    "bar_h = pivot_sums.values*100\n",
    "ax.bar(x_pos, bar_h)\n",
    "plt.xticks(x_pos, x_labels, rotation='vertical')\n",
    "ax.set_ylabel(\"% of total trips slow down occurred\", fontsize=14)\n",
    "ax.set_xlabel(\"Stops Along Route\", fontsize=14)\n",
    "title_str = (\"\"\"{} \\\"{}\\\" Off-Peak Hours \n",
    "                \\n travel rate < 10 MPH along the route \n",
    "                \\n August to November 2018\"\"\".format(route_desc,\n",
    "                                                    route_name,\n",
    "                                                    trip_sign))\n",
    "_ = ax.set_title(title_str, fontsize=14)"
   ]
  },
  {
   "cell_type": "code",
   "execution_count": 48,
   "metadata": {},
   "outputs": [],
   "source": [
    "full_edge_counts = full_edge_df.groupby('pt_seq').agg({'trouble_spot_flag':'sum'})\\\n",
    "    .reset_index()"
   ]
  },
  {
   "cell_type": "code",
   "execution_count": 49,
   "metadata": {},
   "outputs": [],
   "source": [
    "route_with_counts = route_shape_vertex.merge(full_edge_counts, how='left', left_on='shape_pt_sequence', right_on='pt_seq')"
   ]
  },
  {
   "cell_type": "code",
   "execution_count": 50,
   "metadata": {},
   "outputs": [],
   "source": [
    "route_with_counts.dropna(axis=0,how='any',subset=['trouble_spot_flag'], inplace=True)"
   ]
  },
  {
   "cell_type": "markdown",
   "metadata": {},
   "source": [
    "# this leaflet widget does not always work for me"
   ]
  },
  {
   "cell_type": "code",
   "execution_count": 73,
   "metadata": {},
   "outputs": [
    {
     "data": {
      "text/plain": [
       "<matplotlib.axes._subplots.AxesSubplot at 0x1281ac940>"
      ]
     },
     "execution_count": 73,
     "metadata": {},
     "output_type": "execute_result"
    },
    {
     "data": {
      "image/png": "[encoded data removed]",
      "text/plain": [
       "<Figure size 360x360 with 1 Axes>"
      ]
     },
     "metadata": {},
     "output_type": "display_data"
    }
   ],
   "source": [
    "fig, ax = plt.subplots(figsize=(5,5))\n",
    "route_with_counts.plot(ax=ax, column='trouble_spot_flag', \n",
    "                    cmap='YlOrRd',\n",
    "                   markersize=route_with_counts['trouble_spot_flag'].values/200)"
   ]
  },
  {
   "cell_type": "code",
   "execution_count": 74,
   "metadata": {},
   "outputs": [],
   "source": [
    "mplleaflet.show(fig=ax.figure,crs=route_with_counts.crs)"
   ]
  },
  {
   "cell_type": "markdown",
   "metadata": {},
   "source": [
    "# save to geojson and view in QGIS or Tableau/PowerBI"
   ]
  },
  {
   "cell_type": "code",
   "execution_count": 66,
   "metadata": {},
   "outputs": [],
   "source": [
    "route_with_counts_json = route_with_counts.to_json()\n",
    "file_name = \"route_{}_{}_{}_bad_speed_count.geojson\".format(input_dict['route_id'],\n",
    "                                                         input_dict['shape_id'], \n",
    "                                                         trip_sign)\n",
    "with open(file_name, \"w\") as f:\n",
    "    f.write(route_with_counts_json)"
   ]
  },
  {
   "cell_type": "code",
   "execution_count": null,
   "metadata": {},
   "outputs": [],
   "source": []
  }
 ],
 "metadata": {
  "kernelspec": {
   "display_name": "Python 3",
   "language": "python",
   "name": "python3"
  },
  "language_info": {
   "codemirror_mode": {
    "name": "ipython",
    "version": 3
   },
   "file_extension": ".py",
   "mimetype": "text/x-python",
   "name": "python",
   "nbconvert_exporter": "python",
   "pygments_lexer": "ipython3",
   "version": "3.6.4"
  }
 },
 "nbformat": 4,
 "nbformat_minor": 2
}
