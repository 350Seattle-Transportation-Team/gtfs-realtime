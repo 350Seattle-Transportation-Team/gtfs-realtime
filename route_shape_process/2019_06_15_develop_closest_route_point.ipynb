{
 "cells": [
  {
   "cell_type": "markdown",
   "metadata": {},
   "source": [
    "# Continue writing functions to find the closest point on a route to our actual data point\n",
    "\n",
    "Started by Nathaniel on Saturday, June 15, 2019"
   ]
  },
  {
   "cell_type": "code",
   "execution_count": 1,
   "metadata": {},
   "outputs": [
    {
     "name": "stdout",
     "output_type": "stream",
     "text": [
      "Sat Jun 15 21:52:16 PDT 2019\n",
      "ndbs\n"
     ]
    }
   ],
   "source": [
    "%load_ext autoreload\n",
    "%autoreload 2\n",
    "\n",
    "!date\n",
    "!whoami\n",
    "\n",
    "import numpy as np\n",
    "import pandas as pd"
   ]
  },
  {
   "cell_type": "markdown",
   "metadata": {},
   "source": [
    "## Import my closest point module and read in a GTFS `shapes.txt` file"
   ]
  },
  {
   "cell_type": "code",
   "execution_count": 3,
   "metadata": {},
   "outputs": [],
   "source": [
    "import find_closest_route_point as f"
   ]
  },
  {
   "cell_type": "code",
   "execution_count": 4,
   "metadata": {},
   "outputs": [
    {
     "name": "stdout",
     "output_type": "stream",
     "text": [
      "\u001b[31magency.txt\u001b[m\u001b[m          \u001b[31mcalendar.txt\u001b[m\u001b[m        \u001b[31mfare_rules.txt\u001b[m\u001b[m      \u001b[31mstop_times.txt\u001b[m\u001b[m\r\n",
      "\u001b[31mblock.txt\u001b[m\u001b[m           \u001b[31mcalendar_dates.txt\u001b[m\u001b[m  \u001b[31mroutes.txt\u001b[m\u001b[m          \u001b[31mstops.txt\u001b[m\u001b[m\r\n",
      "\u001b[31mblock_trip.txt\u001b[m\u001b[m      \u001b[31mfare_attributes.txt\u001b[m\u001b[m \u001b[31mshapes.txt\u001b[m\u001b[m          \u001b[31mtrips.txt\u001b[m\u001b[m\r\n"
     ]
    }
   ],
   "source": [
    "!ls ../data/source/gtfs_20180815/"
   ]
  },
  {
   "cell_type": "code",
   "execution_count": 5,
   "metadata": {},
   "outputs": [
    {
     "data": {
      "text/html": [
       "<div>\n",
       "<style scoped>\n",
       "    .dataframe tbody tr th:only-of-type {\n",
       "        vertical-align: middle;\n",
       "    }\n",
       "\n",
       "    .dataframe tbody tr th {\n",
       "        vertical-align: top;\n",
       "    }\n",
       "\n",
       "    .dataframe thead th {\n",
       "        text-align: right;\n",
       "    }\n",
       "</style>\n",
       "<table border=\"1\" class=\"dataframe\">\n",
       "  <thead>\n",
       "    <tr style=\"text-align: right;\">\n",
       "      <th></th>\n",
       "      <th>shape_id</th>\n",
       "      <th>shape_pt_lat</th>\n",
       "      <th>shape_pt_lon</th>\n",
       "      <th>shape_pt_sequence</th>\n",
       "      <th>shape_dist_traveled</th>\n",
       "    </tr>\n",
       "  </thead>\n",
       "  <tbody>\n",
       "    <tr>\n",
       "      <th>0</th>\n",
       "      <td>10002011</td>\n",
       "      <td>47.612137</td>\n",
       "      <td>-122.281769</td>\n",
       "      <td>1</td>\n",
       "      <td>0.0</td>\n",
       "    </tr>\n",
       "    <tr>\n",
       "      <th>1</th>\n",
       "      <td>10002011</td>\n",
       "      <td>47.612144</td>\n",
       "      <td>-122.281784</td>\n",
       "      <td>2</td>\n",
       "      <td>5.8</td>\n",
       "    </tr>\n",
       "    <tr>\n",
       "      <th>2</th>\n",
       "      <td>10002011</td>\n",
       "      <td>47.612148</td>\n",
       "      <td>-122.281830</td>\n",
       "      <td>3</td>\n",
       "      <td>13.5</td>\n",
       "    </tr>\n",
       "    <tr>\n",
       "      <th>3</th>\n",
       "      <td>10002011</td>\n",
       "      <td>47.612141</td>\n",
       "      <td>-122.281853</td>\n",
       "      <td>4</td>\n",
       "      <td>22.0</td>\n",
       "    </tr>\n",
       "    <tr>\n",
       "      <th>4</th>\n",
       "      <td>10002011</td>\n",
       "      <td>47.612102</td>\n",
       "      <td>-122.281921</td>\n",
       "      <td>5</td>\n",
       "      <td>45.0</td>\n",
       "    </tr>\n",
       "  </tbody>\n",
       "</table>\n",
       "</div>"
      ],
      "text/plain": [
       "   shape_id  shape_pt_lat  shape_pt_lon  shape_pt_sequence  \\\n",
       "0  10002011     47.612137   -122.281769                  1   \n",
       "1  10002011     47.612144   -122.281784                  2   \n",
       "2  10002011     47.612148   -122.281830                  3   \n",
       "3  10002011     47.612141   -122.281853                  4   \n",
       "4  10002011     47.612102   -122.281921                  5   \n",
       "\n",
       "   shape_dist_traveled  \n",
       "0                  0.0  \n",
       "1                  5.8  \n",
       "2                 13.5  \n",
       "3                 22.0  \n",
       "4                 45.0  "
      ]
     },
     "execution_count": 5,
     "metadata": {},
     "output_type": "execute_result"
    }
   ],
   "source": [
    "shapes_df = pd.read_csv('../data/source/gtfs_20180815/shapes.txt')\n",
    "shapes_df.head()"
   ]
  },
  {
   "cell_type": "markdown",
   "metadata": {},
   "source": [
    "# Testing, testing..."
   ]
  },
  {
   "cell_type": "code",
   "execution_count": 7,
   "metadata": {},
   "outputs": [
    {
     "data": {
      "text/plain": [
       "[(2, 0), (3, 1), (4, 2)]"
      ]
     },
     "execution_count": 7,
     "metadata": {},
     "output_type": "execute_result"
    }
   ],
   "source": [
    "def get_two_things(x):\n",
    "    return x+1, x-1\n",
    "\n",
    "a = [1,2,3]\n",
    "b = [get_two_things(x) for x in a]\n",
    "b"
   ]
  },
  {
   "cell_type": "code",
   "execution_count": 8,
   "metadata": {},
   "outputs": [
    {
     "data": {
      "text/plain": [
       "-3"
      ]
     },
     "execution_count": 8,
     "metadata": {},
     "output_type": "execute_result"
    }
   ],
   "source": [
    "c = 3\n",
    "c = -c\n",
    "c"
   ]
  },
  {
   "cell_type": "code",
   "execution_count": null,
   "metadata": {},
   "outputs": [],
   "source": []
  }
 ],
 "metadata": {
  "kernelspec": {
   "display_name": "realtime-buses",
   "language": "python",
   "name": "realtime-buses"
  },
  "language_info": {
   "codemirror_mode": {
    "name": "ipython",
    "version": 3
   },
   "file_extension": ".py",
   "mimetype": "text/x-python",
   "name": "python",
   "nbconvert_exporter": "python",
   "pygments_lexer": "ipython3",
   "version": "3.6.8"
  }
 },
 "nbformat": 4,
 "nbformat_minor": 2
}
