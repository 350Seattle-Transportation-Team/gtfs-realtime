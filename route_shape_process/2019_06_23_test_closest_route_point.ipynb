{
 "cells": [
  {
   "cell_type": "code",
   "execution_count": 1,
   "metadata": {},
   "outputs": [
    {
     "name": "stdout",
     "output_type": "stream",
     "text": [
      "Sun Jun 23 16:48:45 PDT 2019\n",
      "ndbs\n"
     ]
    }
   ],
   "source": [
    "%load_ext autoreload\n",
    "%autoreload 2\n",
    "\n",
    "!date\n",
    "!whoami\n",
    "\n",
    "import numpy as np\n",
    "import pandas as pd\n",
    "import matplotlib.pyplot as plt"
   ]
  },
  {
   "cell_type": "markdown",
   "metadata": {},
   "source": [
    "# Start testing the projection function on real data"
   ]
  },
  {
   "cell_type": "code",
   "execution_count": 2,
   "metadata": {},
   "outputs": [],
   "source": [
    "import find_closest_route_point as f"
   ]
  },
  {
   "cell_type": "markdown",
   "metadata": {},
   "source": [
    "## Open data file for route 7 with closest shape points already found"
   ]
  },
  {
   "cell_type": "code",
   "execution_count": 5,
   "metadata": {},
   "outputs": [
    {
     "name": "stdout",
     "output_type": "stream",
     "text": [
      "route_7_DowntownSeattleViaRainierAveS_shape_10007006_node_trips_w_nearest_2018-08-15_2018-12-11.csv\r\n"
     ]
    }
   ],
   "source": [
    "!ls ../data/transformed/"
   ]
  },
  {
   "cell_type": "code",
   "execution_count": 6,
   "metadata": {},
   "outputs": [
    {
     "data": {
      "text/html": [
       "<div>\n",
       "<style scoped>\n",
       "    .dataframe tbody tr th:only-of-type {\n",
       "        vertical-align: middle;\n",
       "    }\n",
       "\n",
       "    .dataframe tbody tr th {\n",
       "        vertical-align: top;\n",
       "    }\n",
       "\n",
       "    .dataframe thead th {\n",
       "        text-align: right;\n",
       "    }\n",
       "</style>\n",
       "<table border=\"1\" class=\"dataframe\">\n",
       "  <thead>\n",
       "    <tr style=\"text-align: right;\">\n",
       "      <th></th>\n",
       "      <th>route_id</th>\n",
       "      <th>timestamp</th>\n",
       "      <th>trip_id</th>\n",
       "      <th>vehicle_id</th>\n",
       "      <th>vehicle_lat</th>\n",
       "      <th>vehicle_long</th>\n",
       "      <th>time_utc</th>\n",
       "      <th>time_pct</th>\n",
       "      <th>day</th>\n",
       "      <th>year</th>\n",
       "      <th>...</th>\n",
       "      <th>stop_name</th>\n",
       "      <th>stop_lat</th>\n",
       "      <th>stop_lon</th>\n",
       "      <th>trip_headsign</th>\n",
       "      <th>route_short_name</th>\n",
       "      <th>route_desc</th>\n",
       "      <th>trip_start_time</th>\n",
       "      <th>actual_time_from_scheduled_start</th>\n",
       "      <th>scheduled_time_from_scheduled_start</th>\n",
       "      <th>distance_btw_veh_and_shape</th>\n",
       "    </tr>\n",
       "    <tr>\n",
       "      <th>index</th>\n",
       "      <th></th>\n",
       "      <th></th>\n",
       "      <th></th>\n",
       "      <th></th>\n",
       "      <th></th>\n",
       "      <th></th>\n",
       "      <th></th>\n",
       "      <th></th>\n",
       "      <th></th>\n",
       "      <th></th>\n",
       "      <th></th>\n",
       "      <th></th>\n",
       "      <th></th>\n",
       "      <th></th>\n",
       "      <th></th>\n",
       "      <th></th>\n",
       "      <th></th>\n",
       "      <th></th>\n",
       "      <th></th>\n",
       "      <th></th>\n",
       "      <th></th>\n",
       "    </tr>\n",
       "  </thead>\n",
       "  <tbody>\n",
       "    <tr>\n",
       "      <th>0</th>\n",
       "      <td>100263</td>\n",
       "      <td>1535759730</td>\n",
       "      <td>39478305</td>\n",
       "      <td>4534</td>\n",
       "      <td>47.523304</td>\n",
       "      <td>-122.268219</td>\n",
       "      <td>2018-08-31 23:55:30</td>\n",
       "      <td>2018-08-31 16:55:30-07:00</td>\n",
       "      <td>31</td>\n",
       "      <td>2018</td>\n",
       "      <td>...</td>\n",
       "      <td>S Henderson St &amp; Rainier Ave S</td>\n",
       "      <td>47.523235</td>\n",
       "      <td>-122.268219</td>\n",
       "      <td>Downtown Seattle Via Rainier Ave S</td>\n",
       "      <td>7.0</td>\n",
       "      <td>Prentice St - Rainier Beach - Downtown Seattle</td>\n",
       "      <td>2019-06-16 17:03:00</td>\n",
       "      <td>-7.500000</td>\n",
       "      <td>0.000000</td>\n",
       "      <td>0.001661</td>\n",
       "    </tr>\n",
       "    <tr>\n",
       "      <th>1</th>\n",
       "      <td>100263</td>\n",
       "      <td>1535759926</td>\n",
       "      <td>39478060</td>\n",
       "      <td>4520</td>\n",
       "      <td>47.529758</td>\n",
       "      <td>-122.269997</td>\n",
       "      <td>2018-08-31 23:58:46</td>\n",
       "      <td>2018-08-31 16:58:46-07:00</td>\n",
       "      <td>31</td>\n",
       "      <td>2018</td>\n",
       "      <td>...</td>\n",
       "      <td>Rainier Ave S &amp; S Rose St</td>\n",
       "      <td>47.529728</td>\n",
       "      <td>-122.269897</td>\n",
       "      <td>Downtown Seattle Via Rainier Ave S</td>\n",
       "      <td>7.0</td>\n",
       "      <td>Prentice St - Rainier Beach - Downtown Seattle</td>\n",
       "      <td>2019-06-16 16:52:00</td>\n",
       "      <td>6.766667</td>\n",
       "      <td>7.000000</td>\n",
       "      <td>4.665079</td>\n",
       "    </tr>\n",
       "    <tr>\n",
       "      <th>2</th>\n",
       "      <td>100263</td>\n",
       "      <td>1535759927</td>\n",
       "      <td>39478068</td>\n",
       "      <td>4521</td>\n",
       "      <td>47.575783</td>\n",
       "      <td>-122.296181</td>\n",
       "      <td>2018-08-31 23:58:47</td>\n",
       "      <td>2018-08-31 16:58:47-07:00</td>\n",
       "      <td>31</td>\n",
       "      <td>2018</td>\n",
       "      <td>...</td>\n",
       "      <td>Rainier Ave S &amp; S Mount Baker Blvd</td>\n",
       "      <td>47.575809</td>\n",
       "      <td>-122.296089</td>\n",
       "      <td>Downtown Seattle Via Rainier Ave S</td>\n",
       "      <td>7.0</td>\n",
       "      <td>Prentice St - Rainier Beach - Downtown Seattle</td>\n",
       "      <td>2019-06-16 16:33:00</td>\n",
       "      <td>25.783333</td>\n",
       "      <td>23.083333</td>\n",
       "      <td>1.031650</td>\n",
       "    </tr>\n",
       "    <tr>\n",
       "      <th>4</th>\n",
       "      <td>100263</td>\n",
       "      <td>1535759941</td>\n",
       "      <td>39478293</td>\n",
       "      <td>4531</td>\n",
       "      <td>47.549232</td>\n",
       "      <td>-122.277054</td>\n",
       "      <td>2018-08-31 23:59:01</td>\n",
       "      <td>2018-08-31 16:59:01-07:00</td>\n",
       "      <td>31</td>\n",
       "      <td>2018</td>\n",
       "      <td>...</td>\n",
       "      <td>Rainier Ave S &amp; S Kenny St</td>\n",
       "      <td>47.549225</td>\n",
       "      <td>-122.276947</td>\n",
       "      <td>Downtown Seattle Via Rainier Ave S</td>\n",
       "      <td>7.0</td>\n",
       "      <td>Prentice St - Rainier Beach - Downtown Seattle</td>\n",
       "      <td>2019-06-16 16:42:00</td>\n",
       "      <td>17.016667</td>\n",
       "      <td>11.950000</td>\n",
       "      <td>1.782479</td>\n",
       "    </tr>\n",
       "    <tr>\n",
       "      <th>5</th>\n",
       "      <td>100263</td>\n",
       "      <td>1535759958</td>\n",
       "      <td>39478267</td>\n",
       "      <td>4536</td>\n",
       "      <td>47.581169</td>\n",
       "      <td>-122.300301</td>\n",
       "      <td>2018-08-31 23:59:18</td>\n",
       "      <td>2018-08-31 16:59:18-07:00</td>\n",
       "      <td>31</td>\n",
       "      <td>2018</td>\n",
       "      <td>...</td>\n",
       "      <td>Rainier Ave S &amp; S Bayview St</td>\n",
       "      <td>47.581196</td>\n",
       "      <td>-122.300201</td>\n",
       "      <td>Downtown Seattle Via Rainier Ave S</td>\n",
       "      <td>7.0</td>\n",
       "      <td>Prentice St - Rainier Beach - Downtown Seattle</td>\n",
       "      <td>2019-06-16 16:27:00</td>\n",
       "      <td>32.300000</td>\n",
       "      <td>25.683333</td>\n",
       "      <td>1.392724</td>\n",
       "    </tr>\n",
       "  </tbody>\n",
       "</table>\n",
       "<p>5 rows × 34 columns</p>\n",
       "</div>"
      ],
      "text/plain": [
       "       route_id   timestamp   trip_id  vehicle_id  vehicle_lat  vehicle_long  \\\n",
       "index                                                                          \n",
       "0        100263  1535759730  39478305        4534    47.523304   -122.268219   \n",
       "1        100263  1535759926  39478060        4520    47.529758   -122.269997   \n",
       "2        100263  1535759927  39478068        4521    47.575783   -122.296181   \n",
       "4        100263  1535759941  39478293        4531    47.549232   -122.277054   \n",
       "5        100263  1535759958  39478267        4536    47.581169   -122.300301   \n",
       "\n",
       "                  time_utc                   time_pct  day  year  \\\n",
       "index                                                              \n",
       "0      2018-08-31 23:55:30  2018-08-31 16:55:30-07:00   31  2018   \n",
       "1      2018-08-31 23:58:46  2018-08-31 16:58:46-07:00   31  2018   \n",
       "2      2018-08-31 23:58:47  2018-08-31 16:58:47-07:00   31  2018   \n",
       "4      2018-08-31 23:59:01  2018-08-31 16:59:01-07:00   31  2018   \n",
       "5      2018-08-31 23:59:18  2018-08-31 16:59:18-07:00   31  2018   \n",
       "\n",
       "                  ...                                       stop_name  \\\n",
       "index             ...                                                   \n",
       "0                 ...                  S Henderson St & Rainier Ave S   \n",
       "1                 ...                       Rainier Ave S & S Rose St   \n",
       "2                 ...              Rainier Ave S & S Mount Baker Blvd   \n",
       "4                 ...                      Rainier Ave S & S Kenny St   \n",
       "5                 ...                    Rainier Ave S & S Bayview St   \n",
       "\n",
       "        stop_lat    stop_lon                       trip_headsign  \\\n",
       "index                                                              \n",
       "0      47.523235 -122.268219  Downtown Seattle Via Rainier Ave S   \n",
       "1      47.529728 -122.269897  Downtown Seattle Via Rainier Ave S   \n",
       "2      47.575809 -122.296089  Downtown Seattle Via Rainier Ave S   \n",
       "4      47.549225 -122.276947  Downtown Seattle Via Rainier Ave S   \n",
       "5      47.581196 -122.300201  Downtown Seattle Via Rainier Ave S   \n",
       "\n",
       "       route_short_name                                      route_desc  \\\n",
       "index                                                                     \n",
       "0                   7.0  Prentice St - Rainier Beach - Downtown Seattle   \n",
       "1                   7.0  Prentice St - Rainier Beach - Downtown Seattle   \n",
       "2                   7.0  Prentice St - Rainier Beach - Downtown Seattle   \n",
       "4                   7.0  Prentice St - Rainier Beach - Downtown Seattle   \n",
       "5                   7.0  Prentice St - Rainier Beach - Downtown Seattle   \n",
       "\n",
       "           trip_start_time  actual_time_from_scheduled_start  \\\n",
       "index                                                          \n",
       "0      2019-06-16 17:03:00                         -7.500000   \n",
       "1      2019-06-16 16:52:00                          6.766667   \n",
       "2      2019-06-16 16:33:00                         25.783333   \n",
       "4      2019-06-16 16:42:00                         17.016667   \n",
       "5      2019-06-16 16:27:00                         32.300000   \n",
       "\n",
       "       scheduled_time_from_scheduled_start  distance_btw_veh_and_shape  \n",
       "index                                                                   \n",
       "0                                 0.000000                    0.001661  \n",
       "1                                 7.000000                    4.665079  \n",
       "2                                23.083333                    1.031650  \n",
       "4                                11.950000                    1.782479  \n",
       "5                                25.683333                    1.392724  \n",
       "\n",
       "[5 rows x 34 columns]"
      ]
     },
     "execution_count": 6,
     "metadata": {},
     "output_type": "execute_result"
    }
   ],
   "source": [
    "df = pd.read_csv('../data/transformed/route_7_DowntownSeattleViaRainierAveS_shape_10007006_node_trips_w_nearest_2018-08-15_2018-12-11.csv',\n",
    "                index_col='index')\n",
    "df.head()"
   ]
  },
  {
   "cell_type": "code",
   "execution_count": 7,
   "metadata": {},
   "outputs": [
    {
     "data": {
      "text/plain": [
       "route_id                                                                       100263\n",
       "timestamp                                                                  1535759730\n",
       "trip_id                                                                      39478305\n",
       "vehicle_id                                                                       4534\n",
       "vehicle_lat                                                                   47.5233\n",
       "vehicle_long                                                                 -122.268\n",
       "time_utc                                                          2018-08-31 23:55:30\n",
       "time_pct                                                    2018-08-31 16:55:30-07:00\n",
       "day                                                                                31\n",
       "year                                                                             2018\n",
       "month                                                                               8\n",
       "hour                                                                               16\n",
       "dow                                                                                 4\n",
       "direction_id                                                                        1\n",
       "shape_id                                                                     10007006\n",
       "month_day_trip_veh                                            2018_8_31_39478305_4534\n",
       "shape_pt_sequence                                                                   1\n",
       "shape_dist_traveled                                                                 0\n",
       "shape_pt_lat                                                                  47.5233\n",
       "shape_pt_lon                                                                 -122.268\n",
       "arrival_time                                                      2019-06-16 17:03:00\n",
       "departure_time                                                               17:03:00\n",
       "stop_id                                                                         31137\n",
       "stop_sequence                                                                       1\n",
       "stop_name                                              S Henderson St & Rainier Ave S\n",
       "stop_lat                                                                      47.5232\n",
       "stop_lon                                                                     -122.268\n",
       "trip_headsign                                      Downtown Seattle Via Rainier Ave S\n",
       "route_short_name                                                                    7\n",
       "route_desc                             Prentice St - Rainier Beach - Downtown Seattle\n",
       "trip_start_time                                                   2019-06-16 17:03:00\n",
       "actual_time_from_scheduled_start                                                 -7.5\n",
       "scheduled_time_from_scheduled_start                                                 0\n",
       "distance_btw_veh_and_shape                                                 0.00166102\n",
       "Name: 0, dtype: object"
      ]
     },
     "execution_count": 7,
     "metadata": {},
     "output_type": "execute_result"
    }
   ],
   "source": [
    "df.loc[0]"
   ]
  },
  {
   "cell_type": "markdown",
   "metadata": {},
   "source": [
    "## Sort values to compare points on the same trip"
   ]
  },
  {
   "cell_type": "code",
   "execution_count": 8,
   "metadata": {},
   "outputs": [
    {
     "data": {
      "text/plain": [
       "route_id                                                                       100263\n",
       "timestamp                                                                  1539218695\n",
       "trip_id                                                                      40984830\n",
       "vehicle_id                                                                       4527\n",
       "vehicle_lat                                                                   47.5216\n",
       "vehicle_long                                                                 -122.264\n",
       "time_utc                                                          2018-10-11 00:44:55\n",
       "time_pct                                                    2018-10-10 17:44:55-07:00\n",
       "day                                                                                10\n",
       "year                                                                             2018\n",
       "month                                                                              10\n",
       "hour                                                                               17\n",
       "dow                                                                                 2\n",
       "direction_id                                                                        1\n",
       "shape_id                                                                     10007006\n",
       "month_day_trip_veh                                           2018_10_10_40984830_4527\n",
       "shape_pt_sequence                                                                  10\n",
       "shape_dist_traveled                                                            1506.9\n",
       "shape_pt_lat                                                                  47.5217\n",
       "shape_pt_lon                                                                 -122.264\n",
       "arrival_time                                                      2019-06-16 17:39:14\n",
       "departure_time                                                               17:39:14\n",
       "stop_id                                                                         30122\n",
       "stop_sequence                                                                      10\n",
       "stop_name                                             Seward Park Ave S & S Fisher Pl\n",
       "stop_lat                                                                      47.5216\n",
       "stop_lon                                                                     -122.264\n",
       "trip_headsign                                      Downtown Seattle Via Rainier Ave S\n",
       "route_short_name                                                                    7\n",
       "route_desc                             Prentice St - Rainier Beach - Downtown Seattle\n",
       "trip_start_time                                                   2019-06-16 17:38:00\n",
       "actual_time_from_scheduled_start                                              6.91667\n",
       "scheduled_time_from_scheduled_start                                           1.23333\n",
       "distance_btw_veh_and_shape                                                    2.42702\n",
       "Name: 106159, dtype: object"
      ]
     },
     "execution_count": 8,
     "metadata": {},
     "output_type": "execute_result"
    }
   ],
   "source": [
    "df.sort_values(['month_day_trip_veh', 'shape_pt_sequence']).iloc[1]"
   ]
  },
  {
   "cell_type": "code",
   "execution_count": 9,
   "metadata": {},
   "outputs": [
    {
     "data": {
      "text/plain": [
       "route_id                                                  100263\n",
       "timestamp                                             1539218662\n",
       "trip_id                                                 40984830\n",
       "vehicle_id                                                  4527\n",
       "vehicle_lat                                              47.5198\n",
       "vehicle_long                                            -122.266\n",
       "time_utc                                     2018-10-11 00:44:22\n",
       "time_pct                               2018-10-10 17:44:22-07:00\n",
       "day                                                           10\n",
       "year                                                        2018\n",
       "month                                                         10\n",
       "hour                                                          17\n",
       "dow                                                            2\n",
       "direction_id                                                   1\n",
       "shape_id                                                10007006\n",
       "month_day_trip_veh                      2018_10_10_40984830_4527\n",
       "shape_pt_sequence                                             23\n",
       "shape_dist_traveled                                       3043.1\n",
       "shape_pt_lat                                             47.5198\n",
       "shape_pt_lon                                            -122.266\n",
       "arrival_time                                                 NaN\n",
       "departure_time                                               NaN\n",
       "stop_id                                                      NaN\n",
       "stop_sequence                                                NaN\n",
       "stop_name                                                    NaN\n",
       "stop_lat                                                     NaN\n",
       "stop_lon                                                     NaN\n",
       "trip_headsign                                                NaN\n",
       "route_short_name                                             NaN\n",
       "route_desc                                                   NaN\n",
       "trip_start_time                              2019-06-16 17:38:00\n",
       "actual_time_from_scheduled_start                         6.36667\n",
       "scheduled_time_from_scheduled_start                          NaN\n",
       "distance_btw_veh_and_shape                               10.8812\n",
       "Name: 106152, dtype: object"
      ]
     },
     "execution_count": 9,
     "metadata": {},
     "output_type": "execute_result"
    }
   ],
   "source": [
    "df.sort_values(['month_day_trip_veh', 'shape_pt_sequence']).iloc[2]"
   ]
  },
  {
   "cell_type": "markdown",
   "metadata": {},
   "source": [
    "## Load shapes data"
   ]
  },
  {
   "cell_type": "code",
   "execution_count": 11,
   "metadata": {},
   "outputs": [
    {
     "name": "stdout",
     "output_type": "stream",
     "text": [
      "\u001b[31magency.txt\u001b[m\u001b[m          \u001b[31mcalendar.txt\u001b[m\u001b[m        \u001b[31mfare_rules.txt\u001b[m\u001b[m      \u001b[31mstop_times.txt\u001b[m\u001b[m\r\n",
      "\u001b[31mblock.txt\u001b[m\u001b[m           \u001b[31mcalendar_dates.txt\u001b[m\u001b[m  \u001b[31mroutes.txt\u001b[m\u001b[m          \u001b[31mstops.txt\u001b[m\u001b[m\r\n",
      "\u001b[31mblock_trip.txt\u001b[m\u001b[m      \u001b[31mfare_attributes.txt\u001b[m\u001b[m \u001b[31mshapes.txt\u001b[m\u001b[m          \u001b[31mtrips.txt\u001b[m\u001b[m\r\n"
     ]
    }
   ],
   "source": [
    "!ls ../data/source/gtfs_20180815"
   ]
  },
  {
   "cell_type": "code",
   "execution_count": 12,
   "metadata": {},
   "outputs": [],
   "source": [
    "shapes_df = pd.read_csv('../data/source/gtfs_20180815/shapes.txt')"
   ]
  },
  {
   "cell_type": "code",
   "execution_count": 109,
   "metadata": {},
   "outputs": [
    {
     "data": {
      "text/html": [
       "<div>\n",
       "<style scoped>\n",
       "    .dataframe tbody tr th:only-of-type {\n",
       "        vertical-align: middle;\n",
       "    }\n",
       "\n",
       "    .dataframe tbody tr th {\n",
       "        vertical-align: top;\n",
       "    }\n",
       "\n",
       "    .dataframe thead th {\n",
       "        text-align: right;\n",
       "    }\n",
       "</style>\n",
       "<table border=\"1\" class=\"dataframe\">\n",
       "  <thead>\n",
       "    <tr style=\"text-align: right;\">\n",
       "      <th></th>\n",
       "      <th>shape_id</th>\n",
       "      <th>shape_pt_lat</th>\n",
       "      <th>shape_pt_lon</th>\n",
       "      <th>shape_pt_sequence</th>\n",
       "      <th>shape_dist_traveled</th>\n",
       "    </tr>\n",
       "  </thead>\n",
       "  <tbody>\n",
       "    <tr>\n",
       "      <th>373890</th>\n",
       "      <td>41982011</td>\n",
       "      <td>47.673229</td>\n",
       "      <td>-122.101021</td>\n",
       "      <td>607</td>\n",
       "      <td>131283.5</td>\n",
       "    </tr>\n",
       "    <tr>\n",
       "      <th>373891</th>\n",
       "      <td>41982011</td>\n",
       "      <td>47.673279</td>\n",
       "      <td>-122.100990</td>\n",
       "      <td>608</td>\n",
       "      <td>131302.5</td>\n",
       "    </tr>\n",
       "    <tr>\n",
       "      <th>373892</th>\n",
       "      <td>41982011</td>\n",
       "      <td>47.673351</td>\n",
       "      <td>-122.100990</td>\n",
       "      <td>609</td>\n",
       "      <td>131328.0</td>\n",
       "    </tr>\n",
       "    <tr>\n",
       "      <th>373893</th>\n",
       "      <td>41982011</td>\n",
       "      <td>47.673569</td>\n",
       "      <td>-122.101059</td>\n",
       "      <td>610</td>\n",
       "      <td>131409.5</td>\n",
       "    </tr>\n",
       "    <tr>\n",
       "      <th>373894</th>\n",
       "      <td>41982011</td>\n",
       "      <td>47.673599</td>\n",
       "      <td>-122.101059</td>\n",
       "      <td>611</td>\n",
       "      <td>131419.0</td>\n",
       "    </tr>\n",
       "  </tbody>\n",
       "</table>\n",
       "</div>"
      ],
      "text/plain": [
       "        shape_id  shape_pt_lat  shape_pt_lon  shape_pt_sequence  \\\n",
       "373890  41982011     47.673229   -122.101021                607   \n",
       "373891  41982011     47.673279   -122.100990                608   \n",
       "373892  41982011     47.673351   -122.100990                609   \n",
       "373893  41982011     47.673569   -122.101059                610   \n",
       "373894  41982011     47.673599   -122.101059                611   \n",
       "\n",
       "        shape_dist_traveled  \n",
       "373890             131283.5  \n",
       "373891             131302.5  \n",
       "373892             131328.0  \n",
       "373893             131409.5  \n",
       "373894             131419.0  "
      ]
     },
     "execution_count": 109,
     "metadata": {},
     "output_type": "execute_result"
    }
   ],
   "source": [
    "shapes_df.tail()"
   ]
  },
  {
   "cell_type": "markdown",
   "metadata": {},
   "source": [
    "## Write a wrapper function to find the closest route point for each row\n",
    "\n",
    "NOTE: It is quite slow to `.apply` this function to the 182618 rows of location data in this particular file. I didn't time it, so I'm not sure how slow, but I think it was more than 10 minutes.\n",
    "\n",
    "I think it will be worth trying to \"vectorize\" the functions in `find_closest_route_point.py`, i.e. rewrite them to take a dataframe as input and operate directly on entire columns rather than on single numbers, thus avoiding the need to use `.apply`. I think this should result in passing off the main outer `for` loop to `numpy`/`C`, which should result in a speedup; I'm curious to see how much difference that makes."
   ]
  },
  {
   "cell_type": "code",
   "execution_count": 13,
   "metadata": {},
   "outputs": [],
   "source": [
    "def transform_row(row):\n",
    "    \"\"\"Get the closest route point and shape distance for a row\"\"\"\n",
    "    return f.find_closest_point_on_route(shapes_df, row.shape_id, row.vehicle_lat, row.vehicle_long, row.shape_pt_sequence)"
   ]
  },
  {
   "cell_type": "code",
   "execution_count": 85,
   "metadata": {},
   "outputs": [],
   "source": [
    "# WARNING: This takes several minutes to run (~15 minutes(?) on my computer)\n",
    "closest_points = df.apply(transform_row, axis=1)"
   ]
  },
  {
   "cell_type": "code",
   "execution_count": 86,
   "metadata": {},
   "outputs": [
    {
     "data": {
      "text/plain": [
       "index\n",
       "0         ([-122.26821899414062, 47.523303999999996], 0....\n",
       "1         ([-122.269997, 47.52975845336914], 7477.713018...\n",
       "2         ([-122.29617218849184, 47.57578366628681], 260...\n",
       "4         ([-122.27705710073377, 47.54923102303739], 149...\n",
       "5         ([-122.30028775154207, 47.58116824502017], 282...\n",
       "6         ([-122.27036028610475, 47.5373810851632], 1026...\n",
       "7         ([-122.2974777367926, 47.57748015924321], 2676...\n",
       "8         ([-122.32840728759766, 47.5992012], 39215.9065...\n",
       "9         ([-122.27979964741714, 47.55344953702593], 167...\n",
       "11        ([-122.27297981600384, 47.54268934375549], 123...\n",
       "12        ([-122.3002918366536, 47.58115995091032], 2827...\n",
       "13        ([-122.33017166405241, 47.60167346550371], 403...\n",
       "14        ([-122.2855827448728, 47.55887972055843], 1923...\n",
       "15        ([-122.30238995344557, 47.583901182373985], 29...\n",
       "16        ([-122.2660140991211, 47.5232964], 547.7636440...\n",
       "18        ([-122.27781859050252, 47.55145464650786], 158...\n",
       "20        ([-122.28721779147902, 47.56100678036571], 201...\n",
       "22        ([-122.26428343233559, 47.52164656979807], 151...\n",
       "23        ([-122.27976222267266, 47.553451488128985], 16...\n",
       "24        ([-122.30238995344557, 47.583901182373985], 29...\n",
       "25        ([-122.33267097126057, 47.604166620450364], 41...\n",
       "26        ([-122.28965257655835, 47.56850987130418], 229...\n",
       "29        ([-122.267822265625, 47.519851700000004], 3453...\n",
       "30        ([-122.30479876530883, 47.58708442281377], 307...\n",
       "31        ([-122.2855827448728, 47.55887972055843], 1923...\n",
       "32        ([-122.33529713565461, 47.60701016288605], 427...\n",
       "34        ([-122.269981, 47.52286911010742], 4965.338298...\n",
       "35        ([-122.28829901697152, 47.56450315770718], 214...\n",
       "36        ([-122.30726215032674, 47.59032589540408], 320...\n",
       "38        ([-122.29396682030446, 47.57289132236519], 248...\n",
       "                                ...                        \n",
       "239934    ([-122.3376658047934, 47.6096310332513], 43844...\n",
       "239935    ([-122.31042025025177, 47.594345473208875], 33...\n",
       "239936    ([-122.29138292891686, 47.57041048813946], 236...\n",
       "239937    ([-122.28397385261606, 47.55633557409817], 182...\n",
       "239938    ([-122.26821899414062, 47.523303999999996], 0....\n",
       "239939    ([-122.33529659394895, 47.60702809730405], 427...\n",
       "239942    ([-122.28557471327915, 47.55890139618561], 192...\n",
       "239943    ([-122.26602935791016, 47.5232964], 543.923344...\n",
       "239946    ([-122.31172020004546, 47.5960889442618], 3442...\n",
       "239947    ([-122.29396799386892, 47.5728684263273], 2487...\n",
       "239948    ([-122.28829901697152, 47.56450315770718], 214...\n",
       "239949    ([-122.26427988633259, 47.52165496512042], 151...\n",
       "239950    ([-122.33766694261476, 47.60962280768085], 438...\n",
       "239951    ([-122.3151550133832, 47.59920500005425], 3594...\n",
       "239952    ([-122.29617299288243, 47.5757751754939], 2606...\n",
       "239954    ([-122.269997, 47.52132797241211], 4400.390135...\n",
       "239957    ([-122.32232666011872, 47.599193610585296], 37...\n",
       "239959    ([-122.26821899414062, 47.523303999999996], 0....\n",
       "239960    ([-122.28965619492615, 47.56850695804123], 229...\n",
       "239961    ([-122.269981, 47.52286911010742], 4965.338298...\n",
       "239963    ([-122.32547756191622, 47.59918989464633], 384...\n",
       "239964    ([-122.29747609338685, 47.57750030706646], 267...\n",
       "239965    ([-122.29138292891686, 47.57041048813946], 236...\n",
       "239966    ([-122.269981, 47.52596664428711], 6092.716303...\n",
       "239967    ([-122.26821899414062, 47.523303999999996], 0....\n",
       "239968    ([-122.26821899414062, 47.523303999999996], 0....\n",
       "239969    ([-122.32838439941406, 47.5992012], 39210.2978...\n",
       "239970    ([-122.3002918366536, 47.58115995091032], 2827...\n",
       "239971    ([-122.29396799386892, 47.5728684263273], 2487...\n",
       "239972    ([-122.269997, 47.52939224243164], 7339.510724...\n",
       "Length: 182618, dtype: object"
      ]
     },
     "execution_count": 86,
     "metadata": {},
     "output_type": "execute_result"
    }
   ],
   "source": [
    "closest_points"
   ]
  },
  {
   "cell_type": "code",
   "execution_count": 87,
   "metadata": {},
   "outputs": [
    {
     "data": {
      "text/plain": [
       "(array([-122.26821899,   47.523304  ]), 0.001459632370744325)"
      ]
     },
     "execution_count": 87,
     "metadata": {},
     "output_type": "execute_result"
    }
   ],
   "source": [
    "closest_points[0]"
   ]
  },
  {
   "cell_type": "code",
   "execution_count": 89,
   "metadata": {},
   "outputs": [
    {
     "data": {
      "text/plain": [
       "-122.26821899414062"
      ]
     },
     "execution_count": 89,
     "metadata": {},
     "output_type": "execute_result"
    }
   ],
   "source": [
    "closest_points[0][0][0]"
   ]
  },
  {
   "cell_type": "code",
   "execution_count": 90,
   "metadata": {},
   "outputs": [
    {
     "data": {
      "text/plain": [
       "(array([-122.26821899,   47.523304  ]), 0.001459632370744325)"
      ]
     },
     "execution_count": 90,
     "metadata": {},
     "output_type": "execute_result"
    }
   ],
   "source": [
    "closest_points[:][0]"
   ]
  },
  {
   "cell_type": "markdown",
   "metadata": {},
   "source": [
    "## Fail!! Time to debug...\n",
    "\n",
    "I had some of the array shapes wrong. Namely:\n",
    "\n",
    "1. The direction vector needed to be transposed in the `get_projection_and_dist_ratio` function to handle the case when it was actually a matrix containing two direction vectors;\n",
    "2. I needed to use `dist_ratio.reshape(-1)` rather than `dist_ratio.reshape(2)` in the `find_closest_point_on_route` function since sometimes `dist_ratio` contains only one number instead of 2."
   ]
  },
  {
   "cell_type": "code",
   "execution_count": 73,
   "metadata": {},
   "outputs": [
    {
     "data": {
      "text/plain": [
       "route_id                                                                       100263\n",
       "timestamp                                                                  1535759730\n",
       "trip_id                                                                      39478305\n",
       "vehicle_id                                                                       4534\n",
       "vehicle_lat                                                                   47.5233\n",
       "vehicle_long                                                                 -122.268\n",
       "time_utc                                                          2018-08-31 23:55:30\n",
       "time_pct                                                    2018-08-31 16:55:30-07:00\n",
       "day                                                                                31\n",
       "year                                                                             2018\n",
       "month                                                                               8\n",
       "hour                                                                               16\n",
       "dow                                                                                 4\n",
       "direction_id                                                                        1\n",
       "shape_id                                                                     10007006\n",
       "month_day_trip_veh                                            2018_8_31_39478305_4534\n",
       "shape_pt_sequence                                                                   1\n",
       "shape_dist_traveled                                                                 0\n",
       "shape_pt_lat                                                                  47.5233\n",
       "shape_pt_lon                                                                 -122.268\n",
       "arrival_time                                                      2019-06-16 17:03:00\n",
       "departure_time                                                               17:03:00\n",
       "stop_id                                                                         31137\n",
       "stop_sequence                                                                       1\n",
       "stop_name                                              S Henderson St & Rainier Ave S\n",
       "stop_lat                                                                      47.5232\n",
       "stop_lon                                                                     -122.268\n",
       "trip_headsign                                      Downtown Seattle Via Rainier Ave S\n",
       "route_short_name                                                                    7\n",
       "route_desc                             Prentice St - Rainier Beach - Downtown Seattle\n",
       "trip_start_time                                                   2019-06-16 17:03:00\n",
       "actual_time_from_scheduled_start                                                 -7.5\n",
       "scheduled_time_from_scheduled_start                                                 0\n",
       "distance_btw_veh_and_shape                                                 0.00166102\n",
       "Name: 0, dtype: object"
      ]
     },
     "execution_count": 73,
     "metadata": {},
     "output_type": "execute_result"
    }
   ],
   "source": [
    "row = df.loc[0]\n",
    "row"
   ]
  },
  {
   "cell_type": "code",
   "execution_count": 74,
   "metadata": {},
   "outputs": [
    {
     "name": "stdout",
     "output_type": "stream",
     "text": [
      "10007006 47.5233039855957 -122.26821899414062 1\n"
     ]
    }
   ],
   "source": [
    "print(row.shape_id, row.vehicle_lat, row.vehicle_long, row.shape_pt_sequence)"
   ]
  },
  {
   "cell_type": "code",
   "execution_count": 75,
   "metadata": {},
   "outputs": [
    {
     "data": {
      "text/html": [
       "<div>\n",
       "<style scoped>\n",
       "    .dataframe tbody tr th:only-of-type {\n",
       "        vertical-align: middle;\n",
       "    }\n",
       "\n",
       "    .dataframe tbody tr th {\n",
       "        vertical-align: top;\n",
       "    }\n",
       "\n",
       "    .dataframe thead th {\n",
       "        text-align: right;\n",
       "    }\n",
       "</style>\n",
       "<table border=\"1\" class=\"dataframe\">\n",
       "  <thead>\n",
       "    <tr style=\"text-align: right;\">\n",
       "      <th></th>\n",
       "      <th>shape_id</th>\n",
       "      <th>shape_pt_lat</th>\n",
       "      <th>shape_pt_lon</th>\n",
       "      <th>shape_pt_sequence</th>\n",
       "      <th>shape_dist_traveled</th>\n",
       "    </tr>\n",
       "  </thead>\n",
       "  <tbody>\n",
       "    <tr>\n",
       "      <th>3964</th>\n",
       "      <td>10007006</td>\n",
       "      <td>47.523304</td>\n",
       "      <td>-122.268219</td>\n",
       "      <td>1</td>\n",
       "      <td>0.0</td>\n",
       "    </tr>\n",
       "  </tbody>\n",
       "</table>\n",
       "</div>"
      ],
      "text/plain": [
       "      shape_id  shape_pt_lat  shape_pt_lon  shape_pt_sequence  \\\n",
       "3964  10007006     47.523304   -122.268219                  1   \n",
       "\n",
       "      shape_dist_traveled  \n",
       "3964                  0.0  "
      ]
     },
     "execution_count": 75,
     "metadata": {},
     "output_type": "execute_result"
    }
   ],
   "source": [
    "shape_pt_data = f.get_shape_point_data(shapes_df, row.shape_id, row.shape_pt_sequence)\n",
    "shape_pt_data"
   ]
  },
  {
   "cell_type": "code",
   "execution_count": 76,
   "metadata": {},
   "outputs": [
    {
     "data": {
      "text/html": [
       "<div>\n",
       "<style scoped>\n",
       "    .dataframe tbody tr th:only-of-type {\n",
       "        vertical-align: middle;\n",
       "    }\n",
       "\n",
       "    .dataframe tbody tr th {\n",
       "        vertical-align: top;\n",
       "    }\n",
       "\n",
       "    .dataframe thead th {\n",
       "        text-align: right;\n",
       "    }\n",
       "</style>\n",
       "<table border=\"1\" class=\"dataframe\">\n",
       "  <thead>\n",
       "    <tr style=\"text-align: right;\">\n",
       "      <th></th>\n",
       "      <th>shape_id</th>\n",
       "      <th>shape_pt_lat</th>\n",
       "      <th>shape_pt_lon</th>\n",
       "      <th>shape_pt_sequence</th>\n",
       "      <th>shape_dist_traveled</th>\n",
       "    </tr>\n",
       "  </thead>\n",
       "  <tbody>\n",
       "    <tr>\n",
       "      <th>3965</th>\n",
       "      <td>10007006</td>\n",
       "      <td>47.523304</td>\n",
       "      <td>-122.267319</td>\n",
       "      <td>2</td>\n",
       "      <td>224.2</td>\n",
       "    </tr>\n",
       "  </tbody>\n",
       "</table>\n",
       "</div>"
      ],
      "text/plain": [
       "      shape_id  shape_pt_lat  shape_pt_lon  shape_pt_sequence  \\\n",
       "3965  10007006     47.523304   -122.267319                  2   \n",
       "\n",
       "      shape_dist_traveled  \n",
       "3965                224.2  "
      ]
     },
     "execution_count": 76,
     "metadata": {},
     "output_type": "execute_result"
    }
   ],
   "source": [
    "adjacent_shape_pt_data = f.get_adjacent_shape_point_data(shapes_df, shape_pt_data.index[0])\n",
    "adjacent_shape_pt_data"
   ]
  },
  {
   "cell_type": "code",
   "execution_count": 77,
   "metadata": {},
   "outputs": [
    {
     "name": "stdout",
     "output_type": "stream",
     "text": [
      "[-122.26821899   47.52330399] [[-122.268219   47.523304]] [[-122.267319   47.523304]]\n"
     ]
    }
   ],
   "source": [
    "vehicle_pt = np.array([row.vehicle_long, row.vehicle_lat])\n",
    "closest_shape_pt = shape_pt_data[['shape_pt_lon', 'shape_pt_lat']].values\n",
    "adjacent_pts = adjacent_shape_pt_data[['shape_pt_lon', 'shape_pt_lat']].values\n",
    "print(vehicle_pt, closest_shape_pt, adjacent_pts)"
   ]
  },
  {
   "cell_type": "code",
   "execution_count": 83,
   "metadata": {},
   "outputs": [
    {
     "name": "stdout",
     "output_type": "stream",
     "text": [
      "[-122.26821899   47.52330399] [[-122.268219   47.523304]] [[0.0009 0.    ]]\n",
      "[[-122.26821899   47.523304  ]] [[6.51040308e-06]]\n"
     ]
    }
   ],
   "source": [
    "closest_pt, dist_ratio = f.get_projection_and_dist_ratio(vehicle_pt, closest_shape_pt, adjacent_pts)\n",
    "print(closest_pt, dist_ratio)"
   ]
  },
  {
   "cell_type": "code",
   "execution_count": 79,
   "metadata": {},
   "outputs": [
    {
     "data": {
      "text/plain": [
       "array([[0.0009, 0.    ]])"
      ]
     },
     "execution_count": 79,
     "metadata": {},
     "output_type": "execute_result"
    }
   ],
   "source": [
    "#np.array([[-122.267319, 47.523304]]) - np.array([[-122.268219, 47.523304]])\n",
    "direction = adjacent_pts - closest_shape_pt\n",
    "direction"
   ]
  },
  {
   "cell_type": "code",
   "execution_count": 80,
   "metadata": {},
   "outputs": [
    {
     "data": {
      "text/plain": [
       "array([[ 5.85936277e-09, -1.44042929e-08]])"
      ]
     },
     "execution_count": 80,
     "metadata": {},
     "output_type": "execute_result"
    }
   ],
   "source": [
    "#np.array([-122.26821899, 47.52330399]) - np.array([[-122.268219, 47.523304]])\n",
    "vehicle_pt - closest_shape_pt"
   ]
  },
  {
   "cell_type": "code",
   "execution_count": 81,
   "metadata": {},
   "outputs": [
    {
     "data": {
      "text/plain": [
       "array([[5.2734265e-12]])"
      ]
     },
     "execution_count": 81,
     "metadata": {},
     "output_type": "execute_result"
    }
   ],
   "source": [
    "(vehicle_pt - closest_shape_pt).dot(direction.T)"
   ]
  },
  {
   "cell_type": "code",
   "execution_count": 82,
   "metadata": {},
   "outputs": [
    {
     "data": {
      "text/plain": [
       "array([[0.0009],\n",
       "       [0.    ]])"
      ]
     },
     "execution_count": 82,
     "metadata": {},
     "output_type": "execute_result"
    }
   ],
   "source": [
    "direction.T"
   ]
  },
  {
   "cell_type": "markdown",
   "metadata": {},
   "source": [
    "## Add the closest route points and distances to the dataframe"
   ]
  },
  {
   "cell_type": "code",
   "execution_count": 97,
   "metadata": {},
   "outputs": [
    {
     "data": {
      "text/plain": [
       "index\n",
       "0         ([-122.26821899414062, 47.523303999999996], 0....\n",
       "1         ([-122.269997, 47.52975845336914], 7477.713018...\n",
       "2         ([-122.29617218849184, 47.57578366628681], 260...\n",
       "4         ([-122.27705710073377, 47.54923102303739], 149...\n",
       "5         ([-122.30028775154207, 47.58116824502017], 282...\n",
       "6         ([-122.27036028610475, 47.5373810851632], 1026...\n",
       "7         ([-122.2974777367926, 47.57748015924321], 2676...\n",
       "8         ([-122.32840728759766, 47.5992012], 39215.9065...\n",
       "9         ([-122.27979964741714, 47.55344953702593], 167...\n",
       "11        ([-122.27297981600384, 47.54268934375549], 123...\n",
       "12        ([-122.3002918366536, 47.58115995091032], 2827...\n",
       "13        ([-122.33017166405241, 47.60167346550371], 403...\n",
       "14        ([-122.2855827448728, 47.55887972055843], 1923...\n",
       "15        ([-122.30238995344557, 47.583901182373985], 29...\n",
       "16        ([-122.2660140991211, 47.5232964], 547.7636440...\n",
       "18        ([-122.27781859050252, 47.55145464650786], 158...\n",
       "20        ([-122.28721779147902, 47.56100678036571], 201...\n",
       "22        ([-122.26428343233559, 47.52164656979807], 151...\n",
       "23        ([-122.27976222267266, 47.553451488128985], 16...\n",
       "24        ([-122.30238995344557, 47.583901182373985], 29...\n",
       "25        ([-122.33267097126057, 47.604166620450364], 41...\n",
       "26        ([-122.28965257655835, 47.56850987130418], 229...\n",
       "29        ([-122.267822265625, 47.519851700000004], 3453...\n",
       "30        ([-122.30479876530883, 47.58708442281377], 307...\n",
       "31        ([-122.2855827448728, 47.55887972055843], 1923...\n",
       "32        ([-122.33529713565461, 47.60701016288605], 427...\n",
       "34        ([-122.269981, 47.52286911010742], 4965.338298...\n",
       "35        ([-122.28829901697152, 47.56450315770718], 214...\n",
       "36        ([-122.30726215032674, 47.59032589540408], 320...\n",
       "38        ([-122.29396682030446, 47.57289132236519], 248...\n",
       "                                ...                        \n",
       "239934    ([-122.3376658047934, 47.6096310332513], 43844...\n",
       "239935    ([-122.31042025025177, 47.594345473208875], 33...\n",
       "239936    ([-122.29138292891686, 47.57041048813946], 236...\n",
       "239937    ([-122.28397385261606, 47.55633557409817], 182...\n",
       "239938    ([-122.26821899414062, 47.523303999999996], 0....\n",
       "239939    ([-122.33529659394895, 47.60702809730405], 427...\n",
       "239942    ([-122.28557471327915, 47.55890139618561], 192...\n",
       "239943    ([-122.26602935791016, 47.5232964], 543.923344...\n",
       "239946    ([-122.31172020004546, 47.5960889442618], 3442...\n",
       "239947    ([-122.29396799386892, 47.5728684263273], 2487...\n",
       "239948    ([-122.28829901697152, 47.56450315770718], 214...\n",
       "239949    ([-122.26427988633259, 47.52165496512042], 151...\n",
       "239950    ([-122.33766694261476, 47.60962280768085], 438...\n",
       "239951    ([-122.3151550133832, 47.59920500005425], 3594...\n",
       "239952    ([-122.29617299288243, 47.5757751754939], 2606...\n",
       "239954    ([-122.269997, 47.52132797241211], 4400.390135...\n",
       "239957    ([-122.32232666011872, 47.599193610585296], 37...\n",
       "239959    ([-122.26821899414062, 47.523303999999996], 0....\n",
       "239960    ([-122.28965619492615, 47.56850695804123], 229...\n",
       "239961    ([-122.269981, 47.52286911010742], 4965.338298...\n",
       "239963    ([-122.32547756191622, 47.59918989464633], 384...\n",
       "239964    ([-122.29747609338685, 47.57750030706646], 267...\n",
       "239965    ([-122.29138292891686, 47.57041048813946], 236...\n",
       "239966    ([-122.269981, 47.52596664428711], 6092.716303...\n",
       "239967    ([-122.26821899414062, 47.523303999999996], 0....\n",
       "239968    ([-122.26821899414062, 47.523303999999996], 0....\n",
       "239969    ([-122.32838439941406, 47.5992012], 39210.2978...\n",
       "239970    ([-122.3002918366536, 47.58115995091032], 2827...\n",
       "239971    ([-122.29396799386892, 47.5728684263273], 2487...\n",
       "239972    ([-122.269997, 47.52939224243164], 7339.510724...\n",
       "Length: 182618, dtype: object"
      ]
     },
     "execution_count": 97,
     "metadata": {},
     "output_type": "execute_result"
    }
   ],
   "source": [
    "closest_points"
   ]
  },
  {
   "cell_type": "code",
   "execution_count": 99,
   "metadata": {},
   "outputs": [
    {
     "data": {
      "text/plain": [
       "index\n",
       "0         47.523304\n",
       "1         47.529758\n",
       "2         47.575784\n",
       "4         47.549231\n",
       "5         47.581168\n",
       "6         47.537381\n",
       "7         47.577480\n",
       "8         47.599201\n",
       "9         47.553450\n",
       "11        47.542689\n",
       "12        47.581160\n",
       "13        47.601673\n",
       "14        47.558880\n",
       "15        47.583901\n",
       "16        47.523296\n",
       "18        47.551455\n",
       "20        47.561007\n",
       "22        47.521647\n",
       "23        47.553451\n",
       "24        47.583901\n",
       "25        47.604167\n",
       "26        47.568510\n",
       "29        47.519852\n",
       "30        47.587084\n",
       "31        47.558880\n",
       "32        47.607010\n",
       "34        47.522869\n",
       "35        47.564503\n",
       "36        47.590326\n",
       "38        47.572891\n",
       "            ...    \n",
       "239934    47.609631\n",
       "239935    47.594345\n",
       "239936    47.570410\n",
       "239937    47.556336\n",
       "239938    47.523304\n",
       "239939    47.607028\n",
       "239942    47.558901\n",
       "239943    47.523296\n",
       "239946    47.596089\n",
       "239947    47.572868\n",
       "239948    47.564503\n",
       "239949    47.521655\n",
       "239950    47.609623\n",
       "239951    47.599205\n",
       "239952    47.575775\n",
       "239954    47.521328\n",
       "239957    47.599194\n",
       "239959    47.523304\n",
       "239960    47.568507\n",
       "239961    47.522869\n",
       "239963    47.599190\n",
       "239964    47.577500\n",
       "239965    47.570410\n",
       "239966    47.525967\n",
       "239967    47.523304\n",
       "239968    47.523304\n",
       "239969    47.599201\n",
       "239970    47.581160\n",
       "239971    47.572868\n",
       "239972    47.529392\n",
       "Length: 182618, dtype: float64"
      ]
     },
     "execution_count": 99,
     "metadata": {},
     "output_type": "execute_result"
    }
   ],
   "source": [
    "closest_points.apply(lambda x: x[0][1])"
   ]
  },
  {
   "cell_type": "code",
   "execution_count": 100,
   "metadata": {},
   "outputs": [],
   "source": [
    "df['route_pt_lat'] = closest_points.apply(lambda x: x[0][1]) #Lattitude is second coordinate"
   ]
  },
  {
   "cell_type": "code",
   "execution_count": 102,
   "metadata": {},
   "outputs": [],
   "source": [
    "df['route_pt_lon'] = closest_points.apply(lambda x: x[0][0]) #Longitude is first coordinate"
   ]
  },
  {
   "cell_type": "code",
   "execution_count": 104,
   "metadata": {},
   "outputs": [],
   "source": [
    "df['vehicle_shape_dist_traveled'] = closest_points.apply(lambda x: x[1])"
   ]
  },
  {
   "cell_type": "code",
   "execution_count": 105,
   "metadata": {},
   "outputs": [
    {
     "data": {
      "text/html": [
       "<div>\n",
       "<style scoped>\n",
       "    .dataframe tbody tr th:only-of-type {\n",
       "        vertical-align: middle;\n",
       "    }\n",
       "\n",
       "    .dataframe tbody tr th {\n",
       "        vertical-align: top;\n",
       "    }\n",
       "\n",
       "    .dataframe thead th {\n",
       "        text-align: right;\n",
       "    }\n",
       "</style>\n",
       "<table border=\"1\" class=\"dataframe\">\n",
       "  <thead>\n",
       "    <tr style=\"text-align: right;\">\n",
       "      <th></th>\n",
       "      <th>route_id</th>\n",
       "      <th>timestamp</th>\n",
       "      <th>trip_id</th>\n",
       "      <th>vehicle_id</th>\n",
       "      <th>vehicle_lat</th>\n",
       "      <th>vehicle_long</th>\n",
       "      <th>time_utc</th>\n",
       "      <th>time_pct</th>\n",
       "      <th>day</th>\n",
       "      <th>year</th>\n",
       "      <th>...</th>\n",
       "      <th>trip_headsign</th>\n",
       "      <th>route_short_name</th>\n",
       "      <th>route_desc</th>\n",
       "      <th>trip_start_time</th>\n",
       "      <th>actual_time_from_scheduled_start</th>\n",
       "      <th>scheduled_time_from_scheduled_start</th>\n",
       "      <th>distance_btw_veh_and_shape</th>\n",
       "      <th>route_pt_lat</th>\n",
       "      <th>route_pt_lon</th>\n",
       "      <th>vehicle_shape_dist_traveled</th>\n",
       "    </tr>\n",
       "    <tr>\n",
       "      <th>index</th>\n",
       "      <th></th>\n",
       "      <th></th>\n",
       "      <th></th>\n",
       "      <th></th>\n",
       "      <th></th>\n",
       "      <th></th>\n",
       "      <th></th>\n",
       "      <th></th>\n",
       "      <th></th>\n",
       "      <th></th>\n",
       "      <th></th>\n",
       "      <th></th>\n",
       "      <th></th>\n",
       "      <th></th>\n",
       "      <th></th>\n",
       "      <th></th>\n",
       "      <th></th>\n",
       "      <th></th>\n",
       "      <th></th>\n",
       "      <th></th>\n",
       "      <th></th>\n",
       "    </tr>\n",
       "  </thead>\n",
       "  <tbody>\n",
       "    <tr>\n",
       "      <th>0</th>\n",
       "      <td>100263</td>\n",
       "      <td>1535759730</td>\n",
       "      <td>39478305</td>\n",
       "      <td>4534</td>\n",
       "      <td>47.523304</td>\n",
       "      <td>-122.268219</td>\n",
       "      <td>2018-08-31 23:55:30</td>\n",
       "      <td>2018-08-31 16:55:30-07:00</td>\n",
       "      <td>31</td>\n",
       "      <td>2018</td>\n",
       "      <td>...</td>\n",
       "      <td>Downtown Seattle Via Rainier Ave S</td>\n",
       "      <td>7.0</td>\n",
       "      <td>Prentice St - Rainier Beach - Downtown Seattle</td>\n",
       "      <td>2019-06-16 17:03:00</td>\n",
       "      <td>-7.500000</td>\n",
       "      <td>0.000000</td>\n",
       "      <td>0.001661</td>\n",
       "      <td>47.523304</td>\n",
       "      <td>-122.268219</td>\n",
       "      <td>0.001460</td>\n",
       "    </tr>\n",
       "    <tr>\n",
       "      <th>1</th>\n",
       "      <td>100263</td>\n",
       "      <td>1535759926</td>\n",
       "      <td>39478060</td>\n",
       "      <td>4520</td>\n",
       "      <td>47.529758</td>\n",
       "      <td>-122.269997</td>\n",
       "      <td>2018-08-31 23:58:46</td>\n",
       "      <td>2018-08-31 16:58:46-07:00</td>\n",
       "      <td>31</td>\n",
       "      <td>2018</td>\n",
       "      <td>...</td>\n",
       "      <td>Downtown Seattle Via Rainier Ave S</td>\n",
       "      <td>7.0</td>\n",
       "      <td>Prentice St - Rainier Beach - Downtown Seattle</td>\n",
       "      <td>2019-06-16 16:52:00</td>\n",
       "      <td>6.766667</td>\n",
       "      <td>7.000000</td>\n",
       "      <td>4.665079</td>\n",
       "      <td>47.529758</td>\n",
       "      <td>-122.269997</td>\n",
       "      <td>7477.713019</td>\n",
       "    </tr>\n",
       "    <tr>\n",
       "      <th>2</th>\n",
       "      <td>100263</td>\n",
       "      <td>1535759927</td>\n",
       "      <td>39478068</td>\n",
       "      <td>4521</td>\n",
       "      <td>47.575783</td>\n",
       "      <td>-122.296181</td>\n",
       "      <td>2018-08-31 23:58:47</td>\n",
       "      <td>2018-08-31 16:58:47-07:00</td>\n",
       "      <td>31</td>\n",
       "      <td>2018</td>\n",
       "      <td>...</td>\n",
       "      <td>Downtown Seattle Via Rainier Ave S</td>\n",
       "      <td>7.0</td>\n",
       "      <td>Prentice St - Rainier Beach - Downtown Seattle</td>\n",
       "      <td>2019-06-16 16:33:00</td>\n",
       "      <td>25.783333</td>\n",
       "      <td>23.083333</td>\n",
       "      <td>1.031650</td>\n",
       "      <td>47.575784</td>\n",
       "      <td>-122.296172</td>\n",
       "      <td>26068.810971</td>\n",
       "    </tr>\n",
       "    <tr>\n",
       "      <th>4</th>\n",
       "      <td>100263</td>\n",
       "      <td>1535759941</td>\n",
       "      <td>39478293</td>\n",
       "      <td>4531</td>\n",
       "      <td>47.549232</td>\n",
       "      <td>-122.277054</td>\n",
       "      <td>2018-08-31 23:59:01</td>\n",
       "      <td>2018-08-31 16:59:01-07:00</td>\n",
       "      <td>31</td>\n",
       "      <td>2018</td>\n",
       "      <td>...</td>\n",
       "      <td>Downtown Seattle Via Rainier Ave S</td>\n",
       "      <td>7.0</td>\n",
       "      <td>Prentice St - Rainier Beach - Downtown Seattle</td>\n",
       "      <td>2019-06-16 16:42:00</td>\n",
       "      <td>17.016667</td>\n",
       "      <td>11.950000</td>\n",
       "      <td>1.782479</td>\n",
       "      <td>47.549231</td>\n",
       "      <td>-122.277057</td>\n",
       "      <td>14982.225282</td>\n",
       "    </tr>\n",
       "    <tr>\n",
       "      <th>5</th>\n",
       "      <td>100263</td>\n",
       "      <td>1535759958</td>\n",
       "      <td>39478267</td>\n",
       "      <td>4536</td>\n",
       "      <td>47.581169</td>\n",
       "      <td>-122.300301</td>\n",
       "      <td>2018-08-31 23:59:18</td>\n",
       "      <td>2018-08-31 16:59:18-07:00</td>\n",
       "      <td>31</td>\n",
       "      <td>2018</td>\n",
       "      <td>...</td>\n",
       "      <td>Downtown Seattle Via Rainier Ave S</td>\n",
       "      <td>7.0</td>\n",
       "      <td>Prentice St - Rainier Beach - Downtown Seattle</td>\n",
       "      <td>2019-06-16 16:27:00</td>\n",
       "      <td>32.300000</td>\n",
       "      <td>25.683333</td>\n",
       "      <td>1.392724</td>\n",
       "      <td>47.581168</td>\n",
       "      <td>-122.300288</td>\n",
       "      <td>28281.797898</td>\n",
       "    </tr>\n",
       "  </tbody>\n",
       "</table>\n",
       "<p>5 rows × 37 columns</p>\n",
       "</div>"
      ],
      "text/plain": [
       "       route_id   timestamp   trip_id  vehicle_id  vehicle_lat  vehicle_long  \\\n",
       "index                                                                          \n",
       "0        100263  1535759730  39478305        4534    47.523304   -122.268219   \n",
       "1        100263  1535759926  39478060        4520    47.529758   -122.269997   \n",
       "2        100263  1535759927  39478068        4521    47.575783   -122.296181   \n",
       "4        100263  1535759941  39478293        4531    47.549232   -122.277054   \n",
       "5        100263  1535759958  39478267        4536    47.581169   -122.300301   \n",
       "\n",
       "                  time_utc                   time_pct  day  year  \\\n",
       "index                                                              \n",
       "0      2018-08-31 23:55:30  2018-08-31 16:55:30-07:00   31  2018   \n",
       "1      2018-08-31 23:58:46  2018-08-31 16:58:46-07:00   31  2018   \n",
       "2      2018-08-31 23:58:47  2018-08-31 16:58:47-07:00   31  2018   \n",
       "4      2018-08-31 23:59:01  2018-08-31 16:59:01-07:00   31  2018   \n",
       "5      2018-08-31 23:59:18  2018-08-31 16:59:18-07:00   31  2018   \n",
       "\n",
       "                  ...                                    trip_headsign  \\\n",
       "index             ...                                                    \n",
       "0                 ...               Downtown Seattle Via Rainier Ave S   \n",
       "1                 ...               Downtown Seattle Via Rainier Ave S   \n",
       "2                 ...               Downtown Seattle Via Rainier Ave S   \n",
       "4                 ...               Downtown Seattle Via Rainier Ave S   \n",
       "5                 ...               Downtown Seattle Via Rainier Ave S   \n",
       "\n",
       "       route_short_name                                      route_desc  \\\n",
       "index                                                                     \n",
       "0                   7.0  Prentice St - Rainier Beach - Downtown Seattle   \n",
       "1                   7.0  Prentice St - Rainier Beach - Downtown Seattle   \n",
       "2                   7.0  Prentice St - Rainier Beach - Downtown Seattle   \n",
       "4                   7.0  Prentice St - Rainier Beach - Downtown Seattle   \n",
       "5                   7.0  Prentice St - Rainier Beach - Downtown Seattle   \n",
       "\n",
       "           trip_start_time  actual_time_from_scheduled_start  \\\n",
       "index                                                          \n",
       "0      2019-06-16 17:03:00                         -7.500000   \n",
       "1      2019-06-16 16:52:00                          6.766667   \n",
       "2      2019-06-16 16:33:00                         25.783333   \n",
       "4      2019-06-16 16:42:00                         17.016667   \n",
       "5      2019-06-16 16:27:00                         32.300000   \n",
       "\n",
       "      scheduled_time_from_scheduled_start  distance_btw_veh_and_shape  \\\n",
       "index                                                                   \n",
       "0                                0.000000                    0.001661   \n",
       "1                                7.000000                    4.665079   \n",
       "2                               23.083333                    1.031650   \n",
       "4                               11.950000                    1.782479   \n",
       "5                               25.683333                    1.392724   \n",
       "\n",
       "       route_pt_lat  route_pt_lon  vehicle_shape_dist_traveled  \n",
       "index                                                           \n",
       "0         47.523304   -122.268219                     0.001460  \n",
       "1         47.529758   -122.269997                  7477.713019  \n",
       "2         47.575784   -122.296172                 26068.810971  \n",
       "4         47.549231   -122.277057                 14982.225282  \n",
       "5         47.581168   -122.300288                 28281.797898  \n",
       "\n",
       "[5 rows x 37 columns]"
      ]
     },
     "execution_count": 105,
     "metadata": {},
     "output_type": "execute_result"
    }
   ],
   "source": [
    "df.head()"
   ]
  },
  {
   "cell_type": "markdown",
   "metadata": {},
   "source": [
    "## Save the new data!"
   ]
  },
  {
   "cell_type": "code",
   "execution_count": 111,
   "metadata": {},
   "outputs": [],
   "source": [
    "df.reset_index().to_csv('../data/transformed/route_7_DowntownSeattleViaRainierAveS_shape_10007006_node_trips_w_route_distances_2018-08-15_2018-12-11.csv')"
   ]
  },
  {
   "cell_type": "code",
   "execution_count": 112,
   "metadata": {},
   "outputs": [
    {
     "name": "stdout",
     "output_type": "stream",
     "text": [
      "route_7_DowntownSeattleViaRainierAveS_shape_10007006_node_trips_w_nearest_2018-08-15_2018-12-11.csv\r\n",
      "route_7_DowntownSeattleViaRainierAveS_shape_10007006_node_trips_w_route_distances_2018-08-15_2018-12-11.csv\r\n"
     ]
    }
   ],
   "source": [
    "!ls ../data/transformed/"
   ]
  },
  {
   "cell_type": "markdown",
   "metadata": {},
   "source": [
    "## Compare our computed closest route points to vehicle location and closest shape point\n",
    "\n",
    "* The vehicle lattitde and longitude should be very close to closest route point lattitude and longitude, perhaps equal.\n",
    "* The `shape_dist_traveled` to the nearest shape point should be close to the `vehicle_shape_dist_traveled` to the nearest route point, but not equal."
   ]
  },
  {
   "cell_type": "code",
   "execution_count": 106,
   "metadata": {},
   "outputs": [
    {
     "data": {
      "text/plain": [
       "Index(['route_id', 'timestamp', 'trip_id', 'vehicle_id', 'vehicle_lat',\n",
       "       'vehicle_long', 'time_utc', 'time_pct', 'day', 'year', 'month', 'hour',\n",
       "       'dow', 'direction_id', 'shape_id', 'month_day_trip_veh',\n",
       "       'shape_pt_sequence', 'shape_dist_traveled', 'shape_pt_lat',\n",
       "       'shape_pt_lon', 'arrival_time', 'departure_time', 'stop_id',\n",
       "       'stop_sequence', 'stop_name', 'stop_lat', 'stop_lon', 'trip_headsign',\n",
       "       'route_short_name', 'route_desc', 'trip_start_time',\n",
       "       'actual_time_from_scheduled_start',\n",
       "       'scheduled_time_from_scheduled_start', 'distance_btw_veh_and_shape',\n",
       "       'route_pt_lat', 'route_pt_lon', 'vehicle_shape_dist_traveled'],\n",
       "      dtype='object')"
      ]
     },
     "execution_count": 106,
     "metadata": {},
     "output_type": "execute_result"
    }
   ],
   "source": [
    "df.columns"
   ]
  },
  {
   "cell_type": "code",
   "execution_count": 107,
   "metadata": {},
   "outputs": [
    {
     "data": {
      "text/html": [
       "<div>\n",
       "<style scoped>\n",
       "    .dataframe tbody tr th:only-of-type {\n",
       "        vertical-align: middle;\n",
       "    }\n",
       "\n",
       "    .dataframe tbody tr th {\n",
       "        vertical-align: top;\n",
       "    }\n",
       "\n",
       "    .dataframe thead th {\n",
       "        text-align: right;\n",
       "    }\n",
       "</style>\n",
       "<table border=\"1\" class=\"dataframe\">\n",
       "  <thead>\n",
       "    <tr style=\"text-align: right;\">\n",
       "      <th></th>\n",
       "      <th>vehicle_lat</th>\n",
       "      <th>vehicle_long</th>\n",
       "      <th>shape_dist_traveled</th>\n",
       "      <th>route_pt_lat</th>\n",
       "      <th>route_pt_lon</th>\n",
       "      <th>vehicle_shape_dist_traveled</th>\n",
       "    </tr>\n",
       "    <tr>\n",
       "      <th>index</th>\n",
       "      <th></th>\n",
       "      <th></th>\n",
       "      <th></th>\n",
       "      <th></th>\n",
       "      <th></th>\n",
       "      <th></th>\n",
       "    </tr>\n",
       "  </thead>\n",
       "  <tbody>\n",
       "    <tr>\n",
       "      <th>0</th>\n",
       "      <td>47.523304</td>\n",
       "      <td>-122.268219</td>\n",
       "      <td>0.0</td>\n",
       "      <td>47.523304</td>\n",
       "      <td>-122.268219</td>\n",
       "      <td>0.001460</td>\n",
       "    </tr>\n",
       "    <tr>\n",
       "      <th>1</th>\n",
       "      <td>47.529758</td>\n",
       "      <td>-122.269997</td>\n",
       "      <td>7462.6</td>\n",
       "      <td>47.529758</td>\n",
       "      <td>-122.269997</td>\n",
       "      <td>7477.713019</td>\n",
       "    </tr>\n",
       "    <tr>\n",
       "      <th>2</th>\n",
       "      <td>47.575783</td>\n",
       "      <td>-122.296181</td>\n",
       "      <td>26065.4</td>\n",
       "      <td>47.575784</td>\n",
       "      <td>-122.296172</td>\n",
       "      <td>26068.810971</td>\n",
       "    </tr>\n",
       "    <tr>\n",
       "      <th>4</th>\n",
       "      <td>47.549232</td>\n",
       "      <td>-122.277054</td>\n",
       "      <td>14977.2</td>\n",
       "      <td>47.549231</td>\n",
       "      <td>-122.277057</td>\n",
       "      <td>14982.225282</td>\n",
       "    </tr>\n",
       "    <tr>\n",
       "      <th>5</th>\n",
       "      <td>47.581169</td>\n",
       "      <td>-122.300301</td>\n",
       "      <td>28277.6</td>\n",
       "      <td>47.581168</td>\n",
       "      <td>-122.300288</td>\n",
       "      <td>28281.797898</td>\n",
       "    </tr>\n",
       "    <tr>\n",
       "      <th>6</th>\n",
       "      <td>47.537380</td>\n",
       "      <td>-122.270370</td>\n",
       "      <td>10257.2</td>\n",
       "      <td>47.537381</td>\n",
       "      <td>-122.270360</td>\n",
       "      <td>10263.145270</td>\n",
       "    </tr>\n",
       "    <tr>\n",
       "      <th>7</th>\n",
       "      <td>47.577477</td>\n",
       "      <td>-122.297485</td>\n",
       "      <td>26765.1</td>\n",
       "      <td>47.577480</td>\n",
       "      <td>-122.297478</td>\n",
       "      <td>26766.612389</td>\n",
       "    </tr>\n",
       "    <tr>\n",
       "      <th>8</th>\n",
       "      <td>47.599197</td>\n",
       "      <td>-122.328407</td>\n",
       "      <td>39210.2</td>\n",
       "      <td>47.599201</td>\n",
       "      <td>-122.328407</td>\n",
       "      <td>39215.906598</td>\n",
       "    </tr>\n",
       "    <tr>\n",
       "      <th>9</th>\n",
       "      <td>47.553471</td>\n",
       "      <td>-122.279800</td>\n",
       "      <td>16723.8</td>\n",
       "      <td>47.553450</td>\n",
       "      <td>-122.279800</td>\n",
       "      <td>16736.335349</td>\n",
       "    </tr>\n",
       "    <tr>\n",
       "      <th>11</th>\n",
       "      <td>47.542732</td>\n",
       "      <td>-122.272987</td>\n",
       "      <td>12326.3</td>\n",
       "      <td>47.542689</td>\n",
       "      <td>-122.272980</td>\n",
       "      <td>12340.445922</td>\n",
       "    </tr>\n",
       "    <tr>\n",
       "      <th>12</th>\n",
       "      <td>47.581161</td>\n",
       "      <td>-122.300293</td>\n",
       "      <td>28277.6</td>\n",
       "      <td>47.581160</td>\n",
       "      <td>-122.300292</td>\n",
       "      <td>28278.496072</td>\n",
       "    </tr>\n",
       "    <tr>\n",
       "      <th>13</th>\n",
       "      <td>47.601673</td>\n",
       "      <td>-122.330162</td>\n",
       "      <td>40388.4</td>\n",
       "      <td>47.601673</td>\n",
       "      <td>-122.330172</td>\n",
       "      <td>40385.946788</td>\n",
       "    </tr>\n",
       "    <tr>\n",
       "      <th>14</th>\n",
       "      <td>47.558884</td>\n",
       "      <td>-122.285576</td>\n",
       "      <td>19237.3</td>\n",
       "      <td>47.558880</td>\n",
       "      <td>-122.285583</td>\n",
       "      <td>19237.132957</td>\n",
       "    </tr>\n",
       "    <tr>\n",
       "      <th>15</th>\n",
       "      <td>47.583904</td>\n",
       "      <td>-122.302399</td>\n",
       "      <td>29401.7</td>\n",
       "      <td>47.583901</td>\n",
       "      <td>-122.302390</td>\n",
       "      <td>29403.599313</td>\n",
       "    </tr>\n",
       "    <tr>\n",
       "      <th>16</th>\n",
       "      <td>47.523296</td>\n",
       "      <td>-122.266014</td>\n",
       "      <td>542.0</td>\n",
       "      <td>47.523296</td>\n",
       "      <td>-122.266014</td>\n",
       "      <td>547.763644</td>\n",
       "    </tr>\n",
       "    <tr>\n",
       "      <th>18</th>\n",
       "      <td>47.551460</td>\n",
       "      <td>-122.277817</td>\n",
       "      <td>15818.6</td>\n",
       "      <td>47.551455</td>\n",
       "      <td>-122.277819</td>\n",
       "      <td>15820.850060</td>\n",
       "    </tr>\n",
       "    <tr>\n",
       "      <th>20</th>\n",
       "      <td>47.561012</td>\n",
       "      <td>-122.287231</td>\n",
       "      <td>20105.8</td>\n",
       "      <td>47.561007</td>\n",
       "      <td>-122.287218</td>\n",
       "      <td>20113.258371</td>\n",
       "    </tr>\n",
       "    <tr>\n",
       "      <th>22</th>\n",
       "      <td>47.521648</td>\n",
       "      <td>-122.264259</td>\n",
       "      <td>1506.9</td>\n",
       "      <td>47.521647</td>\n",
       "      <td>-122.264283</td>\n",
       "      <td>1515.071005</td>\n",
       "    </tr>\n",
       "    <tr>\n",
       "      <th>23</th>\n",
       "      <td>47.553452</td>\n",
       "      <td>-122.279762</td>\n",
       "      <td>16723.8</td>\n",
       "      <td>47.553451</td>\n",
       "      <td>-122.279762</td>\n",
       "      <td>16723.874143</td>\n",
       "    </tr>\n",
       "    <tr>\n",
       "      <th>24</th>\n",
       "      <td>47.583904</td>\n",
       "      <td>-122.302399</td>\n",
       "      <td>29401.7</td>\n",
       "      <td>47.583901</td>\n",
       "      <td>-122.302390</td>\n",
       "      <td>29403.599313</td>\n",
       "    </tr>\n",
       "    <tr>\n",
       "      <th>25</th>\n",
       "      <td>47.604164</td>\n",
       "      <td>-122.332687</td>\n",
       "      <td>41493.4</td>\n",
       "      <td>47.604167</td>\n",
       "      <td>-122.332671</td>\n",
       "      <td>41500.044606</td>\n",
       "    </tr>\n",
       "    <tr>\n",
       "      <th>26</th>\n",
       "      <td>47.568512</td>\n",
       "      <td>-122.289658</td>\n",
       "      <td>22925.6</td>\n",
       "      <td>47.568510</td>\n",
       "      <td>-122.289653</td>\n",
       "      <td>22927.063026</td>\n",
       "    </tr>\n",
       "    <tr>\n",
       "      <th>29</th>\n",
       "      <td>47.519852</td>\n",
       "      <td>-122.267822</td>\n",
       "      <td>3450.1</td>\n",
       "      <td>47.519852</td>\n",
       "      <td>-122.267822</td>\n",
       "      <td>3453.902671</td>\n",
       "    </tr>\n",
       "    <tr>\n",
       "      <th>30</th>\n",
       "      <td>47.587086</td>\n",
       "      <td>-122.304802</td>\n",
       "      <td>30708.0</td>\n",
       "      <td>47.587084</td>\n",
       "      <td>-122.304799</td>\n",
       "      <td>30708.996866</td>\n",
       "    </tr>\n",
       "    <tr>\n",
       "      <th>31</th>\n",
       "      <td>47.558884</td>\n",
       "      <td>-122.285576</td>\n",
       "      <td>19237.3</td>\n",
       "      <td>47.558880</td>\n",
       "      <td>-122.285583</td>\n",
       "      <td>19237.132957</td>\n",
       "    </tr>\n",
       "    <tr>\n",
       "      <th>32</th>\n",
       "      <td>47.607014</td>\n",
       "      <td>-122.335289</td>\n",
       "      <td>42721.2</td>\n",
       "      <td>47.607010</td>\n",
       "      <td>-122.335297</td>\n",
       "      <td>42719.733165</td>\n",
       "    </tr>\n",
       "    <tr>\n",
       "      <th>34</th>\n",
       "      <td>47.522869</td>\n",
       "      <td>-122.269989</td>\n",
       "      <td>5092.2</td>\n",
       "      <td>47.522869</td>\n",
       "      <td>-122.269981</td>\n",
       "      <td>4965.338298</td>\n",
       "    </tr>\n",
       "    <tr>\n",
       "      <th>35</th>\n",
       "      <td>47.564499</td>\n",
       "      <td>-122.288300</td>\n",
       "      <td>21416.6</td>\n",
       "      <td>47.564503</td>\n",
       "      <td>-122.288299</td>\n",
       "      <td>21415.291816</td>\n",
       "    </tr>\n",
       "    <tr>\n",
       "      <th>36</th>\n",
       "      <td>47.590328</td>\n",
       "      <td>-122.307289</td>\n",
       "      <td>32028.7</td>\n",
       "      <td>47.590326</td>\n",
       "      <td>-122.307262</td>\n",
       "      <td>32039.027006</td>\n",
       "    </tr>\n",
       "    <tr>\n",
       "      <th>38</th>\n",
       "      <td>47.572895</td>\n",
       "      <td>-122.293983</td>\n",
       "      <td>24874.1</td>\n",
       "      <td>47.572891</td>\n",
       "      <td>-122.293967</td>\n",
       "      <td>24882.663459</td>\n",
       "    </tr>\n",
       "    <tr>\n",
       "      <th>...</th>\n",
       "      <td>...</td>\n",
       "      <td>...</td>\n",
       "      <td>...</td>\n",
       "      <td>...</td>\n",
       "      <td>...</td>\n",
       "      <td>...</td>\n",
       "    </tr>\n",
       "    <tr>\n",
       "      <th>239934</th>\n",
       "      <td>47.609634</td>\n",
       "      <td>-122.337685</td>\n",
       "      <td>43835.2</td>\n",
       "      <td>47.609631</td>\n",
       "      <td>-122.337666</td>\n",
       "      <td>43844.806863</td>\n",
       "    </tr>\n",
       "    <tr>\n",
       "      <th>239935</th>\n",
       "      <td>47.594418</td>\n",
       "      <td>-122.310410</td>\n",
       "      <td>33695.3</td>\n",
       "      <td>47.594345</td>\n",
       "      <td>-122.310420</td>\n",
       "      <td>33717.101038</td>\n",
       "    </tr>\n",
       "    <tr>\n",
       "      <th>239936</th>\n",
       "      <td>47.570091</td>\n",
       "      <td>-122.291382</td>\n",
       "      <td>23741.6</td>\n",
       "      <td>47.570410</td>\n",
       "      <td>-122.291383</td>\n",
       "      <td>23659.821908</td>\n",
       "    </tr>\n",
       "    <tr>\n",
       "      <th>239937</th>\n",
       "      <td>47.556335</td>\n",
       "      <td>-122.283974</td>\n",
       "      <td>18219.8</td>\n",
       "      <td>47.556336</td>\n",
       "      <td>-122.283974</td>\n",
       "      <td>18219.740482</td>\n",
       "    </tr>\n",
       "    <tr>\n",
       "      <th>239938</th>\n",
       "      <td>47.523304</td>\n",
       "      <td>-122.268219</td>\n",
       "      <td>0.0</td>\n",
       "      <td>47.523304</td>\n",
       "      <td>-122.268219</td>\n",
       "      <td>0.001460</td>\n",
       "    </tr>\n",
       "    <tr>\n",
       "      <th>239939</th>\n",
       "      <td>47.607029</td>\n",
       "      <td>-122.335304</td>\n",
       "      <td>42721.2</td>\n",
       "      <td>47.607028</td>\n",
       "      <td>-122.335297</td>\n",
       "      <td>42727.170536</td>\n",
       "    </tr>\n",
       "    <tr>\n",
       "      <th>239942</th>\n",
       "      <td>47.558903</td>\n",
       "      <td>-122.285591</td>\n",
       "      <td>19237.3</td>\n",
       "      <td>47.558901</td>\n",
       "      <td>-122.285575</td>\n",
       "      <td>19245.353732</td>\n",
       "    </tr>\n",
       "    <tr>\n",
       "      <th>239943</th>\n",
       "      <td>47.523296</td>\n",
       "      <td>-122.266029</td>\n",
       "      <td>542.0</td>\n",
       "      <td>47.523296</td>\n",
       "      <td>-122.266029</td>\n",
       "      <td>543.923345</td>\n",
       "    </tr>\n",
       "    <tr>\n",
       "      <th>239946</th>\n",
       "      <td>47.596123</td>\n",
       "      <td>-122.311722</td>\n",
       "      <td>34410.9</td>\n",
       "      <td>47.596089</td>\n",
       "      <td>-122.311720</td>\n",
       "      <td>34422.827502</td>\n",
       "    </tr>\n",
       "    <tr>\n",
       "      <th>239947</th>\n",
       "      <td>47.572868</td>\n",
       "      <td>-122.293968</td>\n",
       "      <td>24874.1</td>\n",
       "      <td>47.572868</td>\n",
       "      <td>-122.293968</td>\n",
       "      <td>24874.146989</td>\n",
       "    </tr>\n",
       "    <tr>\n",
       "      <th>239948</th>\n",
       "      <td>47.564499</td>\n",
       "      <td>-122.288300</td>\n",
       "      <td>21416.6</td>\n",
       "      <td>47.564503</td>\n",
       "      <td>-122.288299</td>\n",
       "      <td>21415.291816</td>\n",
       "    </tr>\n",
       "    <tr>\n",
       "      <th>239949</th>\n",
       "      <td>47.521660</td>\n",
       "      <td>-122.264259</td>\n",
       "      <td>1506.9</td>\n",
       "      <td>47.521655</td>\n",
       "      <td>-122.264280</td>\n",
       "      <td>1511.793529</td>\n",
       "    </tr>\n",
       "    <tr>\n",
       "      <th>239950</th>\n",
       "      <td>47.609627</td>\n",
       "      <td>-122.337677</td>\n",
       "      <td>43835.2</td>\n",
       "      <td>47.609623</td>\n",
       "      <td>-122.337667</td>\n",
       "      <td>43841.420197</td>\n",
       "    </tr>\n",
       "    <tr>\n",
       "      <th>239951</th>\n",
       "      <td>47.599209</td>\n",
       "      <td>-122.315155</td>\n",
       "      <td>35946.8</td>\n",
       "      <td>47.599205</td>\n",
       "      <td>-122.315155</td>\n",
       "      <td>35946.803278</td>\n",
       "    </tr>\n",
       "    <tr>\n",
       "      <th>239952</th>\n",
       "      <td>47.575775</td>\n",
       "      <td>-122.296173</td>\n",
       "      <td>26065.4</td>\n",
       "      <td>47.575775</td>\n",
       "      <td>-122.296173</td>\n",
       "      <td>26065.430061</td>\n",
       "    </tr>\n",
       "    <tr>\n",
       "      <th>239954</th>\n",
       "      <td>47.521328</td>\n",
       "      <td>-122.269997</td>\n",
       "      <td>4400.4</td>\n",
       "      <td>47.521328</td>\n",
       "      <td>-122.269997</td>\n",
       "      <td>4400.390135</td>\n",
       "    </tr>\n",
       "    <tr>\n",
       "      <th>239957</th>\n",
       "      <td>47.599194</td>\n",
       "      <td>-122.322327</td>\n",
       "      <td>37716.0</td>\n",
       "      <td>47.599194</td>\n",
       "      <td>-122.322327</td>\n",
       "      <td>37715.916004</td>\n",
       "    </tr>\n",
       "    <tr>\n",
       "      <th>239959</th>\n",
       "      <td>47.523304</td>\n",
       "      <td>-122.268219</td>\n",
       "      <td>0.0</td>\n",
       "      <td>47.523304</td>\n",
       "      <td>-122.268219</td>\n",
       "      <td>0.001460</td>\n",
       "    </tr>\n",
       "    <tr>\n",
       "      <th>239960</th>\n",
       "      <td>47.568520</td>\n",
       "      <td>-122.289658</td>\n",
       "      <td>22925.6</td>\n",
       "      <td>47.568507</td>\n",
       "      <td>-122.289656</td>\n",
       "      <td>22929.117614</td>\n",
       "    </tr>\n",
       "    <tr>\n",
       "      <th>239961</th>\n",
       "      <td>47.522869</td>\n",
       "      <td>-122.269989</td>\n",
       "      <td>5092.2</td>\n",
       "      <td>47.522869</td>\n",
       "      <td>-122.269981</td>\n",
       "      <td>4965.338298</td>\n",
       "    </tr>\n",
       "    <tr>\n",
       "      <th>239963</th>\n",
       "      <td>47.599194</td>\n",
       "      <td>-122.325478</td>\n",
       "      <td>38490.1</td>\n",
       "      <td>47.599190</td>\n",
       "      <td>-122.325478</td>\n",
       "      <td>38495.783102</td>\n",
       "    </tr>\n",
       "    <tr>\n",
       "      <th>239964</th>\n",
       "      <td>47.577499</td>\n",
       "      <td>-122.297501</td>\n",
       "      <td>26765.1</td>\n",
       "      <td>47.577500</td>\n",
       "      <td>-122.297476</td>\n",
       "      <td>26774.939614</td>\n",
       "    </tr>\n",
       "    <tr>\n",
       "      <th>239965</th>\n",
       "      <td>47.570091</td>\n",
       "      <td>-122.291382</td>\n",
       "      <td>23741.6</td>\n",
       "      <td>47.570410</td>\n",
       "      <td>-122.291383</td>\n",
       "      <td>23659.821908</td>\n",
       "    </tr>\n",
       "    <tr>\n",
       "      <th>239966</th>\n",
       "      <td>47.525967</td>\n",
       "      <td>-122.269981</td>\n",
       "      <td>6092.7</td>\n",
       "      <td>47.525967</td>\n",
       "      <td>-122.269981</td>\n",
       "      <td>6092.716304</td>\n",
       "    </tr>\n",
       "    <tr>\n",
       "      <th>239967</th>\n",
       "      <td>47.523304</td>\n",
       "      <td>-122.268219</td>\n",
       "      <td>0.0</td>\n",
       "      <td>47.523304</td>\n",
       "      <td>-122.268219</td>\n",
       "      <td>0.001460</td>\n",
       "    </tr>\n",
       "    <tr>\n",
       "      <th>239968</th>\n",
       "      <td>47.523304</td>\n",
       "      <td>-122.268219</td>\n",
       "      <td>0.0</td>\n",
       "      <td>47.523304</td>\n",
       "      <td>-122.268219</td>\n",
       "      <td>0.001460</td>\n",
       "    </tr>\n",
       "    <tr>\n",
       "      <th>239969</th>\n",
       "      <td>47.599197</td>\n",
       "      <td>-122.328384</td>\n",
       "      <td>39210.2</td>\n",
       "      <td>47.599201</td>\n",
       "      <td>-122.328384</td>\n",
       "      <td>39210.297876</td>\n",
       "    </tr>\n",
       "    <tr>\n",
       "      <th>239970</th>\n",
       "      <td>47.581161</td>\n",
       "      <td>-122.300293</td>\n",
       "      <td>28277.6</td>\n",
       "      <td>47.581160</td>\n",
       "      <td>-122.300292</td>\n",
       "      <td>28278.496072</td>\n",
       "    </tr>\n",
       "    <tr>\n",
       "      <th>239971</th>\n",
       "      <td>47.572868</td>\n",
       "      <td>-122.293968</td>\n",
       "      <td>24874.1</td>\n",
       "      <td>47.572868</td>\n",
       "      <td>-122.293968</td>\n",
       "      <td>24874.146989</td>\n",
       "    </tr>\n",
       "    <tr>\n",
       "      <th>239972</th>\n",
       "      <td>47.529392</td>\n",
       "      <td>-122.269997</td>\n",
       "      <td>7409.0</td>\n",
       "      <td>47.529392</td>\n",
       "      <td>-122.269997</td>\n",
       "      <td>7339.510725</td>\n",
       "    </tr>\n",
       "  </tbody>\n",
       "</table>\n",
       "<p>182618 rows × 6 columns</p>\n",
       "</div>"
      ],
      "text/plain": [
       "        vehicle_lat  vehicle_long  shape_dist_traveled  route_pt_lat  \\\n",
       "index                                                                  \n",
       "0         47.523304   -122.268219                  0.0     47.523304   \n",
       "1         47.529758   -122.269997               7462.6     47.529758   \n",
       "2         47.575783   -122.296181              26065.4     47.575784   \n",
       "4         47.549232   -122.277054              14977.2     47.549231   \n",
       "5         47.581169   -122.300301              28277.6     47.581168   \n",
       "6         47.537380   -122.270370              10257.2     47.537381   \n",
       "7         47.577477   -122.297485              26765.1     47.577480   \n",
       "8         47.599197   -122.328407              39210.2     47.599201   \n",
       "9         47.553471   -122.279800              16723.8     47.553450   \n",
       "11        47.542732   -122.272987              12326.3     47.542689   \n",
       "12        47.581161   -122.300293              28277.6     47.581160   \n",
       "13        47.601673   -122.330162              40388.4     47.601673   \n",
       "14        47.558884   -122.285576              19237.3     47.558880   \n",
       "15        47.583904   -122.302399              29401.7     47.583901   \n",
       "16        47.523296   -122.266014                542.0     47.523296   \n",
       "18        47.551460   -122.277817              15818.6     47.551455   \n",
       "20        47.561012   -122.287231              20105.8     47.561007   \n",
       "22        47.521648   -122.264259               1506.9     47.521647   \n",
       "23        47.553452   -122.279762              16723.8     47.553451   \n",
       "24        47.583904   -122.302399              29401.7     47.583901   \n",
       "25        47.604164   -122.332687              41493.4     47.604167   \n",
       "26        47.568512   -122.289658              22925.6     47.568510   \n",
       "29        47.519852   -122.267822               3450.1     47.519852   \n",
       "30        47.587086   -122.304802              30708.0     47.587084   \n",
       "31        47.558884   -122.285576              19237.3     47.558880   \n",
       "32        47.607014   -122.335289              42721.2     47.607010   \n",
       "34        47.522869   -122.269989               5092.2     47.522869   \n",
       "35        47.564499   -122.288300              21416.6     47.564503   \n",
       "36        47.590328   -122.307289              32028.7     47.590326   \n",
       "38        47.572895   -122.293983              24874.1     47.572891   \n",
       "...             ...           ...                  ...           ...   \n",
       "239934    47.609634   -122.337685              43835.2     47.609631   \n",
       "239935    47.594418   -122.310410              33695.3     47.594345   \n",
       "239936    47.570091   -122.291382              23741.6     47.570410   \n",
       "239937    47.556335   -122.283974              18219.8     47.556336   \n",
       "239938    47.523304   -122.268219                  0.0     47.523304   \n",
       "239939    47.607029   -122.335304              42721.2     47.607028   \n",
       "239942    47.558903   -122.285591              19237.3     47.558901   \n",
       "239943    47.523296   -122.266029                542.0     47.523296   \n",
       "239946    47.596123   -122.311722              34410.9     47.596089   \n",
       "239947    47.572868   -122.293968              24874.1     47.572868   \n",
       "239948    47.564499   -122.288300              21416.6     47.564503   \n",
       "239949    47.521660   -122.264259               1506.9     47.521655   \n",
       "239950    47.609627   -122.337677              43835.2     47.609623   \n",
       "239951    47.599209   -122.315155              35946.8     47.599205   \n",
       "239952    47.575775   -122.296173              26065.4     47.575775   \n",
       "239954    47.521328   -122.269997               4400.4     47.521328   \n",
       "239957    47.599194   -122.322327              37716.0     47.599194   \n",
       "239959    47.523304   -122.268219                  0.0     47.523304   \n",
       "239960    47.568520   -122.289658              22925.6     47.568507   \n",
       "239961    47.522869   -122.269989               5092.2     47.522869   \n",
       "239963    47.599194   -122.325478              38490.1     47.599190   \n",
       "239964    47.577499   -122.297501              26765.1     47.577500   \n",
       "239965    47.570091   -122.291382              23741.6     47.570410   \n",
       "239966    47.525967   -122.269981               6092.7     47.525967   \n",
       "239967    47.523304   -122.268219                  0.0     47.523304   \n",
       "239968    47.523304   -122.268219                  0.0     47.523304   \n",
       "239969    47.599197   -122.328384              39210.2     47.599201   \n",
       "239970    47.581161   -122.300293              28277.6     47.581160   \n",
       "239971    47.572868   -122.293968              24874.1     47.572868   \n",
       "239972    47.529392   -122.269997               7409.0     47.529392   \n",
       "\n",
       "        route_pt_lon  vehicle_shape_dist_traveled  \n",
       "index                                              \n",
       "0        -122.268219                     0.001460  \n",
       "1        -122.269997                  7477.713019  \n",
       "2        -122.296172                 26068.810971  \n",
       "4        -122.277057                 14982.225282  \n",
       "5        -122.300288                 28281.797898  \n",
       "6        -122.270360                 10263.145270  \n",
       "7        -122.297478                 26766.612389  \n",
       "8        -122.328407                 39215.906598  \n",
       "9        -122.279800                 16736.335349  \n",
       "11       -122.272980                 12340.445922  \n",
       "12       -122.300292                 28278.496072  \n",
       "13       -122.330172                 40385.946788  \n",
       "14       -122.285583                 19237.132957  \n",
       "15       -122.302390                 29403.599313  \n",
       "16       -122.266014                   547.763644  \n",
       "18       -122.277819                 15820.850060  \n",
       "20       -122.287218                 20113.258371  \n",
       "22       -122.264283                  1515.071005  \n",
       "23       -122.279762                 16723.874143  \n",
       "24       -122.302390                 29403.599313  \n",
       "25       -122.332671                 41500.044606  \n",
       "26       -122.289653                 22927.063026  \n",
       "29       -122.267822                  3453.902671  \n",
       "30       -122.304799                 30708.996866  \n",
       "31       -122.285583                 19237.132957  \n",
       "32       -122.335297                 42719.733165  \n",
       "34       -122.269981                  4965.338298  \n",
       "35       -122.288299                 21415.291816  \n",
       "36       -122.307262                 32039.027006  \n",
       "38       -122.293967                 24882.663459  \n",
       "...              ...                          ...  \n",
       "239934   -122.337666                 43844.806863  \n",
       "239935   -122.310420                 33717.101038  \n",
       "239936   -122.291383                 23659.821908  \n",
       "239937   -122.283974                 18219.740482  \n",
       "239938   -122.268219                     0.001460  \n",
       "239939   -122.335297                 42727.170536  \n",
       "239942   -122.285575                 19245.353732  \n",
       "239943   -122.266029                   543.923345  \n",
       "239946   -122.311720                 34422.827502  \n",
       "239947   -122.293968                 24874.146989  \n",
       "239948   -122.288299                 21415.291816  \n",
       "239949   -122.264280                  1511.793529  \n",
       "239950   -122.337667                 43841.420197  \n",
       "239951   -122.315155                 35946.803278  \n",
       "239952   -122.296173                 26065.430061  \n",
       "239954   -122.269997                  4400.390135  \n",
       "239957   -122.322327                 37715.916004  \n",
       "239959   -122.268219                     0.001460  \n",
       "239960   -122.289656                 22929.117614  \n",
       "239961   -122.269981                  4965.338298  \n",
       "239963   -122.325478                 38495.783102  \n",
       "239964   -122.297476                 26774.939614  \n",
       "239965   -122.291383                 23659.821908  \n",
       "239966   -122.269981                  6092.716304  \n",
       "239967   -122.268219                     0.001460  \n",
       "239968   -122.268219                     0.001460  \n",
       "239969   -122.328384                 39210.297876  \n",
       "239970   -122.300292                 28278.496072  \n",
       "239971   -122.293968                 24874.146989  \n",
       "239972   -122.269997                  7339.510725  \n",
       "\n",
       "[182618 rows x 6 columns]"
      ]
     },
     "execution_count": 107,
     "metadata": {},
     "output_type": "execute_result"
    }
   ],
   "source": [
    "# Compare actual vehicle lattitde and longitude to closest route point lattitude and longitude,\n",
    "# and compare shape distance to nearest shape point so shape distance to the closest route point (i.e. the vehicle)\n",
    "df[['vehicle_lat','vehicle_long', 'shape_dist_traveled', 'route_pt_lat', 'route_pt_lon', 'vehicle_shape_dist_traveled']]"
   ]
  },
  {
   "cell_type": "code",
   "execution_count": 117,
   "metadata": {},
   "outputs": [
    {
     "data": {
      "text/plain": [
       "array([[-1.44042929e-08,  0.00000000e+00, -1.45963237e-03],\n",
       "       [ 0.00000000e+00,  3.56933597e-07, -1.51130188e+01],\n",
       "       [-8.90407911e-07, -8.53660582e-06, -3.41097106e+00],\n",
       "       ...,\n",
       "       [ 1.54811312e-06, -1.13209640e-06, -8.96071566e-01],\n",
       "       [-7.91593280e-08, -2.06814676e-07, -4.69890324e-02],\n",
       "       [ 0.00000000e+00,  3.56933597e-07,  6.94892752e+01]])"
      ]
     },
     "execution_count": 117,
     "metadata": {},
     "output_type": "execute_result"
    }
   ],
   "source": [
    "(df[['vehicle_lat','vehicle_long', 'shape_dist_traveled']].values\n",
    " -df[['route_pt_lat', 'route_pt_lon', 'vehicle_shape_dist_traveled']].values)"
   ]
  },
  {
   "cell_type": "markdown",
   "metadata": {},
   "source": [
    "### Ugh, we need the column names to be identical in order to subtract the dataframes and use `.describe()`"
   ]
  },
  {
   "cell_type": "code",
   "execution_count": 118,
   "metadata": {},
   "outputs": [
    {
     "data": {
      "text/html": [
       "<div>\n",
       "<style scoped>\n",
       "    .dataframe tbody tr th:only-of-type {\n",
       "        vertical-align: middle;\n",
       "    }\n",
       "\n",
       "    .dataframe tbody tr th {\n",
       "        vertical-align: top;\n",
       "    }\n",
       "\n",
       "    .dataframe thead th {\n",
       "        text-align: right;\n",
       "    }\n",
       "</style>\n",
       "<table border=\"1\" class=\"dataframe\">\n",
       "  <thead>\n",
       "    <tr style=\"text-align: right;\">\n",
       "      <th></th>\n",
       "      <th>original</th>\n",
       "      <th>new</th>\n",
       "      <th>shared</th>\n",
       "    </tr>\n",
       "  </thead>\n",
       "  <tbody>\n",
       "    <tr>\n",
       "      <th>0</th>\n",
       "      <td>vehicle_lat</td>\n",
       "      <td>route_pt_lat</td>\n",
       "      <td>delta_lat</td>\n",
       "    </tr>\n",
       "    <tr>\n",
       "      <th>1</th>\n",
       "      <td>vehicle_long</td>\n",
       "      <td>route_pt_lon</td>\n",
       "      <td>delta_lon</td>\n",
       "    </tr>\n",
       "    <tr>\n",
       "      <th>2</th>\n",
       "      <td>shape_dist_traveled</td>\n",
       "      <td>vehicle_shape_dist_traveled</td>\n",
       "      <td>delta_dist</td>\n",
       "    </tr>\n",
       "  </tbody>\n",
       "</table>\n",
       "</div>"
      ],
      "text/plain": [
       "              original                          new      shared\n",
       "0          vehicle_lat                 route_pt_lat   delta_lat\n",
       "1         vehicle_long                 route_pt_lon   delta_lon\n",
       "2  shape_dist_traveled  vehicle_shape_dist_traveled  delta_dist"
      ]
     },
     "execution_count": 118,
     "metadata": {},
     "output_type": "execute_result"
    }
   ],
   "source": [
    "colnames = pd.DataFrame({'original': ['vehicle_lat','vehicle_long', 'shape_dist_traveled'],\n",
    "                         'new': ['route_pt_lat', 'route_pt_lon', 'vehicle_shape_dist_traveled'],\n",
    "                         'shared': ['delta_lat', 'delta_lon', 'delta_dist']\n",
    "                        })\n",
    "colnames"
   ]
  },
  {
   "cell_type": "code",
   "execution_count": 119,
   "metadata": {},
   "outputs": [
    {
     "data": {
      "text/plain": [
       "original\n",
       "vehicle_lat             delta_lat\n",
       "vehicle_long            delta_lon\n",
       "shape_dist_traveled    delta_dist\n",
       "Name: shared, dtype: object"
      ]
     },
     "execution_count": 119,
     "metadata": {},
     "output_type": "execute_result"
    }
   ],
   "source": [
    "colnames.set_index('original')['shared']"
   ]
  },
  {
   "cell_type": "code",
   "execution_count": 121,
   "metadata": {},
   "outputs": [
    {
     "data": {
      "text/html": [
       "<div>\n",
       "<style scoped>\n",
       "    .dataframe tbody tr th:only-of-type {\n",
       "        vertical-align: middle;\n",
       "    }\n",
       "\n",
       "    .dataframe tbody tr th {\n",
       "        vertical-align: top;\n",
       "    }\n",
       "\n",
       "    .dataframe thead th {\n",
       "        text-align: right;\n",
       "    }\n",
       "</style>\n",
       "<table border=\"1\" class=\"dataframe\">\n",
       "  <thead>\n",
       "    <tr style=\"text-align: right;\">\n",
       "      <th></th>\n",
       "      <th>vehicle_lat</th>\n",
       "      <th>vehicle_long</th>\n",
       "      <th>shape_dist_traveled</th>\n",
       "    </tr>\n",
       "    <tr>\n",
       "      <th>index</th>\n",
       "      <th></th>\n",
       "      <th></th>\n",
       "      <th></th>\n",
       "    </tr>\n",
       "  </thead>\n",
       "  <tbody>\n",
       "    <tr>\n",
       "      <th>0</th>\n",
       "      <td>47.523304</td>\n",
       "      <td>-122.268219</td>\n",
       "      <td>0.0</td>\n",
       "    </tr>\n",
       "    <tr>\n",
       "      <th>1</th>\n",
       "      <td>47.529758</td>\n",
       "      <td>-122.269997</td>\n",
       "      <td>7462.6</td>\n",
       "    </tr>\n",
       "    <tr>\n",
       "      <th>2</th>\n",
       "      <td>47.575783</td>\n",
       "      <td>-122.296181</td>\n",
       "      <td>26065.4</td>\n",
       "    </tr>\n",
       "    <tr>\n",
       "      <th>4</th>\n",
       "      <td>47.549232</td>\n",
       "      <td>-122.277054</td>\n",
       "      <td>14977.2</td>\n",
       "    </tr>\n",
       "    <tr>\n",
       "      <th>5</th>\n",
       "      <td>47.581169</td>\n",
       "      <td>-122.300301</td>\n",
       "      <td>28277.6</td>\n",
       "    </tr>\n",
       "  </tbody>\n",
       "</table>\n",
       "</div>"
      ],
      "text/plain": [
       "       vehicle_lat  vehicle_long  shape_dist_traveled\n",
       "index                                                \n",
       "0        47.523304   -122.268219                  0.0\n",
       "1        47.529758   -122.269997               7462.6\n",
       "2        47.575783   -122.296181              26065.4\n",
       "4        47.549232   -122.277054              14977.2\n",
       "5        47.581169   -122.300301              28277.6"
      ]
     },
     "execution_count": 121,
     "metadata": {},
     "output_type": "execute_result"
    }
   ],
   "source": [
    "df[colnames['original']].head()"
   ]
  },
  {
   "cell_type": "code",
   "execution_count": 125,
   "metadata": {},
   "outputs": [
    {
     "data": {
      "text/html": [
       "<div>\n",
       "<style scoped>\n",
       "    .dataframe tbody tr th:only-of-type {\n",
       "        vertical-align: middle;\n",
       "    }\n",
       "\n",
       "    .dataframe tbody tr th {\n",
       "        vertical-align: top;\n",
       "    }\n",
       "\n",
       "    .dataframe thead th {\n",
       "        text-align: right;\n",
       "    }\n",
       "</style>\n",
       "<table border=\"1\" class=\"dataframe\">\n",
       "  <thead>\n",
       "    <tr style=\"text-align: right;\">\n",
       "      <th></th>\n",
       "      <th>delta_lat</th>\n",
       "      <th>delta_lon</th>\n",
       "      <th>delta_dist</th>\n",
       "    </tr>\n",
       "    <tr>\n",
       "      <th>index</th>\n",
       "      <th></th>\n",
       "      <th></th>\n",
       "      <th></th>\n",
       "    </tr>\n",
       "  </thead>\n",
       "  <tbody>\n",
       "    <tr>\n",
       "      <th>0</th>\n",
       "      <td>1.440429e-08</td>\n",
       "      <td>0.000000e+00</td>\n",
       "      <td>0.001460</td>\n",
       "    </tr>\n",
       "    <tr>\n",
       "      <th>1</th>\n",
       "      <td>0.000000e+00</td>\n",
       "      <td>-3.569336e-07</td>\n",
       "      <td>15.113019</td>\n",
       "    </tr>\n",
       "    <tr>\n",
       "      <th>2</th>\n",
       "      <td>8.904079e-07</td>\n",
       "      <td>8.536606e-06</td>\n",
       "      <td>3.410971</td>\n",
       "    </tr>\n",
       "    <tr>\n",
       "      <th>4</th>\n",
       "      <td>-1.459873e-06</td>\n",
       "      <td>-3.267726e-06</td>\n",
       "      <td>5.025282</td>\n",
       "    </tr>\n",
       "    <tr>\n",
       "      <th>5</th>\n",
       "      <td>-8.833978e-07</td>\n",
       "      <td>1.284660e-05</td>\n",
       "      <td>4.197898</td>\n",
       "    </tr>\n",
       "  </tbody>\n",
       "</table>\n",
       "</div>"
      ],
      "text/plain": [
       "          delta_lat     delta_lon  delta_dist\n",
       "index                                        \n",
       "0      1.440429e-08  0.000000e+00    0.001460\n",
       "1      0.000000e+00 -3.569336e-07   15.113019\n",
       "2      8.904079e-07  8.536606e-06    3.410971\n",
       "4     -1.459873e-06 -3.267726e-06    5.025282\n",
       "5     -8.833978e-07  1.284660e-05    4.197898"
      ]
     },
     "execution_count": 125,
     "metadata": {},
     "output_type": "execute_result"
    }
   ],
   "source": [
    "(df[colnames['new']].rename(columns=colnames.set_index('new')['shared'])\n",
    " - df[colnames['original']].rename(columns=colnames.set_index('original')['shared'])\n",
    ").head()"
   ]
  },
  {
   "cell_type": "code",
   "execution_count": 126,
   "metadata": {},
   "outputs": [
    {
     "data": {
      "text/html": [
       "<div>\n",
       "<style scoped>\n",
       "    .dataframe tbody tr th:only-of-type {\n",
       "        vertical-align: middle;\n",
       "    }\n",
       "\n",
       "    .dataframe tbody tr th {\n",
       "        vertical-align: top;\n",
       "    }\n",
       "\n",
       "    .dataframe thead th {\n",
       "        text-align: right;\n",
       "    }\n",
       "</style>\n",
       "<table border=\"1\" class=\"dataframe\">\n",
       "  <thead>\n",
       "    <tr style=\"text-align: right;\">\n",
       "      <th></th>\n",
       "      <th>delta_lat</th>\n",
       "      <th>delta_lon</th>\n",
       "      <th>delta_dist</th>\n",
       "    </tr>\n",
       "  </thead>\n",
       "  <tbody>\n",
       "    <tr>\n",
       "      <th>count</th>\n",
       "      <td>1.826180e+05</td>\n",
       "      <td>1.826180e+05</td>\n",
       "      <td>182618.000000</td>\n",
       "    </tr>\n",
       "    <tr>\n",
       "      <th>mean</th>\n",
       "      <td>3.594777e-06</td>\n",
       "      <td>-2.220382e-06</td>\n",
       "      <td>-2.356046</td>\n",
       "    </tr>\n",
       "    <tr>\n",
       "      <th>std</th>\n",
       "      <td>1.082053e-04</td>\n",
       "      <td>8.167448e-05</td>\n",
       "      <td>53.050700</td>\n",
       "    </tr>\n",
       "    <tr>\n",
       "      <th>min</th>\n",
       "      <td>-5.120801e-03</td>\n",
       "      <td>-6.451549e-03</td>\n",
       "      <td>-3230.902467</td>\n",
       "    </tr>\n",
       "    <tr>\n",
       "      <th>25%</th>\n",
       "      <td>-3.678352e-06</td>\n",
       "      <td>-1.092979e-06</td>\n",
       "      <td>-1.210039</td>\n",
       "    </tr>\n",
       "    <tr>\n",
       "      <th>50%</th>\n",
       "      <td>0.000000e+00</td>\n",
       "      <td>1.591367e-08</td>\n",
       "      <td>1.512389</td>\n",
       "    </tr>\n",
       "    <tr>\n",
       "      <th>75%</th>\n",
       "      <td>8.904079e-07</td>\n",
       "      <td>7.010657e-06</td>\n",
       "      <td>5.945270</td>\n",
       "    </tr>\n",
       "    <tr>\n",
       "      <th>max</th>\n",
       "      <td>1.224518e-02</td>\n",
       "      <td>1.579490e-02</td>\n",
       "      <td>798.381781</td>\n",
       "    </tr>\n",
       "  </tbody>\n",
       "</table>\n",
       "</div>"
      ],
      "text/plain": [
       "          delta_lat     delta_lon     delta_dist\n",
       "count  1.826180e+05  1.826180e+05  182618.000000\n",
       "mean   3.594777e-06 -2.220382e-06      -2.356046\n",
       "std    1.082053e-04  8.167448e-05      53.050700\n",
       "min   -5.120801e-03 -6.451549e-03   -3230.902467\n",
       "25%   -3.678352e-06 -1.092979e-06      -1.210039\n",
       "50%    0.000000e+00  1.591367e-08       1.512389\n",
       "75%    8.904079e-07  7.010657e-06       5.945270\n",
       "max    1.224518e-02  1.579490e-02     798.381781"
      ]
     },
     "execution_count": 126,
     "metadata": {},
     "output_type": "execute_result"
    }
   ],
   "source": [
    "(df[colnames['new']].rename(columns=colnames.set_index('new')['shared'])\n",
    " - df[colnames['original']].rename(columns=colnames.set_index('original')['shared'])\n",
    ").describe()"
   ]
  },
  {
   "cell_type": "markdown",
   "metadata": {},
   "source": [
    "## Woo hoo! Looks pretty good. Except there are some outlier distances..."
   ]
  },
  {
   "cell_type": "code",
   "execution_count": 127,
   "metadata": {},
   "outputs": [],
   "source": [
    "delta_df = (df[colnames['new']].rename(columns=colnames.set_index('new')['shared'])\n",
    "            - df[colnames['original']].rename(columns=colnames.set_index('original')['shared'])\n",
    "           )"
   ]
  },
  {
   "cell_type": "code",
   "execution_count": 128,
   "metadata": {},
   "outputs": [
    {
     "data": {
      "text/plain": [
       "<matplotlib.axes._subplots.AxesSubplot at 0x10f6a4e80>"
      ]
     },
     "execution_count": 128,
     "metadata": {},
     "output_type": "execute_result"
    },
    {
     "data": {
      "image/png": "[encoded data removed]",
      "text/plain": [
       "<Figure size 432x288 with 1 Axes>"
      ]
     },
     "metadata": {
      "needs_background": "light"
     },
     "output_type": "display_data"
    }
   ],
   "source": [
    "delta_df['delta_dist'].hist(bins=100)"
   ]
  },
  {
   "cell_type": "code",
   "execution_count": 133,
   "metadata": {},
   "outputs": [
    {
     "data": {
      "text/plain": [
       "<matplotlib.axes._subplots.AxesSubplot at 0x13061e390>"
      ]
     },
     "execution_count": 133,
     "metadata": {},
     "output_type": "execute_result"
    },
    {
     "data": {
      "image/png": "[encoded data removed]",
      "text/plain": [
       "<Figure size 432x288 with 1 Axes>"
      ]
     },
     "metadata": {
      "needs_background": "light"
     },
     "output_type": "display_data"
    }
   ],
   "source": [
    "delta_df.loc[(delta_df['delta_dist']>-150) & (delta_df['delta_dist']< 100), 'delta_dist'].hist(bins=100)"
   ]
  },
  {
   "cell_type": "markdown",
   "metadata": {},
   "source": [
    "### How many distances are outside the above cutoff window [-150m, 100m]?\n",
    "\n",
    "Looks like 2437, or 1.33% of the total 182,618 rows.\n",
    "\n",
    "These distances are the difference between the shape distance to the closest shape point, and shape distances to the projection of the vehicle onto the route. Large differences suggest that the vehicle is not actually on the route. In fact, we should be able to use trigonometry to tell exactly when these differences are larger than expected based on distances between consecutive shape points... "
   ]
  },
  {
   "cell_type": "code",
   "execution_count": 134,
   "metadata": {},
   "outputs": [
    {
     "data": {
      "text/plain": [
       "(2437,)"
      ]
     },
     "execution_count": 134,
     "metadata": {},
     "output_type": "execute_result"
    }
   ],
   "source": [
    "delta_df.loc[(delta_df['delta_dist']<-150) | (delta_df['delta_dist']>100), 'delta_dist'].shape"
   ]
  },
  {
   "cell_type": "code",
   "execution_count": 135,
   "metadata": {},
   "outputs": [
    {
     "data": {
      "text/plain": [
       "0.01334479624133437"
      ]
     },
     "execution_count": 135,
     "metadata": {},
     "output_type": "execute_result"
    }
   ],
   "source": [
    "2437 / 182618"
   ]
  },
  {
   "cell_type": "markdown",
   "metadata": {},
   "source": [
    "## Let's check out some histograms and scatter plots for the lattitude and longitude\n",
    "\n",
    "The outliers for lattitude or longitude should correspond to the outliers for the distances. What do the scatter plots tell us?"
   ]
  },
  {
   "cell_type": "code",
   "execution_count": 138,
   "metadata": {},
   "outputs": [
    {
     "data": {
      "text/plain": [
       "<matplotlib.axes._subplots.AxesSubplot at 0x11a50c898>"
      ]
     },
     "execution_count": 138,
     "metadata": {},
     "output_type": "execute_result"
    },
    {
     "data": {
      "image/png": "[encoded data removed]",
      "text/plain": [
       "<Figure size 432x288 with 1 Axes>"
      ]
     },
     "metadata": {
      "needs_background": "light"
     },
     "output_type": "display_data"
    }
   ],
   "source": [
    "delta_df['delta_lat'].hist(bins=100)"
   ]
  },
  {
   "cell_type": "code",
   "execution_count": 139,
   "metadata": {},
   "outputs": [
    {
     "data": {
      "text/plain": [
       "<matplotlib.axes._subplots.AxesSubplot at 0x11b7e32e8>"
      ]
     },
     "execution_count": 139,
     "metadata": {},
     "output_type": "execute_result"
    },
    {
     "data": {
      "image/png": "[encoded data removed]",
      "text/plain": [
       "<Figure size 432x288 with 1 Axes>"
      ]
     },
     "metadata": {
      "needs_background": "light"
     },
     "output_type": "display_data"
    }
   ],
   "source": [
    "delta_df['delta_lon'].hist(bins=100)"
   ]
  },
  {
   "cell_type": "code",
   "execution_count": 147,
   "metadata": {},
   "outputs": [
    {
     "data": {
      "text/plain": [
       "<matplotlib.axes._subplots.AxesSubplot at 0x11b436080>"
      ]
     },
     "execution_count": 147,
     "metadata": {},
     "output_type": "execute_result"
    },
    {
     "data": {
      "image/png": "[encoded data removed]",
      "text/plain": [
       "<Figure size 432x288 with 1 Axes>"
      ]
     },
     "metadata": {
      "needs_background": "light"
     },
     "output_type": "display_data"
    }
   ],
   "source": [
    "delta_df.plot(x='delta_lon', y='delta_lat', kind='scatter', alpha=0.2) # Hmm, that's interesting..."
   ]
  },
  {
   "cell_type": "code",
   "execution_count": 146,
   "metadata": {},
   "outputs": [
    {
     "data": {
      "text/plain": [
       "<matplotlib.axes._subplots.AxesSubplot at 0x11b436860>"
      ]
     },
     "execution_count": 146,
     "metadata": {},
     "output_type": "execute_result"
    },
    {
     "data": {
      "image/png": "[encoded data removed]",
      "text/plain": [
       "<Figure size 432x288 with 1 Axes>"
      ]
     },
     "metadata": {
      "needs_background": "light"
     },
     "output_type": "display_data"
    }
   ],
   "source": [
    "delta_df.plot(x='delta_lon', y='delta_dist', kind='scatter', alpha=0.2)"
   ]
  },
  {
   "cell_type": "code",
   "execution_count": 148,
   "metadata": {},
   "outputs": [
    {
     "data": {
      "text/plain": [
       "<matplotlib.axes._subplots.AxesSubplot at 0x11c3dd5f8>"
      ]
     },
     "execution_count": 148,
     "metadata": {},
     "output_type": "execute_result"
    },
    {
     "data": {
      "image/png": "[encoded data removed]",
      "text/plain": [
       "<Figure size 432x288 with 1 Axes>"
      ]
     },
     "metadata": {
      "needs_background": "light"
     },
     "output_type": "display_data"
    }
   ],
   "source": [
    "delta_df.plot(x='delta_lat', y='delta_dist', kind='scatter', alpha=0.2)"
   ]
  },
  {
   "cell_type": "code",
   "execution_count": null,
   "metadata": {},
   "outputs": [],
   "source": []
  }
 ],
 "metadata": {
  "kernelspec": {
   "display_name": "realtime-buses",
   "language": "python",
   "name": "realtime-buses"
  },
  "language_info": {
   "codemirror_mode": {
    "name": "ipython",
    "version": 3
   },
   "file_extension": ".py",
   "mimetype": "text/x-python",
   "name": "python",
   "nbconvert_exporter": "python",
   "pygments_lexer": "ipython3",
   "version": "3.6.8"
  }
 },
 "nbformat": 4,
 "nbformat_minor": 2
}
