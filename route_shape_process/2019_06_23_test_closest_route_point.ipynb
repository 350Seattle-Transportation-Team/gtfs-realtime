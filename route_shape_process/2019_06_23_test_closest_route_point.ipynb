{
 "cells": [
  {
   "cell_type": "code",
   "execution_count": 1,
   "metadata": {},
   "outputs": [
    {
     "name": "stdout",
     "output_type": "stream",
     "text": [
      "Sun Jun 23 16:48:45 PDT 2019\n",
      "ndbs\n"
     ]
    }
   ],
   "source": [
    "%load_ext autoreload\n",
    "%autoreload 2\n",
    "\n",
    "!date\n",
    "!whoami\n",
    "\n",
    "import numpy as np\n",
    "import pandas as pd\n",
    "import matplotlib.pyplot as plt"
   ]
  },
  {
   "cell_type": "markdown",
   "metadata": {},
   "source": [
    "# Start testing the projection function on real data"
   ]
  },
  {
   "cell_type": "code",
   "execution_count": 2,
   "metadata": {},
   "outputs": [],
   "source": [
    "import find_closest_route_point as f"
   ]
  },
  {
   "cell_type": "markdown",
   "metadata": {},
   "source": [
    "## Open data file for route 7 with closest shape points already found"
   ]
  },
  {
   "cell_type": "code",
   "execution_count": 5,
   "metadata": {},
   "outputs": [
    {
     "name": "stdout",
     "output_type": "stream",
     "text": [
      "route_7_DowntownSeattleViaRainierAveS_shape_10007006_node_trips_w_nearest_2018-08-15_2018-12-11.csv\r\n"
     ]
    }
   ],
   "source": [
    "!ls ../data/transformed/"
   ]
  },
  {
   "cell_type": "code",
   "execution_count": 6,
   "metadata": {},
   "outputs": [
    {
     "data": {
      "text/html": [
       "<div>\n",
       "<style scoped>\n",
       "    .dataframe tbody tr th:only-of-type {\n",
       "        vertical-align: middle;\n",
       "    }\n",
       "\n",
       "    .dataframe tbody tr th {\n",
       "        vertical-align: top;\n",
       "    }\n",
       "\n",
       "    .dataframe thead th {\n",
       "        text-align: right;\n",
       "    }\n",
       "</style>\n",
       "<table border=\"1\" class=\"dataframe\">\n",
       "  <thead>\n",
       "    <tr style=\"text-align: right;\">\n",
       "      <th></th>\n",
       "      <th>route_id</th>\n",
       "      <th>timestamp</th>\n",
       "      <th>trip_id</th>\n",
       "      <th>vehicle_id</th>\n",
       "      <th>vehicle_lat</th>\n",
       "      <th>vehicle_long</th>\n",
       "      <th>time_utc</th>\n",
       "      <th>time_pct</th>\n",
       "      <th>day</th>\n",
       "      <th>year</th>\n",
       "      <th>...</th>\n",
       "      <th>stop_name</th>\n",
       "      <th>stop_lat</th>\n",
       "      <th>stop_lon</th>\n",
       "      <th>trip_headsign</th>\n",
       "      <th>route_short_name</th>\n",
       "      <th>route_desc</th>\n",
       "      <th>trip_start_time</th>\n",
       "      <th>actual_time_from_scheduled_start</th>\n",
       "      <th>scheduled_time_from_scheduled_start</th>\n",
       "      <th>distance_btw_veh_and_shape</th>\n",
       "    </tr>\n",
       "    <tr>\n",
       "      <th>index</th>\n",
       "      <th></th>\n",
       "      <th></th>\n",
       "      <th></th>\n",
       "      <th></th>\n",
       "      <th></th>\n",
       "      <th></th>\n",
       "      <th></th>\n",
       "      <th></th>\n",
       "      <th></th>\n",
       "      <th></th>\n",
       "      <th></th>\n",
       "      <th></th>\n",
       "      <th></th>\n",
       "      <th></th>\n",
       "      <th></th>\n",
       "      <th></th>\n",
       "      <th></th>\n",
       "      <th></th>\n",
       "      <th></th>\n",
       "      <th></th>\n",
       "      <th></th>\n",
       "    </tr>\n",
       "  </thead>\n",
       "  <tbody>\n",
       "    <tr>\n",
       "      <th>0</th>\n",
       "      <td>100263</td>\n",
       "      <td>1535759730</td>\n",
       "      <td>39478305</td>\n",
       "      <td>4534</td>\n",
       "      <td>47.523304</td>\n",
       "      <td>-122.268219</td>\n",
       "      <td>2018-08-31 23:55:30</td>\n",
       "      <td>2018-08-31 16:55:30-07:00</td>\n",
       "      <td>31</td>\n",
       "      <td>2018</td>\n",
       "      <td>...</td>\n",
       "      <td>S Henderson St &amp; Rainier Ave S</td>\n",
       "      <td>47.523235</td>\n",
       "      <td>-122.268219</td>\n",
       "      <td>Downtown Seattle Via Rainier Ave S</td>\n",
       "      <td>7.0</td>\n",
       "      <td>Prentice St - Rainier Beach - Downtown Seattle</td>\n",
       "      <td>2019-06-16 17:03:00</td>\n",
       "      <td>-7.500000</td>\n",
       "      <td>0.000000</td>\n",
       "      <td>0.001661</td>\n",
       "    </tr>\n",
       "    <tr>\n",
       "      <th>1</th>\n",
       "      <td>100263</td>\n",
       "      <td>1535759926</td>\n",
       "      <td>39478060</td>\n",
       "      <td>4520</td>\n",
       "      <td>47.529758</td>\n",
       "      <td>-122.269997</td>\n",
       "      <td>2018-08-31 23:58:46</td>\n",
       "      <td>2018-08-31 16:58:46-07:00</td>\n",
       "      <td>31</td>\n",
       "      <td>2018</td>\n",
       "      <td>...</td>\n",
       "      <td>Rainier Ave S &amp; S Rose St</td>\n",
       "      <td>47.529728</td>\n",
       "      <td>-122.269897</td>\n",
       "      <td>Downtown Seattle Via Rainier Ave S</td>\n",
       "      <td>7.0</td>\n",
       "      <td>Prentice St - Rainier Beach - Downtown Seattle</td>\n",
       "      <td>2019-06-16 16:52:00</td>\n",
       "      <td>6.766667</td>\n",
       "      <td>7.000000</td>\n",
       "      <td>4.665079</td>\n",
       "    </tr>\n",
       "    <tr>\n",
       "      <th>2</th>\n",
       "      <td>100263</td>\n",
       "      <td>1535759927</td>\n",
       "      <td>39478068</td>\n",
       "      <td>4521</td>\n",
       "      <td>47.575783</td>\n",
       "      <td>-122.296181</td>\n",
       "      <td>2018-08-31 23:58:47</td>\n",
       "      <td>2018-08-31 16:58:47-07:00</td>\n",
       "      <td>31</td>\n",
       "      <td>2018</td>\n",
       "      <td>...</td>\n",
       "      <td>Rainier Ave S &amp; S Mount Baker Blvd</td>\n",
       "      <td>47.575809</td>\n",
       "      <td>-122.296089</td>\n",
       "      <td>Downtown Seattle Via Rainier Ave S</td>\n",
       "      <td>7.0</td>\n",
       "      <td>Prentice St - Rainier Beach - Downtown Seattle</td>\n",
       "      <td>2019-06-16 16:33:00</td>\n",
       "      <td>25.783333</td>\n",
       "      <td>23.083333</td>\n",
       "      <td>1.031650</td>\n",
       "    </tr>\n",
       "    <tr>\n",
       "      <th>4</th>\n",
       "      <td>100263</td>\n",
       "      <td>1535759941</td>\n",
       "      <td>39478293</td>\n",
       "      <td>4531</td>\n",
       "      <td>47.549232</td>\n",
       "      <td>-122.277054</td>\n",
       "      <td>2018-08-31 23:59:01</td>\n",
       "      <td>2018-08-31 16:59:01-07:00</td>\n",
       "      <td>31</td>\n",
       "      <td>2018</td>\n",
       "      <td>...</td>\n",
       "      <td>Rainier Ave S &amp; S Kenny St</td>\n",
       "      <td>47.549225</td>\n",
       "      <td>-122.276947</td>\n",
       "      <td>Downtown Seattle Via Rainier Ave S</td>\n",
       "      <td>7.0</td>\n",
       "      <td>Prentice St - Rainier Beach - Downtown Seattle</td>\n",
       "      <td>2019-06-16 16:42:00</td>\n",
       "      <td>17.016667</td>\n",
       "      <td>11.950000</td>\n",
       "      <td>1.782479</td>\n",
       "    </tr>\n",
       "    <tr>\n",
       "      <th>5</th>\n",
       "      <td>100263</td>\n",
       "      <td>1535759958</td>\n",
       "      <td>39478267</td>\n",
       "      <td>4536</td>\n",
       "      <td>47.581169</td>\n",
       "      <td>-122.300301</td>\n",
       "      <td>2018-08-31 23:59:18</td>\n",
       "      <td>2018-08-31 16:59:18-07:00</td>\n",
       "      <td>31</td>\n",
       "      <td>2018</td>\n",
       "      <td>...</td>\n",
       "      <td>Rainier Ave S &amp; S Bayview St</td>\n",
       "      <td>47.581196</td>\n",
       "      <td>-122.300201</td>\n",
       "      <td>Downtown Seattle Via Rainier Ave S</td>\n",
       "      <td>7.0</td>\n",
       "      <td>Prentice St - Rainier Beach - Downtown Seattle</td>\n",
       "      <td>2019-06-16 16:27:00</td>\n",
       "      <td>32.300000</td>\n",
       "      <td>25.683333</td>\n",
       "      <td>1.392724</td>\n",
       "    </tr>\n",
       "  </tbody>\n",
       "</table>\n",
       "<p>5 rows × 34 columns</p>\n",
       "</div>"
      ],
      "text/plain": [
       "       route_id   timestamp   trip_id  vehicle_id  vehicle_lat  vehicle_long  \\\n",
       "index                                                                          \n",
       "0        100263  1535759730  39478305        4534    47.523304   -122.268219   \n",
       "1        100263  1535759926  39478060        4520    47.529758   -122.269997   \n",
       "2        100263  1535759927  39478068        4521    47.575783   -122.296181   \n",
       "4        100263  1535759941  39478293        4531    47.549232   -122.277054   \n",
       "5        100263  1535759958  39478267        4536    47.581169   -122.300301   \n",
       "\n",
       "                  time_utc                   time_pct  day  year  \\\n",
       "index                                                              \n",
       "0      2018-08-31 23:55:30  2018-08-31 16:55:30-07:00   31  2018   \n",
       "1      2018-08-31 23:58:46  2018-08-31 16:58:46-07:00   31  2018   \n",
       "2      2018-08-31 23:58:47  2018-08-31 16:58:47-07:00   31  2018   \n",
       "4      2018-08-31 23:59:01  2018-08-31 16:59:01-07:00   31  2018   \n",
       "5      2018-08-31 23:59:18  2018-08-31 16:59:18-07:00   31  2018   \n",
       "\n",
       "                  ...                                       stop_name  \\\n",
       "index             ...                                                   \n",
       "0                 ...                  S Henderson St & Rainier Ave S   \n",
       "1                 ...                       Rainier Ave S & S Rose St   \n",
       "2                 ...              Rainier Ave S & S Mount Baker Blvd   \n",
       "4                 ...                      Rainier Ave S & S Kenny St   \n",
       "5                 ...                    Rainier Ave S & S Bayview St   \n",
       "\n",
       "        stop_lat    stop_lon                       trip_headsign  \\\n",
       "index                                                              \n",
       "0      47.523235 -122.268219  Downtown Seattle Via Rainier Ave S   \n",
       "1      47.529728 -122.269897  Downtown Seattle Via Rainier Ave S   \n",
       "2      47.575809 -122.296089  Downtown Seattle Via Rainier Ave S   \n",
       "4      47.549225 -122.276947  Downtown Seattle Via Rainier Ave S   \n",
       "5      47.581196 -122.300201  Downtown Seattle Via Rainier Ave S   \n",
       "\n",
       "       route_short_name                                      route_desc  \\\n",
       "index                                                                     \n",
       "0                   7.0  Prentice St - Rainier Beach - Downtown Seattle   \n",
       "1                   7.0  Prentice St - Rainier Beach - Downtown Seattle   \n",
       "2                   7.0  Prentice St - Rainier Beach - Downtown Seattle   \n",
       "4                   7.0  Prentice St - Rainier Beach - Downtown Seattle   \n",
       "5                   7.0  Prentice St - Rainier Beach - Downtown Seattle   \n",
       "\n",
       "           trip_start_time  actual_time_from_scheduled_start  \\\n",
       "index                                                          \n",
       "0      2019-06-16 17:03:00                         -7.500000   \n",
       "1      2019-06-16 16:52:00                          6.766667   \n",
       "2      2019-06-16 16:33:00                         25.783333   \n",
       "4      2019-06-16 16:42:00                         17.016667   \n",
       "5      2019-06-16 16:27:00                         32.300000   \n",
       "\n",
       "       scheduled_time_from_scheduled_start  distance_btw_veh_and_shape  \n",
       "index                                                                   \n",
       "0                                 0.000000                    0.001661  \n",
       "1                                 7.000000                    4.665079  \n",
       "2                                23.083333                    1.031650  \n",
       "4                                11.950000                    1.782479  \n",
       "5                                25.683333                    1.392724  \n",
       "\n",
       "[5 rows x 34 columns]"
      ]
     },
     "execution_count": 6,
     "metadata": {},
     "output_type": "execute_result"
    }
   ],
   "source": [
    "df = pd.read_csv('../data/transformed/route_7_DowntownSeattleViaRainierAveS_shape_10007006_node_trips_w_nearest_2018-08-15_2018-12-11.csv',\n",
    "                index_col='index')\n",
    "df.head()"
   ]
  },
  {
   "cell_type": "code",
   "execution_count": 7,
   "metadata": {},
   "outputs": [
    {
     "data": {
      "text/plain": [
       "route_id                                                                       100263\n",
       "timestamp                                                                  1535759730\n",
       "trip_id                                                                      39478305\n",
       "vehicle_id                                                                       4534\n",
       "vehicle_lat                                                                   47.5233\n",
       "vehicle_long                                                                 -122.268\n",
       "time_utc                                                          2018-08-31 23:55:30\n",
       "time_pct                                                    2018-08-31 16:55:30-07:00\n",
       "day                                                                                31\n",
       "year                                                                             2018\n",
       "month                                                                               8\n",
       "hour                                                                               16\n",
       "dow                                                                                 4\n",
       "direction_id                                                                        1\n",
       "shape_id                                                                     10007006\n",
       "month_day_trip_veh                                            2018_8_31_39478305_4534\n",
       "shape_pt_sequence                                                                   1\n",
       "shape_dist_traveled                                                                 0\n",
       "shape_pt_lat                                                                  47.5233\n",
       "shape_pt_lon                                                                 -122.268\n",
       "arrival_time                                                      2019-06-16 17:03:00\n",
       "departure_time                                                               17:03:00\n",
       "stop_id                                                                         31137\n",
       "stop_sequence                                                                       1\n",
       "stop_name                                              S Henderson St & Rainier Ave S\n",
       "stop_lat                                                                      47.5232\n",
       "stop_lon                                                                     -122.268\n",
       "trip_headsign                                      Downtown Seattle Via Rainier Ave S\n",
       "route_short_name                                                                    7\n",
       "route_desc                             Prentice St - Rainier Beach - Downtown Seattle\n",
       "trip_start_time                                                   2019-06-16 17:03:00\n",
       "actual_time_from_scheduled_start                                                 -7.5\n",
       "scheduled_time_from_scheduled_start                                                 0\n",
       "distance_btw_veh_and_shape                                                 0.00166102\n",
       "Name: 0, dtype: object"
      ]
     },
     "execution_count": 7,
     "metadata": {},
     "output_type": "execute_result"
    }
   ],
   "source": [
    "df.loc[0]"
   ]
  },
  {
   "cell_type": "markdown",
   "metadata": {},
   "source": [
    "## Sort values to compare points on the same trip"
   ]
  },
  {
   "cell_type": "code",
   "execution_count": 8,
   "metadata": {},
   "outputs": [
    {
     "data": {
      "text/plain": [
       "route_id                                                                       100263\n",
       "timestamp                                                                  1539218695\n",
       "trip_id                                                                      40984830\n",
       "vehicle_id                                                                       4527\n",
       "vehicle_lat                                                                   47.5216\n",
       "vehicle_long                                                                 -122.264\n",
       "time_utc                                                          2018-10-11 00:44:55\n",
       "time_pct                                                    2018-10-10 17:44:55-07:00\n",
       "day                                                                                10\n",
       "year                                                                             2018\n",
       "month                                                                              10\n",
       "hour                                                                               17\n",
       "dow                                                                                 2\n",
       "direction_id                                                                        1\n",
       "shape_id                                                                     10007006\n",
       "month_day_trip_veh                                           2018_10_10_40984830_4527\n",
       "shape_pt_sequence                                                                  10\n",
       "shape_dist_traveled                                                            1506.9\n",
       "shape_pt_lat                                                                  47.5217\n",
       "shape_pt_lon                                                                 -122.264\n",
       "arrival_time                                                      2019-06-16 17:39:14\n",
       "departure_time                                                               17:39:14\n",
       "stop_id                                                                         30122\n",
       "stop_sequence                                                                      10\n",
       "stop_name                                             Seward Park Ave S & S Fisher Pl\n",
       "stop_lat                                                                      47.5216\n",
       "stop_lon                                                                     -122.264\n",
       "trip_headsign                                      Downtown Seattle Via Rainier Ave S\n",
       "route_short_name                                                                    7\n",
       "route_desc                             Prentice St - Rainier Beach - Downtown Seattle\n",
       "trip_start_time                                                   2019-06-16 17:38:00\n",
       "actual_time_from_scheduled_start                                              6.91667\n",
       "scheduled_time_from_scheduled_start                                           1.23333\n",
       "distance_btw_veh_and_shape                                                    2.42702\n",
       "Name: 106159, dtype: object"
      ]
     },
     "execution_count": 8,
     "metadata": {},
     "output_type": "execute_result"
    }
   ],
   "source": [
    "df.sort_values(['month_day_trip_veh', 'shape_pt_sequence']).iloc[1]"
   ]
  },
  {
   "cell_type": "code",
   "execution_count": 9,
   "metadata": {},
   "outputs": [
    {
     "data": {
      "text/plain": [
       "route_id                                                  100263\n",
       "timestamp                                             1539218662\n",
       "trip_id                                                 40984830\n",
       "vehicle_id                                                  4527\n",
       "vehicle_lat                                              47.5198\n",
       "vehicle_long                                            -122.266\n",
       "time_utc                                     2018-10-11 00:44:22\n",
       "time_pct                               2018-10-10 17:44:22-07:00\n",
       "day                                                           10\n",
       "year                                                        2018\n",
       "month                                                         10\n",
       "hour                                                          17\n",
       "dow                                                            2\n",
       "direction_id                                                   1\n",
       "shape_id                                                10007006\n",
       "month_day_trip_veh                      2018_10_10_40984830_4527\n",
       "shape_pt_sequence                                             23\n",
       "shape_dist_traveled                                       3043.1\n",
       "shape_pt_lat                                             47.5198\n",
       "shape_pt_lon                                            -122.266\n",
       "arrival_time                                                 NaN\n",
       "departure_time                                               NaN\n",
       "stop_id                                                      NaN\n",
       "stop_sequence                                                NaN\n",
       "stop_name                                                    NaN\n",
       "stop_lat                                                     NaN\n",
       "stop_lon                                                     NaN\n",
       "trip_headsign                                                NaN\n",
       "route_short_name                                             NaN\n",
       "route_desc                                                   NaN\n",
       "trip_start_time                              2019-06-16 17:38:00\n",
       "actual_time_from_scheduled_start                         6.36667\n",
       "scheduled_time_from_scheduled_start                          NaN\n",
       "distance_btw_veh_and_shape                               10.8812\n",
       "Name: 106152, dtype: object"
      ]
     },
     "execution_count": 9,
     "metadata": {},
     "output_type": "execute_result"
    }
   ],
   "source": [
    "df.sort_values(['month_day_trip_veh', 'shape_pt_sequence']).iloc[2]"
   ]
  },
  {
   "cell_type": "markdown",
   "metadata": {},
   "source": [
    "## Load shapes data"
   ]
  },
  {
   "cell_type": "code",
   "execution_count": 11,
   "metadata": {},
   "outputs": [
    {
     "name": "stdout",
     "output_type": "stream",
     "text": [
      "\u001b[31magency.txt\u001b[m\u001b[m          \u001b[31mcalendar.txt\u001b[m\u001b[m        \u001b[31mfare_rules.txt\u001b[m\u001b[m      \u001b[31mstop_times.txt\u001b[m\u001b[m\r\n",
      "\u001b[31mblock.txt\u001b[m\u001b[m           \u001b[31mcalendar_dates.txt\u001b[m\u001b[m  \u001b[31mroutes.txt\u001b[m\u001b[m          \u001b[31mstops.txt\u001b[m\u001b[m\r\n",
      "\u001b[31mblock_trip.txt\u001b[m\u001b[m      \u001b[31mfare_attributes.txt\u001b[m\u001b[m \u001b[31mshapes.txt\u001b[m\u001b[m          \u001b[31mtrips.txt\u001b[m\u001b[m\r\n"
     ]
    }
   ],
   "source": [
    "!ls ../data/source/gtfs_20180815"
   ]
  },
  {
   "cell_type": "code",
   "execution_count": 12,
   "metadata": {},
   "outputs": [],
   "source": [
    "shapes_df = pd.read_csv('../data/source/gtfs_20180815/shapes.txt')"
   ]
  },
  {
   "cell_type": "markdown",
   "metadata": {},
   "source": [
    "## Write a wrapper function to find the closest route point for each row\n",
    "\n",
    "NOTE: It is quite slow to `.apply` this function to the 182618 rows of location data in this particular file. I didn't time it, so I'm not sure how slow, but I think it was more than 10 minutes.\n",
    "\n",
    "I think it will be worth trying to \"vectorize\" the functions in `find_closest_route_point.py`, i.e. rewrite them to take a dataframe as input and operate directly on entire columns rather than on single numbers, thus avoiding the need to use `.apply`. I think this should result in passing off the main outer `for` loop to `numpy`/`C`, which should result in a speedup; I'm curious to see how much difference that makes."
   ]
  },
  {
   "cell_type": "code",
   "execution_count": 13,
   "metadata": {},
   "outputs": [],
   "source": [
    "def transform_row(row):\n",
    "    \"\"\"Get the closest route point and shape distance for a row\"\"\"\n",
    "    return f.find_closest_point_on_route(shapes_df, row.shape_id, row.vehicle_lat, row.vehicle_long, row.shape_pt_sequence)"
   ]
  },
  {
   "cell_type": "code",
   "execution_count": 85,
   "metadata": {},
   "outputs": [],
   "source": [
    "# WARNING: This takes several minutes to run (~15 minutes(?) on my computer)\n",
    "closest_points = df.apply(transform_row, axis=1)"
   ]
  },
  {
   "cell_type": "code",
   "execution_count": 86,
   "metadata": {},
   "outputs": [
    {
     "data": {
      "text/plain": [
       "index\n",
       "0         ([-122.26821899414062, 47.523303999999996], 0....\n",
       "1         ([-122.269997, 47.52975845336914], 7477.713018...\n",
       "2         ([-122.29617218849184, 47.57578366628681], 260...\n",
       "4         ([-122.27705710073377, 47.54923102303739], 149...\n",
       "5         ([-122.30028775154207, 47.58116824502017], 282...\n",
       "6         ([-122.27036028610475, 47.5373810851632], 1026...\n",
       "7         ([-122.2974777367926, 47.57748015924321], 2676...\n",
       "8         ([-122.32840728759766, 47.5992012], 39215.9065...\n",
       "9         ([-122.27979964741714, 47.55344953702593], 167...\n",
       "11        ([-122.27297981600384, 47.54268934375549], 123...\n",
       "12        ([-122.3002918366536, 47.58115995091032], 2827...\n",
       "13        ([-122.33017166405241, 47.60167346550371], 403...\n",
       "14        ([-122.2855827448728, 47.55887972055843], 1923...\n",
       "15        ([-122.30238995344557, 47.583901182373985], 29...\n",
       "16        ([-122.2660140991211, 47.5232964], 547.7636440...\n",
       "18        ([-122.27781859050252, 47.55145464650786], 158...\n",
       "20        ([-122.28721779147902, 47.56100678036571], 201...\n",
       "22        ([-122.26428343233559, 47.52164656979807], 151...\n",
       "23        ([-122.27976222267266, 47.553451488128985], 16...\n",
       "24        ([-122.30238995344557, 47.583901182373985], 29...\n",
       "25        ([-122.33267097126057, 47.604166620450364], 41...\n",
       "26        ([-122.28965257655835, 47.56850987130418], 229...\n",
       "29        ([-122.267822265625, 47.519851700000004], 3453...\n",
       "30        ([-122.30479876530883, 47.58708442281377], 307...\n",
       "31        ([-122.2855827448728, 47.55887972055843], 1923...\n",
       "32        ([-122.33529713565461, 47.60701016288605], 427...\n",
       "34        ([-122.269981, 47.52286911010742], 4965.338298...\n",
       "35        ([-122.28829901697152, 47.56450315770718], 214...\n",
       "36        ([-122.30726215032674, 47.59032589540408], 320...\n",
       "38        ([-122.29396682030446, 47.57289132236519], 248...\n",
       "                                ...                        \n",
       "239934    ([-122.3376658047934, 47.6096310332513], 43844...\n",
       "239935    ([-122.31042025025177, 47.594345473208875], 33...\n",
       "239936    ([-122.29138292891686, 47.57041048813946], 236...\n",
       "239937    ([-122.28397385261606, 47.55633557409817], 182...\n",
       "239938    ([-122.26821899414062, 47.523303999999996], 0....\n",
       "239939    ([-122.33529659394895, 47.60702809730405], 427...\n",
       "239942    ([-122.28557471327915, 47.55890139618561], 192...\n",
       "239943    ([-122.26602935791016, 47.5232964], 543.923344...\n",
       "239946    ([-122.31172020004546, 47.5960889442618], 3442...\n",
       "239947    ([-122.29396799386892, 47.5728684263273], 2487...\n",
       "239948    ([-122.28829901697152, 47.56450315770718], 214...\n",
       "239949    ([-122.26427988633259, 47.52165496512042], 151...\n",
       "239950    ([-122.33766694261476, 47.60962280768085], 438...\n",
       "239951    ([-122.3151550133832, 47.59920500005425], 3594...\n",
       "239952    ([-122.29617299288243, 47.5757751754939], 2606...\n",
       "239954    ([-122.269997, 47.52132797241211], 4400.390135...\n",
       "239957    ([-122.32232666011872, 47.599193610585296], 37...\n",
       "239959    ([-122.26821899414062, 47.523303999999996], 0....\n",
       "239960    ([-122.28965619492615, 47.56850695804123], 229...\n",
       "239961    ([-122.269981, 47.52286911010742], 4965.338298...\n",
       "239963    ([-122.32547756191622, 47.59918989464633], 384...\n",
       "239964    ([-122.29747609338685, 47.57750030706646], 267...\n",
       "239965    ([-122.29138292891686, 47.57041048813946], 236...\n",
       "239966    ([-122.269981, 47.52596664428711], 6092.716303...\n",
       "239967    ([-122.26821899414062, 47.523303999999996], 0....\n",
       "239968    ([-122.26821899414062, 47.523303999999996], 0....\n",
       "239969    ([-122.32838439941406, 47.5992012], 39210.2978...\n",
       "239970    ([-122.3002918366536, 47.58115995091032], 2827...\n",
       "239971    ([-122.29396799386892, 47.5728684263273], 2487...\n",
       "239972    ([-122.269997, 47.52939224243164], 7339.510724...\n",
       "Length: 182618, dtype: object"
      ]
     },
     "execution_count": 86,
     "metadata": {},
     "output_type": "execute_result"
    }
   ],
   "source": [
    "closest_points"
   ]
  },
  {
   "cell_type": "code",
   "execution_count": 87,
   "metadata": {},
   "outputs": [
    {
     "data": {
      "text/plain": [
       "(array([-122.26821899,   47.523304  ]), 0.001459632370744325)"
      ]
     },
     "execution_count": 87,
     "metadata": {},
     "output_type": "execute_result"
    }
   ],
   "source": [
    "closest_points[0]"
   ]
  },
  {
   "cell_type": "code",
   "execution_count": 89,
   "metadata": {},
   "outputs": [
    {
     "data": {
      "text/plain": [
       "-122.26821899414062"
      ]
     },
     "execution_count": 89,
     "metadata": {},
     "output_type": "execute_result"
    }
   ],
   "source": [
    "closest_points[0][0][0]"
   ]
  },
  {
   "cell_type": "code",
   "execution_count": 90,
   "metadata": {},
   "outputs": [
    {
     "data": {
      "text/plain": [
       "(array([-122.26821899,   47.523304  ]), 0.001459632370744325)"
      ]
     },
     "execution_count": 90,
     "metadata": {},
     "output_type": "execute_result"
    }
   ],
   "source": [
    "closest_points[:][0]"
   ]
  },
  {
   "cell_type": "markdown",
   "metadata": {},
   "source": [
    "## Fail!! Time to debug...\n",
    "\n",
    "I had some of the array shapes wrong. Namely:\n",
    "\n",
    "1. The direction vector needed to be transposed in the `get_projection_and_dist_ratio` function to handle the case when it was actually a matrix containing two direction vectors;\n",
    "2. I needed to use `dist_ratio.reshape(-1)` rather than `dist_ratio.reshape(2)` in the `find_closest_point_on_route` function since sometimes `dist_ratio` contains only one number instead of 2."
   ]
  },
  {
   "cell_type": "code",
   "execution_count": 73,
   "metadata": {},
   "outputs": [
    {
     "data": {
      "text/plain": [
       "route_id                                                                       100263\n",
       "timestamp                                                                  1535759730\n",
       "trip_id                                                                      39478305\n",
       "vehicle_id                                                                       4534\n",
       "vehicle_lat                                                                   47.5233\n",
       "vehicle_long                                                                 -122.268\n",
       "time_utc                                                          2018-08-31 23:55:30\n",
       "time_pct                                                    2018-08-31 16:55:30-07:00\n",
       "day                                                                                31\n",
       "year                                                                             2018\n",
       "month                                                                               8\n",
       "hour                                                                               16\n",
       "dow                                                                                 4\n",
       "direction_id                                                                        1\n",
       "shape_id                                                                     10007006\n",
       "month_day_trip_veh                                            2018_8_31_39478305_4534\n",
       "shape_pt_sequence                                                                   1\n",
       "shape_dist_traveled                                                                 0\n",
       "shape_pt_lat                                                                  47.5233\n",
       "shape_pt_lon                                                                 -122.268\n",
       "arrival_time                                                      2019-06-16 17:03:00\n",
       "departure_time                                                               17:03:00\n",
       "stop_id                                                                         31137\n",
       "stop_sequence                                                                       1\n",
       "stop_name                                              S Henderson St & Rainier Ave S\n",
       "stop_lat                                                                      47.5232\n",
       "stop_lon                                                                     -122.268\n",
       "trip_headsign                                      Downtown Seattle Via Rainier Ave S\n",
       "route_short_name                                                                    7\n",
       "route_desc                             Prentice St - Rainier Beach - Downtown Seattle\n",
       "trip_start_time                                                   2019-06-16 17:03:00\n",
       "actual_time_from_scheduled_start                                                 -7.5\n",
       "scheduled_time_from_scheduled_start                                                 0\n",
       "distance_btw_veh_and_shape                                                 0.00166102\n",
       "Name: 0, dtype: object"
      ]
     },
     "execution_count": 73,
     "metadata": {},
     "output_type": "execute_result"
    }
   ],
   "source": [
    "row = df.loc[0]\n",
    "row"
   ]
  },
  {
   "cell_type": "code",
   "execution_count": 74,
   "metadata": {},
   "outputs": [
    {
     "name": "stdout",
     "output_type": "stream",
     "text": [
      "10007006 47.5233039855957 -122.26821899414062 1\n"
     ]
    }
   ],
   "source": [
    "print(row.shape_id, row.vehicle_lat, row.vehicle_long, row.shape_pt_sequence)"
   ]
  },
  {
   "cell_type": "code",
   "execution_count": 75,
   "metadata": {},
   "outputs": [
    {
     "data": {
      "text/html": [
       "<div>\n",
       "<style scoped>\n",
       "    .dataframe tbody tr th:only-of-type {\n",
       "        vertical-align: middle;\n",
       "    }\n",
       "\n",
       "    .dataframe tbody tr th {\n",
       "        vertical-align: top;\n",
       "    }\n",
       "\n",
       "    .dataframe thead th {\n",
       "        text-align: right;\n",
       "    }\n",
       "</style>\n",
       "<table border=\"1\" class=\"dataframe\">\n",
       "  <thead>\n",
       "    <tr style=\"text-align: right;\">\n",
       "      <th></th>\n",
       "      <th>shape_id</th>\n",
       "      <th>shape_pt_lat</th>\n",
       "      <th>shape_pt_lon</th>\n",
       "      <th>shape_pt_sequence</th>\n",
       "      <th>shape_dist_traveled</th>\n",
       "    </tr>\n",
       "  </thead>\n",
       "  <tbody>\n",
       "    <tr>\n",
       "      <th>3964</th>\n",
       "      <td>10007006</td>\n",
       "      <td>47.523304</td>\n",
       "      <td>-122.268219</td>\n",
       "      <td>1</td>\n",
       "      <td>0.0</td>\n",
       "    </tr>\n",
       "  </tbody>\n",
       "</table>\n",
       "</div>"
      ],
      "text/plain": [
       "      shape_id  shape_pt_lat  shape_pt_lon  shape_pt_sequence  \\\n",
       "3964  10007006     47.523304   -122.268219                  1   \n",
       "\n",
       "      shape_dist_traveled  \n",
       "3964                  0.0  "
      ]
     },
     "execution_count": 75,
     "metadata": {},
     "output_type": "execute_result"
    }
   ],
   "source": [
    "shape_pt_data = f.get_shape_point_data(shapes_df, row.shape_id, row.shape_pt_sequence)\n",
    "shape_pt_data"
   ]
  },
  {
   "cell_type": "code",
   "execution_count": 76,
   "metadata": {},
   "outputs": [
    {
     "data": {
      "text/html": [
       "<div>\n",
       "<style scoped>\n",
       "    .dataframe tbody tr th:only-of-type {\n",
       "        vertical-align: middle;\n",
       "    }\n",
       "\n",
       "    .dataframe tbody tr th {\n",
       "        vertical-align: top;\n",
       "    }\n",
       "\n",
       "    .dataframe thead th {\n",
       "        text-align: right;\n",
       "    }\n",
       "</style>\n",
       "<table border=\"1\" class=\"dataframe\">\n",
       "  <thead>\n",
       "    <tr style=\"text-align: right;\">\n",
       "      <th></th>\n",
       "      <th>shape_id</th>\n",
       "      <th>shape_pt_lat</th>\n",
       "      <th>shape_pt_lon</th>\n",
       "      <th>shape_pt_sequence</th>\n",
       "      <th>shape_dist_traveled</th>\n",
       "    </tr>\n",
       "  </thead>\n",
       "  <tbody>\n",
       "    <tr>\n",
       "      <th>3965</th>\n",
       "      <td>10007006</td>\n",
       "      <td>47.523304</td>\n",
       "      <td>-122.267319</td>\n",
       "      <td>2</td>\n",
       "      <td>224.2</td>\n",
       "    </tr>\n",
       "  </tbody>\n",
       "</table>\n",
       "</div>"
      ],
      "text/plain": [
       "      shape_id  shape_pt_lat  shape_pt_lon  shape_pt_sequence  \\\n",
       "3965  10007006     47.523304   -122.267319                  2   \n",
       "\n",
       "      shape_dist_traveled  \n",
       "3965                224.2  "
      ]
     },
     "execution_count": 76,
     "metadata": {},
     "output_type": "execute_result"
    }
   ],
   "source": [
    "adjacent_shape_pt_data = f.get_adjacent_shape_point_data(shapes_df, shape_pt_data.index[0])\n",
    "adjacent_shape_pt_data"
   ]
  },
  {
   "cell_type": "code",
   "execution_count": 77,
   "metadata": {},
   "outputs": [
    {
     "name": "stdout",
     "output_type": "stream",
     "text": [
      "[-122.26821899   47.52330399] [[-122.268219   47.523304]] [[-122.267319   47.523304]]\n"
     ]
    }
   ],
   "source": [
    "vehicle_pt = np.array([row.vehicle_long, row.vehicle_lat])\n",
    "closest_shape_pt = shape_pt_data[['shape_pt_lon', 'shape_pt_lat']].values\n",
    "adjacent_pts = adjacent_shape_pt_data[['shape_pt_lon', 'shape_pt_lat']].values\n",
    "print(vehicle_pt, closest_shape_pt, adjacent_pts)"
   ]
  },
  {
   "cell_type": "code",
   "execution_count": 83,
   "metadata": {},
   "outputs": [
    {
     "name": "stdout",
     "output_type": "stream",
     "text": [
      "[-122.26821899   47.52330399] [[-122.268219   47.523304]] [[0.0009 0.    ]]\n",
      "[[-122.26821899   47.523304  ]] [[6.51040308e-06]]\n"
     ]
    }
   ],
   "source": [
    "closest_pt, dist_ratio = f.get_projection_and_dist_ratio(vehicle_pt, closest_shape_pt, adjacent_pts)\n",
    "print(closest_pt, dist_ratio)"
   ]
  },
  {
   "cell_type": "code",
   "execution_count": 79,
   "metadata": {},
   "outputs": [
    {
     "data": {
      "text/plain": [
       "array([[0.0009, 0.    ]])"
      ]
     },
     "execution_count": 79,
     "metadata": {},
     "output_type": "execute_result"
    }
   ],
   "source": [
    "#np.array([[-122.267319, 47.523304]]) - np.array([[-122.268219, 47.523304]])\n",
    "direction = adjacent_pts - closest_shape_pt\n",
    "direction"
   ]
  },
  {
   "cell_type": "code",
   "execution_count": 80,
   "metadata": {},
   "outputs": [
    {
     "data": {
      "text/plain": [
       "array([[ 5.85936277e-09, -1.44042929e-08]])"
      ]
     },
     "execution_count": 80,
     "metadata": {},
     "output_type": "execute_result"
    }
   ],
   "source": [
    "#np.array([-122.26821899, 47.52330399]) - np.array([[-122.268219, 47.523304]])\n",
    "vehicle_pt - closest_shape_pt"
   ]
  },
  {
   "cell_type": "code",
   "execution_count": 81,
   "metadata": {},
   "outputs": [
    {
     "data": {
      "text/plain": [
       "array([[5.2734265e-12]])"
      ]
     },
     "execution_count": 81,
     "metadata": {},
     "output_type": "execute_result"
    }
   ],
   "source": [
    "(vehicle_pt - closest_shape_pt).dot(direction.T)"
   ]
  },
  {
   "cell_type": "code",
   "execution_count": 82,
   "metadata": {},
   "outputs": [
    {
     "data": {
      "text/plain": [
       "array([[0.0009],\n",
       "       [0.    ]])"
      ]
     },
     "execution_count": 82,
     "metadata": {},
     "output_type": "execute_result"
    }
   ],
   "source": [
    "direction.T"
   ]
  },
  {
   "cell_type": "code",
   "execution_count": null,
   "metadata": {},
   "outputs": [],
   "source": []
  }
 ],
 "metadata": {
  "kernelspec": {
   "display_name": "realtime-buses",
   "language": "python",
   "name": "realtime-buses"
  },
  "language_info": {
   "codemirror_mode": {
    "name": "ipython",
    "version": 3
   },
   "file_extension": ".py",
   "mimetype": "text/x-python",
   "name": "python",
   "nbconvert_exporter": "python",
   "pygments_lexer": "ipython3",
   "version": "3.6.8"
  }
 },
 "nbformat": 4,
 "nbformat_minor": 2
}
