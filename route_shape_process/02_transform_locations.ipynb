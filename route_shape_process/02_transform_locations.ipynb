{
 "cells": [
  {
   "cell_type": "markdown",
   "metadata": {},
   "source": [
    "# importing interactive libraries for interactive plots at the bottom of this notebook, you can comment these out if you just want to do transformations"
   ]
  },
  {
   "cell_type": "code",
   "execution_count": 2,
   "metadata": {
    "ExecuteTime": {
     "end_time": "2019-05-26T23:19:38.119855Z",
     "start_time": "2019-05-26T23:19:38.099622Z"
    }
   },
   "outputs": [],
   "source": [
    "#comment out these libraries if you don't want/have interactive widgets\n",
    "import ipywidgets as widgets\n",
    "from ipywidgets import interact, interact_manual"
   ]
  },
  {
   "cell_type": "markdown",
   "metadata": {},
   "source": [
    "# importing matplotlib for plotting at the bottom of this notebook"
   ]
  },
  {
   "cell_type": "code",
   "execution_count": 3,
   "metadata": {
    "ExecuteTime": {
     "end_time": "2019-05-26T23:19:39.219670Z",
     "start_time": "2019-05-26T23:19:38.780170Z"
    }
   },
   "outputs": [],
   "source": [
    "import matplotlib.pyplot as plt\n",
    "%matplotlib inline"
   ]
  },
  {
   "cell_type": "markdown",
   "metadata": {},
   "source": [
    "# load in all functions from `route_shape_process_scripts.py` file"
   ]
  },
  {
   "cell_type": "code",
   "execution_count": 4,
   "metadata": {
    "ExecuteTime": {
     "end_time": "2019-05-26T23:19:43.936624Z",
     "start_time": "2019-05-26T23:19:40.900975Z"
    }
   },
   "outputs": [],
   "source": [
    "from route_shape_process_scripts import *"
   ]
  },
  {
   "cell_type": "markdown",
   "metadata": {},
   "source": [
    "# General transformation flow in this notebook:\n",
    "- import gtfs files\n",
    "- pick a route of interest\n",
    "- grab position files for all routes\n",
    "- filter positions for only that route\n",
    "- add time index (this is used to break up positions by datetime and join with gtfs)\n",
    "- get popular shape in both route directions (direction_id)\n",
    "- make a route_vertex geopandas dataframe - we'll use this to find \"nearest\" route node\n",
    "- take all positions and find closest route node\n",
    "- append route info (distance traveled / shape_pt_sequence)\n",
    "- create timing metrics based on `trip_start_time` and `time_pct` <- position observation time - converted to Pacific"
   ]
  },
  {
   "cell_type": "markdown",
   "metadata": {},
   "source": [
    "# import gtfs from 01_gtfs_transform notebook output"
   ]
  },
  {
   "cell_type": "code",
   "execution_count": 5,
   "metadata": {
    "ExecuteTime": {
     "end_time": "2019-05-26T23:20:39.696685Z",
     "start_time": "2019-05-26T23:19:50.354085Z"
    }
   },
   "outputs": [],
   "source": [
    "full_routes_gtfs = pd.read_csv(\"input_gtfs/gtfs_routes_2018-08-15_2018-12-12.csv\", low_memory=False)\n",
    "full_shapes_gtfs = pd.read_csv(\"input_gtfs/gtfs_shapes_2018-08-15_2018-12-12.csv\", low_memory=False)\n",
    "full_trips_gtfs = pd.read_csv(\"input_gtfs/gtfs_trips_2018-08-15_2018-12-12.csv\", low_memory=False)\n",
    "full_trip_stop_schedule = pd.read_csv(\"input_gtfs/gtfs_2018-08-15_2018-12-12.csv\", low_memory=False)"
   ]
  },
  {
   "cell_type": "markdown",
   "metadata": {},
   "source": [
    "# break up the gtfs by `start date` and `end date`. TODO: there is a better way to do this. Right now, we want to make sure the vehicle position observation is joined with the `right` gtfs information. The simplest way to do that is to break up the position file by date and break up the gtfs by date and only join where the date windows match. "
   ]
  },
  {
   "cell_type": "code",
   "execution_count": 6,
   "metadata": {
    "ExecuteTime": {
     "end_time": "2019-05-26T23:23:43.093754Z",
     "start_time": "2019-05-26T23:23:40.624619Z"
    }
   },
   "outputs": [],
   "source": [
    "full_trip_stop_schedule_dict = {}\n",
    "for name, group in full_trip_stop_schedule.groupby(['start_gtfs_date','end_gtfs_date']):\n",
    "    full_trip_stop_schedule_dict[name] = group"
   ]
  },
  {
   "cell_type": "markdown",
   "metadata": {},
   "source": [
    "# analyze September --> November"
   ]
  },
  {
   "cell_type": "markdown",
   "metadata": {},
   "source": [
    "## get route name -- id dictionary. Nathaniel has a better class for this in `/data_transformations` but I haven't incorporated it yet. the below dictionary works as a quick/dirty way to input `route_short_name` and output `route_id`"
   ]
  },
  {
   "cell_type": "code",
   "execution_count": 7,
   "metadata": {
    "ExecuteTime": {
     "end_time": "2019-05-26T23:25:20.520287Z",
     "start_time": "2019-05-26T23:25:20.480697Z"
    }
   },
   "outputs": [],
   "source": [
    "route_name_to_id_dict = dict(zip(full_routes_gtfs.route_short_name.tolist(),full_routes_gtfs.route_id.tolist()))"
   ]
  },
  {
   "cell_type": "markdown",
   "metadata": {},
   "source": [
    "## select a route"
   ]
  },
  {
   "cell_type": "code",
   "execution_count": 8,
   "metadata": {
    "ExecuteTime": {
     "end_time": "2019-05-26T23:25:22.894167Z",
     "start_time": "2019-05-26T23:25:22.853881Z"
    }
   },
   "outputs": [
    {
     "data": {
      "text/plain": [
       "{'route_id': 100275}"
      ]
     },
     "execution_count": 8,
     "metadata": {},
     "output_type": "execute_result"
    }
   ],
   "source": [
    "#get_select_routeid_name(full_routes_gtfs, ['E Line'])[2]\n",
    "route_of_interest = '8'\n",
    "route_of_interest_id = route_name_to_id_dict[route_of_interest]\n",
    "input_dict = {'route_id':route_of_interest_id}\n",
    "input_dict"
   ]
  },
  {
   "cell_type": "markdown",
   "metadata": {},
   "source": [
    "# get all position files for these months"
   ]
  },
  {
   "cell_type": "code",
   "execution_count": 13,
   "metadata": {
    "ExecuteTime": {
     "end_time": "2019-05-26T23:27:49.851269Z",
     "start_time": "2019-05-26T23:27:24.317317Z"
    }
   },
   "outputs": [],
   "source": [
    "month_list = ['201809', '201810', '201811']\n",
    "full_route_positions = get_positions_months(month_list)"
   ]
  },
  {
   "cell_type": "markdown",
   "metadata": {},
   "source": [
    "# take only the positions for the choosen route_id"
   ]
  },
  {
   "cell_type": "code",
   "execution_count": 14,
   "metadata": {
    "ExecuteTime": {
     "end_time": "2019-05-26T23:27:58.794902Z",
     "start_time": "2019-05-26T23:27:58.417081Z"
    }
   },
   "outputs": [],
   "source": [
    "single_route_positions = full_route_positions[full_route_positions['route_id']==input_dict['route_id']]"
   ]
  },
  {
   "cell_type": "markdown",
   "metadata": {},
   "source": [
    "# add time index columns"
   ]
  },
  {
   "cell_type": "code",
   "execution_count": 15,
   "metadata": {
    "ExecuteTime": {
     "end_time": "2019-05-26T23:27:59.934073Z",
     "start_time": "2019-05-26T23:27:59.454837Z"
    }
   },
   "outputs": [],
   "source": [
    "single_route_positions = convert_index_to_pct(single_route_positions)\n",
    "single_route_positions = add_time_index_columns(single_route_positions)"
   ]
  },
  {
   "cell_type": "markdown",
   "metadata": {},
   "source": [
    "# find the most popular shape on that route id going in one direction"
   ]
  },
  {
   "cell_type": "code",
   "execution_count": 16,
   "metadata": {
    "ExecuteTime": {
     "end_time": "2019-05-26T23:28:05.553218Z",
     "start_time": "2019-05-26T23:28:04.835524Z"
    }
   },
   "outputs": [],
   "source": [
    "direction = 0\n",
    "shape_id, trip_headsign = get_most_used_shape_id_per_direction(full_trip_stop_schedule, input_dict['route_id'], direction)"
   ]
  },
  {
   "cell_type": "markdown",
   "metadata": {},
   "source": [
    "# add shape_id to the input_dict"
   ]
  },
  {
   "cell_type": "code",
   "execution_count": 17,
   "metadata": {
    "ExecuteTime": {
     "end_time": "2019-05-26T23:28:06.647350Z",
     "start_time": "2019-05-26T23:28:06.608193Z"
    }
   },
   "outputs": [],
   "source": [
    "input_dict['shape_id'] = shape_id"
   ]
  },
  {
   "cell_type": "markdown",
   "metadata": {},
   "source": [
    "# make one route_vertex_geo from shape_id"
   ]
  },
  {
   "cell_type": "code",
   "execution_count": 18,
   "metadata": {
    "ExecuteTime": {
     "end_time": "2019-05-26T23:28:08.992525Z",
     "start_time": "2019-05-26T23:28:08.891833Z"
    }
   },
   "outputs": [],
   "source": [
    "route_vertex_geo = make_geopandas_shape_df(full_shapes_gtfs, input_dict['shape_id'])"
   ]
  },
  {
   "cell_type": "markdown",
   "metadata": {},
   "source": [
    "# join position table with trip gtfs information"
   ]
  },
  {
   "cell_type": "code",
   "execution_count": 19,
   "metadata": {
    "ExecuteTime": {
     "end_time": "2019-05-26T23:28:31.830222Z",
     "start_time": "2019-05-26T23:28:11.019842Z"
    }
   },
   "outputs": [
    {
     "name": "stdout",
     "output_type": "stream",
     "text": [
      "('2018-08-15', '2018-09-23')\n",
      "('2018-09-24', '2018-09-24')\n",
      "('2018-09-25', '2018-11-01')\n",
      "('2018-11-02', '2018-11-09')\n",
      "('2018-11-10', '2018-12-11')\n",
      "('2018-12-12', '2019-01-07')\n"
     ]
    }
   ],
   "source": [
    "positions_w_trips = {}\n",
    "for name, group in full_trips_gtfs.groupby(['start_gtfs_date','end_gtfs_date']):\n",
    "    print(name)\n",
    "    positions_w_trips[name] = join_positions_with_gtfs_trips(single_route_positions, group, name[0], name[1])"
   ]
  },
  {
   "cell_type": "markdown",
   "metadata": {},
   "source": [
    "# merge all dictionaries into one"
   ]
  },
  {
   "cell_type": "code",
   "execution_count": 20,
   "metadata": {
    "ExecuteTime": {
     "end_time": "2019-05-26T23:28:36.143581Z",
     "start_time": "2019-05-26T23:28:35.488457Z"
    }
   },
   "outputs": [
    {
     "name": "stdout",
     "output_type": "stream",
     "text": [
      "('2018-08-15', '2018-09-23')\n",
      "('2018-09-24', '2018-09-24')\n",
      "('2018-09-25', '2018-11-01')\n",
      "('2018-11-02', '2018-11-09')\n",
      "('2018-11-10', '2018-12-11')\n",
      "('2018-12-12', '2019-01-07')\n"
     ]
    }
   ],
   "source": [
    "for idx, dict_group in enumerate(positions_w_trips.keys()):\n",
    "    print(dict_group)\n",
    "    if positions_w_trips[dict_group].empty:\n",
    "        pass\n",
    "    else:\n",
    "        if idx == 0:\n",
    "            unpacked_positions_full = positions_w_trips[dict_group].copy()\n",
    "        else:\n",
    "            unpacked_positions_full = unpacked_positions_full.append(positions_w_trips[dict_group])"
   ]
  },
  {
   "cell_type": "markdown",
   "metadata": {},
   "source": [
    "# only take positions along one `shape_id`"
   ]
  },
  {
   "cell_type": "code",
   "execution_count": 21,
   "metadata": {
    "ExecuteTime": {
     "end_time": "2019-05-26T23:28:38.240534Z",
     "start_time": "2019-05-26T23:28:38.062498Z"
    }
   },
   "outputs": [],
   "source": [
    "unpacked_positions_one_shape = unpacked_positions_full[unpacked_positions_full['shape_id']==input_dict['shape_id']]"
   ]
  },
  {
   "cell_type": "markdown",
   "metadata": {},
   "source": [
    "# try parallel below - I don't think the parallel function will work on a Windows computer (I've had trouble in the past). It should work fine on a Mac."
   ]
  },
  {
   "cell_type": "markdown",
   "metadata": {},
   "source": [
    "### the below takes ~1-2 minutes on my computer depending on the shape/number of trips"
   ]
  },
  {
   "cell_type": "code",
   "execution_count": 23,
   "metadata": {
    "ExecuteTime": {
     "end_time": "2019-05-26T23:30:36.923035Z",
     "start_time": "2019-05-26T23:29:18.341447Z"
    },
    "scrolled": false
   },
   "outputs": [
    {
     "name": "stdout",
     "output_type": "stream",
     "text": [
      "78.52568101882935\n"
     ]
    }
   ],
   "source": [
    "if __name__ == \"__main__\":\n",
    "    start = time.time()\n",
    "    positions_w_near_node_df = get_close_node_process(unpacked_positions_one_shape, route_vertex_geo)\n",
    "    end = time.time()\n",
    "    print(end - start)"
   ]
  },
  {
   "cell_type": "markdown",
   "metadata": {},
   "source": [
    "# convert `time_pct` to Pacific time for datetime tranforms below"
   ]
  },
  {
   "cell_type": "code",
   "execution_count": 24,
   "metadata": {
    "ExecuteTime": {
     "end_time": "2019-05-26T23:31:12.800662Z",
     "start_time": "2019-05-26T23:30:58.008107Z"
    }
   },
   "outputs": [],
   "source": [
    "positions_w_near_node_datetime = datetime_transform_df(positions_w_near_node_df)"
   ]
  },
  {
   "cell_type": "code",
   "execution_count": 25,
   "metadata": {
    "ExecuteTime": {
     "end_time": "2019-05-26T23:32:23.919831Z",
     "start_time": "2019-05-26T23:31:16.144406Z"
    }
   },
   "outputs": [
    {
     "name": "stdout",
     "output_type": "stream",
     "text": [
      "67.7261950969696\n"
     ]
    }
   ],
   "source": [
    "if __name__ == \"__main__\":\n",
    "    start = time.time()\n",
    "    distance_time_list_df = get_distance_time_diffs(positions_w_near_node_datetime)\n",
    "    end = time.time()\n",
    "    print(end - start)"
   ]
  },
  {
   "cell_type": "markdown",
   "metadata": {},
   "source": [
    "# join with gtfs schedule on shape_pt_sequence & calculate times from `trip_start_time`"
   ]
  },
  {
   "cell_type": "code",
   "execution_count": 26,
   "metadata": {
    "ExecuteTime": {
     "end_time": "2019-05-26T23:37:16.813212Z",
     "start_time": "2019-05-26T23:36:38.363659Z"
    }
   },
   "outputs": [],
   "source": [
    "position_w_node_schedule = join_tripstart(distance_time_list_df, full_trip_stop_schedule)"
   ]
  },
  {
   "cell_type": "markdown",
   "metadata": {},
   "source": [
    "# below is an interactive graph if you installed `ipywidgets`"
   ]
  },
  {
   "cell_type": "code",
   "execution_count": 29,
   "metadata": {
    "ExecuteTime": {
     "end_time": "2019-05-26T23:40:25.578346Z",
     "start_time": "2019-05-26T23:40:25.537859Z"
    }
   },
   "outputs": [
    {
     "data": {
      "text/plain": [
       "Index(['index', 'day', 'direction_id', 'dow', 'hour', 'month',\n",
       "       'month_day_trip_veh', 'route_id', 'shape_dist_diff',\n",
       "       'shape_dist_traveled', 'shape_id', 'shape_pt_lat', 'shape_pt_lon',\n",
       "       'shape_pt_seq_tuple', 'shape_pt_sequence', 'time_delta', 'time_pct',\n",
       "       'time_utc', 'timestamp', 'total_seconds_delta', 'travel_rate_mph',\n",
       "       'trip_id', 'vehicle_id', 'vehicle_lat', 'vehicle_long', 'year',\n",
       "       'arrival_time', 'departure_time', 'stop_id', 'stop_sequence',\n",
       "       'stop_name', 'stop_lat', 'stop_lon', 'trip_start_time', 'trip_headsign',\n",
       "       'route_short_name', 'route_desc', 'actual_time_from_scheduled_start',\n",
       "       'scheduled_time_from_scheduled_start'],\n",
       "      dtype='object')"
      ]
     },
     "execution_count": 29,
     "metadata": {},
     "output_type": "execute_result"
    }
   ],
   "source": [
    "position_w_node_schedule.columns"
   ]
  },
  {
   "cell_type": "markdown",
   "metadata": {},
   "source": [
    "# look at one unique trip"
   ]
  },
  {
   "cell_type": "code",
   "execution_count": 34,
   "metadata": {
    "ExecuteTime": {
     "end_time": "2019-05-26T23:47:57.136373Z",
     "start_time": "2019-05-26T23:47:56.642065Z"
    },
    "scrolled": false
   },
   "outputs": [
    {
     "data": {
      "application/vnd.jupyter.widget-view+json": {
       "model_id": "ca216df5aec743e780501c6815fe529d",
       "version_major": 2,
       "version_minor": 0
      },
      "text/plain": [
       "interactive(children=(Dropdown(description='x', options=('2018_10_10_40572056_8207', '2018_10_10_40572060_8241…"
      ]
     },
     "metadata": {},
     "output_type": "display_data"
    }
   ],
   "source": [
    "@interact\n",
    "def show_one_unique_trip(x=list(distance_time_list_df['month_day_trip_veh'].unique())):\n",
    "    onetrip_df = position_w_node_schedule[\n",
    "        position_w_node_schedule['month_day_trip_veh']==x][\n",
    "                                                                    ['month_day_trip_veh',\n",
    "                                                                     'trip_id',\n",
    "                                                                     'route_id',\n",
    "                                                                     'stop_name',\n",
    "                                                                     'shape_pt_sequence',\n",
    "                                                                     'shape_dist_traveled',\n",
    "                                                                     'time_pct',\n",
    "                                                                    'trip_start_time',\n",
    "                                                                    'arrival_time',\n",
    "                                                                     'actual_time_from_scheduled_start',\n",
    "                                                                     'scheduled_time_from_scheduled_start'\n",
    "                                                                    ]]\n",
    "\n",
    "    x = onetrip_df['shape_dist_traveled'].values\n",
    "    y1 = onetrip_df['actual_time_from_scheduled_start'].values\n",
    "    y2 = onetrip_df['scheduled_time_from_scheduled_start'].values\n",
    "\n",
    "    x_labels = onetrip_df['stop_name'].values\n",
    "    fig, ax = plt.subplots(figsize=(15,7))\n",
    "    ax.plot(x, y1, label='actual_time', color='red')\n",
    "    ax.plot(x, y2, label='sched_time', color='blue')\n",
    "    ax.legend()\n",
    "    _ = plt.xticks(x, x_labels, rotation='vertical')"
   ]
  },
  {
   "cell_type": "markdown",
   "metadata": {},
   "source": [
    "# look at a particular `trip_id` (pretty messy right now- need to work on this graph)"
   ]
  },
  {
   "cell_type": "code",
   "execution_count": 35,
   "metadata": {
    "ExecuteTime": {
     "end_time": "2019-05-26T23:48:05.740968Z",
     "start_time": "2019-05-26T23:48:04.467942Z"
    }
   },
   "outputs": [
    {
     "data": {
      "application/vnd.jupyter.widget-view+json": {
       "model_id": "c573ba5254844c6ca820c4ebe72263e9",
       "version_major": 2,
       "version_minor": 0
      },
      "text/plain": [
       "interactive(children=(Dropdown(description='x', options=(40572056, 40572060, 40572061, 40572063, 40572064, 405…"
      ]
     },
     "metadata": {},
     "output_type": "display_data"
    }
   ],
   "source": [
    "@interact\n",
    "def show_one_tripid(x=list(position_w_node_schedule['trip_id'].unique())):\n",
    "    onetrip_df = position_w_node_schedule[\n",
    "        position_w_node_schedule['trip_id']==x][\n",
    "                                                                    ['month_day_trip_veh',\n",
    "                                                                     'trip_id',\n",
    "                                                                     'hour',\n",
    "                                                                     'dow',\n",
    "                                                                     'route_id',\n",
    "                                                                     'shape_pt_sequence',\n",
    "                                                                     'shape_dist_traveled',\n",
    "                                                                     'time_pct',\n",
    "                                                                    'trip_start_time',\n",
    "                                                                     'stop_name',\n",
    "                                                                    'arrival_time',\n",
    "                                                                     'actual_time_from_scheduled_start',\n",
    "                                                                     'scheduled_time_from_scheduled_start'\n",
    "                                                                    ]]\n",
    "\n",
    "    x = onetrip_df['shape_dist_traveled'].values\n",
    "    y1 = onetrip_df['actual_time_from_scheduled_start'].values\n",
    "    y2 = onetrip_df['scheduled_time_from_scheduled_start'].values\n",
    "\n",
    "    x_labels = onetrip_df['stop_name'].values\n",
    "    fig, ax = plt.subplots(figsize=(15,7))\n",
    "    ax.plot(x, y1, label='actual_time', color='red')\n",
    "    ax.plot(x, y2, label='sched_time', color='blue')\n",
    "    hours = str(onetrip_df['hour'].unique().tolist())\n",
    "    dow = str(onetrip_df['dow'].unique().tolist())\n",
    "    ax.legend()\n",
    "    title_str = \"day of week {}, hour(s) {}\".format(dow, hours)\n",
    "    ax.set_title(title_str, fontsize=14)\n",
    "    _ = plt.xticks(x, x_labels, rotation='vertical')"
   ]
  },
  {
   "cell_type": "markdown",
   "metadata": {},
   "source": [
    "# show travel speeds across one unique trip"
   ]
  },
  {
   "cell_type": "code",
   "execution_count": 36,
   "metadata": {
    "ExecuteTime": {
     "end_time": "2019-05-26T23:48:30.017548Z",
     "start_time": "2019-05-26T23:48:29.578186Z"
    }
   },
   "outputs": [
    {
     "data": {
      "application/vnd.jupyter.widget-view+json": {
       "model_id": "ac514924c18d405c8d627a67c1a22bc3",
       "version_major": 2,
       "version_minor": 0
      },
      "text/plain": [
       "interactive(children=(Dropdown(description='x', options=('2018_10_10_40572056_8207', '2018_10_10_40572060_8241…"
      ]
     },
     "metadata": {},
     "output_type": "display_data"
    }
   ],
   "source": [
    "@interact\n",
    "def show_trip_speeds(x=list(position_w_node_schedule['month_day_trip_veh'].unique())):\n",
    "    onetrip_df = position_w_node_schedule[position_w_node_schedule['month_day_trip_veh']==x][['shape_pt_sequence',\n",
    "                                                                                     'shape_dist_traveled',\n",
    "                                                                                     'total_seconds_delta',\n",
    "                                                                                     'travel_rate_mph',\n",
    "                                                                                              'stop_name',\n",
    "                                                                                     'shape_pt_seq_tuple']].reset_index()\n",
    "    onetrip_df = onetrip_df[(onetrip_df['travel_rate_mph']>=0)&(onetrip_df['travel_rate_mph']<80)]\n",
    "    x = onetrip_df['shape_dist_traveled'].values\n",
    "    y = onetrip_df['travel_rate_mph'].values\n",
    "\n",
    "    x_labels = onetrip_df['stop_name'].values\n",
    "    fig, ax = plt.subplots(figsize=(15,7))\n",
    "    ax.plot(x, y)\n",
    "    _ = plt.xticks(x, x_labels, rotation='vertical')"
   ]
  },
  {
   "cell_type": "markdown",
   "metadata": {},
   "source": [
    "# export"
   ]
  },
  {
   "cell_type": "code",
   "execution_count": 37,
   "metadata": {
    "ExecuteTime": {
     "end_time": "2019-05-26T23:48:48.100806Z",
     "start_time": "2019-05-26T23:48:38.460315Z"
    }
   },
   "outputs": [],
   "source": [
    "position_w_node_schedule.to_csv('transformed/route_{}_{}_shape_{}_stopsonly_2018-08-15_2018-12-11.csv'.format(\n",
    "                                        route_of_interest,\"\".join(trip_headsign.split(\" \")), input_dict['shape_id']), index=False)"
   ]
  },
  {
   "cell_type": "code",
   "execution_count": null,
   "metadata": {},
   "outputs": [],
   "source": []
  }
 ],
 "metadata": {
  "kernelspec": {
   "display_name": "Python 3",
   "language": "python",
   "name": "python3"
  },
  "language_info": {
   "codemirror_mode": {
    "name": "ipython",
    "version": 3
   },
   "file_extension": ".py",
   "mimetype": "text/x-python",
   "name": "python",
   "nbconvert_exporter": "python",
   "pygments_lexer": "ipython3",
   "version": "3.6.4"
  }
 },
 "nbformat": 4,
 "nbformat_minor": 2
}
