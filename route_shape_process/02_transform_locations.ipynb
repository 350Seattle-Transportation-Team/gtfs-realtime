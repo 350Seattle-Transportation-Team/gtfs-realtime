{
 "cells": [
  {
   "cell_type": "code",
   "execution_count": 1,
   "metadata": {},
   "outputs": [],
   "source": [
    "from route_shape_process_scripts import *\n",
    "import matplotlib.pyplot as plt\n",
    "%matplotlib inline\n",
    "import datetime\n",
    "import numpy as np\n",
    "import time"
   ]
  },
  {
   "cell_type": "markdown",
   "metadata": {},
   "source": [
    "# import gtfs from 01_gtfs_transform notebook output"
   ]
  },
  {
   "cell_type": "code",
   "execution_count": 2,
   "metadata": {},
   "outputs": [
    {
     "name": "stderr",
     "output_type": "stream",
     "text": [
      "/Users/benjaminmalnor/anaconda2/envs/geopy36/lib/python3.6/site-packages/IPython/core/interactiveshell.py:2728: DtypeWarning: Columns (5,26) have mixed types. Specify dtype option on import or set low_memory=False.\n",
      "  interactivity=interactivity, compiler=compiler, result=result)\n"
     ]
    }
   ],
   "source": [
    "full_routes_gtfs = pd.read_csv(\"gtfs_routes_2018-08-15_2018-12-12.csv\")\n",
    "full_shapes_gtfs = pd.read_csv(\"gtfs_shapes_2018-08-15_2018-12-12.csv\")\n",
    "full_trips_gtfs = pd.read_csv(\"gtfs_trips_2018-08-15_2018-12-12.csv\")\n",
    "full_trip_stop_schedule = pd.read_csv(\"gtfs_2018-08-15_2018-12-12.csv\")"
   ]
  },
  {
   "cell_type": "code",
   "execution_count": 3,
   "metadata": {},
   "outputs": [
    {
     "data": {
      "text/html": [
       "<div>\n",
       "<style scoped>\n",
       "    .dataframe tbody tr th:only-of-type {\n",
       "        vertical-align: middle;\n",
       "    }\n",
       "\n",
       "    .dataframe tbody tr th {\n",
       "        vertical-align: top;\n",
       "    }\n",
       "\n",
       "    .dataframe thead th {\n",
       "        text-align: right;\n",
       "    }\n",
       "</style>\n",
       "<table border=\"1\" class=\"dataframe\">\n",
       "  <thead>\n",
       "    <tr style=\"text-align: right;\">\n",
       "      <th></th>\n",
       "      <th></th>\n",
       "      <th>trip_id</th>\n",
       "    </tr>\n",
       "    <tr>\n",
       "      <th>start_gtfs_date</th>\n",
       "      <th>end_gtfs_date</th>\n",
       "      <th></th>\n",
       "    </tr>\n",
       "  </thead>\n",
       "  <tbody>\n",
       "    <tr>\n",
       "      <th>2018-08-15</th>\n",
       "      <th>2018-09-23</th>\n",
       "      <td>2062854</td>\n",
       "    </tr>\n",
       "    <tr>\n",
       "      <th>2018-09-24</th>\n",
       "      <th>2018-09-24</th>\n",
       "      <td>1038258</td>\n",
       "    </tr>\n",
       "    <tr>\n",
       "      <th>2018-09-25</th>\n",
       "      <th>2018-11-01</th>\n",
       "      <td>1038258</td>\n",
       "    </tr>\n",
       "    <tr>\n",
       "      <th>2018-11-02</th>\n",
       "      <th>2018-11-09</th>\n",
       "      <td>1033065</td>\n",
       "    </tr>\n",
       "    <tr>\n",
       "      <th>2018-11-10</th>\n",
       "      <th>2018-12-11</th>\n",
       "      <td>1033163</td>\n",
       "    </tr>\n",
       "    <tr>\n",
       "      <th>2018-12-12</th>\n",
       "      <th>2019-01-07</th>\n",
       "      <td>1754837</td>\n",
       "    </tr>\n",
       "  </tbody>\n",
       "</table>\n",
       "</div>"
      ],
      "text/plain": [
       "                               trip_id\n",
       "start_gtfs_date end_gtfs_date         \n",
       "2018-08-15      2018-09-23     2062854\n",
       "2018-09-24      2018-09-24     1038258\n",
       "2018-09-25      2018-11-01     1038258\n",
       "2018-11-02      2018-11-09     1033065\n",
       "2018-11-10      2018-12-11     1033163\n",
       "2018-12-12      2019-01-07     1754837"
      ]
     },
     "execution_count": 3,
     "metadata": {},
     "output_type": "execute_result"
    }
   ],
   "source": [
    "full_trip_stop_schedule.groupby(['start_gtfs_date','end_gtfs_date']).agg({'trip_id':'count'})"
   ]
  },
  {
   "cell_type": "code",
   "execution_count": 4,
   "metadata": {},
   "outputs": [],
   "source": [
    "full_trip_stop_schedule_dict = {}\n",
    "for name, group in full_trip_stop_schedule.groupby(['start_gtfs_date','end_gtfs_date']):\n",
    "    full_trip_stop_schedule_dict[name] = group"
   ]
  },
  {
   "cell_type": "markdown",
   "metadata": {},
   "source": [
    "# analyze September --> November"
   ]
  },
  {
   "cell_type": "markdown",
   "metadata": {},
   "source": [
    "## get route of interest"
   ]
  },
  {
   "cell_type": "code",
   "execution_count": 5,
   "metadata": {},
   "outputs": [
    {
     "data": {
      "text/plain": [
       "{'E Line': 102615}"
      ]
     },
     "execution_count": 5,
     "metadata": {},
     "output_type": "execute_result"
    }
   ],
   "source": [
    "get_select_routeid_name(full_routes_gtfs, ['E Line'])[2]"
   ]
  },
  {
   "cell_type": "markdown",
   "metadata": {},
   "source": [
    "# make sure the fuction below is pointing to your local folder with the position_yearmonth.h5 data"
   ]
  },
  {
   "cell_type": "code",
   "execution_count": 6,
   "metadata": {},
   "outputs": [],
   "source": [
    "def get_positions_months_route_id(month_list, route_id):\n",
    "    '''\n",
    "    month_list = ['201809', '201810', '201811'] need to point to\n",
    "    the right folder holding your h5 files\n",
    "    '''\n",
    "    for i, position_date in enumerate(month_list):\n",
    "        if i == 0:\n",
    "            positions = pd.read_hdf(\"/Users/benjaminmalnor/sandbox/bus350/data/intermed/positions_{}.h5\".format(position_date))\n",
    "            print(position_date,len(positions), positions.columns)\n",
    "            route_positions = positions[positions['route_id']==route_id].copy()\n",
    "            #del [positions_201809]\n",
    "            full_route_positions = route_positions.copy()\n",
    "        else:\n",
    "            positions = pd.read_hdf(\"/Users/benjaminmalnor/sandbox/bus350/data/intermed/positions_{}.h5\".format(position_date))\n",
    "            print(position_date,len(positions), positions.columns)\n",
    "            route_positions = positions[positions['route_id']==route_id].copy()\n",
    "            #del [positions_201809]\n",
    "            full_route_positions = full_route_positions.append(route_positions)\n",
    "    return full_route_positions"
   ]
  },
  {
   "cell_type": "markdown",
   "metadata": {},
   "source": [
    "# get subset of position files for just one route_id"
   ]
  },
  {
   "cell_type": "code",
   "execution_count": 7,
   "metadata": {},
   "outputs": [
    {
     "name": "stdout",
     "output_type": "stream",
     "text": [
      "201809 9263521 Index(['route_id', 'timestamp', 'trip_id', 'vehicle_id', 'vehicle_lat',\n",
      "       'vehicle_long', 'time_utc', 'time_pct'],\n",
      "      dtype='object')\n",
      "201810 10655967 Index(['route_id', 'timestamp', 'trip_id', 'vehicle_id', 'vehicle_lat',\n",
      "       'vehicle_long', 'time_utc', 'time_pct'],\n",
      "      dtype='object')\n",
      "201811 10175465 Index(['route_id', 'timestamp', 'trip_id', 'vehicle_id', 'vehicle_lat',\n",
      "       'vehicle_long', 'time_utc', 'time_pct'],\n",
      "      dtype='object')\n"
     ]
    }
   ],
   "source": [
    "month_list = ['201809', '201810', '201811']\n",
    "input_dict = {'route_id':102615}\n",
    "full_route_positions = get_positions_months_route_id(month_list, input_dict['route_id'])"
   ]
  },
  {
   "cell_type": "markdown",
   "metadata": {},
   "source": [
    "# add time index columns"
   ]
  },
  {
   "cell_type": "code",
   "execution_count": 8,
   "metadata": {},
   "outputs": [],
   "source": [
    "full_route_positions = convert_index_to_pct(full_route_positions)\n",
    "full_route_positions = add_time_index_columns(full_route_positions)"
   ]
  },
  {
   "cell_type": "markdown",
   "metadata": {},
   "source": [
    "# need to print out shape_ids - find the shape to process\n",
    "***\n",
    "# TODO - get direction id get edges for all shapes but keep shape_id column for filtering"
   ]
  },
  {
   "cell_type": "code",
   "execution_count": 9,
   "metadata": {
    "scrolled": true
   },
   "outputs": [
    {
     "name": "stdout",
     "output_type": "stream",
     "text": [
      "('2018-08-15', '2018-09-23')\n",
      "                                                                 shape_id\n",
      "route_id shape_id direction_id trip_headsign                             \n",
      "102615   11675003 0            Aurora Village Transit Center        19285\n",
      "         20675007 1            Downtown Seattle                     19250\n",
      "         20675030 1            Stadium Station Downtown Seattle       144\n",
      "('2018-09-24', '2018-09-24')\n",
      "                                                                 shape_id\n",
      "route_id shape_id direction_id trip_headsign                             \n",
      "102615   11675003 0            Aurora Village Transit Center         9730\n",
      "         20675007 1            Downtown Seattle                      9765\n",
      "         20675030 1            Stadium Station Downtown Seattle        72\n",
      "('2018-09-25', '2018-11-01')\n",
      "                                                                 shape_id\n",
      "route_id shape_id direction_id trip_headsign                             \n",
      "102615   11675003 0            Aurora Village Transit Center         9730\n",
      "         20675007 1            Downtown Seattle                      9765\n",
      "         20675030 1            Stadium Station Downtown Seattle        72\n",
      "('2018-11-02', '2018-11-09')\n",
      "                                                                 shape_id\n",
      "route_id shape_id direction_id trip_headsign                             \n",
      "102615   11675003 0            Aurora Village Transit Center         9730\n",
      "         20675007 1            Downtown Seattle                      9765\n",
      "         20675030 1            Stadium Station Downtown Seattle        72\n",
      "('2018-11-10', '2018-12-11')\n",
      "                                                                 shape_id\n",
      "route_id shape_id direction_id trip_headsign                             \n",
      "102615   11675003 0            Aurora Village Transit Center         9730\n",
      "         20675007 1            Downtown Seattle                      9765\n",
      "         20675030 1            Stadium Station Downtown Seattle        72\n",
      "('2018-12-12', '2019-01-07')\n",
      "                                                                 shape_id\n",
      "route_id shape_id direction_id trip_headsign                             \n",
      "102615   11675003 0            Aurora Village Transit Center        19460\n",
      "         20675007 1            Downtown Seattle                     19530\n",
      "         20675030 1            Stadium Station Downtown Seattle       144\n"
     ]
    }
   ],
   "source": [
    "for name, group in full_trip_stop_schedule.groupby(['start_gtfs_date','end_gtfs_date']):\n",
    "    print(name)\n",
    "    shape_trips_df = group[group['route_id'] == input_dict['route_id']].copy()\n",
    "    print(shape_trips_df.groupby(['route_id','shape_id', 'direction_id','trip_headsign']).agg({'shape_id':'count'}))"
   ]
  },
  {
   "cell_type": "markdown",
   "metadata": {},
   "source": [
    "# pick a shape_id out of the above options"
   ]
  },
  {
   "cell_type": "code",
   "execution_count": 10,
   "metadata": {},
   "outputs": [],
   "source": [
    "input_dict['shape_id'] = 11675003"
   ]
  },
  {
   "cell_type": "markdown",
   "metadata": {},
   "source": [
    "# make route_vertex_geo_dict and G_dict"
   ]
  },
  {
   "cell_type": "code",
   "execution_count": 11,
   "metadata": {},
   "outputs": [
    {
     "name": "stdout",
     "output_type": "stream",
     "text": [
      "('2018-08-15', '2018-09-23')\n",
      "('2018-09-24', '2018-09-24')\n",
      "('2018-09-25', '2018-11-01')\n",
      "('2018-11-02', '2018-11-09')\n",
      "('2018-11-10', '2018-12-11')\n",
      "('2018-12-12', '2019-01-07')\n"
     ]
    }
   ],
   "source": [
    "route_vertex_geo_dict = {}\n",
    "G_dict = {}\n",
    "for name, group in full_shapes_gtfs.groupby(\n",
    "                ['start_gtfs_date','end_gtfs_date']):\n",
    "    print(name)\n",
    "    route_vertex_geo_dict[name], G_dict[name] = get_route_vertex_graph(group, input_dict['shape_id'])"
   ]
  },
  {
   "cell_type": "markdown",
   "metadata": {},
   "source": [
    "# join position table with trip gtfs information"
   ]
  },
  {
   "cell_type": "code",
   "execution_count": 12,
   "metadata": {},
   "outputs": [
    {
     "data": {
      "text/html": [
       "<div>\n",
       "<style scoped>\n",
       "    .dataframe tbody tr th:only-of-type {\n",
       "        vertical-align: middle;\n",
       "    }\n",
       "\n",
       "    .dataframe tbody tr th {\n",
       "        vertical-align: top;\n",
       "    }\n",
       "\n",
       "    .dataframe thead th {\n",
       "        text-align: right;\n",
       "    }\n",
       "</style>\n",
       "<table border=\"1\" class=\"dataframe\">\n",
       "  <thead>\n",
       "    <tr style=\"text-align: right;\">\n",
       "      <th></th>\n",
       "      <th>route_id</th>\n",
       "      <th>service_id</th>\n",
       "      <th>trip_id</th>\n",
       "      <th>trip_headsign</th>\n",
       "      <th>trip_short_name</th>\n",
       "      <th>direction_id</th>\n",
       "      <th>block_id</th>\n",
       "      <th>shape_id</th>\n",
       "      <th>peak_flag</th>\n",
       "      <th>fare_id</th>\n",
       "      <th>start_gtfs_date</th>\n",
       "      <th>end_gtfs_date</th>\n",
       "    </tr>\n",
       "  </thead>\n",
       "  <tbody>\n",
       "    <tr>\n",
       "      <th>0</th>\n",
       "      <td>100227</td>\n",
       "      <td>19845</td>\n",
       "      <td>34734386</td>\n",
       "      <td>Downtown Seattle</td>\n",
       "      <td>LOCAL</td>\n",
       "      <td>1</td>\n",
       "      <td>5045281</td>\n",
       "      <td>20047002</td>\n",
       "      <td>0</td>\n",
       "      <td>101.0</td>\n",
       "      <td>2018-08-15</td>\n",
       "      <td>2018-09-23</td>\n",
       "    </tr>\n",
       "    <tr>\n",
       "      <th>1</th>\n",
       "      <td>100227</td>\n",
       "      <td>19845</td>\n",
       "      <td>34734387</td>\n",
       "      <td>Downtown Seattle</td>\n",
       "      <td>LOCAL</td>\n",
       "      <td>1</td>\n",
       "      <td>5045281</td>\n",
       "      <td>20047002</td>\n",
       "      <td>0</td>\n",
       "      <td>101.0</td>\n",
       "      <td>2018-08-15</td>\n",
       "      <td>2018-09-23</td>\n",
       "    </tr>\n",
       "    <tr>\n",
       "      <th>2</th>\n",
       "      <td>100227</td>\n",
       "      <td>19845</td>\n",
       "      <td>34734388</td>\n",
       "      <td>Downtown Seattle</td>\n",
       "      <td>LOCAL</td>\n",
       "      <td>1</td>\n",
       "      <td>5045281</td>\n",
       "      <td>20047002</td>\n",
       "      <td>0</td>\n",
       "      <td>101.0</td>\n",
       "      <td>2018-08-15</td>\n",
       "      <td>2018-09-23</td>\n",
       "    </tr>\n",
       "  </tbody>\n",
       "</table>\n",
       "</div>"
      ],
      "text/plain": [
       "   route_id  service_id   trip_id      trip_headsign trip_short_name  \\\n",
       "0    100227       19845  34734386  Downtown Seattle            LOCAL   \n",
       "1    100227       19845  34734387  Downtown Seattle            LOCAL   \n",
       "2    100227       19845  34734388  Downtown Seattle            LOCAL   \n",
       "\n",
       "   direction_id  block_id  shape_id  peak_flag  fare_id start_gtfs_date  \\\n",
       "0             1   5045281  20047002          0    101.0      2018-08-15   \n",
       "1             1   5045281  20047002          0    101.0      2018-08-15   \n",
       "2             1   5045281  20047002          0    101.0      2018-08-15   \n",
       "\n",
       "  end_gtfs_date  \n",
       "0    2018-09-23  \n",
       "1    2018-09-23  \n",
       "2    2018-09-23  "
      ]
     },
     "execution_count": 12,
     "metadata": {},
     "output_type": "execute_result"
    }
   ],
   "source": [
    "full_trips_gtfs.head(3)"
   ]
  },
  {
   "cell_type": "code",
   "execution_count": 13,
   "metadata": {},
   "outputs": [
    {
     "name": "stdout",
     "output_type": "stream",
     "text": [
      "('2018-08-15', '2018-09-23')\n",
      "('2018-09-24', '2018-09-24')\n",
      "('2018-09-25', '2018-11-01')\n",
      "('2018-11-02', '2018-11-09')\n",
      "('2018-11-10', '2018-12-11')\n",
      "('2018-12-12', '2019-01-07')\n"
     ]
    }
   ],
   "source": [
    "positions_w_trips = {}\n",
    "for name, group in full_trips_gtfs.groupby(['start_gtfs_date','end_gtfs_date']):\n",
    "    print(name)\n",
    "    positions_w_trips[name] = join_positions_with_gtfs_trips(full_route_positions, group, name[0], name[1])"
   ]
  },
  {
   "cell_type": "code",
   "execution_count": 14,
   "metadata": {},
   "outputs": [
    {
     "data": {
      "text/html": [
       "<div>\n",
       "<style scoped>\n",
       "    .dataframe tbody tr th:only-of-type {\n",
       "        vertical-align: middle;\n",
       "    }\n",
       "\n",
       "    .dataframe tbody tr th {\n",
       "        vertical-align: top;\n",
       "    }\n",
       "\n",
       "    .dataframe thead th {\n",
       "        text-align: right;\n",
       "    }\n",
       "</style>\n",
       "<table border=\"1\" class=\"dataframe\">\n",
       "  <thead>\n",
       "    <tr style=\"text-align: right;\">\n",
       "      <th></th>\n",
       "      <th>route_id</th>\n",
       "      <th>timestamp</th>\n",
       "      <th>trip_id</th>\n",
       "      <th>vehicle_id</th>\n",
       "      <th>vehicle_lat</th>\n",
       "      <th>vehicle_long</th>\n",
       "      <th>time_utc</th>\n",
       "      <th>time_pct</th>\n",
       "      <th>day</th>\n",
       "      <th>year</th>\n",
       "      <th>month</th>\n",
       "      <th>hour</th>\n",
       "      <th>dow</th>\n",
       "      <th>direction_id</th>\n",
       "      <th>shape_id</th>\n",
       "    </tr>\n",
       "  </thead>\n",
       "  <tbody>\n",
       "    <tr>\n",
       "      <th>0</th>\n",
       "      <td>102615</td>\n",
       "      <td>1535759940</td>\n",
       "      <td>39512531</td>\n",
       "      <td>6218</td>\n",
       "      <td>47.682484</td>\n",
       "      <td>-122.344543</td>\n",
       "      <td>2018-08-31 23:59:00</td>\n",
       "      <td>2018-08-31 16:59:00-07:00</td>\n",
       "      <td>31</td>\n",
       "      <td>2018</td>\n",
       "      <td>8</td>\n",
       "      <td>16</td>\n",
       "      <td>4</td>\n",
       "      <td>1</td>\n",
       "      <td>20675007</td>\n",
       "    </tr>\n",
       "    <tr>\n",
       "      <th>1</th>\n",
       "      <td>102615</td>\n",
       "      <td>1535759947</td>\n",
       "      <td>39512518</td>\n",
       "      <td>6046</td>\n",
       "      <td>47.723824</td>\n",
       "      <td>-122.344978</td>\n",
       "      <td>2018-08-31 23:59:07</td>\n",
       "      <td>2018-08-31 16:59:07-07:00</td>\n",
       "      <td>31</td>\n",
       "      <td>2018</td>\n",
       "      <td>8</td>\n",
       "      <td>16</td>\n",
       "      <td>4</td>\n",
       "      <td>0</td>\n",
       "      <td>11675003</td>\n",
       "    </tr>\n",
       "    <tr>\n",
       "      <th>2</th>\n",
       "      <td>102615</td>\n",
       "      <td>1535759960</td>\n",
       "      <td>39512519</td>\n",
       "      <td>6064</td>\n",
       "      <td>47.614983</td>\n",
       "      <td>-122.345268</td>\n",
       "      <td>2018-08-31 23:59:20</td>\n",
       "      <td>2018-08-31 16:59:20-07:00</td>\n",
       "      <td>31</td>\n",
       "      <td>2018</td>\n",
       "      <td>8</td>\n",
       "      <td>16</td>\n",
       "      <td>4</td>\n",
       "      <td>0</td>\n",
       "      <td>11675003</td>\n",
       "    </tr>\n",
       "  </tbody>\n",
       "</table>\n",
       "</div>"
      ],
      "text/plain": [
       "   route_id   timestamp   trip_id  vehicle_id  vehicle_lat  vehicle_long  \\\n",
       "0    102615  1535759940  39512531        6218    47.682484   -122.344543   \n",
       "1    102615  1535759947  39512518        6046    47.723824   -122.344978   \n",
       "2    102615  1535759960  39512519        6064    47.614983   -122.345268   \n",
       "\n",
       "              time_utc                   time_pct  day  year  month  hour  \\\n",
       "0  2018-08-31 23:59:00  2018-08-31 16:59:00-07:00   31  2018      8    16   \n",
       "1  2018-08-31 23:59:07  2018-08-31 16:59:07-07:00   31  2018      8    16   \n",
       "2  2018-08-31 23:59:20  2018-08-31 16:59:20-07:00   31  2018      8    16   \n",
       "\n",
       "   dow  direction_id  shape_id  \n",
       "0    4             1  20675007  \n",
       "1    4             0  11675003  \n",
       "2    4             0  11675003  "
      ]
     },
     "execution_count": 14,
     "metadata": {},
     "output_type": "execute_result"
    }
   ],
   "source": [
    "positions_w_trips[('2018-08-15', '2018-09-23')].head(3)"
   ]
  },
  {
   "cell_type": "markdown",
   "metadata": {},
   "source": [
    "# get unique_trip_list_dict and positions_w_trips_geo_dict"
   ]
  },
  {
   "cell_type": "code",
   "execution_count": 15,
   "metadata": {},
   "outputs": [
    {
     "name": "stdout",
     "output_type": "stream",
     "text": [
      "('2018-08-15', '2018-09-23')\n",
      "('2018-09-24', '2018-09-24')\n",
      "('2018-09-25', '2018-11-01')\n",
      "('2018-11-02', '2018-11-09')\n",
      "('2018-11-10', '2018-12-11')\n",
      "('2018-12-12', '2019-01-07')\n",
      "no trips\n"
     ]
    }
   ],
   "source": [
    "unique_trip_list_dict = {}\n",
    "positions_w_trips_geo_dict = {}\n",
    "\n",
    "for gtfs_groups in positions_w_trips.keys():\n",
    "    print(gtfs_groups)\n",
    "    unique_trip_list_dict[gtfs_groups], positions_w_trips_geo_dict[gtfs_groups] = get_trip_from_shape_id(input_dict['shape_id'], \n",
    "                                                                                                        positions_w_trips[gtfs_groups])\n"
   ]
  },
  {
   "cell_type": "code",
   "execution_count": 16,
   "metadata": {},
   "outputs": [
    {
     "data": {
      "text/html": [
       "<div>\n",
       "<style scoped>\n",
       "    .dataframe tbody tr th:only-of-type {\n",
       "        vertical-align: middle;\n",
       "    }\n",
       "\n",
       "    .dataframe tbody tr th {\n",
       "        vertical-align: top;\n",
       "    }\n",
       "\n",
       "    .dataframe thead th {\n",
       "        text-align: right;\n",
       "    }\n",
       "</style>\n",
       "<table border=\"1\" class=\"dataframe\">\n",
       "  <thead>\n",
       "    <tr style=\"text-align: right;\">\n",
       "      <th></th>\n",
       "      <th>route_id</th>\n",
       "      <th>timestamp</th>\n",
       "      <th>trip_id</th>\n",
       "      <th>vehicle_id</th>\n",
       "      <th>vehicle_lat</th>\n",
       "      <th>vehicle_long</th>\n",
       "      <th>time_utc</th>\n",
       "      <th>time_pct</th>\n",
       "      <th>day</th>\n",
       "      <th>year</th>\n",
       "      <th>month</th>\n",
       "      <th>hour</th>\n",
       "      <th>dow</th>\n",
       "      <th>direction_id</th>\n",
       "      <th>shape_id</th>\n",
       "      <th>month_day_trip_veh</th>\n",
       "      <th>geometry</th>\n",
       "    </tr>\n",
       "  </thead>\n",
       "  <tbody>\n",
       "    <tr>\n",
       "      <th>1</th>\n",
       "      <td>102615</td>\n",
       "      <td>1535759947</td>\n",
       "      <td>39512518</td>\n",
       "      <td>6046</td>\n",
       "      <td>47.723824</td>\n",
       "      <td>-122.344978</td>\n",
       "      <td>2018-08-31 23:59:07</td>\n",
       "      <td>2018-08-31 16:59:07-07:00</td>\n",
       "      <td>31</td>\n",
       "      <td>2018</td>\n",
       "      <td>8</td>\n",
       "      <td>16</td>\n",
       "      <td>4</td>\n",
       "      <td>0</td>\n",
       "      <td>11675003</td>\n",
       "      <td>2018_8_31_39512518_6046</td>\n",
       "      <td>POINT (-122.3449783325195 47.72382354736328)</td>\n",
       "    </tr>\n",
       "    <tr>\n",
       "      <th>2</th>\n",
       "      <td>102615</td>\n",
       "      <td>1535759960</td>\n",
       "      <td>39512519</td>\n",
       "      <td>6064</td>\n",
       "      <td>47.614983</td>\n",
       "      <td>-122.345268</td>\n",
       "      <td>2018-08-31 23:59:20</td>\n",
       "      <td>2018-08-31 16:59:20-07:00</td>\n",
       "      <td>31</td>\n",
       "      <td>2018</td>\n",
       "      <td>8</td>\n",
       "      <td>16</td>\n",
       "      <td>4</td>\n",
       "      <td>0</td>\n",
       "      <td>11675003</td>\n",
       "      <td>2018_8_31_39512519_6064</td>\n",
       "      <td>POINT (-122.3452682495117 47.61498260498047)</td>\n",
       "    </tr>\n",
       "    <tr>\n",
       "      <th>4</th>\n",
       "      <td>102615</td>\n",
       "      <td>1535759972</td>\n",
       "      <td>39512951</td>\n",
       "      <td>2667</td>\n",
       "      <td>47.664989</td>\n",
       "      <td>-122.347260</td>\n",
       "      <td>2018-08-31 23:59:32</td>\n",
       "      <td>2018-08-31 16:59:32-07:00</td>\n",
       "      <td>31</td>\n",
       "      <td>2018</td>\n",
       "      <td>8</td>\n",
       "      <td>16</td>\n",
       "      <td>4</td>\n",
       "      <td>0</td>\n",
       "      <td>11675003</td>\n",
       "      <td>2018_8_31_39512951_2667</td>\n",
       "      <td>POINT (-122.3472595214844 47.66498947143555)</td>\n",
       "    </tr>\n",
       "  </tbody>\n",
       "</table>\n",
       "</div>"
      ],
      "text/plain": [
       "   route_id   timestamp   trip_id  vehicle_id  vehicle_lat  vehicle_long  \\\n",
       "1    102615  1535759947  39512518        6046    47.723824   -122.344978   \n",
       "2    102615  1535759960  39512519        6064    47.614983   -122.345268   \n",
       "4    102615  1535759972  39512951        2667    47.664989   -122.347260   \n",
       "\n",
       "              time_utc                   time_pct  day  year  month  hour  \\\n",
       "1  2018-08-31 23:59:07  2018-08-31 16:59:07-07:00   31  2018      8    16   \n",
       "2  2018-08-31 23:59:20  2018-08-31 16:59:20-07:00   31  2018      8    16   \n",
       "4  2018-08-31 23:59:32  2018-08-31 16:59:32-07:00   31  2018      8    16   \n",
       "\n",
       "   dow  direction_id  shape_id       month_day_trip_veh  \\\n",
       "1    4             0  11675003  2018_8_31_39512518_6046   \n",
       "2    4             0  11675003  2018_8_31_39512519_6064   \n",
       "4    4             0  11675003  2018_8_31_39512951_2667   \n",
       "\n",
       "                                       geometry  \n",
       "1  POINT (-122.3449783325195 47.72382354736328)  \n",
       "2  POINT (-122.3452682495117 47.61498260498047)  \n",
       "4  POINT (-122.3472595214844 47.66498947143555)  "
      ]
     },
     "execution_count": 16,
     "metadata": {},
     "output_type": "execute_result"
    }
   ],
   "source": [
    "positions_w_trips_geo_dict[('2018-08-15', '2018-09-23')].head(3)"
   ]
  },
  {
   "cell_type": "code",
   "execution_count": 17,
   "metadata": {},
   "outputs": [
    {
     "data": {
      "text/html": [
       "<div>\n",
       "<style scoped>\n",
       "    .dataframe tbody tr th:only-of-type {\n",
       "        vertical-align: middle;\n",
       "    }\n",
       "\n",
       "    .dataframe tbody tr th {\n",
       "        vertical-align: top;\n",
       "    }\n",
       "\n",
       "    .dataframe thead th {\n",
       "        text-align: right;\n",
       "    }\n",
       "</style>\n",
       "<table border=\"1\" class=\"dataframe\">\n",
       "  <thead>\n",
       "    <tr style=\"text-align: right;\">\n",
       "      <th></th>\n",
       "      <th>shape_id</th>\n",
       "      <th>shape_pt_lat</th>\n",
       "      <th>shape_pt_lon</th>\n",
       "      <th>shape_pt_sequence</th>\n",
       "      <th>shape_dist_traveled</th>\n",
       "      <th>start_gtfs_date</th>\n",
       "      <th>end_gtfs_date</th>\n",
       "      <th>geometry</th>\n",
       "    </tr>\n",
       "  </thead>\n",
       "  <tbody>\n",
       "    <tr>\n",
       "      <th>130945</th>\n",
       "      <td>11675003</td>\n",
       "      <td>47.601677</td>\n",
       "      <td>-122.330170</td>\n",
       "      <td>1</td>\n",
       "      <td>0.0</td>\n",
       "      <td>2018-08-15</td>\n",
       "      <td>2018-09-23</td>\n",
       "      <td>POINT (-122.33017 47.6016769)</td>\n",
       "    </tr>\n",
       "    <tr>\n",
       "      <th>130946</th>\n",
       "      <td>11675003</td>\n",
       "      <td>47.601719</td>\n",
       "      <td>-122.330269</td>\n",
       "      <td>2</td>\n",
       "      <td>30.0</td>\n",
       "      <td>2018-08-15</td>\n",
       "      <td>2018-09-23</td>\n",
       "      <td>POINT (-122.330269 47.6017189)</td>\n",
       "    </tr>\n",
       "    <tr>\n",
       "      <th>130947</th>\n",
       "      <td>11675003</td>\n",
       "      <td>47.601788</td>\n",
       "      <td>-122.330429</td>\n",
       "      <td>3</td>\n",
       "      <td>78.6</td>\n",
       "      <td>2018-08-15</td>\n",
       "      <td>2018-09-23</td>\n",
       "      <td>POINT (-122.330429 47.6017876)</td>\n",
       "    </tr>\n",
       "    <tr>\n",
       "      <th>130948</th>\n",
       "      <td>11675003</td>\n",
       "      <td>47.601826</td>\n",
       "      <td>-122.330513</td>\n",
       "      <td>4</td>\n",
       "      <td>100.4</td>\n",
       "      <td>2018-08-15</td>\n",
       "      <td>2018-09-23</td>\n",
       "      <td>POINT (-122.330513 47.60182570000001)</td>\n",
       "    </tr>\n",
       "    <tr>\n",
       "      <th>130949</th>\n",
       "      <td>11675003</td>\n",
       "      <td>47.601872</td>\n",
       "      <td>-122.330566</td>\n",
       "      <td>5</td>\n",
       "      <td>123.0</td>\n",
       "      <td>2018-08-15</td>\n",
       "      <td>2018-09-23</td>\n",
       "      <td>POINT (-122.330566 47.6018715)</td>\n",
       "    </tr>\n",
       "  </tbody>\n",
       "</table>\n",
       "</div>"
      ],
      "text/plain": [
       "        shape_id  shape_pt_lat  shape_pt_lon  shape_pt_sequence  \\\n",
       "130945  11675003     47.601677   -122.330170                  1   \n",
       "130946  11675003     47.601719   -122.330269                  2   \n",
       "130947  11675003     47.601788   -122.330429                  3   \n",
       "130948  11675003     47.601826   -122.330513                  4   \n",
       "130949  11675003     47.601872   -122.330566                  5   \n",
       "\n",
       "        shape_dist_traveled start_gtfs_date end_gtfs_date  \\\n",
       "130945                  0.0      2018-08-15    2018-09-23   \n",
       "130946                 30.0      2018-08-15    2018-09-23   \n",
       "130947                 78.6      2018-08-15    2018-09-23   \n",
       "130948                100.4      2018-08-15    2018-09-23   \n",
       "130949                123.0      2018-08-15    2018-09-23   \n",
       "\n",
       "                                     geometry  \n",
       "130945          POINT (-122.33017 47.6016769)  \n",
       "130946         POINT (-122.330269 47.6017189)  \n",
       "130947         POINT (-122.330429 47.6017876)  \n",
       "130948  POINT (-122.330513 47.60182570000001)  \n",
       "130949         POINT (-122.330566 47.6018715)  "
      ]
     },
     "execution_count": 17,
     "metadata": {},
     "output_type": "execute_result"
    }
   ],
   "source": [
    "route_vertex_geo_dict[('2018-08-15', '2018-09-23')].head()"
   ]
  },
  {
   "cell_type": "markdown",
   "metadata": {},
   "source": [
    "# save the route shape locally if you want to view it on a map"
   ]
  },
  {
   "cell_type": "code",
   "execution_count": 18,
   "metadata": {},
   "outputs": [],
   "source": [
    "route_json = route_vertex_geo_dict[('2018-08-15', '2018-09-23')].to_json()\n",
    "file_name = \"route_{}_shape_{}.geojson\".format(input_dict['route_id'], input_dict['shape_id'])\n",
    "with open(file_name, 'w') as f:\n",
    "    f.write(route_json)"
   ]
  },
  {
   "cell_type": "code",
   "execution_count": 19,
   "metadata": {},
   "outputs": [],
   "source": [
    "def get_point_coords(row, route_vertex_geo):\n",
    "    if isinstance(row['geometry'], float):\n",
    "        return ''\n",
    "    else:\n",
    "        return get_close_node(row['geometry'].coords[:][0], route_vertex_geo)"
   ]
  },
  {
   "cell_type": "markdown",
   "metadata": {},
   "source": [
    "# try parallel below - I don't think the parallel function will work on a Windows computer (I've had trouble in the past). It should work fine on a Mac."
   ]
  },
  {
   "cell_type": "code",
   "execution_count": 20,
   "metadata": {},
   "outputs": [],
   "source": [
    "import multiprocessing"
   ]
  },
  {
   "cell_type": "code",
   "execution_count": 21,
   "metadata": {},
   "outputs": [],
   "source": [
    "def get_close_node_parallel(df_group, route_vertex_geo):\n",
    "    '''\n",
    "    '''\n",
    "    df_group['close_node_tuple'] = df_group.apply(get_point_coords, route_vertex_geo=route_vertex_geo, axis=1).copy()\n",
    "    return df_group"
   ]
  },
  {
   "cell_type": "code",
   "execution_count": 22,
   "metadata": {},
   "outputs": [],
   "source": [
    "def full_step_process():\n",
    "    n_pools = multiprocessing.cpu_count() - 1\n",
    "    pool = multiprocessing.Pool(n_pools)\n",
    "    positions_w_near_node_dict = {}\n",
    "    for gtfs_group in positions_w_trips.keys():\n",
    "        print(\"starting {}\".format(gtfs_group))\n",
    "        if positions_w_trips_geo_dict[gtfs_group].empty:\n",
    "            pass\n",
    "        else:\n",
    "            grouped = positions_w_trips_geo_dict[gtfs_group].groupby('month_day_trip_veh')\n",
    "            route_vertex_geo = route_vertex_geo_dict[gtfs_group]\n",
    "            trip_group_tuple_list = []\n",
    "            for name, group in grouped:\n",
    "                trip_group_tuple_list.append((group, route_vertex_geo))\n",
    "            positions_w_near_node_df = pd.concat(pool.starmap(get_close_node_parallel, trip_group_tuple_list))\n",
    "            positions_w_near_node_dict[gtfs_group] = positions_w_near_node_df\n",
    "    return positions_w_near_node_dict"
   ]
  },
  {
   "cell_type": "markdown",
   "metadata": {},
   "source": [
    "# the below takes ~2-15 minutes on my computer depending on the shape/number of trips"
   ]
  },
  {
   "cell_type": "code",
   "execution_count": 23,
   "metadata": {},
   "outputs": [
    {
     "name": "stdout",
     "output_type": "stream",
     "text": [
      "starting ('2018-08-15', '2018-09-23')\n",
      "starting ('2018-09-24', '2018-09-24')\n",
      "starting ('2018-09-25', '2018-11-01')\n",
      "starting ('2018-11-02', '2018-11-09')\n",
      "starting ('2018-11-10', '2018-12-11')\n",
      "starting ('2018-12-12', '2019-01-07')\n",
      "1023.4023621082306\n"
     ]
    }
   ],
   "source": [
    "if __name__ == \"__main__\":\n",
    "    start = time.time()\n",
    "    positions_w_near_node_dict = full_step_process()\n",
    "    end = time.time()\n",
    "    print(end - start)"
   ]
  },
  {
   "cell_type": "code",
   "execution_count": 24,
   "metadata": {},
   "outputs": [],
   "source": [
    "def unpack_near_node_column(positions_w_near_node_dict):\n",
    "    for gtfs_group in positions_w_near_node_dict.keys():\n",
    "        positions_w_near_node_dict[gtfs_group]['near_node_pt'] = positions_w_near_node_dict[gtfs_group].apply(lambda x: x['close_node_tuple'][0], axis=1)\n",
    "        positions_w_near_node_dict[gtfs_group]['shape_pt_sequence'] = positions_w_near_node_dict[gtfs_group].apply(lambda x: x['close_node_tuple'][1], axis=1)\n",
    "        positions_w_near_node_dict[gtfs_group]['dist_to_nearest_route_pt'] = positions_w_near_node_dict[gtfs_group].apply(lambda x: x['close_node_tuple'][2], axis=1)\n",
    "        positions_w_near_node_dict[gtfs_group].drop('close_node_tuple', axis=1, inplace=True)\n",
    "        positions_w_near_node_dict[gtfs_group].drop_duplicates(['month_day_trip_veh','shape_pt_sequence'], keep='last', inplace=True)\n",
    "    return positions_w_near_node_dict"
   ]
  },
  {
   "cell_type": "code",
   "execution_count": 25,
   "metadata": {},
   "outputs": [],
   "source": [
    "unpacked_positions_w_near_node_dict = unpack_near_node_column(positions_w_near_node_dict)"
   ]
  },
  {
   "cell_type": "code",
   "execution_count": 26,
   "metadata": {
    "scrolled": true
   },
   "outputs": [
    {
     "data": {
      "text/html": [
       "<div>\n",
       "<style scoped>\n",
       "    .dataframe tbody tr th:only-of-type {\n",
       "        vertical-align: middle;\n",
       "    }\n",
       "\n",
       "    .dataframe tbody tr th {\n",
       "        vertical-align: top;\n",
       "    }\n",
       "\n",
       "    .dataframe thead th {\n",
       "        text-align: right;\n",
       "    }\n",
       "</style>\n",
       "<table border=\"1\" class=\"dataframe\">\n",
       "  <thead>\n",
       "    <tr style=\"text-align: right;\">\n",
       "      <th></th>\n",
       "      <th>route_id</th>\n",
       "      <th>timestamp</th>\n",
       "      <th>trip_id</th>\n",
       "      <th>vehicle_id</th>\n",
       "      <th>vehicle_lat</th>\n",
       "      <th>vehicle_long</th>\n",
       "      <th>time_utc</th>\n",
       "      <th>time_pct</th>\n",
       "      <th>day</th>\n",
       "      <th>year</th>\n",
       "      <th>month</th>\n",
       "      <th>hour</th>\n",
       "      <th>dow</th>\n",
       "      <th>direction_id</th>\n",
       "      <th>shape_id</th>\n",
       "      <th>month_day_trip_veh</th>\n",
       "      <th>geometry</th>\n",
       "      <th>near_node_pt</th>\n",
       "      <th>shape_pt_sequence</th>\n",
       "      <th>dist_to_nearest_route_pt</th>\n",
       "    </tr>\n",
       "  </thead>\n",
       "  <tbody>\n",
       "    <tr>\n",
       "      <th>436</th>\n",
       "      <td>102615</td>\n",
       "      <td>1535761686</td>\n",
       "      <td>39512381</td>\n",
       "      <td>6117</td>\n",
       "      <td>47.604149</td>\n",
       "      <td>-122.332672</td>\n",
       "      <td>2018-09-01 00:28:06</td>\n",
       "      <td>2018-08-31 17:28:06-07:00</td>\n",
       "      <td>31</td>\n",
       "      <td>2018</td>\n",
       "      <td>8</td>\n",
       "      <td>17</td>\n",
       "      <td>4</td>\n",
       "      <td>0</td>\n",
       "      <td>11675003</td>\n",
       "      <td>2018_8_31_39512381_6117</td>\n",
       "      <td>POINT (-122.3326721191406 47.6041488647461)</td>\n",
       "      <td>(-122.332672, 47.6041527)</td>\n",
       "      <td>11</td>\n",
       "      <td>0.000004</td>\n",
       "    </tr>\n",
       "    <tr>\n",
       "      <th>528</th>\n",
       "      <td>102615</td>\n",
       "      <td>1535762046</td>\n",
       "      <td>39512381</td>\n",
       "      <td>6117</td>\n",
       "      <td>47.607029</td>\n",
       "      <td>-122.335304</td>\n",
       "      <td>2018-09-01 00:34:06</td>\n",
       "      <td>2018-08-31 17:34:06-07:00</td>\n",
       "      <td>31</td>\n",
       "      <td>2018</td>\n",
       "      <td>8</td>\n",
       "      <td>17</td>\n",
       "      <td>4</td>\n",
       "      <td>0</td>\n",
       "      <td>11675003</td>\n",
       "      <td>2018_8_31_39512381_6117</td>\n",
       "      <td>POINT (-122.3353042602539 47.60702896118164)</td>\n",
       "      <td>(-122.335297, 47.6070137)</td>\n",
       "      <td>16</td>\n",
       "      <td>0.000017</td>\n",
       "    </tr>\n",
       "    <tr>\n",
       "      <th>592</th>\n",
       "      <td>102615</td>\n",
       "      <td>1535762317</td>\n",
       "      <td>39512381</td>\n",
       "      <td>6117</td>\n",
       "      <td>47.610466</td>\n",
       "      <td>-122.338448</td>\n",
       "      <td>2018-09-01 00:38:37</td>\n",
       "      <td>2018-08-31 17:38:37-07:00</td>\n",
       "      <td>31</td>\n",
       "      <td>2018</td>\n",
       "      <td>8</td>\n",
       "      <td>17</td>\n",
       "      <td>4</td>\n",
       "      <td>0</td>\n",
       "      <td>11675003</td>\n",
       "      <td>2018_8_31_39512381_6117</td>\n",
       "      <td>POINT (-122.3384475708008 47.61046600341797)</td>\n",
       "      <td>(-122.338432, 47.6104507)</td>\n",
       "      <td>21</td>\n",
       "      <td>0.000022</td>\n",
       "    </tr>\n",
       "  </tbody>\n",
       "</table>\n",
       "</div>"
      ],
      "text/plain": [
       "     route_id   timestamp   trip_id  vehicle_id  vehicle_lat  vehicle_long  \\\n",
       "436    102615  1535761686  39512381        6117    47.604149   -122.332672   \n",
       "528    102615  1535762046  39512381        6117    47.607029   -122.335304   \n",
       "592    102615  1535762317  39512381        6117    47.610466   -122.338448   \n",
       "\n",
       "                time_utc                   time_pct  day  year  month  hour  \\\n",
       "436  2018-09-01 00:28:06  2018-08-31 17:28:06-07:00   31  2018      8    17   \n",
       "528  2018-09-01 00:34:06  2018-08-31 17:34:06-07:00   31  2018      8    17   \n",
       "592  2018-09-01 00:38:37  2018-08-31 17:38:37-07:00   31  2018      8    17   \n",
       "\n",
       "     dow  direction_id  shape_id       month_day_trip_veh  \\\n",
       "436    4             0  11675003  2018_8_31_39512381_6117   \n",
       "528    4             0  11675003  2018_8_31_39512381_6117   \n",
       "592    4             0  11675003  2018_8_31_39512381_6117   \n",
       "\n",
       "                                         geometry               near_node_pt  \\\n",
       "436   POINT (-122.3326721191406 47.6041488647461)  (-122.332672, 47.6041527)   \n",
       "528  POINT (-122.3353042602539 47.60702896118164)  (-122.335297, 47.6070137)   \n",
       "592  POINT (-122.3384475708008 47.61046600341797)  (-122.338432, 47.6104507)   \n",
       "\n",
       "     shape_pt_sequence  dist_to_nearest_route_pt  \n",
       "436                 11                  0.000004  \n",
       "528                 16                  0.000017  \n",
       "592                 21                  0.000022  "
      ]
     },
     "execution_count": 26,
     "metadata": {},
     "output_type": "execute_result"
    }
   ],
   "source": [
    "unpacked_positions_w_near_node_dict[('2018-08-15', '2018-09-23')].head(3)"
   ]
  },
  {
   "cell_type": "markdown",
   "metadata": {},
   "source": [
    "# merge all dictionaries into one"
   ]
  },
  {
   "cell_type": "code",
   "execution_count": 27,
   "metadata": {},
   "outputs": [
    {
     "name": "stdout",
     "output_type": "stream",
     "text": [
      "('2018-08-15', '2018-09-23')\n",
      "('2018-09-24', '2018-09-24')\n",
      "('2018-09-25', '2018-11-01')\n",
      "('2018-11-02', '2018-11-09')\n",
      "('2018-11-10', '2018-12-11')\n"
     ]
    }
   ],
   "source": [
    "for idx, dict_group in enumerate(unpacked_positions_w_near_node_dict.keys()):\n",
    "    print(dict_group)\n",
    "    if idx == 0:\n",
    "        unpacked_positions_full = unpacked_positions_w_near_node_dict[dict_group].copy()\n",
    "    else:\n",
    "        unpacked_positions_full = unpacked_positions_full.append(unpacked_positions_w_near_node_dict[dict_group])"
   ]
  },
  {
   "cell_type": "markdown",
   "metadata": {},
   "source": [
    "# export"
   ]
  },
  {
   "cell_type": "code",
   "execution_count": 28,
   "metadata": {},
   "outputs": [],
   "source": [
    "unpacked_positions_full.to_csv('route_{}_shape_{}_raw_w_nearest_2018-08-15_2018-12-11.csv'.format(\n",
    "                                        input_dict['route_id'], input_dict['shape_id']), index=False)"
   ]
  },
  {
   "cell_type": "markdown",
   "metadata": {},
   "source": [
    "# get start of schedue time (join in gtfs) then calculate just timing to shape distance"
   ]
  },
  {
   "cell_type": "code",
   "execution_count": 29,
   "metadata": {},
   "outputs": [],
   "source": [
    "def datetime_transform_df(df):\n",
    "    '''\n",
    "    '''\n",
    "    df['time_pct'] = df['time_pct'].apply(pd.to_datetime)\n",
    "    df.set_index('time_pct', inplace=True)\n",
    "    df.sort_index(inplace=True)\n",
    "    df = df.tz_localize('UTC')\n",
    "    df = df.tz_convert('US/Pacific')\n",
    "    \n",
    "    return df"
   ]
  },
  {
   "cell_type": "code",
   "execution_count": 30,
   "metadata": {},
   "outputs": [],
   "source": [
    "def join_tripstart_unpacked(unpacked_positions_w_near_node_df, trip_stops_w_name_route):\n",
    "    '''\n",
    "    '''\n",
    "    normal_hours = [6,7,8,9,10,11,12,13,14,15,16,17,18,19,20]\n",
    "    #drop hours near '0' because the hour comparison gets messed up - gtfs has hours > 23 :(\n",
    "    unpacked_positions_w_near_node_df = unpacked_positions_w_near_node_df[unpacked_positions_w_near_node_df.hour.isin(normal_hours)]\n",
    "    \n",
    "    if 'trip_stops_w_name_route' in trip_stops_w_name_route.columns:\n",
    "        trip_stops_w_name_route.drop('trip_stops_w_name_route', axis=1, inplace=True)\n",
    "    position_w_node_schedule = unpacked_positions_w_near_node_df.merge(trip_stops_w_name_route,how='left',\n",
    "                                                    left_on=['trip_id','route_id','shape_id','shape_pt_sequence'], \n",
    "                                                    right_on=['trip_id','route_id','shape_id','stop_sequence'])\n",
    "    \n",
    "    position_w_node_schedule = position_w_node_schedule[position_w_node_schedule['stop_name'].notnull()]\n",
    "    \n",
    "    \n",
    "    \n",
    "    position_w_node_schedule = datetime_transform_df(position_w_node_schedule)\n",
    "    \n",
    "    position_w_node_schedule.drop_duplicates(['month_day_trip_veh','shape_pt_sequence'], keep='last', inplace=True)\n",
    "\n",
    "    position_w_node_schedule['trip_start_time'] = position_w_node_schedule['trip_start_time'].apply(pd.to_datetime)\n",
    "        \n",
    "    #take the time at every stop and subtract the scheduled start time\n",
    "    position_w_node_schedule['time_from_scheduled_start'] = (((position_w_node_schedule.index.hour)*60+\n",
    "                                                    position_w_node_schedule.index.minute+\n",
    "                                                    (position_w_node_schedule.index.second)/60) - \n",
    "                                                    ((position_w_node_schedule.loc[:,'trip_start_time'].dt.hour)*60+\n",
    "                                                    position_w_node_schedule.loc[:,'trip_start_time'].dt.minute+\n",
    "                                                    (position_w_node_schedule.loc[:,'trip_start_time'].dt.second)/60))\n",
    "\n",
    "    return position_w_node_schedule"
   ]
  },
  {
   "cell_type": "markdown",
   "metadata": {},
   "source": [
    "# could be done in parallel!"
   ]
  },
  {
   "cell_type": "code",
   "execution_count": 31,
   "metadata": {},
   "outputs": [
    {
     "name": "stdout",
     "output_type": "stream",
     "text": [
      "84.78130006790161\n"
     ]
    }
   ],
   "source": [
    "start = time.time()\n",
    "unpacked_positions_full_w_start = join_tripstart_unpacked(unpacked_positions_full, full_trip_stop_schedule)\n",
    "end = time.time()\n",
    "print(end - start)"
   ]
  },
  {
   "cell_type": "code",
   "execution_count": 32,
   "metadata": {},
   "outputs": [
    {
     "data": {
      "text/html": [
       "<div>\n",
       "<style scoped>\n",
       "    .dataframe tbody tr th:only-of-type {\n",
       "        vertical-align: middle;\n",
       "    }\n",
       "\n",
       "    .dataframe tbody tr th {\n",
       "        vertical-align: top;\n",
       "    }\n",
       "\n",
       "    .dataframe thead th {\n",
       "        text-align: right;\n",
       "    }\n",
       "</style>\n",
       "<table border=\"1\" class=\"dataframe\">\n",
       "  <thead>\n",
       "    <tr style=\"text-align: right;\">\n",
       "      <th></th>\n",
       "      <th>month_day_trip_veh</th>\n",
       "      <th>vehicle_lat</th>\n",
       "      <th>vehicle_long</th>\n",
       "      <th>shape_dist_traveled</th>\n",
       "      <th>time_from_scheduled_start</th>\n",
       "    </tr>\n",
       "    <tr>\n",
       "      <th>time_pct</th>\n",
       "      <th></th>\n",
       "      <th></th>\n",
       "      <th></th>\n",
       "      <th></th>\n",
       "      <th></th>\n",
       "    </tr>\n",
       "  </thead>\n",
       "  <tbody>\n",
       "    <tr>\n",
       "      <th>2018-08-31 16:59:07-07:00</th>\n",
       "      <td>2018_8_31_39512518_6046</td>\n",
       "      <td>47.723824</td>\n",
       "      <td>-122.344978</td>\n",
       "      <td>46768.3</td>\n",
       "      <td>41.116667</td>\n",
       "    </tr>\n",
       "    <tr>\n",
       "      <th>2018-08-31 16:59:36-07:00</th>\n",
       "      <td>2018_8_31_39512547_6071</td>\n",
       "      <td>47.698055</td>\n",
       "      <td>-122.344612</td>\n",
       "      <td>37476.0</td>\n",
       "      <td>35.600000</td>\n",
       "    </tr>\n",
       "    <tr>\n",
       "      <th>2018-08-31 16:59:39-07:00</th>\n",
       "      <td>2018_8_31_39512516_6040</td>\n",
       "      <td>47.604149</td>\n",
       "      <td>-122.332672</td>\n",
       "      <td>1105.0</td>\n",
       "      <td>2.650000</td>\n",
       "    </tr>\n",
       "    <tr>\n",
       "      <th>2018-08-31 16:59:39-07:00</th>\n",
       "      <td>2018_8_31_39512611_2803</td>\n",
       "      <td>47.712730</td>\n",
       "      <td>-122.344818</td>\n",
       "      <td>42836.9</td>\n",
       "      <td>52.650000</td>\n",
       "    </tr>\n",
       "    <tr>\n",
       "      <th>2018-08-31 16:59:52-07:00</th>\n",
       "      <td>2018_8_31_39512539_6061</td>\n",
       "      <td>47.604164</td>\n",
       "      <td>-122.332687</td>\n",
       "      <td>1105.0</td>\n",
       "      <td>7.866667</td>\n",
       "    </tr>\n",
       "    <tr>\n",
       "      <th>2018-08-31 16:59:52-07:00</th>\n",
       "      <td>2018_8_31_39512446_6202</td>\n",
       "      <td>47.727604</td>\n",
       "      <td>-122.345016</td>\n",
       "      <td>48252.6</td>\n",
       "      <td>47.866667</td>\n",
       "    </tr>\n",
       "    <tr>\n",
       "      <th>2018-08-31 16:59:52-07:00</th>\n",
       "      <td>2018_8_31_39512384_6065</td>\n",
       "      <td>47.661789</td>\n",
       "      <td>-122.347275</td>\n",
       "      <td>23747.2</td>\n",
       "      <td>20.866667</td>\n",
       "    </tr>\n",
       "    <tr>\n",
       "      <th>2018-08-31 17:00:23-07:00</th>\n",
       "      <td>2018_8_31_39512518_6046</td>\n",
       "      <td>47.727558</td>\n",
       "      <td>-122.345016</td>\n",
       "      <td>48252.6</td>\n",
       "      <td>42.383333</td>\n",
       "    </tr>\n",
       "    <tr>\n",
       "      <th>2018-08-31 17:00:50-07:00</th>\n",
       "      <td>2018_8_31_39512519_6064</td>\n",
       "      <td>47.614998</td>\n",
       "      <td>-122.345284</td>\n",
       "      <td>6183.8</td>\n",
       "      <td>16.833333</td>\n",
       "    </tr>\n",
       "    <tr>\n",
       "      <th>2018-08-31 17:01:08-07:00</th>\n",
       "      <td>2018_8_31_39512516_6040</td>\n",
       "      <td>47.607014</td>\n",
       "      <td>-122.335289</td>\n",
       "      <td>2332.8</td>\n",
       "      <td>4.133333</td>\n",
       "    </tr>\n",
       "  </tbody>\n",
       "</table>\n",
       "</div>"
      ],
      "text/plain": [
       "                                month_day_trip_veh  vehicle_lat  vehicle_long  \\\n",
       "time_pct                                                                        \n",
       "2018-08-31 16:59:07-07:00  2018_8_31_39512518_6046    47.723824   -122.344978   \n",
       "2018-08-31 16:59:36-07:00  2018_8_31_39512547_6071    47.698055   -122.344612   \n",
       "2018-08-31 16:59:39-07:00  2018_8_31_39512516_6040    47.604149   -122.332672   \n",
       "2018-08-31 16:59:39-07:00  2018_8_31_39512611_2803    47.712730   -122.344818   \n",
       "2018-08-31 16:59:52-07:00  2018_8_31_39512539_6061    47.604164   -122.332687   \n",
       "2018-08-31 16:59:52-07:00  2018_8_31_39512446_6202    47.727604   -122.345016   \n",
       "2018-08-31 16:59:52-07:00  2018_8_31_39512384_6065    47.661789   -122.347275   \n",
       "2018-08-31 17:00:23-07:00  2018_8_31_39512518_6046    47.727558   -122.345016   \n",
       "2018-08-31 17:00:50-07:00  2018_8_31_39512519_6064    47.614998   -122.345284   \n",
       "2018-08-31 17:01:08-07:00  2018_8_31_39512516_6040    47.607014   -122.335289   \n",
       "\n",
       "                           shape_dist_traveled  time_from_scheduled_start  \n",
       "time_pct                                                                   \n",
       "2018-08-31 16:59:07-07:00              46768.3                  41.116667  \n",
       "2018-08-31 16:59:36-07:00              37476.0                  35.600000  \n",
       "2018-08-31 16:59:39-07:00               1105.0                   2.650000  \n",
       "2018-08-31 16:59:39-07:00              42836.9                  52.650000  \n",
       "2018-08-31 16:59:52-07:00               1105.0                   7.866667  \n",
       "2018-08-31 16:59:52-07:00              48252.6                  47.866667  \n",
       "2018-08-31 16:59:52-07:00              23747.2                  20.866667  \n",
       "2018-08-31 17:00:23-07:00              48252.6                  42.383333  \n",
       "2018-08-31 17:00:50-07:00               6183.8                  16.833333  \n",
       "2018-08-31 17:01:08-07:00               2332.8                   4.133333  "
      ]
     },
     "execution_count": 32,
     "metadata": {},
     "output_type": "execute_result"
    }
   ],
   "source": [
    "unpacked_positions_full_w_start[['month_day_trip_veh', \n",
    "                                 'vehicle_lat',\n",
    "       'vehicle_long',\n",
    "       'shape_dist_traveled',\n",
    "       'time_from_scheduled_start']].head(10)"
   ]
  },
  {
   "cell_type": "code",
   "execution_count": 34,
   "metadata": {},
   "outputs": [
    {
     "data": {
      "text/plain": [
       "Index(['route_id', 'timestamp', 'trip_id', 'vehicle_id', 'vehicle_lat',\n",
       "       'vehicle_long', 'time_utc', 'day', 'year', 'month', 'hour', 'dow',\n",
       "       'direction_id_x', 'shape_id', 'month_day_trip_veh', 'geometry',\n",
       "       'near_node_pt', 'shape_pt_sequence', 'dist_to_nearest_route_pt',\n",
       "       'arrival_time', 'departure_time', 'stop_id', 'stop_sequence',\n",
       "       'stop_headsign', 'pickup_type', 'drop_off_type', 'shape_dist_traveled',\n",
       "       'start_gtfs_date', 'end_gtfs_date', 'stop_code', 'stop_name',\n",
       "       'stop_desc', 'stop_lat', 'stop_lon', 'zone_id', 'stop_url',\n",
       "       'location_type', 'parent_station', 'stop_timezone', 'trip_start_time',\n",
       "       'direction_id_y', 'trip_headsign', 'route_short_name', 'route_desc',\n",
       "       'time_from_scheduled_start'],\n",
       "      dtype='object')"
      ]
     },
     "execution_count": 34,
     "metadata": {},
     "output_type": "execute_result"
    }
   ],
   "source": [
    "unpacked_positions_full_w_start.columns"
   ]
  },
  {
   "cell_type": "markdown",
   "metadata": {},
   "source": [
    "# export"
   ]
  },
  {
   "cell_type": "code",
   "execution_count": 36,
   "metadata": {},
   "outputs": [],
   "source": [
    "unpacked_positions_full_w_start.to_csv('route_{}_shape_{}_stopsonly_2018-08-15_2018-12-11.csv'.format(\n",
    "                                        input_dict['route_id'], input_dict['shape_id']), index=False)"
   ]
  },
  {
   "cell_type": "code",
   "execution_count": null,
   "metadata": {},
   "outputs": [],
   "source": []
  }
 ],
 "metadata": {
  "kernelspec": {
   "display_name": "Python 3",
   "language": "python",
   "name": "python3"
  },
  "language_info": {
   "codemirror_mode": {
    "name": "ipython",
    "version": 3
   },
   "file_extension": ".py",
   "mimetype": "text/x-python",
   "name": "python",
   "nbconvert_exporter": "python",
   "pygments_lexer": "ipython3",
   "version": "3.6.4"
  }
 },
 "nbformat": 4,
 "nbformat_minor": 2
}
