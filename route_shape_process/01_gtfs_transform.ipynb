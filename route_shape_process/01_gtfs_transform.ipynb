{
 "cells": [
  {
   "cell_type": "markdown",
   "metadata": {},
   "source": [
    "### This script combines data from gtfs files from multiple dates. It outputs combined shapes, routes, and trips files. It also outputs an aggregated \"full trip stop schedule\" file, which contains columns from various gtfs input files."
   ]
  },
  {
   "cell_type": "code",
   "execution_count": 41,
   "metadata": {
    "ExecuteTime": {
     "end_time": "2019-06-13T03:47:02.170874Z",
     "start_time": "2019-06-13T03:47:02.148322Z"
    }
   },
   "outputs": [],
   "source": [
    "import pandas as pd\n",
    "import numpy as np\n",
    "import datetime\n",
    "from collections import defaultdict\n",
    "from datetime import datetime"
   ]
  },
  {
   "cell_type": "code",
   "execution_count": 27,
   "metadata": {
    "ExecuteTime": {
     "end_time": "2019-06-13T03:43:25.254397Z",
     "start_time": "2019-06-13T03:43:25.220564Z"
    }
   },
   "outputs": [],
   "source": [
    "# root directory for all the gtfs data files from different dates\n",
    "#/Users/benjaminmalnor/sandbox/bus350/gtfs-realtime\n",
    "gtfs_folder = \"../data/source/\""
   ]
  },
  {
   "cell_type": "code",
   "execution_count": 28,
   "metadata": {
    "ExecuteTime": {
     "end_time": "2019-06-13T03:43:26.275083Z",
     "start_time": "2019-06-13T03:43:25.380771Z"
    }
   },
   "outputs": [],
   "source": [
    "# create dictionary keyed by date then file type;\n",
    "# each entry is a pandas dataframe\n",
    "date_file_dict = defaultdict(dict)\n",
    "file_types = ['stops', 'stop_times', 'trips', 'shapes', 'routes']"
   ]
  },
  {
   "cell_type": "code",
   "execution_count": 29,
   "metadata": {
    "ExecuteTime": {
     "end_time": "2019-06-13T03:43:26.319040Z",
     "start_time": "2019-06-13T03:43:26.284038Z"
    }
   },
   "outputs": [],
   "source": [
    "# specify set of dates to combine\n",
    "# (for a set of files labeled with a certain date, \n",
    "# those data apply from that date up until the day before \n",
    "# the next date for which data files exist)\n",
    "date_start_end_dict = {'20180815':('2018-08-15','2018-09-23'),\n",
    "                       '20180924':('2018-09-24','2018-09-24'),\n",
    "                      '20180925':('2018-09-25','2018-11-01'),\n",
    "                      '20181102':('2018-11-02','2018-11-09'),\n",
    "                      '20181110':('2018-11-10','2018-11-28'),\n",
    "                      '20181129':('2018-11-29','2018-12-11'),\n",
    "                      '20181212':('2018-12-12','2019-01-01')}\n",
    "dates = list(date_start_end_dict.keys())\n",
    "\n",
    "# make sure to change out_suffix below to correspond to this date range!"
   ]
  },
  {
   "cell_type": "code",
   "execution_count": 30,
   "metadata": {
    "ExecuteTime": {
     "end_time": "2019-06-13T03:43:45.596101Z",
     "start_time": "2019-06-13T03:43:26.321769Z"
    }
   },
   "outputs": [],
   "source": [
    "# read in each file type for each date, and store in dictionary\n",
    "for date in dates:\n",
    "    for f in file_types:\n",
    "        file_location = f\"{gtfs_folder}gtfs_{date}/{f}.txt\"\n",
    "        date_file_dict[date][f] = pd.read_csv(file_location)\n",
    "        date_file_dict[date][f]['start_gtfs_date'] = \\\n",
    "            datetime.datetime.strptime(date_start_end_dict[date][0], \"%Y-%m-%d\")\n",
    "        date_file_dict[date][f]['end_gtfs_date'] = \\\n",
    "            datetime.datetime.strptime(date_start_end_dict[date][1], \"%Y-%m-%d\")"
   ]
  },
  {
   "cell_type": "code",
   "execution_count": 31,
   "metadata": {
    "ExecuteTime": {
     "end_time": "2019-06-13T03:43:54.476366Z",
     "start_time": "2019-06-13T03:43:54.388206Z"
    }
   },
   "outputs": [],
   "source": [
    "# get the desired set of columns for the new aggregated \"full trip stop schedule\" file\n",
    "def trip_stop_schedule(gtfs_stops, gtfs_stop_times, gtfs_trips, gtfs_routes):\n",
    "    gtfs_stops.drop(['start_gtfs_date','end_gtfs_date'], axis=1, inplace=True)\n",
    "    trip_stops_w_names = gtfs_stop_times.merge(gtfs_stops, how='left',on='stop_id')\n",
    "    \n",
    "    trip_stops_w_name_route = trip_stops_w_names.merge(gtfs_trips[['trip_id','route_id',\n",
    "                                                                   'direction_id','trip_headsign',\n",
    "                                                                   'shape_id']], how='left',on='trip_id')\n",
    "    \n",
    "    trip_stops_w_name_route = trip_stops_w_name_route.merge(gtfs_routes[['route_id', \n",
    "                                                                         'route_short_name', \n",
    "                                                                         'route_desc']], \n",
    "                                                            how='left', on='route_id')\n",
    "\n",
    "    return trip_stops_w_name_route"
   ]
  },
  {
   "cell_type": "code",
   "execution_count": 32,
   "metadata": {
    "ExecuteTime": {
     "end_time": "2019-06-13T03:44:07.577800Z",
     "start_time": "2019-06-13T03:43:55.064852Z"
    }
   },
   "outputs": [],
   "source": [
    "# for each date, aggregate information from various files\n",
    "file_types.append('aggregated')\n",
    "for date in dates:\n",
    "    date_file_dict[date][file_types[-1]] = trip_stop_schedule(date_file_dict[date]['stops'], \n",
    "                                                              date_file_dict[date]['stop_times'],\n",
    "                                                              date_file_dict[date]['trips'], \n",
    "                                                              date_file_dict[date]['routes'])"
   ]
  },
  {
   "cell_type": "code",
   "execution_count": 33,
   "metadata": {
    "ExecuteTime": {
     "end_time": "2019-06-13T03:44:44.706597Z",
     "start_time": "2019-06-13T03:44:09.837534Z"
    }
   },
   "outputs": [],
   "source": [
    "# append all the data from different dates for each file type \n",
    "# (including the new aggregated file type)\n",
    "file_dict = {}\n",
    "for f in file_types:\n",
    "    file_dict[f] = date_file_dict[dates[0]][f].copy()\n",
    "    for date in dates[1:]:\n",
    "        file_dict[f] = file_dict[f].append(date_file_dict[date][f])"
   ]
  },
  {
   "cell_type": "code",
   "execution_count": 34,
   "metadata": {
    "ExecuteTime": {
     "end_time": "2019-06-13T03:44:46.960515Z",
     "start_time": "2019-06-13T03:44:46.881756Z"
    }
   },
   "outputs": [
    {
     "data": {
      "text/plain": [
       "Index(['trip_id', 'arrival_time', 'departure_time', 'stop_id', 'stop_sequence',\n",
       "       'stop_headsign', 'pickup_type', 'drop_off_type', 'shape_dist_traveled',\n",
       "       'start_gtfs_date', 'end_gtfs_date', 'stop_code', 'stop_name',\n",
       "       'stop_desc', 'stop_lat', 'stop_lon', 'zone_id', 'stop_url',\n",
       "       'location_type', 'parent_station', 'stop_timezone', 'route_id',\n",
       "       'direction_id', 'trip_headsign', 'shape_id', 'route_short_name',\n",
       "       'route_desc'],\n",
       "      dtype='object')"
      ]
     },
     "execution_count": 34,
     "metadata": {},
     "output_type": "execute_result"
    }
   ],
   "source": [
    "file_dict['aggregated'].columns"
   ]
  },
  {
   "cell_type": "code",
   "execution_count": 58,
   "metadata": {
    "ExecuteTime": {
     "end_time": "2019-06-13T03:55:07.874612Z",
     "start_time": "2019-06-13T03:55:07.847656Z"
    }
   },
   "outputs": [],
   "source": [
    "# suffix for the output files specifying the date range they contain; \n",
    "# we could get this from date_start_end_dict \n",
    "# here's a gross way to get min/max date - please make it better :)\n",
    "date_list = []\n",
    "for key, vals in date_start_end_dict.items():\n",
    "    date_list.append(datetime.strptime(vals[0],\"%Y-%m-%d\"))\n",
    "    date_list.append(datetime.strptime(vals[0],\"%Y-%m-%d\"))\n",
    "date_list.sort()\n",
    "start_date = date_list[0].strftime(\"%Y-%m-%d\")\n",
    "end_date = date_list[-1].strftime(\"%Y-%m-%d\")\n",
    "out_suffix = f\"{start_date}_{end_date}\""
   ]
  },
  {
   "cell_type": "code",
   "execution_count": 61,
   "metadata": {
    "ExecuteTime": {
     "end_time": "2019-06-13T04:05:06.515132Z",
     "start_time": "2019-06-13T04:05:06.418888Z"
    }
   },
   "outputs": [],
   "source": [
    "#output folder\n",
    "gtfs_output_folder = \"../data/gtfs_merge/\""
   ]
  },
  {
   "cell_type": "code",
   "execution_count": 62,
   "metadata": {
    "ExecuteTime": {
     "end_time": "2019-06-13T04:12:31.138362Z",
     "start_time": "2019-06-13T04:05:07.016859Z"
    }
   },
   "outputs": [],
   "source": [
    "# write output csv files\n",
    "file_dict['aggregated'].to_csv(f\"{gtfs_output_folder}gtfs_{out_suffix}.csv\", index=False)\n",
    "file_dict['shapes'].to_csv(f\"{gtfs_output_folder}gtfs_shapes_{out_suffix}.csv\", index=False)\n",
    "file_dict['routes'].to_csv(f\"{gtfs_output_folder}gtfs_routes_{out_suffix}.csv\", index=False)\n",
    "file_dict['trips'].to_csv(f\"{gtfs_output_folder}gtfs_trips_{out_suffix}.csv\", index=False)"
   ]
  },
  {
   "cell_type": "code",
   "execution_count": null,
   "metadata": {},
   "outputs": [],
   "source": []
  }
 ],
 "metadata": {
  "kernelspec": {
   "display_name": "Python 3",
   "language": "python",
   "name": "python3"
  },
  "language_info": {
   "codemirror_mode": {
    "name": "ipython",
    "version": 3
   },
   "file_extension": ".py",
   "mimetype": "text/x-python",
   "name": "python",
   "nbconvert_exporter": "python",
   "pygments_lexer": "ipython3",
   "version": "3.6.4"
  }
 },
 "nbformat": 4,
 "nbformat_minor": 2
}
