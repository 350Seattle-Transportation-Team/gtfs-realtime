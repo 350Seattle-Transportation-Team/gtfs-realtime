{
 "cells": [
  {
   "cell_type": "code",
   "execution_count": 1,
   "metadata": {},
   "outputs": [],
   "source": [
    "import pandas as pd\n",
    "import numpy as np\n",
    "import datetime"
   ]
  },
  {
   "cell_type": "markdown",
   "metadata": {},
   "source": [
    "# put all your gtfs files into a folder"
   ]
  },
  {
   "cell_type": "code",
   "execution_count": 3,
   "metadata": {},
   "outputs": [],
   "source": [
    "gtfs_folder = \"/Users/benjaminmalnor/sandbox/bus350/\""
   ]
  },
  {
   "cell_type": "code",
   "execution_count": 4,
   "metadata": {},
   "outputs": [],
   "source": [
    "stops_2018_08_15_gtfs = pd.read_csv(\"{}2018_08_15_gtfs/stops.txt\".format(gtfs_folder))\n",
    "stoptimes_2018_08_15_gtfs = pd.read_csv(\"{}2018_08_15_gtfs/stop_times.txt\".format(gtfs_folder))\n",
    "trips_2018_08_15_gtfs = pd.read_csv(\"{}2018_08_15_gtfs/trips.txt\".format(gtfs_folder))\n",
    "shapes_2018_08_15_gtfs = pd.read_csv(\"{}2018_08_15_gtfs/shapes.txt\".format(gtfs_folder))\n",
    "routes_2018_08_15_gtfs = pd.read_csv(\"{}2018_08_15_gtfs/routes.txt\".format(gtfs_folder))"
   ]
  },
  {
   "cell_type": "code",
   "execution_count": 5,
   "metadata": {},
   "outputs": [],
   "source": [
    "stops_2018_09_24_gtfs = pd.read_csv(\"{}2018_09_24_gtfs/stops.txt\".format(gtfs_folder))\n",
    "stoptimes_2018_09_24_gtfs = pd.read_csv(\"{}2018_09_24_gtfs/stop_times.txt\".format(gtfs_folder))\n",
    "trips_2018_09_24_gtfs = pd.read_csv(\"{}2018_09_24_gtfs/trips.txt\".format(gtfs_folder)) \n",
    "shapes_2018_09_24_gtfs = pd.read_csv(\"{}2018_09_24_gtfs/shapes.txt\".format(gtfs_folder))\n",
    "routes_2018_09_24_gtfs = pd.read_csv(\"{}2018_09_24_gtfs/routes.txt\".format(gtfs_folder))"
   ]
  },
  {
   "cell_type": "code",
   "execution_count": 6,
   "metadata": {},
   "outputs": [],
   "source": [
    "stops_2018_09_25_gtfs = pd.read_csv(\"{}2018_09_25_gtfs/stops.txt\".format(gtfs_folder))\n",
    "stoptimes_2018_09_25_gtfs = pd.read_csv(\"{}2018_09_25_gtfs/stop_times.txt\".format(gtfs_folder))\n",
    "trips_2018_09_25_gtfs = pd.read_csv(\"{}2018_09_25_gtfs/trips.txt\".format(gtfs_folder)) \n",
    "shapes_2018_09_25_gtfs = pd.read_csv(\"{}2018_09_25_gtfs/shapes.txt\".format(gtfs_folder))\n",
    "routes_2018_09_25_gtfs = pd.read_csv(\"{}2018_09_25_gtfs/routes.txt\".format(gtfs_folder))"
   ]
  },
  {
   "cell_type": "code",
   "execution_count": 11,
   "metadata": {},
   "outputs": [],
   "source": [
    "stops_2018_11_02_gtfs = pd.read_csv(\"{}2018_11_02_gtfs/stops.txt\".format(gtfs_folder))\n",
    "stoptimes_2018_11_02_gtfs = pd.read_csv(\"{}2018_11_02_gtfs/stop_times.txt\".format(gtfs_folder))\n",
    "trips_2018_11_02_gtfs = pd.read_csv(\"{}2018_11_02_gtfs/trips.txt\".format(gtfs_folder)) \n",
    "shapes_2018_11_02_gtfs = pd.read_csv(\"{}2018_11_02_gtfs/shapes.txt\".format(gtfs_folder))\n",
    "routes_2018_11_02_gtfs = pd.read_csv(\"{}2018_11_02_gtfs/routes.txt\".format(gtfs_folder))"
   ]
  },
  {
   "cell_type": "code",
   "execution_count": 7,
   "metadata": {},
   "outputs": [],
   "source": [
    "stops_2018_11_10_gtfs = pd.read_csv(\"{}2018_11_10_gtfs/stops.txt\".format(gtfs_folder))\n",
    "stoptimes_2018_11_10_gtfs = pd.read_csv(\"{}2018_11_10_gtfs/stop_times.txt\".format(gtfs_folder))\n",
    "trips_2018_11_10_gtfs = pd.read_csv(\"{}2018_11_10_gtfs/trips.txt\".format(gtfs_folder)) \n",
    "shapes_2018_11_10_gtfs = pd.read_csv(\"{}2018_11_10_gtfs/shapes.txt\".format(gtfs_folder))\n",
    "routes_2018_11_10_gtfs = pd.read_csv(\"{}2018_11_10_gtfs/routes.txt\".format(gtfs_folder))"
   ]
  },
  {
   "cell_type": "code",
   "execution_count": 8,
   "metadata": {},
   "outputs": [],
   "source": [
    "stops_2018_12_12_gtfs = pd.read_csv(\"{}2018_12_12_gtfs/stops.txt\".format(gtfs_folder))\n",
    "stoptimes_2018_12_12_gtfs = pd.read_csv(\"{}2018_12_12_gtfs/stop_times.txt\".format(gtfs_folder))\n",
    "trips_2018_12_12_gtfs = pd.read_csv(\"{}2018_12_12_gtfs/trips.txt\".format(gtfs_folder)) \n",
    "shapes_2018_12_12_gtfs = pd.read_csv(\"{}2018_12_12_gtfs/shapes.txt\".format(gtfs_folder))\n",
    "routes_2018_12_12_gtfs = pd.read_csv(\"{}2018_12_12_gtfs/routes.txt\".format(gtfs_folder))"
   ]
  },
  {
   "cell_type": "markdown",
   "metadata": {},
   "source": [
    "# right now I manually assign the dictionary keys - check out Nathaniel's work for better import / distinction between gtfs files"
   ]
  },
  {
   "cell_type": "code",
   "execution_count": 12,
   "metadata": {},
   "outputs": [],
   "source": [
    "gtfs_dict = {('2018-08-15','2018-09-23'):[stops_2018_08_15_gtfs,\n",
    "                       stoptimes_2018_08_15_gtfs,\n",
    "                       trips_2018_08_15_gtfs,\n",
    "                       shapes_2018_08_15_gtfs,\n",
    "                       routes_2018_08_15_gtfs],\n",
    "             ('2018-09-24','2018-09-24'):[stops_2018_09_24_gtfs,\n",
    "                       stoptimes_2018_09_24_gtfs,\n",
    "                       trips_2018_09_24_gtfs,\n",
    "                       shapes_2018_09_24_gtfs,\n",
    "                       routes_2018_09_24_gtfs],\n",
    "             ('2018-09-25','2018-11-01'):[stops_2018_09_25_gtfs,\n",
    "                       stoptimes_2018_09_25_gtfs,\n",
    "                       trips_2018_09_25_gtfs,\n",
    "                       shapes_2018_09_25_gtfs,\n",
    "                       routes_2018_09_25_gtfs],\n",
    "             ('2018-11-02','2018-11-09'):[stops_2018_11_02_gtfs,\n",
    "                       stoptimes_2018_11_02_gtfs,\n",
    "                       trips_2018_11_02_gtfs,\n",
    "                       shapes_2018_11_02_gtfs,\n",
    "                       routes_2018_11_02_gtfs],\n",
    "             ('2018-11-10','2018-12-11'):[stops_2018_11_10_gtfs,\n",
    "                       stoptimes_2018_11_10_gtfs,\n",
    "                       trips_2018_11_10_gtfs,\n",
    "                       shapes_2018_11_10_gtfs,\n",
    "                       routes_2018_11_10_gtfs],\n",
    "             ('2018-12-12','2019-01-07'):[stops_2018_12_12_gtfs,\n",
    "                       stoptimes_2018_12_12_gtfs,\n",
    "                       trips_2018_12_12_gtfs,\n",
    "                       shapes_2018_12_12_gtfs,\n",
    "                       routes_2018_12_12_gtfs]}"
   ]
  },
  {
   "cell_type": "code",
   "execution_count": 13,
   "metadata": {},
   "outputs": [],
   "source": [
    "def add_start_end_dates(gtfs_df, start_date, end_date):\n",
    "    '''\n",
    "    start_date & end_date string in form = 2017-11-15\n",
    "    '''\n",
    "    gtfs_df['start_gtfs_date'] = datetime.datetime.strptime(start_date, \"%Y-%m-%d\")\n",
    "    gtfs_df['end_gtfs_date'] = datetime.datetime.strptime(end_date, \"%Y-%m-%d\")"
   ]
  },
  {
   "cell_type": "code",
   "execution_count": 14,
   "metadata": {},
   "outputs": [],
   "source": [
    "for keys, values in gtfs_dict.items():\n",
    "    start_date = keys[0]\n",
    "    end_date = keys[1]\n",
    "    for gtfs_df in values:\n",
    "        add_start_end_dates(gtfs_df, start_date, end_date)"
   ]
  },
  {
   "cell_type": "code",
   "execution_count": 15,
   "metadata": {},
   "outputs": [],
   "source": [
    "def trip_stop_schedule(gtfs_stops, gtfs_stop_times, gtfs_trips, gtfs_routes):\n",
    "    '''\n",
    "    '''\n",
    "    gtfs_stops.drop(['start_gtfs_date','end_gtfs_date'], axis=1, inplace=True)\n",
    "    trip_stops_w_names = gtfs_stop_times.merge(gtfs_stops, how='left',on='stop_id')\n",
    "    trip_arrival_time = trip_stops_w_names.loc[trip_stops_w_names['stop_sequence']==1,['trip_id','stop_sequence','arrival_time']]\\\n",
    "                        .groupby('trip_id')\\\n",
    "                        .agg({'arrival_time':'max'})\\\n",
    "                        .reset_index()\\\n",
    "                        .rename(columns={'arrival_time':'trip_start_time'})\n",
    "    trip_stops_w_names = trip_stops_w_names.merge(trip_arrival_time, how='left', on='trip_id')\n",
    "    \n",
    "    trip_stops_w_name_route = trip_stops_w_names.merge(gtfs_trips[['trip_id','route_id','direction_id','trip_headsign','shape_id']], how='left',on='trip_id')\n",
    "    \n",
    "    trip_stops_w_name_route = trip_stops_w_name_route.merge(gtfs_routes[['route_id', 'route_short_name', 'route_desc']], how='left', on='route_id')\n",
    "\n",
    "    return trip_stops_w_name_route"
   ]
  },
  {
   "cell_type": "code",
   "execution_count": 16,
   "metadata": {},
   "outputs": [],
   "source": [
    "stops_gtfs_list = []\n",
    "stoptimes_gtfs_list = []\n",
    "trips_gtfs_list = []\n",
    "shapes_gtfs_list = []\n",
    "routes_gtfs_list = []\n",
    "trip_stop_schedule_list = []\n",
    "for keys, values in gtfs_dict.items():\n",
    "    stops_gtfs_list.append(values[0])\n",
    "    stoptimes_gtfs_list.append(values[1])\n",
    "    trips_gtfs_list.append(values[2])\n",
    "    shapes_gtfs_list.append(values[3])\n",
    "    routes_gtfs_list.append(values[4])\n",
    "    trip_stop_schedule_list.append(trip_stop_schedule(values[0], values[1], values[2], values[4]))"
   ]
  },
  {
   "cell_type": "code",
   "execution_count": 17,
   "metadata": {},
   "outputs": [
    {
     "data": {
      "text/plain": [
       "Index(['trip_id', 'arrival_time', 'departure_time', 'stop_id', 'stop_sequence',\n",
       "       'stop_headsign', 'pickup_type', 'drop_off_type', 'shape_dist_traveled',\n",
       "       'start_gtfs_date', 'end_gtfs_date', 'stop_code', 'stop_name',\n",
       "       'stop_desc', 'stop_lat', 'stop_lon', 'zone_id', 'stop_url',\n",
       "       'location_type', 'parent_station', 'stop_timezone', 'trip_start_time',\n",
       "       'route_id', 'direction_id', 'trip_headsign', 'shape_id',\n",
       "       'route_short_name', 'route_desc'],\n",
       "      dtype='object')"
      ]
     },
     "execution_count": 17,
     "metadata": {},
     "output_type": "execute_result"
    }
   ],
   "source": [
    "trip_stop_schedule_list[0].columns"
   ]
  },
  {
   "cell_type": "code",
   "execution_count": 18,
   "metadata": {},
   "outputs": [],
   "source": [
    "def append_gtfs_dfs(gtfs_df_list):\n",
    "    '''\n",
    "    '''\n",
    "    for i, df in enumerate(gtfs_df_list):\n",
    "        if i == 0:\n",
    "            full_df = df.copy()\n",
    "        else:\n",
    "            full_df = full_df.append(df)\n",
    "    return full_df"
   ]
  },
  {
   "cell_type": "code",
   "execution_count": 19,
   "metadata": {},
   "outputs": [],
   "source": [
    "full_stops_gtfs = append_gtfs_dfs(stops_gtfs_list)\n",
    "full_stoptimes_gtfs = append_gtfs_dfs(stoptimes_gtfs_list)\n",
    "full_trips_gtfs = append_gtfs_dfs(trips_gtfs_list)\n",
    "full_shapes_gtfs = append_gtfs_dfs(shapes_gtfs_list)\n",
    "full_routes_gtfs = append_gtfs_dfs(routes_gtfs_list)\n",
    "full_trip_stop_schedule = append_gtfs_dfs(trip_stop_schedule_list)"
   ]
  },
  {
   "cell_type": "code",
   "execution_count": 20,
   "metadata": {},
   "outputs": [
    {
     "data": {
      "text/plain": [
       "array(['2018-08-15T00:00:00.000000000', '2018-09-24T00:00:00.000000000',\n",
       "       '2018-09-25T00:00:00.000000000', '2018-11-02T00:00:00.000000000',\n",
       "       '2018-11-10T00:00:00.000000000', '2018-12-12T00:00:00.000000000'],\n",
       "      dtype='datetime64[ns]')"
      ]
     },
     "execution_count": 20,
     "metadata": {},
     "output_type": "execute_result"
    }
   ],
   "source": [
    "full_trip_stop_schedule['start_gtfs_date'].unique()"
   ]
  },
  {
   "cell_type": "markdown",
   "metadata": {},
   "source": [
    "# writing to csv takes a long time - possibly write to hd5 instead"
   ]
  },
  {
   "cell_type": "code",
   "execution_count": 21,
   "metadata": {},
   "outputs": [],
   "source": [
    "full_trip_stop_schedule.to_csv(\"gtfs_2018-08-15_2018-12-12.csv\", index=False)"
   ]
  },
  {
   "cell_type": "code",
   "execution_count": 22,
   "metadata": {},
   "outputs": [],
   "source": [
    "full_shapes_gtfs.to_csv(\"gtfs_shapes_2018-08-15_2018-12-12.csv\", index=False)\n",
    "full_routes_gtfs.to_csv(\"gtfs_routes_2018-08-15_2018-12-12.csv\", index=False)"
   ]
  },
  {
   "cell_type": "code",
   "execution_count": 23,
   "metadata": {},
   "outputs": [],
   "source": [
    "full_trips_gtfs.to_csv(\"gtfs_trips_2018-08-15_2018-12-12.csv\", index=False)"
   ]
  },
  {
   "cell_type": "code",
   "execution_count": 24,
   "metadata": {},
   "outputs": [
    {
     "data": {
      "text/plain": [
       "dict_keys([('2018-08-15', '2018-09-23'), ('2018-09-24', '2018-09-24'), ('2018-09-25', '2018-11-01'), ('2018-11-02', '2018-11-09'), ('2018-11-10', '2018-12-11'), ('2018-12-12', '2019-01-07')])"
      ]
     },
     "execution_count": 24,
     "metadata": {},
     "output_type": "execute_result"
    }
   ],
   "source": [
    "gtfs_dict.keys()"
   ]
  },
  {
   "cell_type": "code",
   "execution_count": null,
   "metadata": {
    "collapsed": true
   },
   "outputs": [],
   "source": []
  }
 ],
 "metadata": {
  "kernelspec": {
   "display_name": "Python 3",
   "language": "python",
   "name": "python3"
  },
  "language_info": {
   "codemirror_mode": {
    "name": "ipython",
    "version": 3
   },
   "file_extension": ".py",
   "mimetype": "text/x-python",
   "name": "python",
   "nbconvert_exporter": "python",
   "pygments_lexer": "ipython3",
   "version": "3.6.4"
  }
 },
 "nbformat": 4,
 "nbformat_minor": 2
}
