{
 "cells": [
  {
   "cell_type": "markdown",
   "metadata": {},
   "source": [
    "# importing matplotlib for plotting at the bottom of this notebook"
   ]
  },
  {
   "cell_type": "code",
   "execution_count": null,
   "metadata": {
    "ExecuteTime": {
     "end_time": "2019-12-05T14:10:23.889131Z",
     "start_time": "2019-12-05T14:10:19.807988Z"
    }
   },
   "outputs": [],
   "source": [
    "import matplotlib.pyplot as plt\n",
    "from os import listdir\n",
    "from os.path import isfile, join\n",
    "from shapely.geometry import Point\n",
    "import pandas as pd\n",
    "import geopandas as gpd\n",
    "import time\n",
    "%matplotlib inline\n",
    "%load_ext autoreload\n",
    "%autoreload 2"
   ]
  },
  {
   "cell_type": "code",
   "execution_count": null,
   "metadata": {
    "ExecuteTime": {
     "end_time": "2019-12-05T14:10:24.195287Z",
     "start_time": "2019-12-05T14:10:23.900946Z"
    }
   },
   "outputs": [],
   "source": [
    "from datetime import datetime #added for Windows users\n",
    "current_time = datetime.now() #added for Windows users\n",
    "#!date #did not work on Windows\n",
    "print(current_time.strftime('%m/%d/%Y %H:%M'))\n",
    "!whoami"
   ]
  },
  {
   "cell_type": "markdown",
   "metadata": {},
   "source": [
    "# load in all functions from `route_shape_process_scripts.py` file"
   ]
  },
  {
   "cell_type": "code",
   "execution_count": 3,
   "metadata": {
    "ExecuteTime": {
     "end_time": "2019-12-05T14:10:27.531578Z",
     "start_time": "2019-12-05T14:10:24.915610Z"
    }
   },
   "outputs": [],
   "source": [
    "import route_shape_process_scripts as f1"
   ]
  },
  {
   "cell_type": "markdown",
   "metadata": {},
   "source": [
    "# General transformation flow in this notebook:\n",
    "- import gtfs files\n",
    "- pick a route of interest\n",
    "- grab position files for all routes\n",
    "- filter positions for only that route\n",
    "- add time index (this is used to break up positions by datetime and join with gtfs)\n",
    "- get popular shape in both route directions (direction_id)\n",
    "- make a route_vertex geopandas dataframe - we'll use this to find \"nearest\" route node\n",
    "- take all positions and find closest route node\n",
    "- append route info (distance traveled / shape_pt_sequence)\n",
    "- create timing metrics based on `trip_start_time` and `time_pct` <- position observation time - converted to Pacific"
   ]
  },
  {
   "cell_type": "markdown",
   "metadata": {},
   "source": [
    "# import gtfs from 01_gtfs_transform notebook output"
   ]
  },
  {
   "cell_type": "code",
   "execution_count": 4,
   "metadata": {
    "ExecuteTime": {
     "end_time": "2019-12-05T14:10:28.534791Z",
     "start_time": "2019-12-05T14:10:28.340945Z"
    }
   },
   "outputs": [],
   "source": [
    "#if you ran notebook 01_gtfs this path should be correct\n",
    "gtfs_merge_file_path = \"./data/gtfs_merge/\"\n",
    "agg_filename = [f for f in listdir(gtfs_merge_file_path) if isfile(join(gtfs_merge_file_path, f)) \n",
    "                and 'agg' in f][0]\n",
    "routes_filename = [f for f in listdir(gtfs_merge_file_path) if isfile(join(gtfs_merge_file_path, f)) \n",
    "                and 'routes' in f][0]\n",
    "shapes_filename = [f for f in listdir(gtfs_merge_file_path) if isfile(join(gtfs_merge_file_path, f)) \n",
    "                and 'shapes' in f][0]\n",
    "trips_filename = [f for f in listdir(gtfs_merge_file_path) if isfile(join(gtfs_merge_file_path, f)) \n",
    "                and 'trips' in f][0]"
   ]
  },
  {
   "cell_type": "code",
   "execution_count": 5,
   "metadata": {
    "ExecuteTime": {
     "end_time": "2019-12-05T14:10:59.424231Z",
     "start_time": "2019-12-05T14:10:28.968831Z"
    }
   },
   "outputs": [],
   "source": [
    "full_routes_gtfs = pd.read_csv(f\"{gtfs_merge_file_path}{routes_filename}\", low_memory=False)\n",
    "full_shapes_gtfs = pd.read_csv(f\"{gtfs_merge_file_path}{shapes_filename}\", low_memory=False)\n",
    "full_trips_gtfs = pd.read_csv(f\"{gtfs_merge_file_path}{trips_filename}\", low_memory=False)\n",
    "full_trip_stop_schedule = pd.read_csv(f\"{gtfs_merge_file_path}{agg_filename}\", low_memory=False)"
   ]
  },
  {
   "cell_type": "code",
   "execution_count": 6,
   "metadata": {
    "ExecuteTime": {
     "end_time": "2019-12-05T14:11:16.295045Z",
     "start_time": "2019-12-05T14:10:59.464427Z"
    }
   },
   "outputs": [],
   "source": [
    "tripid_w_starttime = full_trip_stop_schedule.groupby('trip_id')\\\n",
    "                        .agg({'trip_start_time':'min'})\\\n",
    "                        .reset_index()"
   ]
  },
  {
   "cell_type": "markdown",
   "metadata": {},
   "source": [
    "# break up the gtfs by `start date` and `end date`. TODO: there is a better way to do this. Right now, we want to make sure the vehicle position observation is joined with the `right` gtfs information. The simplest way to do that is to break up the position file by date and break up the gtfs by date and only join where the date windows match. "
   ]
  },
  {
   "cell_type": "code",
   "execution_count": 7,
   "metadata": {
    "ExecuteTime": {
     "end_time": "2019-12-05T14:11:18.200903Z",
     "start_time": "2019-12-05T14:11:16.301164Z"
    }
   },
   "outputs": [],
   "source": [
    "full_trip_stop_schedule_dict = {}\n",
    "for name, group in full_trip_stop_schedule.groupby(['start_gtfs_date','end_gtfs_date']):\n",
    "    full_trip_stop_schedule_dict[name] = group"
   ]
  },
  {
   "cell_type": "markdown",
   "metadata": {},
   "source": [
    "## get route name -- id dictionary. Nathaniel has a better class for this in `/data_transformations` but I haven't incorporated it yet. the below dictionary works as a quick/dirty way to input `route_short_name` and output `route_id`"
   ]
  },
  {
   "cell_type": "code",
   "execution_count": 8,
   "metadata": {
    "ExecuteTime": {
     "end_time": "2019-12-05T14:11:18.558284Z",
     "start_time": "2019-12-05T14:11:18.210969Z"
    }
   },
   "outputs": [],
   "source": [
    "route_name_to_id_dict = dict(zip(full_routes_gtfs.route_short_name.tolist(),\n",
    "                                 full_routes_gtfs.route_id.tolist()))"
   ]
  },
  {
   "cell_type": "code",
   "execution_count": 9,
   "metadata": {
    "ExecuteTime": {
     "end_time": "2019-12-05T14:11:18.913283Z",
     "start_time": "2019-12-05T14:11:18.563538Z"
    }
   },
   "outputs": [],
   "source": [
    "route_id_to_name_dict = dict(zip(full_routes_gtfs.route_id.tolist(),\n",
    "                                 full_routes_gtfs.route_short_name.tolist()))"
   ]
  },
  {
   "cell_type": "code",
   "execution_count": 10,
   "metadata": {
    "ExecuteTime": {
     "end_time": "2019-12-05T14:11:19.361722Z",
     "start_time": "2019-12-05T14:11:18.922474Z"
    }
   },
   "outputs": [
    {
     "data": {
      "text/plain": [
       "'10'"
      ]
     },
     "execution_count": 10,
     "metadata": {},
     "output_type": "execute_result"
    }
   ],
   "source": [
    "route_id_to_name_dict[100002]"
   ]
  },
  {
   "cell_type": "markdown",
   "metadata": {},
   "source": [
    "## select a route"
   ]
  },
  {
   "cell_type": "code",
   "execution_count": 11,
   "metadata": {
    "ExecuteTime": {
     "end_time": "2019-12-05T14:42:24.593733Z",
     "start_time": "2019-12-05T14:42:23.724796Z"
    }
   },
   "outputs": [
    {
     "data": {
      "text/plain": [
       "100275"
      ]
     },
     "execution_count": 11,
     "metadata": {},
     "output_type": "execute_result"
    }
   ],
   "source": [
    "#get_select_routeid_name(full_routes_gtfs, ['E Line'])[2]\n",
    "route_of_interest = '8'\n",
    "route_of_interest_id = route_name_to_id_dict[route_of_interest]\n",
    "route_of_interest_id"
   ]
  },
  {
   "cell_type": "markdown",
   "metadata": {},
   "source": [
    "# get all position files for these months"
   ]
  },
  {
   "cell_type": "code",
   "execution_count": 12,
   "metadata": {
    "ExecuteTime": {
     "end_time": "2019-12-05T14:42:26.489644Z",
     "start_time": "2019-12-05T14:42:25.632620Z"
    }
   },
   "outputs": [],
   "source": [
    "position_file_location = \"./data/intermed/\"\n",
    "position_date = \"20190501\"\n",
    "# month_list = ['201809', '201810', '201811']\n",
    "# full_route_positions = get_positions_months(month_list, position_file_location)\n",
    "full_route_positions = pd.read_hdf(f\"{position_file_location}positions_{position_date}.h5\",low_memory=False)"
   ]
  },
  {
   "cell_type": "markdown",
   "metadata": {},
   "source": [
    "# take only the positions for the choosen route_id"
   ]
  },
  {
   "cell_type": "code",
   "execution_count": 13,
   "metadata": {
    "ExecuteTime": {
     "end_time": "2019-12-05T14:42:27.508185Z",
     "start_time": "2019-12-05T14:42:27.121601Z"
    }
   },
   "outputs": [],
   "source": [
    "single_route_positions = full_route_positions[\n",
    "                        full_route_positions['route_id']==route_of_interest_id].copy()"
   ]
  },
  {
   "cell_type": "markdown",
   "metadata": {},
   "source": [
    "# make sure the route dataframe is not empty"
   ]
  },
  {
   "cell_type": "code",
   "execution_count": 14,
   "metadata": {
    "ExecuteTime": {
     "end_time": "2019-12-05T14:42:28.674550Z",
     "start_time": "2019-12-05T14:42:28.295879Z"
    }
   },
   "outputs": [
    {
     "data": {
      "text/plain": [
       "False"
      ]
     },
     "execution_count": 14,
     "metadata": {},
     "output_type": "execute_result"
    }
   ],
   "source": [
    "single_route_positions.empty"
   ]
  },
  {
   "cell_type": "markdown",
   "metadata": {},
   "source": [
    "# add time index columns"
   ]
  },
  {
   "cell_type": "code",
   "execution_count": 15,
   "metadata": {
    "ExecuteTime": {
     "end_time": "2019-12-05T14:42:29.682248Z",
     "start_time": "2019-12-05T14:42:29.267597Z"
    }
   },
   "outputs": [],
   "source": [
    "#single_route_positions = f1.convert_index_to_pct(single_route_positions)\n",
    "single_route_positions = f1.add_time_index_columns(single_route_positions)"
   ]
  },
  {
   "cell_type": "markdown",
   "metadata": {},
   "source": [
    "# find the most popular shape on that route id going in one direction"
   ]
  },
  {
   "cell_type": "code",
   "execution_count": 16,
   "metadata": {
    "ExecuteTime": {
     "end_time": "2019-12-05T14:42:30.792090Z",
     "start_time": "2019-12-05T14:42:30.140926Z"
    }
   },
   "outputs": [],
   "source": [
    "direction = 1\n",
    "shape_of_interest_id, trip_headsign = f1.get_most_used_shape_id_per_direction(full_trip_stop_schedule, \n",
    "                                                                           route_of_interest_id, \n",
    "                                                                           direction)"
   ]
  },
  {
   "cell_type": "markdown",
   "metadata": {},
   "source": [
    "# make one route_vertex_geo from shape_id"
   ]
  },
  {
   "cell_type": "code",
   "execution_count": 17,
   "metadata": {
    "ExecuteTime": {
     "end_time": "2019-12-05T14:42:32.036090Z",
     "start_time": "2019-12-05T14:42:31.677987Z"
    }
   },
   "outputs": [],
   "source": [
    "route_vertex_geo = f1.make_geopandas_shape_df(full_shapes_gtfs, shape_of_interest_id)"
   ]
  },
  {
   "cell_type": "markdown",
   "metadata": {},
   "source": [
    "# join position table with trip gtfs information"
   ]
  },
  {
   "cell_type": "code",
   "execution_count": 18,
   "metadata": {
    "ExecuteTime": {
     "end_time": "2019-12-05T14:42:33.829475Z",
     "start_time": "2019-12-05T14:42:32.794465Z"
    }
   },
   "outputs": [
    {
     "name": "stdout",
     "output_type": "stream",
     "text": [
      "('2019-04-20', '2019-05-09')\n"
     ]
    }
   ],
   "source": [
    "positions_w_trips = {}\n",
    "for name, group in full_trips_gtfs.groupby(['start_gtfs_date','end_gtfs_date']):\n",
    "    print(name)\n",
    "    positions_w_trips[name] = f1.join_positions_with_gtfs_trips(single_route_positions, group, name[0], name[1])"
   ]
  },
  {
   "cell_type": "markdown",
   "metadata": {},
   "source": [
    "# merge all dictionaries into one"
   ]
  },
  {
   "cell_type": "code",
   "execution_count": 19,
   "metadata": {
    "ExecuteTime": {
     "end_time": "2019-12-05T14:42:34.178921Z",
     "start_time": "2019-12-05T14:42:33.838453Z"
    }
   },
   "outputs": [
    {
     "name": "stdout",
     "output_type": "stream",
     "text": [
      "('2019-04-20', '2019-05-09')\n"
     ]
    }
   ],
   "source": [
    "for idx, dict_group in enumerate(positions_w_trips.keys()):\n",
    "    print(dict_group)\n",
    "    if positions_w_trips[dict_group].empty:\n",
    "        pass\n",
    "    else:\n",
    "        if idx == 0:\n",
    "            unpacked_positions_full = positions_w_trips[dict_group].copy()\n",
    "        else:\n",
    "            unpacked_positions_full = unpacked_positions_full.append(positions_w_trips[dict_group])"
   ]
  },
  {
   "cell_type": "markdown",
   "metadata": {},
   "source": [
    "# only take positions along one `shape_id`"
   ]
  },
  {
   "cell_type": "code",
   "execution_count": 20,
   "metadata": {
    "ExecuteTime": {
     "end_time": "2019-12-05T14:42:34.922210Z",
     "start_time": "2019-12-05T14:42:34.612387Z"
    }
   },
   "outputs": [],
   "source": [
    "unpacked_positions_one_shape = unpacked_positions_full[unpacked_positions_full['shape_id']==shape_of_interest_id]"
   ]
  },
  {
   "cell_type": "code",
   "execution_count": 21,
   "metadata": {
    "ExecuteTime": {
     "end_time": "2019-12-05T14:42:35.597361Z",
     "start_time": "2019-12-05T14:42:35.197831Z"
    }
   },
   "outputs": [
    {
     "data": {
      "text/html": [
       "<div>\n",
       "<style scoped>\n",
       "    .dataframe tbody tr th:only-of-type {\n",
       "        vertical-align: middle;\n",
       "    }\n",
       "\n",
       "    .dataframe tbody tr th {\n",
       "        vertical-align: top;\n",
       "    }\n",
       "\n",
       "    .dataframe thead th {\n",
       "        text-align: right;\n",
       "    }\n",
       "</style>\n",
       "<table border=\"1\" class=\"dataframe\">\n",
       "  <thead>\n",
       "    <tr style=\"text-align: right;\">\n",
       "      <th></th>\n",
       "      <th>route_id</th>\n",
       "      <th>timestamp</th>\n",
       "      <th>trip_id</th>\n",
       "      <th>vehicle_id</th>\n",
       "      <th>vehicle_lat</th>\n",
       "      <th>vehicle_long</th>\n",
       "      <th>time_utc</th>\n",
       "      <th>time_pct</th>\n",
       "      <th>day</th>\n",
       "      <th>year</th>\n",
       "      <th>month</th>\n",
       "      <th>hour</th>\n",
       "      <th>dow</th>\n",
       "      <th>direction_id</th>\n",
       "      <th>shape_id</th>\n",
       "      <th>month_day_trip_veh</th>\n",
       "    </tr>\n",
       "  </thead>\n",
       "  <tbody>\n",
       "    <tr>\n",
       "      <th>1</th>\n",
       "      <td>100275</td>\n",
       "      <td>1556668584</td>\n",
       "      <td>43238248</td>\n",
       "      <td>8229</td>\n",
       "      <td>47.585213</td>\n",
       "      <td>-122.298134</td>\n",
       "      <td>2019-04-30 23:56:24</td>\n",
       "      <td>2019-04-30 16:56:24-07:00</td>\n",
       "      <td>30</td>\n",
       "      <td>2019</td>\n",
       "      <td>4</td>\n",
       "      <td>16</td>\n",
       "      <td>1</td>\n",
       "      <td>1</td>\n",
       "      <td>40008003</td>\n",
       "      <td>2019_4_30_43238248_8229</td>\n",
       "    </tr>\n",
       "    <tr>\n",
       "      <th>2</th>\n",
       "      <td>100275</td>\n",
       "      <td>1556668716</td>\n",
       "      <td>43238249</td>\n",
       "      <td>8077</td>\n",
       "      <td>47.616241</td>\n",
       "      <td>-122.296158</td>\n",
       "      <td>2019-04-30 23:58:36</td>\n",
       "      <td>2019-04-30 16:58:36-07:00</td>\n",
       "      <td>30</td>\n",
       "      <td>2019</td>\n",
       "      <td>4</td>\n",
       "      <td>16</td>\n",
       "      <td>1</td>\n",
       "      <td>1</td>\n",
       "      <td>40008003</td>\n",
       "      <td>2019_4_30_43238249_8077</td>\n",
       "    </tr>\n",
       "    <tr>\n",
       "      <th>4</th>\n",
       "      <td>100275</td>\n",
       "      <td>1556668729</td>\n",
       "      <td>43238251</td>\n",
       "      <td>8028</td>\n",
       "      <td>47.618496</td>\n",
       "      <td>-122.330879</td>\n",
       "      <td>2019-04-30 23:58:49</td>\n",
       "      <td>2019-04-30 16:58:49-07:00</td>\n",
       "      <td>30</td>\n",
       "      <td>2019</td>\n",
       "      <td>4</td>\n",
       "      <td>16</td>\n",
       "      <td>1</td>\n",
       "      <td>1</td>\n",
       "      <td>40008003</td>\n",
       "      <td>2019_4_30_43238251_8028</td>\n",
       "    </tr>\n",
       "    <tr>\n",
       "      <th>6</th>\n",
       "      <td>100275</td>\n",
       "      <td>1556668746</td>\n",
       "      <td>43238267</td>\n",
       "      <td>8204</td>\n",
       "      <td>47.618534</td>\n",
       "      <td>-122.338219</td>\n",
       "      <td>2019-04-30 23:59:06</td>\n",
       "      <td>2019-04-30 16:59:06-07:00</td>\n",
       "      <td>30</td>\n",
       "      <td>2019</td>\n",
       "      <td>4</td>\n",
       "      <td>16</td>\n",
       "      <td>1</td>\n",
       "      <td>1</td>\n",
       "      <td>40008003</td>\n",
       "      <td>2019_4_30_43238267_8204</td>\n",
       "    </tr>\n",
       "    <tr>\n",
       "      <th>10</th>\n",
       "      <td>100275</td>\n",
       "      <td>1556668793</td>\n",
       "      <td>43238252</td>\n",
       "      <td>8203</td>\n",
       "      <td>47.621834</td>\n",
       "      <td>-122.356720</td>\n",
       "      <td>2019-04-30 23:59:53</td>\n",
       "      <td>2019-04-30 16:59:53-07:00</td>\n",
       "      <td>30</td>\n",
       "      <td>2019</td>\n",
       "      <td>4</td>\n",
       "      <td>16</td>\n",
       "      <td>1</td>\n",
       "      <td>1</td>\n",
       "      <td>40008003</td>\n",
       "      <td>2019_4_30_43238252_8203</td>\n",
       "    </tr>\n",
       "  </tbody>\n",
       "</table>\n",
       "</div>"
      ],
      "text/plain": [
       "    route_id   timestamp   trip_id  vehicle_id  vehicle_lat  vehicle_long  \\\n",
       "1     100275  1556668584  43238248        8229    47.585213   -122.298134   \n",
       "2     100275  1556668716  43238249        8077    47.616241   -122.296158   \n",
       "4     100275  1556668729  43238251        8028    47.618496   -122.330879   \n",
       "6     100275  1556668746  43238267        8204    47.618534   -122.338219   \n",
       "10    100275  1556668793  43238252        8203    47.621834   -122.356720   \n",
       "\n",
       "               time_utc                   time_pct  day  year  month  hour  \\\n",
       "1   2019-04-30 23:56:24  2019-04-30 16:56:24-07:00   30  2019      4    16   \n",
       "2   2019-04-30 23:58:36  2019-04-30 16:58:36-07:00   30  2019      4    16   \n",
       "4   2019-04-30 23:58:49  2019-04-30 16:58:49-07:00   30  2019      4    16   \n",
       "6   2019-04-30 23:59:06  2019-04-30 16:59:06-07:00   30  2019      4    16   \n",
       "10  2019-04-30 23:59:53  2019-04-30 16:59:53-07:00   30  2019      4    16   \n",
       "\n",
       "    dow  direction_id  shape_id       month_day_trip_veh  \n",
       "1     1             1  40008003  2019_4_30_43238248_8229  \n",
       "2     1             1  40008003  2019_4_30_43238249_8077  \n",
       "4     1             1  40008003  2019_4_30_43238251_8028  \n",
       "6     1             1  40008003  2019_4_30_43238267_8204  \n",
       "10    1             1  40008003  2019_4_30_43238252_8203  "
      ]
     },
     "execution_count": 21,
     "metadata": {},
     "output_type": "execute_result"
    }
   ],
   "source": [
    "unpacked_positions_one_shape.head()"
   ]
  },
  {
   "cell_type": "markdown",
   "metadata": {},
   "source": [
    "# try parallel below - I don't think the parallel function will work on a Windows computer (I've had trouble in the past). It should work fine on a Mac."
   ]
  },
  {
   "cell_type": "markdown",
   "metadata": {},
   "source": [
    "### the below takes ~1-2 minutes on my computer depending on the shape/number of trips"
   ]
  },
  {
   "cell_type": "code",
   "execution_count": 22,
   "metadata": {
    "ExecuteTime": {
     "end_time": "2019-12-05T14:42:44.959212Z",
     "start_time": "2019-12-05T14:42:36.855370Z"
    }
   },
   "outputs": [
    {
     "name": "stdout",
     "output_type": "stream",
     "text": [
      "1.7442448139190674\n"
     ]
    }
   ],
   "source": [
    "if __name__ == \"__main__\":\n",
    "    start = time.time()\n",
    "    positions_w_near_node_df = f1.get_close_node_process(unpacked_positions_one_shape, route_vertex_geo)\n",
    "    end = time.time()\n",
    "    print(end - start)"
   ]
  },
  {
   "cell_type": "markdown",
   "metadata": {},
   "source": [
    "# convert `time_pct` to Pacific time for datetime tranforms below"
   ]
  },
  {
   "cell_type": "code",
   "execution_count": 23,
   "metadata": {
    "ExecuteTime": {
     "end_time": "2019-12-05T14:43:04.085061Z",
     "start_time": "2019-12-05T14:43:02.926926Z"
    }
   },
   "outputs": [],
   "source": [
    "positions_w_near_node_datetime = f1.datetime_transform_df(positions_w_near_node_df)"
   ]
  },
  {
   "cell_type": "code",
   "execution_count": 24,
   "metadata": {
    "ExecuteTime": {
     "end_time": "2019-12-05T14:43:09.744323Z",
     "start_time": "2019-12-05T14:43:04.090130Z"
    }
   },
   "outputs": [],
   "source": [
    "position_w_node_schedule = f1.join_tripstart(positions_w_near_node_datetime, \n",
    "                                                            full_trip_stop_schedule, \n",
    "                                                            tripid_w_starttime)"
   ]
  },
  {
   "cell_type": "code",
   "execution_count": 25,
   "metadata": {
    "ExecuteTime": {
     "end_time": "2019-12-05T14:43:10.653821Z",
     "start_time": "2019-12-05T14:43:09.750323Z"
    }
   },
   "outputs": [],
   "source": [
    "position_w_node_schedule['distance_btw_veh_and_shape'] = position_w_node_schedule\\\n",
    "                                                                .apply(lambda x: f1.calc_distance(x['vehicle_lat'],\n",
    "                                                                x['vehicle_long'], \n",
    "                                                                x['shape_pt_lat'],\n",
    "                                                               x['shape_pt_lon']), axis=1)"
   ]
  },
  {
   "cell_type": "markdown",
   "metadata": {},
   "source": [
    "## add in Nathaniel's code for finding closest point on route"
   ]
  },
  {
   "cell_type": "code",
   "execution_count": 26,
   "metadata": {
    "ExecuteTime": {
     "end_time": "2019-12-05T14:43:10.896891Z",
     "start_time": "2019-12-05T14:43:10.658610Z"
    }
   },
   "outputs": [],
   "source": [
    "import find_closest_route_point as f2"
   ]
  },
  {
   "cell_type": "code",
   "execution_count": 27,
   "metadata": {
    "ExecuteTime": {
     "end_time": "2019-12-05T14:43:11.192146Z",
     "start_time": "2019-12-05T14:43:10.899889Z"
    }
   },
   "outputs": [
    {
     "data": {
      "text/plain": [
       "index                                                          0\n",
       "route_id                                                  100275\n",
       "timestamp                                             1556668584\n",
       "trip_id                                                 43238248\n",
       "vehicle_id                                                  8229\n",
       "vehicle_lat                                              47.5852\n",
       "vehicle_long                                            -122.298\n",
       "time_utc                                     2019-04-30 23:56:24\n",
       "time_pct                               2019-04-30 16:56:24-07:00\n",
       "day                                                           30\n",
       "year                                                        2019\n",
       "month                                                          4\n",
       "hour                                                          16\n",
       "dow                                                            1\n",
       "direction_id                                                   1\n",
       "shape_id                                                40008003\n",
       "month_day_trip_veh                       2019_4_30_43238248_8229\n",
       "shape_pt_sequence                                            240\n",
       "shape_dist_traveled                                      34266.6\n",
       "shape_pt_lat                                             47.5855\n",
       "shape_pt_lon                                            -122.298\n",
       "arrival_time                                                 NaT\n",
       "departure_time                                               NaN\n",
       "stop_id                                                      NaN\n",
       "stop_sequence                                                NaN\n",
       "stop_name                                                    NaN\n",
       "stop_lat                                                     NaN\n",
       "stop_lon                                                     NaN\n",
       "trip_headsign                                                NaN\n",
       "route_short_name                                             NaN\n",
       "route_desc                                                   NaN\n",
       "trip_start_time                              2019-12-31 16:06:00\n",
       "actual_time_from_scheduled_start                            50.4\n",
       "scheduled_time_from_scheduled_start                          NaN\n",
       "distance_btw_veh_and_shape                               29.6882\n",
       "Name: 0, dtype: object"
      ]
     },
     "execution_count": 27,
     "metadata": {},
     "output_type": "execute_result"
    }
   ],
   "source": [
    "position_w_node_schedule.iloc[0]"
   ]
  },
  {
   "cell_type": "code",
   "execution_count": 28,
   "metadata": {
    "ExecuteTime": {
     "end_time": "2019-12-05T14:43:11.464304Z",
     "start_time": "2019-12-05T14:43:11.196111Z"
    }
   },
   "outputs": [],
   "source": [
    "position_w_node_schedule.drop(['index'], axis=1,inplace=True)"
   ]
  },
  {
   "cell_type": "code",
   "execution_count": 29,
   "metadata": {
    "ExecuteTime": {
     "end_time": "2019-12-05T14:43:11.700274Z",
     "start_time": "2019-12-05T14:43:11.468314Z"
    }
   },
   "outputs": [],
   "source": [
    "import numpy as np"
   ]
  },
  {
   "cell_type": "code",
   "execution_count": 30,
   "metadata": {
    "ExecuteTime": {
     "end_time": "2019-12-05T14:43:38.551898Z",
     "start_time": "2019-12-05T14:43:11.708276Z"
    }
   },
   "outputs": [
    {
     "name": "stderr",
     "output_type": "stream",
     "text": [
      "/home/thunder/work/gtfs-realtime/find_closest_route_point.py:57: RuntimeWarning: invalid value encountered in true_divide\n",
      "  dist_ratio = (point - segment_start).dot(direction.T) / np.sum(direction**2, axis=1)\n"
     ]
    }
   ],
   "source": [
    "position_w_node_schedule['closest_pt_on_route_tuple'] = position_w_node_schedule.apply(lambda x: \n",
    "                                        f2.find_closest_point_on_route(full_shapes_gtfs, \n",
    "                                                                shape_of_interest_id, \n",
    "                                                                np.float(x.vehicle_lat), \n",
    "                                                                np.float(x.vehicle_long), \n",
    "                                                                x.shape_pt_sequence),\n",
    "                                        axis=1\n",
    "                                       )"
   ]
  },
  {
   "cell_type": "markdown",
   "metadata": {},
   "source": [
    "## unpack the tuple"
   ]
  },
  {
   "cell_type": "code",
   "execution_count": 31,
   "metadata": {
    "ExecuteTime": {
     "end_time": "2019-12-05T14:43:44.404884Z",
     "start_time": "2019-12-05T14:43:44.088488Z"
    }
   },
   "outputs": [],
   "source": [
    "position_w_node_schedule['closest_pt_coords'] = position_w_node_schedule['closest_pt_on_route_tuple'].apply(lambda x: x[0])\n",
    "position_w_node_schedule['shape_dist_traveled_to_closest_pt'] = position_w_node_schedule['closest_pt_on_route_tuple'].apply(lambda x: x[1])"
   ]
  },
  {
   "cell_type": "code",
   "execution_count": 32,
   "metadata": {
    "ExecuteTime": {
     "end_time": "2019-12-05T14:43:44.758567Z",
     "start_time": "2019-12-05T14:43:44.421956Z"
    }
   },
   "outputs": [],
   "source": [
    "position_w_node_schedule.drop(['closest_pt_on_route_tuple'], axis=1,inplace=True)"
   ]
  },
  {
   "cell_type": "code",
   "execution_count": 33,
   "metadata": {
    "ExecuteTime": {
     "end_time": "2019-12-05T14:43:45.544906Z",
     "start_time": "2019-12-05T14:43:45.219123Z"
    }
   },
   "outputs": [
    {
     "data": {
      "text/plain": [
       "route_id                                                                 100275\n",
       "timestamp                                                            1556668584\n",
       "trip_id                                                                43238248\n",
       "vehicle_id                                                                 8229\n",
       "vehicle_lat                                                             47.5852\n",
       "vehicle_long                                                           -122.298\n",
       "time_utc                                                    2019-04-30 23:56:24\n",
       "time_pct                                              2019-04-30 16:56:24-07:00\n",
       "day                                                                          30\n",
       "year                                                                       2019\n",
       "month                                                                         4\n",
       "hour                                                                         16\n",
       "dow                                                                           1\n",
       "direction_id                                                                  1\n",
       "shape_id                                                               40008003\n",
       "month_day_trip_veh                                      2019_4_30_43238248_8229\n",
       "shape_pt_sequence                                                           240\n",
       "shape_dist_traveled                                                     34266.6\n",
       "shape_pt_lat                                                            47.5855\n",
       "shape_pt_lon                                                           -122.298\n",
       "arrival_time                                                                NaT\n",
       "departure_time                                                              NaN\n",
       "stop_id                                                                     NaN\n",
       "stop_sequence                                                               NaN\n",
       "stop_name                                                                   NaN\n",
       "stop_lat                                                                    NaN\n",
       "stop_lon                                                                    NaN\n",
       "trip_headsign                                                               NaN\n",
       "route_short_name                                                            NaN\n",
       "route_desc                                                                  NaN\n",
       "trip_start_time                                             2019-12-31 16:06:00\n",
       "actual_time_from_scheduled_start                                           50.4\n",
       "scheduled_time_from_scheduled_start                                         NaN\n",
       "distance_btw_veh_and_shape                                              29.6882\n",
       "closest_pt_coords                      [-122.29812929268613, 47.58521277132211]\n",
       "shape_dist_traveled_to_closest_pt                                       34363.9\n",
       "Name: 0, dtype: object"
      ]
     },
     "execution_count": 33,
     "metadata": {},
     "output_type": "execute_result"
    }
   ],
   "source": [
    "position_w_node_schedule.iloc[0]"
   ]
  },
  {
   "cell_type": "markdown",
   "metadata": {},
   "source": [
    "# below is an interactive graph if you installed `ipywidgets`"
   ]
  },
  {
   "cell_type": "markdown",
   "metadata": {},
   "source": [
    "# importing interactive libraries for interactive plots at the bottom of this notebook, you can comment these out if you just want to do transformations"
   ]
  },
  {
   "cell_type": "code",
   "execution_count": 34,
   "metadata": {
    "ExecuteTime": {
     "end_time": "2019-12-05T14:45:17.386192Z",
     "start_time": "2019-12-05T14:45:17.089297Z"
    }
   },
   "outputs": [],
   "source": [
    "#comment out these libraries if you don't want/have interactive widgets\n",
    "import ipywidgets as widgets\n",
    "from ipywidgets import interact, interact_manual"
   ]
  },
  {
   "cell_type": "markdown",
   "metadata": {},
   "source": [
    "# look at one unique trip"
   ]
  },
  {
   "cell_type": "markdown",
   "metadata": {},
   "source": [
    "# compare `shape_dist_traveled_to_closest_pt` vs. `shape_dist_traveled`"
   ]
  },
  {
   "cell_type": "code",
   "execution_count": 35,
   "metadata": {
    "ExecuteTime": {
     "end_time": "2019-12-05T14:45:18.827025Z",
     "start_time": "2019-12-05T14:45:17.975042Z"
    }
   },
   "outputs": [
    {
     "data": {
      "image/png": "[encoded data removed]",
      "text/plain": [
       "<Figure size 1080x504 with 1 Axes>"
      ]
     },
     "metadata": {
      "needs_background": "light"
     },
     "output_type": "display_data"
    }
   ],
   "source": [
    "@interact\n",
    "def show_one_unique_trip(x=list(position_w_node_schedule['month_day_trip_veh'].unique())):\n",
    "    onetrip_df = position_w_node_schedule[\n",
    "    position_w_node_schedule['month_day_trip_veh']==x][\n",
    "                                                                    ['month_day_trip_veh',\n",
    "                                                                     'trip_id',\n",
    "                                                                     'route_id',\n",
    "                                                                     'stop_name',\n",
    "                                                                     'shape_pt_sequence',\n",
    "                                                                     'shape_dist_traveled',\n",
    "                                                                     'shape_dist_traveled_to_closest_pt',\n",
    "                                                                     'time_pct',\n",
    "                                                                    'trip_start_time',\n",
    "                                                                    'arrival_time',\n",
    "                                                                     'actual_time_from_scheduled_start',\n",
    "                                                                     'scheduled_time_from_scheduled_start'\n",
    "                                                                    ]]\n",
    "\n",
    "    x = onetrip_df['shape_dist_traveled_to_closest_pt'].values\n",
    "    x2 = onetrip_df['shape_dist_traveled'].values\n",
    "    y1 = onetrip_df['actual_time_from_scheduled_start'].values\n",
    "#     y2 = onetrip_df['scheduled_time_from_scheduled_start'].values\n",
    "\n",
    "    x_labels = onetrip_df['stop_name'].values\n",
    "    fig, ax = plt.subplots(figsize=(15,7))\n",
    "    ax.scatter(x, y1, label='closest_projected_pt', color='red')\n",
    "    ax.scatter(x2, y1, label='closest_route_vertex', color='blue')\n",
    "#     ax.scatter(x, y2, label='sched_time', color='blue')\n",
    "    ax.set_xlabel(\"distance traveled (m)\")\n",
    "    ax.set_ylabel(\"time from start (min)\")\n",
    "    _ = ax.legend()"
   ]
  },
  {
   "cell_type": "markdown",
   "metadata": {},
   "source": [
    "## It's good to check if our distances are significantly different using the closest distance on the route vs. the nearest route vertex's shape_dist_traveled"
   ]
  },
  {
   "cell_type": "markdown",
   "metadata": {},
   "source": [
    "### First create a field of the difference between the two measurements"
   ]
  },
  {
   "cell_type": "code",
   "execution_count": 36,
   "metadata": {
    "ExecuteTime": {
     "end_time": "2019-12-05T14:45:34.888043Z",
     "start_time": "2019-12-05T14:45:34.000216Z"
    }
   },
   "outputs": [],
   "source": [
    "position_w_node_schedule['diff_shape_distance_traveled'] = position_w_node_schedule.apply(lambda x:\n",
    "                                                                                         x.shape_dist_traveled-\n",
    "                                                                                         x.shape_dist_traveled_to_closest_pt,\n",
    "                                                                                         axis=1)"
   ]
  },
  {
   "cell_type": "markdown",
   "metadata": {},
   "source": [
    "### Second make a histogram of `diff_shape_distance_traveled` and see what it looks like"
   ]
  },
  {
   "cell_type": "code",
   "execution_count": 37,
   "metadata": {
    "ExecuteTime": {
     "end_time": "2019-12-05T14:45:36.415640Z",
     "start_time": "2019-12-05T14:45:35.648024Z"
    }
   },
   "outputs": [
    {
     "name": "stderr",
     "output_type": "stream",
     "text": [
      "/opt/conda/lib/python3.7/site-packages/numpy/lib/histograms.py:829: RuntimeWarning: invalid value encountered in greater_equal\n",
      "  keep = (tmp_a >= first_edge)\n",
      "/opt/conda/lib/python3.7/site-packages/numpy/lib/histograms.py:830: RuntimeWarning: invalid value encountered in less_equal\n",
      "  keep &= (tmp_a <= last_edge)\n"
     ]
    },
    {
     "data": {
      "image/png": "[encoded data removed]",
      "text/plain": [
       "<Figure size 720x432 with 1 Axes>"
      ]
     },
     "metadata": {
      "needs_background": "light"
     },
     "output_type": "display_data"
    }
   ],
   "source": [
    "fig, ax = plt.subplots(figsize=(10,6))\n",
    "_ = ax.hist(position_w_node_schedule['diff_shape_distance_traveled'].values, bins=20)"
   ]
  },
  {
   "cell_type": "code",
   "execution_count": 38,
   "metadata": {
    "ExecuteTime": {
     "end_time": "2019-12-05T14:45:44.906906Z",
     "start_time": "2019-12-05T14:45:44.525181Z"
    }
   },
   "outputs": [
    {
     "data": {
      "text/plain": [
       "count    1986.000000\n",
       "mean       -3.067424\n",
       "std        23.544228\n",
       "min      -232.208209\n",
       "25%        -7.626375\n",
       "50%        -3.738667\n",
       "75%        -0.068620\n",
       "max       182.572616\n",
       "Name: diff_shape_distance_traveled, dtype: float64"
      ]
     },
     "execution_count": 38,
     "metadata": {},
     "output_type": "execute_result"
    }
   ],
   "source": [
    "position_w_node_schedule['diff_shape_distance_traveled'].describe()"
   ]
  },
  {
   "cell_type": "markdown",
   "metadata": {},
   "source": [
    "### from the histogram and summary statistics we can see the standard deviation"
   ]
  },
  {
   "cell_type": "markdown",
   "metadata": {},
   "source": [
    "### My first guess was that some of this variance could be coming from bad vehicle location points. To investigate that option, we can look at distance from vehicle to shape distribution"
   ]
  },
  {
   "cell_type": "code",
   "execution_count": 39,
   "metadata": {
    "ExecuteTime": {
     "end_time": "2019-12-05T14:45:47.588225Z",
     "start_time": "2019-12-05T14:45:46.827437Z"
    }
   },
   "outputs": [
    {
     "data": {
      "image/png": "[encoded data removed]",
      "text/plain": [
       "<Figure size 720x432 with 1 Axes>"
      ]
     },
     "metadata": {
      "needs_background": "light"
     },
     "output_type": "display_data"
    }
   ],
   "source": [
    "fig, ax = plt.subplots(figsize=(10,6))\n",
    "_ = ax.hist(position_w_node_schedule['distance_btw_veh_and_shape'].values, bins=20)"
   ]
  },
  {
   "cell_type": "code",
   "execution_count": 40,
   "metadata": {
    "ExecuteTime": {
     "end_time": "2019-12-05T14:45:48.542153Z",
     "start_time": "2019-12-05T14:45:48.216359Z"
    }
   },
   "outputs": [
    {
     "data": {
      "text/plain": [
       "count    2014.000000\n",
       "mean        3.118650\n",
       "std         6.492443\n",
       "min         0.008719\n",
       "25%         0.583761\n",
       "50%         1.272638\n",
       "75%         2.599422\n",
       "max        70.846631\n",
       "Name: distance_btw_veh_and_shape, dtype: float64"
      ]
     },
     "execution_count": 40,
     "metadata": {},
     "output_type": "execute_result"
    }
   ],
   "source": [
    "position_w_node_schedule['distance_btw_veh_and_shape'].describe()"
   ]
  },
  {
   "cell_type": "markdown",
   "metadata": {},
   "source": [
    "### look at the standard deviation for the distance between vehicle and shape and used that to filter below"
   ]
  },
  {
   "cell_type": "code",
   "execution_count": 41,
   "metadata": {
    "ExecuteTime": {
     "end_time": "2019-12-05T14:45:50.367085Z",
     "start_time": "2019-12-05T14:45:50.067788Z"
    }
   },
   "outputs": [
    {
     "data": {
      "text/plain": [
       "174"
      ]
     },
     "execution_count": 41,
     "metadata": {},
     "output_type": "execute_result"
    }
   ],
   "source": [
    "veh_dist_to_shape_std_dev = position_w_node_schedule['distance_btw_veh_and_shape'].describe()['std']\n",
    "len(position_w_node_schedule[position_w_node_schedule['distance_btw_veh_and_shape']>veh_dist_to_shape_std_dev])"
   ]
  },
  {
   "cell_type": "code",
   "execution_count": 42,
   "metadata": {
    "ExecuteTime": {
     "end_time": "2019-12-05T14:45:51.054345Z",
     "start_time": "2019-12-05T14:45:50.676188Z"
    }
   },
   "outputs": [
    {
     "data": {
      "text/html": [
       "<div>\n",
       "<style scoped>\n",
       "    .dataframe tbody tr th:only-of-type {\n",
       "        vertical-align: middle;\n",
       "    }\n",
       "\n",
       "    .dataframe tbody tr th {\n",
       "        vertical-align: top;\n",
       "    }\n",
       "\n",
       "    .dataframe thead th {\n",
       "        text-align: right;\n",
       "    }\n",
       "</style>\n",
       "<table border=\"1\" class=\"dataframe\">\n",
       "  <thead>\n",
       "    <tr style=\"text-align: right;\">\n",
       "      <th></th>\n",
       "      <th>month_day_trip_veh</th>\n",
       "      <th>trip_id</th>\n",
       "      <th>hour</th>\n",
       "      <th>dow</th>\n",
       "      <th>route_id</th>\n",
       "      <th>stop_name</th>\n",
       "      <th>shape_pt_sequence</th>\n",
       "      <th>distance_btw_veh_and_shape</th>\n",
       "      <th>shape_dist_traveled</th>\n",
       "      <th>shape_dist_traveled_to_closest_pt</th>\n",
       "      <th>actual_time_from_scheduled_start</th>\n",
       "    </tr>\n",
       "  </thead>\n",
       "  <tbody>\n",
       "    <tr>\n",
       "      <th>0</th>\n",
       "      <td>2019_4_30_43238248_8229</td>\n",
       "      <td>43238248</td>\n",
       "      <td>16</td>\n",
       "      <td>1</td>\n",
       "      <td>100275</td>\n",
       "      <td>NaN</td>\n",
       "      <td>240</td>\n",
       "      <td>29.688211</td>\n",
       "      <td>34266.6</td>\n",
       "      <td>34363.861462</td>\n",
       "      <td>50.400000</td>\n",
       "    </tr>\n",
       "    <tr>\n",
       "      <th>18</th>\n",
       "      <td>2019_4_30_43238268_8209</td>\n",
       "      <td>43238268</td>\n",
       "      <td>17</td>\n",
       "      <td>1</td>\n",
       "      <td>100275</td>\n",
       "      <td>NaN</td>\n",
       "      <td>3</td>\n",
       "      <td>16.579905</td>\n",
       "      <td>802.4</td>\n",
       "      <td>749.208713</td>\n",
       "      <td>2.866667</td>\n",
       "    </tr>\n",
       "    <tr>\n",
       "      <th>26</th>\n",
       "      <td>2019_4_30_43238268_8209</td>\n",
       "      <td>43238268</td>\n",
       "      <td>17</td>\n",
       "      <td>1</td>\n",
       "      <td>100275</td>\n",
       "      <td>NaN</td>\n",
       "      <td>8</td>\n",
       "      <td>14.430102</td>\n",
       "      <td>2089.6</td>\n",
       "      <td>2042.030233</td>\n",
       "      <td>6.583333</td>\n",
       "    </tr>\n",
       "  </tbody>\n",
       "</table>\n",
       "</div>"
      ],
      "text/plain": [
       "         month_day_trip_veh   trip_id  hour  dow  route_id stop_name  \\\n",
       "0   2019_4_30_43238248_8229  43238248    16    1    100275       NaN   \n",
       "18  2019_4_30_43238268_8209  43238268    17    1    100275       NaN   \n",
       "26  2019_4_30_43238268_8209  43238268    17    1    100275       NaN   \n",
       "\n",
       "    shape_pt_sequence  distance_btw_veh_and_shape  shape_dist_traveled  \\\n",
       "0                 240                   29.688211              34266.6   \n",
       "18                  3                   16.579905                802.4   \n",
       "26                  8                   14.430102               2089.6   \n",
       "\n",
       "    shape_dist_traveled_to_closest_pt  actual_time_from_scheduled_start  \n",
       "0                        34363.861462                         50.400000  \n",
       "18                         749.208713                          2.866667  \n",
       "26                        2042.030233                          6.583333  "
      ]
     },
     "execution_count": 42,
     "metadata": {},
     "output_type": "execute_result"
    }
   ],
   "source": [
    "position_w_node_schedule[position_w_node_schedule['distance_btw_veh_and_shape']>veh_dist_to_shape_std_dev][\n",
    "                                                                    ['month_day_trip_veh',\n",
    "                                                                     'trip_id',\n",
    "                                                                     'hour',\n",
    "                                                                     'dow',\n",
    "                                                                     'route_id',\n",
    "                                                                     'stop_name',\n",
    "                                                                     'shape_pt_sequence',\n",
    "                                                                     'distance_btw_veh_and_shape',\n",
    "                                                                     'shape_dist_traveled',\n",
    "                                                                     'shape_dist_traveled_to_closest_pt',\n",
    "                                                                     'actual_time_from_scheduled_start'\n",
    "                                                                    ]].head(3)"
   ]
  },
  {
   "cell_type": "markdown",
   "metadata": {},
   "source": [
    "## Let's inspect the vehicle points far from the route shape vertex in a map below. I like using Carto's basemaps (they're free! and I think less glitchy than Leaflet plugin). In order to run the cells below you'll need to install the following:\n",
    "- `pip install carto`\n",
    "- `pip install cartoframes==1.0b6`"
   ]
  },
  {
   "cell_type": "code",
   "execution_count": 44,
   "metadata": {
    "ExecuteTime": {
     "end_time": "2019-12-05T14:45:52.350976Z",
     "start_time": "2019-12-05T14:45:52.056124Z"
    }
   },
   "outputs": [],
   "source": [
    "from cartoframes.viz import Map, Layer, basemaps, Popup\n",
    "from cartoframes.viz.helpers import color_continuous_layer, color_bins_layer, utils\n",
    "from matplotlib import cm\n",
    "from cartoframes.data import dataset"
   ]
  },
  {
   "cell_type": "markdown",
   "metadata": {},
   "source": [
    "## plot far vehicles"
   ]
  },
  {
   "cell_type": "code",
   "execution_count": 45,
   "metadata": {
    "ExecuteTime": {
     "end_time": "2019-12-05T14:45:54.213081Z",
     "start_time": "2019-12-05T14:45:53.445199Z"
    }
   },
   "outputs": [
    {
     "data": {
      "text/html": [
       "<iframe\n",
       "  frameborder=\"0\"\n",
       "  style=\"\n",
       "    border: 1px solid #cfcfcf;\n",
       "    width: 100%;\n",
       "    height: 632px;\n",
       "    \"\n",
       "  srcDoc=\"\n",
       "  <!DOCTYPE html>\n",
       "<html lang=&quot;en&quot;>\n",
       "<head>\n",
       "  <title>None</title>\n",
       "  <meta name=&quot;description&quot; content=&quot;None&quot;>\n",
       "  <meta name=&quot;viewport&quot; content=&quot;width=device-width, initial-scale=1.0&quot;>\n",
       "  <meta charset=&quot;UTF-8&quot;>\n",
       "  <!-- Include CARTO VL JS -->\n",
       "  <script src=&quot;https://libs.cartocdn.com/carto-vl/v1.4/carto-vl.min.js&quot;></script>\n",
       "  <!-- Include Mapbox GL JS -->\n",
       "  <script src=&quot;https://api.tiles.mapbox.com/mapbox-gl-js/v1.0.0/mapbox-gl.js&quot;></script>\n",
       "  <!-- Include Mapbox GL CSS -->\n",
       "  <link href=&quot;https://api.tiles.mapbox.com/mapbox-gl-js/v1.0.0/mapbox-gl.css&quot; rel=&quot;stylesheet&quot; />\n",
       "\n",
       "  <!-- Include Airship -->\n",
       "  <script nomodule=&quot;&quot; src=&quot;https://libs.cartocdn.com/airship-components/v2.2.0-rc.2.1/airship.js&quot;></script>\n",
       "  <script type=&quot;module&quot; src=&quot;https://libs.cartocdn.com/airship-components/v2.2.0-rc.2.1/airship/airship.esm.js&quot;></script>\n",
       "  <script src=&quot;https://libs.cartocdn.com/airship-bridge/v2.2.0-rc.2.1/asbridge.min.js&quot;></script>\n",
       "  <link href=&quot;https://libs.cartocdn.com/airship-style/v2.2.0-rc.2.1/airship.min.css&quot; rel=&quot;stylesheet&quot;>\n",
       "  <link href=&quot;https://libs.cartocdn.com/airship-icons/v2.2.0-rc.2.1/icons.css&quot; rel=&quot;stylesheet&quot;>\n",
       "\n",
       "  <link href=&quot;https://fonts.googleapis.com/css?family=Roboto&quot; rel=&quot;stylesheet&quot; type=&quot;text/css&quot;>\n",
       "\n",
       "  <!-- External libraries -->\n",
       "\n",
       "  <!-- pako -->\n",
       "  <script src=&quot;https://cdnjs.cloudflare.com/ajax/libs/pako/1.0.10/pako_inflate.min.js&quot;></script>\n",
       "  \n",
       "  <!-- html2canvas -->\n",
       "  \n",
       "\n",
       "  \n",
       "  <style>\n",
       "  body {\n",
       "    margin: 0;\n",
       "    padding: 0;\n",
       "  }\n",
       "\n",
       "  aside.as-sidebar {\n",
       "    min-width: 300px;\n",
       "  }\n",
       "\n",
       "  .map-image {\n",
       "    display: none;\n",
       "    max-width: 100%;\n",
       "    height: auto;\n",
       "  }\n",
       "</style>\n",
       "  <style>\n",
       "  .map {\n",
       "    position: absolute;\n",
       "    height: 100%;\n",
       "    width: 100%;\n",
       "  }\n",
       "\n",
       "  .map-info {\n",
       "    position: absolute;\n",
       "    bottom: 0;\n",
       "    padding: 0 5px;\n",
       "    background-color: rgba(255, 255, 255, 0.5);\n",
       "    margin: 0;\n",
       "    color: rgba(0, 0, 0, 0.75);\n",
       "    font-size: 12px;\n",
       "    width: auto;\n",
       "    height: 18px;\n",
       "    font-family: 'Open Sans';\n",
       "  }\n",
       "\n",
       "  .map-footer {\n",
       "    background: #F2F6F9;\n",
       "    font-family: Roboto;\n",
       "    font-size: 12px;\n",
       "    line-height: 24px;\n",
       "    color: #162945;\n",
       "    text-align: center;\n",
       "    z-index: 2;\n",
       "  }\n",
       "\n",
       "  .map-footer a {\n",
       "    text-decoration: none;\n",
       "  }\n",
       "\n",
       "  .map-footer a:hover {\n",
       "    text-decoration: underline;\n",
       "  }\n",
       "</style>\n",
       "    <style>\n",
       "    #error-container {\n",
       "      position: absolute;\n",
       "      width: 100%;\n",
       "      height: 100%;\n",
       "      background-color: white;\n",
       "      visibility: hidden;\n",
       "      padding: 1em;\n",
       "      font-family: &quot;Courier New&quot;, Courier, monospace;\n",
       "      margin: 0 auto;\n",
       "      font-size: 14px;\n",
       "      overflow: auto;\n",
       "      z-index: 1000;\n",
       "      color: black;\n",
       "    }\n",
       "\n",
       "    .error-section {\n",
       "      padding: 1em;\n",
       "      border-radius: 5px;\n",
       "      background-color: #fee;\n",
       "    }\n",
       "\n",
       "    #error-container #error-highlight {\n",
       "      font-weight: bold;\n",
       "      color: inherit;\n",
       "    }\n",
       "\n",
       "    #error-container #error-type {\n",
       "      color: #008000;\n",
       "    }\n",
       "\n",
       "    #error-container #error-name {\n",
       "      color: #ba2121;\n",
       "    }\n",
       "\n",
       "    #error-container #error-content {\n",
       "      margin-top: 0.4em;\n",
       "    }\n",
       "\n",
       "    .error-details {\n",
       "      margin-top: 1em;\n",
       "    }\n",
       "\n",
       "    #error-stacktrace {\n",
       "      list-style: none;\n",
       "    }\n",
       "</style>\n",
       "  <style>\n",
       "    .popup-content {\n",
       "      display: flex;\n",
       "      flex-direction: column;\n",
       "      padding: 8px;\n",
       "    }\n",
       "\n",
       "    .popup-name {\n",
       "      font-size: 12px;\n",
       "      font-weight: 400;\n",
       "      line-height: 20px;\n",
       "      margin-bottom: 4px;\n",
       "    }\n",
       "\n",
       "    .popup-value {\n",
       "      font-size: 16px;\n",
       "      font-weight: 600;\n",
       "      line-height: 20px;\n",
       "    }\n",
       "\n",
       "    .popup-value:not(:last-of-type) {\n",
       "      margin-bottom: 16px;\n",
       "    }\n",
       "</style>\n",
       "  <style>\n",
       "  as-widget-header .as-widget-header__header {\n",
       "    margin-bottom: 8px;\n",
       "    overflow-wrap: break-word;\n",
       "  }\n",
       "\n",
       "  as-widget-header .as-widget-header__subheader {\n",
       "    margin-bottom: 12px;\n",
       "  }\n",
       "\n",
       "  as-category-widget {\n",
       "    max-height: 250px;\n",
       "  }\n",
       "</style>\n",
       "</head>\n",
       "\n",
       "<body class=&quot;as-app-body as-app&quot;>\n",
       "  <img id=&quot;map-image&quot; class=&quot;map-image&quot; alt='Static map image' />\n",
       "  <as-responsive-content id=&quot;main-container&quot;>\n",
       "    \n",
       "    <main class=&quot;as-main&quot;>\n",
       "      <div class=&quot;as-map-area&quot;>\n",
       "        <div id=&quot;map&quot; class=&quot;map&quot;></div>\n",
       "        \n",
       "        \n",
       "      </div> <!-- as-map-area -->\n",
       "    </main> <!-- as-main -->\n",
       "  </as-responsive-content>\n",
       "\n",
       "  \n",
       "\n",
       "  <div id=&quot;error-container&quot; class=&quot;error&quot;>\n",
       "  <p>There is a <span class=&quot;errors&quot; id=&quot;error-highlight&quot;></span>\n",
       "  from the <a href=&quot;https://carto.com/developers/carto-vl/&quot; target=&quot;_blank&quot;>CARTO VL</a> library:</p>\n",
       "  <section class=&quot;error-section&quot;>\n",
       "    <span class=&quot;errors&quot; id=&quot;error-name&quot;></span>:\n",
       "    <section id=&quot;error-content&quot;>\n",
       "      <span class=&quot;errors&quot; id=&quot;error-type&quot;></span>\n",
       "      <span class=&quot;errors&quot; id=&quot;error-message&quot;></span>\n",
       "    </section>\n",
       "  </section>\n",
       "\n",
       "  <details class=&quot;error-details&quot;>\n",
       "    <summary>StackTrace</summary>\n",
       "    <ul id=&quot;error-stacktrace&quot;></ul>\n",
       "  </details>\n",
       "</div>\n",
       "</body>\n",
       "\n",
       "<script>\n",
       "  var init = (function () {\n",
       "  'use strict';\n",
       "\n",
       "  const BASEMAPS = {\n",
       "    DarkMatter: carto.basemaps.darkmatter,\n",
       "    Voyager: carto.basemaps.voyager,\n",
       "    Positron: carto.basemaps.positron\n",
       "  };\n",
       "\n",
       "  const attributionControl = new mapboxgl.AttributionControl({\n",
       "    compact: false\n",
       "  });\n",
       "\n",
       "  const FIT_BOUNDS_SETTINGS = { animate: false, padding: 50, maxZoom: 16 };\n",
       "\n",
       "  function format(value) {\n",
       "    if (Array.isArray(value)) {\n",
       "      const [first, second] = value;\n",
       "      if (first === -Infinity) {\n",
       "        return `< ${formatValue(second)}`;\n",
       "      }\n",
       "      if (second === Infinity) {\n",
       "        return `> ${formatValue(first)}`;\n",
       "      }\n",
       "      return `${formatValue(first)} - ${formatValue(second)}`;\n",
       "    }\n",
       "    return formatValue(value);\n",
       "  }\n",
       "\n",
       "  function formatValue(value) {\n",
       "    if (typeof value === 'number') {\n",
       "      return formatNumber(value);\n",
       "    }\n",
       "    return value;\n",
       "  }\n",
       "\n",
       "  function formatNumber(value) {\n",
       "    const log = Math.log10(Math.abs(value));\n",
       "\n",
       "    if ((log > 4 || log < -2.00000001) && value) {\n",
       "      return value.toExponential(2);\n",
       "    }\n",
       "    \n",
       "    if (!Number.isInteger(value)) {\n",
       "      return value.toLocaleString(undefined, {\n",
       "        minimumFractionDigits: 2,\n",
       "        maximumFractionDigits: 3\n",
       "      });\n",
       "    }\n",
       "    \n",
       "    return value.toLocaleString();\n",
       "  }\n",
       "\n",
       "  function updateViewport(map) {\n",
       "    function updateMapInfo() {\n",
       "      const mapInfo$ = document.getElementById('map-info');\n",
       "      const center = map.getCenter();\n",
       "      const lat = center.lat.toFixed(6);\n",
       "      const lng = center.lng.toFixed(6);\n",
       "      const zoom = map.getZoom().toFixed(2);\n",
       "    \n",
       "      mapInfo$.innerText = `viewport={'zoom': ${zoom}, 'lat': ${lat}, 'lng': ${lng}}`;\n",
       "    }\n",
       "\n",
       "    updateMapInfo();\n",
       "\n",
       "    map.on('zoom', updateMapInfo);\n",
       "    map.on('move', updateMapInfo); \n",
       "  }\n",
       "\n",
       "  function getBasecolorSettings(basecolor) {\n",
       "    return {\n",
       "      'version': 8,\n",
       "      'sources': {},\n",
       "      'layers': [{\n",
       "          'id': 'background',\n",
       "          'type': 'background',\n",
       "          'paint': {\n",
       "              'background-color': basecolor\n",
       "          }\n",
       "      }]\n",
       "    };\n",
       "  }\n",
       "\n",
       "  function getImageElement(mapIndex) {\n",
       "    const id = mapIndex !== undefined ? `map-image-${mapIndex}` : 'map-image';\n",
       "    return document.getElementById(id);\n",
       "  }\n",
       "\n",
       "  function getContainerElement(mapIndex) {\n",
       "    const id = mapIndex !== undefined ? `main-container-${mapIndex}` : 'main-container';\n",
       "    return document.getElementById(id);\n",
       "  }\n",
       "\n",
       "  function saveImage(mapIndex) {\n",
       "    const img = getImageElement(mapIndex);\n",
       "    const container = getContainerElement(mapIndex);\n",
       "\n",
       "    html2canvas(container)\n",
       "      .then((canvas) => setMapImage(canvas, img, container));\n",
       "  }\n",
       "\n",
       "  function setMapImage(canvas, img, container) {\n",
       "    const src = canvas.toDataURL();\n",
       "    img.setAttribute('src', src);\n",
       "    img.style.display = 'block';\n",
       "    container.style.display = 'none';\n",
       "  }\n",
       "\n",
       "  function createDefaultLegend(layers) {\n",
       "    const defaultLegendContainer = document.getElementById('default-legend-container');\n",
       "    defaultLegendContainer.style.display = 'none';\n",
       "\n",
       "    AsBridge.VL.Legends.layersLegend(\n",
       "      '#default-legend',\n",
       "      layers,\n",
       "      {\n",
       "        onLoad: () => defaultLegendContainer.style.display = 'unset'\n",
       "      }\n",
       "    );\n",
       "  }\n",
       "\n",
       "  function createLegend(layer, legendData, layerIndex, mapIndex=0) {\n",
       "    const element = document.querySelector(`#layer${layerIndex}_map${mapIndex}_legend`);\n",
       "    \n",
       "    if (legendData.length) {\n",
       "      legendData.forEach((legend, legendIndex) => _createLegend(layer, legend, layerIndex, legendIndex, mapIndex));\n",
       "    } else {\n",
       "      _createLegend(layer, legendData, layerIndex, 0, mapIndex);\n",
       "    }\n",
       "  }\n",
       "\n",
       "  function _createLegend(layer, legend, layerIndex, legendIndex, mapIndex=0) {\n",
       "    const element = document.querySelector(`#layer${layerIndex}_map${mapIndex}_legend${legendIndex}`);\n",
       "\n",
       "    if (legend.prop) {\n",
       "      const othersLabel = 'Others';   // TODO: i18n\n",
       "      const prop = legend.prop;\n",
       "      const dynamic = legend.dynamic;\n",
       "      const variable = legend.variable;\n",
       "      const config = { othersLabel, variable };\n",
       "      const options = { format, config, dynamic };\n",
       "\n",
       "      if (legend.type.startsWith('size-continuous')) {\n",
       "        config.samples = 4;\n",
       "      }\n",
       "      \n",
       "      AsBridge.VL.Legends.rampLegend(element, layer, prop, options);\n",
       "    }\n",
       "  }\n",
       "\n",
       "  /** From https://github.com/errwischt/stacktrace-parser/blob/master/src/stack-trace-parser.js */\n",
       "\n",
       "  /**\n",
       "   * This parses the different stack traces and puts them into one format\n",
       "   * This borrows heavily from TraceKit (https://github.com/csnover/TraceKit)\n",
       "   */\n",
       "\n",
       "  const UNKNOWN_FUNCTION = '<unknown>';\n",
       "  const chromeRe = /^\\s*at (.*?) ?\\(((?:file|https?|blob|chrome-extension|native|eval|webpack|<anonymous>|\\/).*?)(?::(\\d+))?(?::(\\d+))?\\)?\\s*$/i;\n",
       "  const chromeEvalRe = /\\((\\S*)(?::(\\d+))(?::(\\d+))\\)/;\n",
       "  const winjsRe = /^\\s*at (?:((?:\\[object object\\])?.+) )?\\(?((?:file|ms-appx|https?|webpack|blob):.*?):(\\d+)(?::(\\d+))?\\)?\\s*$/i;\n",
       "  const geckoRe = /^\\s*(.*?)(?:\\((.*?)\\))?(?:^|@)((?:file|https?|blob|chrome|webpack|resource|\\[native).*?|[^@]*bundle)(?::(\\d+))?(?::(\\d+))?\\s*$/i;\n",
       "  const geckoEvalRe = /(\\S+) line (\\d+)(?: > eval line \\d+)* > eval/i;\n",
       "\n",
       "  function parse(stackString) {\n",
       "    const lines = stackString.split('\\n');\n",
       "\n",
       "    return lines.reduce((stack, line) => {\n",
       "      const parseResult =\n",
       "        parseChrome(line) ||\n",
       "        parseWinjs(line) ||\n",
       "        parseGecko(line);\n",
       "\n",
       "      if (parseResult) {\n",
       "        stack.push(parseResult);\n",
       "      }\n",
       "\n",
       "      return stack;\n",
       "    }, []);\n",
       "  }\n",
       "\n",
       "  function parseChrome(line) {\n",
       "    const parts = chromeRe.exec(line);\n",
       "\n",
       "    if (!parts) {\n",
       "      return null;\n",
       "    }\n",
       "\n",
       "    const isNative = parts[2] && parts[2].indexOf('native') === 0; // start of line\n",
       "    const isEval = parts[2] && parts[2].indexOf('eval') === 0; // start of line\n",
       "\n",
       "    const submatch = chromeEvalRe.exec(parts[2]);\n",
       "    if (isEval && submatch != null) {\n",
       "      // throw out eval line/column and use top-most line/column number\n",
       "      parts[2] = submatch[1]; // url\n",
       "      parts[3] = submatch[2]; // line\n",
       "      parts[4] = submatch[3]; // column\n",
       "    }\n",
       "\n",
       "    return {\n",
       "      file: !isNative ? parts[2] : null,\n",
       "      methodName: parts[1] || UNKNOWN_FUNCTION,\n",
       "      arguments: isNative ? [parts[2]] : [],\n",
       "      lineNumber: parts[3] ? +parts[3] : null,\n",
       "      column: parts[4] ? +parts[4] : null,\n",
       "    };\n",
       "  }\n",
       "\n",
       "  function parseWinjs(line) {\n",
       "    const parts = winjsRe.exec(line);\n",
       "\n",
       "    if (!parts) {\n",
       "      return null;\n",
       "    }\n",
       "\n",
       "    return {\n",
       "      file: parts[2],\n",
       "      methodName: parts[1] || UNKNOWN_FUNCTION,\n",
       "      arguments: [],\n",
       "      lineNumber: +parts[3],\n",
       "      column: parts[4] ? +parts[4] : null,\n",
       "    };\n",
       "  }\n",
       "\n",
       "  function parseGecko(line) {\n",
       "    const parts = geckoRe.exec(line);\n",
       "\n",
       "    if (!parts) {\n",
       "      return null;\n",
       "    }\n",
       "\n",
       "    const isEval = parts[3] && parts[3].indexOf(' > eval') > -1;\n",
       "\n",
       "    const submatch = geckoEvalRe.exec(parts[3]);\n",
       "    if (isEval && submatch != null) {\n",
       "      // throw out eval line/column and use top-most line number\n",
       "      parts[3] = submatch[1];\n",
       "      parts[4] = submatch[2];\n",
       "      parts[5] = null; // no column when eval\n",
       "    }\n",
       "\n",
       "    return {\n",
       "      file: parts[3],\n",
       "      methodName: parts[1] || UNKNOWN_FUNCTION,\n",
       "      arguments: parts[2] ? parts[2].split(',') : [],\n",
       "      lineNumber: parts[4] ? +parts[4] : null,\n",
       "      column: parts[5] ? +parts[5] : null,\n",
       "    };\n",
       "  }\n",
       "\n",
       "  function displayError(e) {\n",
       "    const error$ = document.getElementById('error-container');\n",
       "    const errors$ = error$.getElementsByClassName('errors');\n",
       "    const stacktrace$ = document.getElementById('error-stacktrace');\n",
       "\n",
       "    errors$[0].innerHTML = e.name;\n",
       "    errors$[1].innerHTML = e.name;\n",
       "    errors$[2].innerHTML = e.type;\n",
       "    errors$[3].innerHTML = e.message.replace(e.type, '');\n",
       "\n",
       "    error$.style.visibility = 'visible';\n",
       "\n",
       "    const stack = parse(e.stack);\n",
       "    const list = stack.map(item => {\n",
       "      return `<li>\n",
       "      at <span class=&quot;stacktrace-method&quot;>${item.methodName}:</span>\n",
       "      (${item.file}:${item.lineNumber}:${item.column})\n",
       "    </li>`;\n",
       "    });\n",
       "\n",
       "    stacktrace$.innerHTML = list.join('\\n');\n",
       "  }\n",
       "\n",
       "  function resetPopupClick(interactivity) {\n",
       "    interactivity.off('featureClick');\n",
       "  }\n",
       "\n",
       "  function resetPopupHover(interactivity) {\n",
       "    interactivity.off('featureHover');\n",
       "  }\n",
       "\n",
       "  function setPopupsClick(map, popup, interactivity, attrs) {\n",
       "    interactivity.on('featureClick', (event) => {\n",
       "      updatePopup(map, popup, event, attrs);\n",
       "    });\n",
       "  }\n",
       "\n",
       "  function setPopupsHover(map, popup, interactivity, attrs) {\n",
       "    interactivity.on('featureHover', (event) => {\n",
       "      updatePopup(map, popup, event, attrs);\n",
       "    });\n",
       "  }\n",
       "\n",
       "  function updatePopup(map, popup, event, attrs) {\n",
       "    if (event.features.length > 0) {\n",
       "      let popupHTML = '';\n",
       "      const layerIDs = [];\n",
       "\n",
       "      for (const feature of event.features) {\n",
       "        if (layerIDs.includes(feature.layerId)) {\n",
       "          continue;\n",
       "        }\n",
       "        // Track layers to add only one feature per layer\n",
       "        layerIDs.push(feature.layerId);\n",
       "    \n",
       "        for (const item of attrs) {\n",
       "          const variable = feature.variables[item.name];\n",
       "          if (variable) {\n",
       "            let value = variable.value;\n",
       "            value = formatValue(value);\n",
       "\n",
       "            popupHTML = `\n",
       "            <span class=&quot;popup-name&quot;>${item.title}</span>\n",
       "            <span class=&quot;popup-value&quot;>${value}</span>\n",
       "          ` + popupHTML;\n",
       "          }\n",
       "        }\n",
       "      }\n",
       "\n",
       "      popup\n",
       "          .setLngLat([event.coordinates.lng, event.coordinates.lat])\n",
       "          .setHTML(`<div class=&quot;popup-content&quot;>${popupHTML}</div>`);\n",
       "\n",
       "      if (!popup.isOpen()) {\n",
       "        popup.addTo(map);\n",
       "      }\n",
       "    } else {\n",
       "      popup.remove();\n",
       "    }\n",
       "  }\n",
       "\n",
       "  function setInteractivity(map, interactiveLayers, interactiveMapLayers) {\n",
       "    const interactivity = new carto.Interactivity(interactiveMapLayers);\n",
       "    const popup = new mapboxgl.Popup({\n",
       "      closeButton: false,\n",
       "      closeOnClick: false\n",
       "    });\n",
       "\n",
       "    const { clickAttrs, hoverAttrs } = _setInteractivityAttrs(interactiveLayers);\n",
       "\n",
       "    resetPopupClick(map);\n",
       "    resetPopupHover(map);\n",
       "\n",
       "    if (clickAttrs.length > 0) {\n",
       "      setPopupsClick(map, popup, interactivity, clickAttrs);\n",
       "    }\n",
       "\n",
       "    if (hoverAttrs.length > 0) {\n",
       "      setPopupsHover(map, popup, interactivity, hoverAttrs);\n",
       "    }\n",
       "  }\n",
       "\n",
       "  function _setInteractivityAttrs(interactiveLayers) {\n",
       "    let clickAttrs = [];\n",
       "    let hoverAttrs = [];\n",
       "\n",
       "    interactiveLayers.forEach((interactiveLayer) => {\n",
       "      interactiveLayer.interactivity.forEach((interactivityDef) => {\n",
       "        if (interactivityDef.event === 'click') {\n",
       "          clickAttrs = clickAttrs.concat(interactivityDef.attrs);\n",
       "        } else if (interactivityDef.event === 'hover') {\n",
       "          hoverAttrs = hoverAttrs.concat(interactivityDef.attrs);\n",
       "        }\n",
       "      });\n",
       "    });\n",
       "\n",
       "    return { clickAttrs, hoverAttrs };\n",
       "  }\n",
       "\n",
       "  function renderWidget(widget, value) {\n",
       "    widget.element = widget.element || document.querySelector(`#${widget.id}-value`);\n",
       "\n",
       "    if (value && widget.element) {\n",
       "      widget.element.innerText = typeof value === 'number' ? format(value) : value;\n",
       "    }\n",
       "  }\n",
       "\n",
       "  function renderBridge(bridge, widget, mapLayer) {\n",
       "    widget.element = widget.element || document.querySelector(`#${widget.id}`);\n",
       "\n",
       "    switch (widget.type) {\n",
       "      case 'histogram':\n",
       "        const type = _getWidgetType(mapLayer, widget.value, widget.prop);\n",
       "        const histogram = type === 'category' ? 'categoricalHistogram' : 'numericalHistogram';\n",
       "        bridge[histogram](widget.element, widget.value, widget.options);\n",
       "\n",
       "        break;\n",
       "      case 'category':\n",
       "        bridge.category(widget.element, widget.value, widget.options);\n",
       "        break;\n",
       "      case 'animation':\n",
       "        widget.options.propertyName = widget.prop;\n",
       "        bridge.animationControls(widget.element, widget.value, widget.options);\n",
       "        break;\n",
       "      case 'time-series':\n",
       "        widget.options.propertyName = widget.prop;\n",
       "        bridge.timeSeries(widget.element, widget.value, widget.options);\n",
       "        break;\n",
       "    }\n",
       "  }\n",
       "\n",
       "  function bridgeLayerWidgets(map, mapLayer, mapSource, widgets) {\n",
       "    const bridge = new AsBridge.VL.Bridge({\n",
       "      carto: carto,\n",
       "      layer: mapLayer,\n",
       "      source: mapSource,\n",
       "      map: map\n",
       "    });\n",
       "\n",
       "    widgets\n",
       "      .filter((widget) => widget.has_bridge)\n",
       "      .forEach((widget) => renderBridge(bridge, widget, mapLayer));\n",
       "\n",
       "    bridge.build();\n",
       "  }\n",
       "\n",
       "  function _getWidgetType(layer, property, value) {\n",
       "    return layer.metadata && layer.metadata.properties[value] ?\n",
       "      layer.metadata.properties[value].type\n",
       "      : _getWidgetPropertyType(layer, property);\n",
       "  }\n",
       "\n",
       "  function _getWidgetPropertyType(layer, property) {\n",
       "    return layer.metadata && layer.metadata.properties[property] ?\n",
       "      layer.metadata.properties[property].type\n",
       "      : null;\n",
       "  }\n",
       "\n",
       "  function SourceFactory() {\n",
       "    const sourceTypes = { GeoJSON, Query, MVT };\n",
       "\n",
       "    this.createSource = (layer) => {\n",
       "      return sourceTypes[layer.type](layer);\n",
       "    };\n",
       "  }\n",
       "\n",
       "  function GeoJSON(layer) {\n",
       "    return new carto.source.GeoJSON(_decodeJSONData(layer.data));\n",
       "  }\n",
       "\n",
       "  function Query(layer) {\n",
       "    const auth = {\n",
       "      username: layer.credentials.username,\n",
       "      apiKey: layer.credentials.api_key || 'default_public'\n",
       "    };\n",
       "\n",
       "    const config = {\n",
       "      serverURL: layer.credentials.base_url || `https://${layer.credentials.username}.carto.com/`\n",
       "    };\n",
       "\n",
       "    return new carto.source.SQL(layer.data, auth, config);\n",
       "  }\n",
       "\n",
       "  function MVT(layer) {\n",
       "    return new carto.source.MVT(layer.data.file, JSON.parse(layer.data.metadata));\n",
       "  }\n",
       "\n",
       "  function _decodeJSONData(b64Data) {\n",
       "    return JSON.parse(pako.inflate(atob(b64Data), { to: 'string' }));\n",
       "  }\n",
       "\n",
       "  const factory = new SourceFactory();\n",
       "\n",
       "  function initMapLayer(layer, layerIndex, numLayers, hasLegends, map, mapIndex) {\n",
       "    const mapSource = factory.createSource(layer);\n",
       "    const mapViz = new carto.Viz(layer.viz);\n",
       "    const mapLayer = new carto.Layer(`layer${layerIndex}`, mapSource, mapViz);\n",
       "    const mapLayerIndex = numLayers - layerIndex - 1;\n",
       "\n",
       "    try {\n",
       "      mapLayer._updateLayer.catch(displayError);\n",
       "    } catch (e) {\n",
       "      throw e;\n",
       "    }\n",
       "\n",
       "\n",
       "    mapLayer.addTo(map);\n",
       "\n",
       "    setLayerLegend(layer, mapLayerIndex, mapLayer, mapIndex, hasLegends);\n",
       "    setLayerWidgets(map, layer, mapLayer, mapLayerIndex, mapSource);\n",
       "\n",
       "    return mapLayer;\n",
       "  }\n",
       "\n",
       "  function getInteractiveLayers(layers, mapLayers) {\n",
       "    const interactiveLayers = [];\n",
       "    const interactiveMapLayers = [];\n",
       "\n",
       "    layers.forEach((layer, index) => {\n",
       "      if (layer.interactivity) {\n",
       "        interactiveLayers.push(layer);\n",
       "        interactiveMapLayers.push(mapLayers[index]);\n",
       "      }\n",
       "    });\n",
       "\n",
       "    return { interactiveLayers, interactiveMapLayers };\n",
       "  }\n",
       "\n",
       "  function setLayerLegend(layer, mapLayerIndex, mapLayer, mapIndex, hasLegends) {\n",
       "    if (hasLegends && layer.legend) {\n",
       "      createLegend(mapLayer, layer.legend, mapLayerIndex, mapIndex);\n",
       "    }\n",
       "  }\n",
       "\n",
       "  function setLayerWidgets(map, layer, mapLayer, mapLayerIndex, mapSource) {\n",
       "    if (layer.widgets.length) {\n",
       "      initLayerWidgets(layer.widgets, mapLayerIndex);\n",
       "      updateLayerWidgets(layer.widgets, mapLayer);\n",
       "      bridgeLayerWidgets(map, mapLayer, mapSource, layer.widgets);\n",
       "    }\n",
       "  }\n",
       "\n",
       "  function initLayerWidgets(widgets, mapLayerIndex) {\n",
       "    widgets.forEach((widget, widgetIndex) => {\n",
       "      const id = `layer${mapLayerIndex}_widget${widgetIndex}`;\n",
       "      widget.id = id;\n",
       "    });\n",
       "  }\n",
       "\n",
       "  function updateLayerWidgets(widgets, mapLayer) {\n",
       "    mapLayer.on('updated', () => renderLayerWidgets(widgets, mapLayer));\n",
       "  }\n",
       "\n",
       "  function renderLayerWidgets(widgets, mapLayer) {\n",
       "    const variables = mapLayer.viz.variables;\n",
       "\n",
       "    widgets\n",
       "      .filter((widget) => !widget.has_bridge)\n",
       "      .forEach((widget) => {\n",
       "        const name = widget.variable_name;\n",
       "        const value = getWidgetValue(name, variables);\n",
       "        renderWidget(widget, value);\n",
       "      });\n",
       "  }\n",
       "\n",
       "  function getWidgetValue(name, variables) {\n",
       "    return name && variables[name] ? variables[name].value : null;\n",
       "  }\n",
       "\n",
       "  function setReady(settings) {\n",
       "    try {\n",
       "      return settings.maps ? initMaps(settings.maps) : initMap(settings);\n",
       "    } catch (e) {\n",
       "      displayError(e);\n",
       "    }\n",
       "  }\n",
       "\n",
       "  function initMaps(maps) {\n",
       "    return maps.map((mapSettings, mapIndex) => {\n",
       "      return initMap(mapSettings, mapIndex);\n",
       "    });\n",
       "  }\n",
       "\n",
       "  function initMap(settings, mapIndex) {\n",
       "    const basecolor = getBasecolorSettings(settings.basecolor);\n",
       "    const basemapStyle =  BASEMAPS[settings.basemap] || settings.basemap || basecolor;\n",
       "    const container = mapIndex !== undefined ? `map-${mapIndex}` : 'map';\n",
       "    const map = createMap(container, basemapStyle, settings.bounds, settings.mapboxtoken);\n",
       "\n",
       "    if (settings.show_info) {\n",
       "      updateViewport(map);\n",
       "    }\n",
       "\n",
       "    if (settings.camera) {\n",
       "      map.flyTo(settings.camera);\n",
       "    }\n",
       "\n",
       "    return initLayers(map, settings, mapIndex);\n",
       "  }\n",
       "\n",
       "  function initLayers(map, settings, mapIndex) {\n",
       "    const numLayers = settings.layers.length;\n",
       "    const hasLegends = settings.has_legends;\n",
       "    const isDefaultLegend = settings.default_legend;\n",
       "    const isStatic = settings.is_static;\n",
       "    const layers = settings.layers;\n",
       "    const mapLayers = getMapLayers(\n",
       "      layers,\n",
       "      numLayers,\n",
       "      hasLegends,\n",
       "      map,\n",
       "      mapIndex\n",
       "    );\n",
       "\n",
       "    createLegend$1(isDefaultLegend, mapLayers);\n",
       "    setInteractiveLayers(map, layers, mapLayers);\n",
       "\n",
       "    return waitForMapLayersLoad(isStatic, mapIndex, mapLayers);\n",
       "  }\n",
       "\n",
       "  function waitForMapLayersLoad(isStatic, mapIndex, mapLayers) {\n",
       "    return new Promise((resolve) => {\n",
       "      carto.on('loaded', mapLayers, onMapLayersLoaded.bind(\n",
       "        this, isStatic, mapIndex, mapLayers, resolve)\n",
       "      );\n",
       "    });\n",
       "  }\n",
       "\n",
       "  function onMapLayersLoaded(isStatic, mapIndex, mapLayers, resolve) {\n",
       "    if (isStatic) {\n",
       "      saveImage(mapIndex);\n",
       "    }\n",
       "\n",
       "    resolve(mapLayers);\n",
       "  }\n",
       "\n",
       "  function getMapLayers(layers, numLayers, hasLegends, map, mapIndex) {\n",
       "    return layers.map((layer, layerIndex) => {\n",
       "      return initMapLayer(layer, layerIndex, numLayers, hasLegends, map, mapIndex);\n",
       "    });\n",
       "  }\n",
       "\n",
       "  function setInteractiveLayers(map, layers, mapLayers) {\n",
       "    const { interactiveLayers, interactiveMapLayers } = getInteractiveLayers(layers, mapLayers);\n",
       "\n",
       "    if (interactiveLayers && interactiveLayers.length > 0) {\n",
       "      setInteractivity(map, interactiveLayers, interactiveMapLayers);\n",
       "    }\n",
       "  }\n",
       "\n",
       "  function createLegend$1(isDefaultLegend, mapLayers) {\n",
       "    if (isDefaultLegend) {\n",
       "      createDefaultLegend(mapLayers);\n",
       "    }\n",
       "  }\n",
       "\n",
       "  function createMap(container, basemapStyle, bounds, accessToken) {\n",
       "    const map = createMapboxGLMap(container, basemapStyle, accessToken);\n",
       "\n",
       "    map.addControl(attributionControl);\n",
       "    map.fitBounds(bounds, FIT_BOUNDS_SETTINGS);\n",
       "\n",
       "    return map;\n",
       "  }\n",
       "\n",
       "  function createMapboxGLMap(container, style, accessToken) {\n",
       "    if (accessToken) {\n",
       "      mapboxgl.accessToken = accessToken;\n",
       "    }\n",
       "\n",
       "    return new mapboxgl.Map({\n",
       "      container,\n",
       "      style,\n",
       "      zoom: 9,\n",
       "      dragRotate: false,\n",
       "      attributionControl: false\n",
       "    });\n",
       "  }\n",
       "\n",
       "  function init(settings) {\n",
       "    setReady(settings);\n",
       "  }\n",
       "\n",
       "  return init;\n",
       "\n",
       "}());\n",
       "</script>\n",
       "<script>\n",
       "  document\n",
       "  .querySelector('as-responsive-content')\n",
       "  .addEventListener('ready', () => {\n",
       "    const basecolor = '';\n",
       "    const basemap = 'Positron';\n",
       "    const bounds = [[-122.356766, 47.5775032], [-122.296074, 47.6243057]];\n",
       "    const camera = null;\n",
       "    const default_legend = 'False' === 'true';\n",
       "    const has_legends = 'False' === 'true';\n",
       "    const is_static = 'None' === 'true';\n",
       "    const layers = [{&quot;credentials&quot;: null, &quot;data&quot;: &quot;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&quot;, &quot;has_legend_list&quot;: false, &quot;interactivity&quot;: [{&quot;attrs&quot;: [{&quot;name&quot;: &quot;v753a00&quot;, &quot;title&quot;: &quot;shape_pt_sequence&quot;}], &quot;event&quot;: &quot;hover&quot;}], &quot;legend&quot;: {}, &quot;type&quot;: &quot;GeoJSON&quot;, &quot;viz&quot;: &quot;@v753a00: $shape_pt_sequence\\nwidth: ramp(linear(zoom(),0,18),[2,10])\\nstrokeWidth: ramp(linear(zoom(),0,18),[0,1])\\nstrokeColor: opacity(#222,ramp(linear(zoom(),0,18),[0,0.6]))\\nopacity: 1\\ncolor: black&quot;, &quot;widgets&quot;: []}, {&quot;credentials&quot;: null, &quot;data&quot;: &quot;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&quot;, &quot;has_legend_list&quot;: false, &quot;interactivity&quot;: [{&quot;attrs&quot;: [{&quot;name&quot;: &quot;v753a00&quot;, &quot;title&quot;: &quot;shape_pt_sequence&quot;}], &quot;event&quot;: &quot;hover&quot;}], &quot;legend&quot;: {}, &quot;type&quot;: &quot;GeoJSON&quot;, &quot;viz&quot;: &quot;@v753a00: $shape_pt_sequence\\nwidth: ramp(linear(zoom(),0,18),[2,10])\\nstrokeWidth: ramp(linear(zoom(),0,18),[0,1])\\nstrokeColor: opacity(#222,ramp(linear(zoom(),0,18),[0,0.6]))\\nopacity: 1\\ncolor: blue&quot;, &quot;widgets&quot;: []}];\n",
       "    const mapboxtoken = '';\n",
       "    const show_info = 'None' === 'true';\n",
       "\n",
       "    init({\n",
       "      basecolor,\n",
       "      basemap,\n",
       "      bounds,\n",
       "      camera,\n",
       "      default_legend,\n",
       "      has_legends,\n",
       "      is_static,\n",
       "      layers,\n",
       "      mapboxtoken,\n",
       "      show_info\n",
       "    });\n",
       "});\n",
       "</script>\n",
       "</html>\n",
       "\">\n",
       "\n",
       "</iframe>"
      ],
      "text/plain": [
       "<cartoframes.viz.map.Map at 0x7f8d6d335400>"
      ]
     },
     "metadata": {},
     "output_type": "display_data"
    }
   ],
   "source": [
    "far_vehicles = position_w_node_schedule[position_w_node_schedule['distance_btw_veh_and_shape']>veh_dist_to_shape_std_dev]\n",
    "\n",
    "###############################################\n",
    "## vehicle points ############################\n",
    "###############################################\n",
    "\n",
    "vehicle_pt_df = far_vehicles[['shape_pt_sequence','vehicle_lat','vehicle_long']].copy()\n",
    "geometry = vehicle_pt_df.apply(lambda x: Point(x.vehicle_long, x.vehicle_lat), axis=1)\n",
    "vehicle_pt_geo = gpd.GeoDataFrame(vehicle_pt_df, crs={'init':'4326'},geometry=geometry.tolist())\n",
    "\n",
    "###############################################\n",
    "## route vertex points ####### route_vertex_geo\n",
    "###############################################\n",
    "\n",
    "display(Map(\n",
    "\n",
    "    [Layer(route_vertex_geo,\n",
    "          'color: black',\n",
    "           popup=Popup({\n",
    "        'hover': {\n",
    "            'title': 'shape_pt_sequence',\n",
    "            'value': '$shape_pt_sequence'\n",
    "        }\n",
    "    })\n",
    "         ),\n",
    "     Layer(vehicle_pt_geo,\n",
    "           'color: blue',\n",
    "           popup=Popup({\n",
    "        'hover': {\n",
    "            'title': 'shape_pt_sequence',\n",
    "            'value': '$shape_pt_sequence'\n",
    "        }\n",
    "    })\n",
    "         )\n",
    "    ]\n",
    "))"
   ]
  },
  {
   "cell_type": "markdown",
   "metadata": {},
   "source": [
    "# From the map above, it looks like the vehicle location is far from a route_vertex when there are significant gaps in the route vertices (long straight roads in the route)"
   ]
  },
  {
   "cell_type": "markdown",
   "metadata": {},
   "source": [
    "## let's try plotting the vehicle point projected on the route vs. the nearest route vertex for these cases. This is when Nathaniel's method shines :)"
   ]
  },
  {
   "cell_type": "code",
   "execution_count": 46,
   "metadata": {
    "ExecuteTime": {
     "end_time": "2019-12-05T14:46:03.639814Z",
     "start_time": "2019-12-05T14:46:02.824198Z"
    }
   },
   "outputs": [
    {
     "data": {
      "text/html": [
       "<iframe\n",
       "  frameborder=\"0\"\n",
       "  style=\"\n",
       "    border: 1px solid #cfcfcf;\n",
       "    width: 100%;\n",
       "    height: 632px;\n",
       "    \"\n",
       "  srcDoc=\"\n",
       "  <!DOCTYPE html>\n",
       "<html lang=&quot;en&quot;>\n",
       "<head>\n",
       "  <title>None</title>\n",
       "  <meta name=&quot;description&quot; content=&quot;None&quot;>\n",
       "  <meta name=&quot;viewport&quot; content=&quot;width=device-width, initial-scale=1.0&quot;>\n",
       "  <meta charset=&quot;UTF-8&quot;>\n",
       "  <!-- Include CARTO VL JS -->\n",
       "  <script src=&quot;https://libs.cartocdn.com/carto-vl/v1.4/carto-vl.min.js&quot;></script>\n",
       "  <!-- Include Mapbox GL JS -->\n",
       "  <script src=&quot;https://api.tiles.mapbox.com/mapbox-gl-js/v1.0.0/mapbox-gl.js&quot;></script>\n",
       "  <!-- Include Mapbox GL CSS -->\n",
       "  <link href=&quot;https://api.tiles.mapbox.com/mapbox-gl-js/v1.0.0/mapbox-gl.css&quot; rel=&quot;stylesheet&quot; />\n",
       "\n",
       "  <!-- Include Airship -->\n",
       "  <script nomodule=&quot;&quot; src=&quot;https://libs.cartocdn.com/airship-components/v2.2.0-rc.2.1/airship.js&quot;></script>\n",
       "  <script type=&quot;module&quot; src=&quot;https://libs.cartocdn.com/airship-components/v2.2.0-rc.2.1/airship/airship.esm.js&quot;></script>\n",
       "  <script src=&quot;https://libs.cartocdn.com/airship-bridge/v2.2.0-rc.2.1/asbridge.min.js&quot;></script>\n",
       "  <link href=&quot;https://libs.cartocdn.com/airship-style/v2.2.0-rc.2.1/airship.min.css&quot; rel=&quot;stylesheet&quot;>\n",
       "  <link href=&quot;https://libs.cartocdn.com/airship-icons/v2.2.0-rc.2.1/icons.css&quot; rel=&quot;stylesheet&quot;>\n",
       "\n",
       "  <link href=&quot;https://fonts.googleapis.com/css?family=Roboto&quot; rel=&quot;stylesheet&quot; type=&quot;text/css&quot;>\n",
       "\n",
       "  <!-- External libraries -->\n",
       "\n",
       "  <!-- pako -->\n",
       "  <script src=&quot;https://cdnjs.cloudflare.com/ajax/libs/pako/1.0.10/pako_inflate.min.js&quot;></script>\n",
       "  \n",
       "  <!-- html2canvas -->\n",
       "  \n",
       "\n",
       "  \n",
       "  <style>\n",
       "  body {\n",
       "    margin: 0;\n",
       "    padding: 0;\n",
       "  }\n",
       "\n",
       "  aside.as-sidebar {\n",
       "    min-width: 300px;\n",
       "  }\n",
       "\n",
       "  .map-image {\n",
       "    display: none;\n",
       "    max-width: 100%;\n",
       "    height: auto;\n",
       "  }\n",
       "</style>\n",
       "  <style>\n",
       "  .map {\n",
       "    position: absolute;\n",
       "    height: 100%;\n",
       "    width: 100%;\n",
       "  }\n",
       "\n",
       "  .map-info {\n",
       "    position: absolute;\n",
       "    bottom: 0;\n",
       "    padding: 0 5px;\n",
       "    background-color: rgba(255, 255, 255, 0.5);\n",
       "    margin: 0;\n",
       "    color: rgba(0, 0, 0, 0.75);\n",
       "    font-size: 12px;\n",
       "    width: auto;\n",
       "    height: 18px;\n",
       "    font-family: 'Open Sans';\n",
       "  }\n",
       "\n",
       "  .map-footer {\n",
       "    background: #F2F6F9;\n",
       "    font-family: Roboto;\n",
       "    font-size: 12px;\n",
       "    line-height: 24px;\n",
       "    color: #162945;\n",
       "    text-align: center;\n",
       "    z-index: 2;\n",
       "  }\n",
       "\n",
       "  .map-footer a {\n",
       "    text-decoration: none;\n",
       "  }\n",
       "\n",
       "  .map-footer a:hover {\n",
       "    text-decoration: underline;\n",
       "  }\n",
       "</style>\n",
       "    <style>\n",
       "    #error-container {\n",
       "      position: absolute;\n",
       "      width: 100%;\n",
       "      height: 100%;\n",
       "      background-color: white;\n",
       "      visibility: hidden;\n",
       "      padding: 1em;\n",
       "      font-family: &quot;Courier New&quot;, Courier, monospace;\n",
       "      margin: 0 auto;\n",
       "      font-size: 14px;\n",
       "      overflow: auto;\n",
       "      z-index: 1000;\n",
       "      color: black;\n",
       "    }\n",
       "\n",
       "    .error-section {\n",
       "      padding: 1em;\n",
       "      border-radius: 5px;\n",
       "      background-color: #fee;\n",
       "    }\n",
       "\n",
       "    #error-container #error-highlight {\n",
       "      font-weight: bold;\n",
       "      color: inherit;\n",
       "    }\n",
       "\n",
       "    #error-container #error-type {\n",
       "      color: #008000;\n",
       "    }\n",
       "\n",
       "    #error-container #error-name {\n",
       "      color: #ba2121;\n",
       "    }\n",
       "\n",
       "    #error-container #error-content {\n",
       "      margin-top: 0.4em;\n",
       "    }\n",
       "\n",
       "    .error-details {\n",
       "      margin-top: 1em;\n",
       "    }\n",
       "\n",
       "    #error-stacktrace {\n",
       "      list-style: none;\n",
       "    }\n",
       "</style>\n",
       "  <style>\n",
       "    .popup-content {\n",
       "      display: flex;\n",
       "      flex-direction: column;\n",
       "      padding: 8px;\n",
       "    }\n",
       "\n",
       "    .popup-name {\n",
       "      font-size: 12px;\n",
       "      font-weight: 400;\n",
       "      line-height: 20px;\n",
       "      margin-bottom: 4px;\n",
       "    }\n",
       "\n",
       "    .popup-value {\n",
       "      font-size: 16px;\n",
       "      font-weight: 600;\n",
       "      line-height: 20px;\n",
       "    }\n",
       "\n",
       "    .popup-value:not(:last-of-type) {\n",
       "      margin-bottom: 16px;\n",
       "    }\n",
       "</style>\n",
       "  <style>\n",
       "  as-widget-header .as-widget-header__header {\n",
       "    margin-bottom: 8px;\n",
       "    overflow-wrap: break-word;\n",
       "  }\n",
       "\n",
       "  as-widget-header .as-widget-header__subheader {\n",
       "    margin-bottom: 12px;\n",
       "  }\n",
       "\n",
       "  as-category-widget {\n",
       "    max-height: 250px;\n",
       "  }\n",
       "</style>\n",
       "</head>\n",
       "\n",
       "<body class=&quot;as-app-body as-app&quot;>\n",
       "  <img id=&quot;map-image&quot; class=&quot;map-image&quot; alt='Static map image' />\n",
       "  <as-responsive-content id=&quot;main-container&quot;>\n",
       "    \n",
       "    <main class=&quot;as-main&quot;>\n",
       "      <div class=&quot;as-map-area&quot;>\n",
       "        <div id=&quot;map&quot; class=&quot;map&quot;></div>\n",
       "        \n",
       "        \n",
       "      </div> <!-- as-map-area -->\n",
       "    </main> <!-- as-main -->\n",
       "  </as-responsive-content>\n",
       "\n",
       "  \n",
       "\n",
       "  <div id=&quot;error-container&quot; class=&quot;error&quot;>\n",
       "  <p>There is a <span class=&quot;errors&quot; id=&quot;error-highlight&quot;></span>\n",
       "  from the <a href=&quot;https://carto.com/developers/carto-vl/&quot; target=&quot;_blank&quot;>CARTO VL</a> library:</p>\n",
       "  <section class=&quot;error-section&quot;>\n",
       "    <span class=&quot;errors&quot; id=&quot;error-name&quot;></span>:\n",
       "    <section id=&quot;error-content&quot;>\n",
       "      <span class=&quot;errors&quot; id=&quot;error-type&quot;></span>\n",
       "      <span class=&quot;errors&quot; id=&quot;error-message&quot;></span>\n",
       "    </section>\n",
       "  </section>\n",
       "\n",
       "  <details class=&quot;error-details&quot;>\n",
       "    <summary>StackTrace</summary>\n",
       "    <ul id=&quot;error-stacktrace&quot;></ul>\n",
       "  </details>\n",
       "</div>\n",
       "</body>\n",
       "\n",
       "<script>\n",
       "  var init = (function () {\n",
       "  'use strict';\n",
       "\n",
       "  const BASEMAPS = {\n",
       "    DarkMatter: carto.basemaps.darkmatter,\n",
       "    Voyager: carto.basemaps.voyager,\n",
       "    Positron: carto.basemaps.positron\n",
       "  };\n",
       "\n",
       "  const attributionControl = new mapboxgl.AttributionControl({\n",
       "    compact: false\n",
       "  });\n",
       "\n",
       "  const FIT_BOUNDS_SETTINGS = { animate: false, padding: 50, maxZoom: 16 };\n",
       "\n",
       "  function format(value) {\n",
       "    if (Array.isArray(value)) {\n",
       "      const [first, second] = value;\n",
       "      if (first === -Infinity) {\n",
       "        return `< ${formatValue(second)}`;\n",
       "      }\n",
       "      if (second === Infinity) {\n",
       "        return `> ${formatValue(first)}`;\n",
       "      }\n",
       "      return `${formatValue(first)} - ${formatValue(second)}`;\n",
       "    }\n",
       "    return formatValue(value);\n",
       "  }\n",
       "\n",
       "  function formatValue(value) {\n",
       "    if (typeof value === 'number') {\n",
       "      return formatNumber(value);\n",
       "    }\n",
       "    return value;\n",
       "  }\n",
       "\n",
       "  function formatNumber(value) {\n",
       "    const log = Math.log10(Math.abs(value));\n",
       "\n",
       "    if ((log > 4 || log < -2.00000001) && value) {\n",
       "      return value.toExponential(2);\n",
       "    }\n",
       "    \n",
       "    if (!Number.isInteger(value)) {\n",
       "      return value.toLocaleString(undefined, {\n",
       "        minimumFractionDigits: 2,\n",
       "        maximumFractionDigits: 3\n",
       "      });\n",
       "    }\n",
       "    \n",
       "    return value.toLocaleString();\n",
       "  }\n",
       "\n",
       "  function updateViewport(map) {\n",
       "    function updateMapInfo() {\n",
       "      const mapInfo$ = document.getElementById('map-info');\n",
       "      const center = map.getCenter();\n",
       "      const lat = center.lat.toFixed(6);\n",
       "      const lng = center.lng.toFixed(6);\n",
       "      const zoom = map.getZoom().toFixed(2);\n",
       "    \n",
       "      mapInfo$.innerText = `viewport={'zoom': ${zoom}, 'lat': ${lat}, 'lng': ${lng}}`;\n",
       "    }\n",
       "\n",
       "    updateMapInfo();\n",
       "\n",
       "    map.on('zoom', updateMapInfo);\n",
       "    map.on('move', updateMapInfo); \n",
       "  }\n",
       "\n",
       "  function getBasecolorSettings(basecolor) {\n",
       "    return {\n",
       "      'version': 8,\n",
       "      'sources': {},\n",
       "      'layers': [{\n",
       "          'id': 'background',\n",
       "          'type': 'background',\n",
       "          'paint': {\n",
       "              'background-color': basecolor\n",
       "          }\n",
       "      }]\n",
       "    };\n",
       "  }\n",
       "\n",
       "  function getImageElement(mapIndex) {\n",
       "    const id = mapIndex !== undefined ? `map-image-${mapIndex}` : 'map-image';\n",
       "    return document.getElementById(id);\n",
       "  }\n",
       "\n",
       "  function getContainerElement(mapIndex) {\n",
       "    const id = mapIndex !== undefined ? `main-container-${mapIndex}` : 'main-container';\n",
       "    return document.getElementById(id);\n",
       "  }\n",
       "\n",
       "  function saveImage(mapIndex) {\n",
       "    const img = getImageElement(mapIndex);\n",
       "    const container = getContainerElement(mapIndex);\n",
       "\n",
       "    html2canvas(container)\n",
       "      .then((canvas) => setMapImage(canvas, img, container));\n",
       "  }\n",
       "\n",
       "  function setMapImage(canvas, img, container) {\n",
       "    const src = canvas.toDataURL();\n",
       "    img.setAttribute('src', src);\n",
       "    img.style.display = 'block';\n",
       "    container.style.display = 'none';\n",
       "  }\n",
       "\n",
       "  function createDefaultLegend(layers) {\n",
       "    const defaultLegendContainer = document.getElementById('default-legend-container');\n",
       "    defaultLegendContainer.style.display = 'none';\n",
       "\n",
       "    AsBridge.VL.Legends.layersLegend(\n",
       "      '#default-legend',\n",
       "      layers,\n",
       "      {\n",
       "        onLoad: () => defaultLegendContainer.style.display = 'unset'\n",
       "      }\n",
       "    );\n",
       "  }\n",
       "\n",
       "  function createLegend(layer, legendData, layerIndex, mapIndex=0) {\n",
       "    const element = document.querySelector(`#layer${layerIndex}_map${mapIndex}_legend`);\n",
       "    \n",
       "    if (legendData.length) {\n",
       "      legendData.forEach((legend, legendIndex) => _createLegend(layer, legend, layerIndex, legendIndex, mapIndex));\n",
       "    } else {\n",
       "      _createLegend(layer, legendData, layerIndex, 0, mapIndex);\n",
       "    }\n",
       "  }\n",
       "\n",
       "  function _createLegend(layer, legend, layerIndex, legendIndex, mapIndex=0) {\n",
       "    const element = document.querySelector(`#layer${layerIndex}_map${mapIndex}_legend${legendIndex}`);\n",
       "\n",
       "    if (legend.prop) {\n",
       "      const othersLabel = 'Others';   // TODO: i18n\n",
       "      const prop = legend.prop;\n",
       "      const dynamic = legend.dynamic;\n",
       "      const variable = legend.variable;\n",
       "      const config = { othersLabel, variable };\n",
       "      const options = { format, config, dynamic };\n",
       "\n",
       "      if (legend.type.startsWith('size-continuous')) {\n",
       "        config.samples = 4;\n",
       "      }\n",
       "      \n",
       "      AsBridge.VL.Legends.rampLegend(element, layer, prop, options);\n",
       "    }\n",
       "  }\n",
       "\n",
       "  /** From https://github.com/errwischt/stacktrace-parser/blob/master/src/stack-trace-parser.js */\n",
       "\n",
       "  /**\n",
       "   * This parses the different stack traces and puts them into one format\n",
       "   * This borrows heavily from TraceKit (https://github.com/csnover/TraceKit)\n",
       "   */\n",
       "\n",
       "  const UNKNOWN_FUNCTION = '<unknown>';\n",
       "  const chromeRe = /^\\s*at (.*?) ?\\(((?:file|https?|blob|chrome-extension|native|eval|webpack|<anonymous>|\\/).*?)(?::(\\d+))?(?::(\\d+))?\\)?\\s*$/i;\n",
       "  const chromeEvalRe = /\\((\\S*)(?::(\\d+))(?::(\\d+))\\)/;\n",
       "  const winjsRe = /^\\s*at (?:((?:\\[object object\\])?.+) )?\\(?((?:file|ms-appx|https?|webpack|blob):.*?):(\\d+)(?::(\\d+))?\\)?\\s*$/i;\n",
       "  const geckoRe = /^\\s*(.*?)(?:\\((.*?)\\))?(?:^|@)((?:file|https?|blob|chrome|webpack|resource|\\[native).*?|[^@]*bundle)(?::(\\d+))?(?::(\\d+))?\\s*$/i;\n",
       "  const geckoEvalRe = /(\\S+) line (\\d+)(?: > eval line \\d+)* > eval/i;\n",
       "\n",
       "  function parse(stackString) {\n",
       "    const lines = stackString.split('\\n');\n",
       "\n",
       "    return lines.reduce((stack, line) => {\n",
       "      const parseResult =\n",
       "        parseChrome(line) ||\n",
       "        parseWinjs(line) ||\n",
       "        parseGecko(line);\n",
       "\n",
       "      if (parseResult) {\n",
       "        stack.push(parseResult);\n",
       "      }\n",
       "\n",
       "      return stack;\n",
       "    }, []);\n",
       "  }\n",
       "\n",
       "  function parseChrome(line) {\n",
       "    const parts = chromeRe.exec(line);\n",
       "\n",
       "    if (!parts) {\n",
       "      return null;\n",
       "    }\n",
       "\n",
       "    const isNative = parts[2] && parts[2].indexOf('native') === 0; // start of line\n",
       "    const isEval = parts[2] && parts[2].indexOf('eval') === 0; // start of line\n",
       "\n",
       "    const submatch = chromeEvalRe.exec(parts[2]);\n",
       "    if (isEval && submatch != null) {\n",
       "      // throw out eval line/column and use top-most line/column number\n",
       "      parts[2] = submatch[1]; // url\n",
       "      parts[3] = submatch[2]; // line\n",
       "      parts[4] = submatch[3]; // column\n",
       "    }\n",
       "\n",
       "    return {\n",
       "      file: !isNative ? parts[2] : null,\n",
       "      methodName: parts[1] || UNKNOWN_FUNCTION,\n",
       "      arguments: isNative ? [parts[2]] : [],\n",
       "      lineNumber: parts[3] ? +parts[3] : null,\n",
       "      column: parts[4] ? +parts[4] : null,\n",
       "    };\n",
       "  }\n",
       "\n",
       "  function parseWinjs(line) {\n",
       "    const parts = winjsRe.exec(line);\n",
       "\n",
       "    if (!parts) {\n",
       "      return null;\n",
       "    }\n",
       "\n",
       "    return {\n",
       "      file: parts[2],\n",
       "      methodName: parts[1] || UNKNOWN_FUNCTION,\n",
       "      arguments: [],\n",
       "      lineNumber: +parts[3],\n",
       "      column: parts[4] ? +parts[4] : null,\n",
       "    };\n",
       "  }\n",
       "\n",
       "  function parseGecko(line) {\n",
       "    const parts = geckoRe.exec(line);\n",
       "\n",
       "    if (!parts) {\n",
       "      return null;\n",
       "    }\n",
       "\n",
       "    const isEval = parts[3] && parts[3].indexOf(' > eval') > -1;\n",
       "\n",
       "    const submatch = geckoEvalRe.exec(parts[3]);\n",
       "    if (isEval && submatch != null) {\n",
       "      // throw out eval line/column and use top-most line number\n",
       "      parts[3] = submatch[1];\n",
       "      parts[4] = submatch[2];\n",
       "      parts[5] = null; // no column when eval\n",
       "    }\n",
       "\n",
       "    return {\n",
       "      file: parts[3],\n",
       "      methodName: parts[1] || UNKNOWN_FUNCTION,\n",
       "      arguments: parts[2] ? parts[2].split(',') : [],\n",
       "      lineNumber: parts[4] ? +parts[4] : null,\n",
       "      column: parts[5] ? +parts[5] : null,\n",
       "    };\n",
       "  }\n",
       "\n",
       "  function displayError(e) {\n",
       "    const error$ = document.getElementById('error-container');\n",
       "    const errors$ = error$.getElementsByClassName('errors');\n",
       "    const stacktrace$ = document.getElementById('error-stacktrace');\n",
       "\n",
       "    errors$[0].innerHTML = e.name;\n",
       "    errors$[1].innerHTML = e.name;\n",
       "    errors$[2].innerHTML = e.type;\n",
       "    errors$[3].innerHTML = e.message.replace(e.type, '');\n",
       "\n",
       "    error$.style.visibility = 'visible';\n",
       "\n",
       "    const stack = parse(e.stack);\n",
       "    const list = stack.map(item => {\n",
       "      return `<li>\n",
       "      at <span class=&quot;stacktrace-method&quot;>${item.methodName}:</span>\n",
       "      (${item.file}:${item.lineNumber}:${item.column})\n",
       "    </li>`;\n",
       "    });\n",
       "\n",
       "    stacktrace$.innerHTML = list.join('\\n');\n",
       "  }\n",
       "\n",
       "  function resetPopupClick(interactivity) {\n",
       "    interactivity.off('featureClick');\n",
       "  }\n",
       "\n",
       "  function resetPopupHover(interactivity) {\n",
       "    interactivity.off('featureHover');\n",
       "  }\n",
       "\n",
       "  function setPopupsClick(map, popup, interactivity, attrs) {\n",
       "    interactivity.on('featureClick', (event) => {\n",
       "      updatePopup(map, popup, event, attrs);\n",
       "    });\n",
       "  }\n",
       "\n",
       "  function setPopupsHover(map, popup, interactivity, attrs) {\n",
       "    interactivity.on('featureHover', (event) => {\n",
       "      updatePopup(map, popup, event, attrs);\n",
       "    });\n",
       "  }\n",
       "\n",
       "  function updatePopup(map, popup, event, attrs) {\n",
       "    if (event.features.length > 0) {\n",
       "      let popupHTML = '';\n",
       "      const layerIDs = [];\n",
       "\n",
       "      for (const feature of event.features) {\n",
       "        if (layerIDs.includes(feature.layerId)) {\n",
       "          continue;\n",
       "        }\n",
       "        // Track layers to add only one feature per layer\n",
       "        layerIDs.push(feature.layerId);\n",
       "    \n",
       "        for (const item of attrs) {\n",
       "          const variable = feature.variables[item.name];\n",
       "          if (variable) {\n",
       "            let value = variable.value;\n",
       "            value = formatValue(value);\n",
       "\n",
       "            popupHTML = `\n",
       "            <span class=&quot;popup-name&quot;>${item.title}</span>\n",
       "            <span class=&quot;popup-value&quot;>${value}</span>\n",
       "          ` + popupHTML;\n",
       "          }\n",
       "        }\n",
       "      }\n",
       "\n",
       "      popup\n",
       "          .setLngLat([event.coordinates.lng, event.coordinates.lat])\n",
       "          .setHTML(`<div class=&quot;popup-content&quot;>${popupHTML}</div>`);\n",
       "\n",
       "      if (!popup.isOpen()) {\n",
       "        popup.addTo(map);\n",
       "      }\n",
       "    } else {\n",
       "      popup.remove();\n",
       "    }\n",
       "  }\n",
       "\n",
       "  function setInteractivity(map, interactiveLayers, interactiveMapLayers) {\n",
       "    const interactivity = new carto.Interactivity(interactiveMapLayers);\n",
       "    const popup = new mapboxgl.Popup({\n",
       "      closeButton: false,\n",
       "      closeOnClick: false\n",
       "    });\n",
       "\n",
       "    const { clickAttrs, hoverAttrs } = _setInteractivityAttrs(interactiveLayers);\n",
       "\n",
       "    resetPopupClick(map);\n",
       "    resetPopupHover(map);\n",
       "\n",
       "    if (clickAttrs.length > 0) {\n",
       "      setPopupsClick(map, popup, interactivity, clickAttrs);\n",
       "    }\n",
       "\n",
       "    if (hoverAttrs.length > 0) {\n",
       "      setPopupsHover(map, popup, interactivity, hoverAttrs);\n",
       "    }\n",
       "  }\n",
       "\n",
       "  function _setInteractivityAttrs(interactiveLayers) {\n",
       "    let clickAttrs = [];\n",
       "    let hoverAttrs = [];\n",
       "\n",
       "    interactiveLayers.forEach((interactiveLayer) => {\n",
       "      interactiveLayer.interactivity.forEach((interactivityDef) => {\n",
       "        if (interactivityDef.event === 'click') {\n",
       "          clickAttrs = clickAttrs.concat(interactivityDef.attrs);\n",
       "        } else if (interactivityDef.event === 'hover') {\n",
       "          hoverAttrs = hoverAttrs.concat(interactivityDef.attrs);\n",
       "        }\n",
       "      });\n",
       "    });\n",
       "\n",
       "    return { clickAttrs, hoverAttrs };\n",
       "  }\n",
       "\n",
       "  function renderWidget(widget, value) {\n",
       "    widget.element = widget.element || document.querySelector(`#${widget.id}-value`);\n",
       "\n",
       "    if (value && widget.element) {\n",
       "      widget.element.innerText = typeof value === 'number' ? format(value) : value;\n",
       "    }\n",
       "  }\n",
       "\n",
       "  function renderBridge(bridge, widget, mapLayer) {\n",
       "    widget.element = widget.element || document.querySelector(`#${widget.id}`);\n",
       "\n",
       "    switch (widget.type) {\n",
       "      case 'histogram':\n",
       "        const type = _getWidgetType(mapLayer, widget.value, widget.prop);\n",
       "        const histogram = type === 'category' ? 'categoricalHistogram' : 'numericalHistogram';\n",
       "        bridge[histogram](widget.element, widget.value, widget.options);\n",
       "\n",
       "        break;\n",
       "      case 'category':\n",
       "        bridge.category(widget.element, widget.value, widget.options);\n",
       "        break;\n",
       "      case 'animation':\n",
       "        widget.options.propertyName = widget.prop;\n",
       "        bridge.animationControls(widget.element, widget.value, widget.options);\n",
       "        break;\n",
       "      case 'time-series':\n",
       "        widget.options.propertyName = widget.prop;\n",
       "        bridge.timeSeries(widget.element, widget.value, widget.options);\n",
       "        break;\n",
       "    }\n",
       "  }\n",
       "\n",
       "  function bridgeLayerWidgets(map, mapLayer, mapSource, widgets) {\n",
       "    const bridge = new AsBridge.VL.Bridge({\n",
       "      carto: carto,\n",
       "      layer: mapLayer,\n",
       "      source: mapSource,\n",
       "      map: map\n",
       "    });\n",
       "\n",
       "    widgets\n",
       "      .filter((widget) => widget.has_bridge)\n",
       "      .forEach((widget) => renderBridge(bridge, widget, mapLayer));\n",
       "\n",
       "    bridge.build();\n",
       "  }\n",
       "\n",
       "  function _getWidgetType(layer, property, value) {\n",
       "    return layer.metadata && layer.metadata.properties[value] ?\n",
       "      layer.metadata.properties[value].type\n",
       "      : _getWidgetPropertyType(layer, property);\n",
       "  }\n",
       "\n",
       "  function _getWidgetPropertyType(layer, property) {\n",
       "    return layer.metadata && layer.metadata.properties[property] ?\n",
       "      layer.metadata.properties[property].type\n",
       "      : null;\n",
       "  }\n",
       "\n",
       "  function SourceFactory() {\n",
       "    const sourceTypes = { GeoJSON, Query, MVT };\n",
       "\n",
       "    this.createSource = (layer) => {\n",
       "      return sourceTypes[layer.type](layer);\n",
       "    };\n",
       "  }\n",
       "\n",
       "  function GeoJSON(layer) {\n",
       "    return new carto.source.GeoJSON(_decodeJSONData(layer.data));\n",
       "  }\n",
       "\n",
       "  function Query(layer) {\n",
       "    const auth = {\n",
       "      username: layer.credentials.username,\n",
       "      apiKey: layer.credentials.api_key || 'default_public'\n",
       "    };\n",
       "\n",
       "    const config = {\n",
       "      serverURL: layer.credentials.base_url || `https://${layer.credentials.username}.carto.com/`\n",
       "    };\n",
       "\n",
       "    return new carto.source.SQL(layer.data, auth, config);\n",
       "  }\n",
       "\n",
       "  function MVT(layer) {\n",
       "    return new carto.source.MVT(layer.data.file, JSON.parse(layer.data.metadata));\n",
       "  }\n",
       "\n",
       "  function _decodeJSONData(b64Data) {\n",
       "    return JSON.parse(pako.inflate(atob(b64Data), { to: 'string' }));\n",
       "  }\n",
       "\n",
       "  const factory = new SourceFactory();\n",
       "\n",
       "  function initMapLayer(layer, layerIndex, numLayers, hasLegends, map, mapIndex) {\n",
       "    const mapSource = factory.createSource(layer);\n",
       "    const mapViz = new carto.Viz(layer.viz);\n",
       "    const mapLayer = new carto.Layer(`layer${layerIndex}`, mapSource, mapViz);\n",
       "    const mapLayerIndex = numLayers - layerIndex - 1;\n",
       "\n",
       "    try {\n",
       "      mapLayer._updateLayer.catch(displayError);\n",
       "    } catch (e) {\n",
       "      throw e;\n",
       "    }\n",
       "\n",
       "\n",
       "    mapLayer.addTo(map);\n",
       "\n",
       "    setLayerLegend(layer, mapLayerIndex, mapLayer, mapIndex, hasLegends);\n",
       "    setLayerWidgets(map, layer, mapLayer, mapLayerIndex, mapSource);\n",
       "\n",
       "    return mapLayer;\n",
       "  }\n",
       "\n",
       "  function getInteractiveLayers(layers, mapLayers) {\n",
       "    const interactiveLayers = [];\n",
       "    const interactiveMapLayers = [];\n",
       "\n",
       "    layers.forEach((layer, index) => {\n",
       "      if (layer.interactivity) {\n",
       "        interactiveLayers.push(layer);\n",
       "        interactiveMapLayers.push(mapLayers[index]);\n",
       "      }\n",
       "    });\n",
       "\n",
       "    return { interactiveLayers, interactiveMapLayers };\n",
       "  }\n",
       "\n",
       "  function setLayerLegend(layer, mapLayerIndex, mapLayer, mapIndex, hasLegends) {\n",
       "    if (hasLegends && layer.legend) {\n",
       "      createLegend(mapLayer, layer.legend, mapLayerIndex, mapIndex);\n",
       "    }\n",
       "  }\n",
       "\n",
       "  function setLayerWidgets(map, layer, mapLayer, mapLayerIndex, mapSource) {\n",
       "    if (layer.widgets.length) {\n",
       "      initLayerWidgets(layer.widgets, mapLayerIndex);\n",
       "      updateLayerWidgets(layer.widgets, mapLayer);\n",
       "      bridgeLayerWidgets(map, mapLayer, mapSource, layer.widgets);\n",
       "    }\n",
       "  }\n",
       "\n",
       "  function initLayerWidgets(widgets, mapLayerIndex) {\n",
       "    widgets.forEach((widget, widgetIndex) => {\n",
       "      const id = `layer${mapLayerIndex}_widget${widgetIndex}`;\n",
       "      widget.id = id;\n",
       "    });\n",
       "  }\n",
       "\n",
       "  function updateLayerWidgets(widgets, mapLayer) {\n",
       "    mapLayer.on('updated', () => renderLayerWidgets(widgets, mapLayer));\n",
       "  }\n",
       "\n",
       "  function renderLayerWidgets(widgets, mapLayer) {\n",
       "    const variables = mapLayer.viz.variables;\n",
       "\n",
       "    widgets\n",
       "      .filter((widget) => !widget.has_bridge)\n",
       "      .forEach((widget) => {\n",
       "        const name = widget.variable_name;\n",
       "        const value = getWidgetValue(name, variables);\n",
       "        renderWidget(widget, value);\n",
       "      });\n",
       "  }\n",
       "\n",
       "  function getWidgetValue(name, variables) {\n",
       "    return name && variables[name] ? variables[name].value : null;\n",
       "  }\n",
       "\n",
       "  function setReady(settings) {\n",
       "    try {\n",
       "      return settings.maps ? initMaps(settings.maps) : initMap(settings);\n",
       "    } catch (e) {\n",
       "      displayError(e);\n",
       "    }\n",
       "  }\n",
       "\n",
       "  function initMaps(maps) {\n",
       "    return maps.map((mapSettings, mapIndex) => {\n",
       "      return initMap(mapSettings, mapIndex);\n",
       "    });\n",
       "  }\n",
       "\n",
       "  function initMap(settings, mapIndex) {\n",
       "    const basecolor = getBasecolorSettings(settings.basecolor);\n",
       "    const basemapStyle =  BASEMAPS[settings.basemap] || settings.basemap || basecolor;\n",
       "    const container = mapIndex !== undefined ? `map-${mapIndex}` : 'map';\n",
       "    const map = createMap(container, basemapStyle, settings.bounds, settings.mapboxtoken);\n",
       "\n",
       "    if (settings.show_info) {\n",
       "      updateViewport(map);\n",
       "    }\n",
       "\n",
       "    if (settings.camera) {\n",
       "      map.flyTo(settings.camera);\n",
       "    }\n",
       "\n",
       "    return initLayers(map, settings, mapIndex);\n",
       "  }\n",
       "\n",
       "  function initLayers(map, settings, mapIndex) {\n",
       "    const numLayers = settings.layers.length;\n",
       "    const hasLegends = settings.has_legends;\n",
       "    const isDefaultLegend = settings.default_legend;\n",
       "    const isStatic = settings.is_static;\n",
       "    const layers = settings.layers;\n",
       "    const mapLayers = getMapLayers(\n",
       "      layers,\n",
       "      numLayers,\n",
       "      hasLegends,\n",
       "      map,\n",
       "      mapIndex\n",
       "    );\n",
       "\n",
       "    createLegend$1(isDefaultLegend, mapLayers);\n",
       "    setInteractiveLayers(map, layers, mapLayers);\n",
       "\n",
       "    return waitForMapLayersLoad(isStatic, mapIndex, mapLayers);\n",
       "  }\n",
       "\n",
       "  function waitForMapLayersLoad(isStatic, mapIndex, mapLayers) {\n",
       "    return new Promise((resolve) => {\n",
       "      carto.on('loaded', mapLayers, onMapLayersLoaded.bind(\n",
       "        this, isStatic, mapIndex, mapLayers, resolve)\n",
       "      );\n",
       "    });\n",
       "  }\n",
       "\n",
       "  function onMapLayersLoaded(isStatic, mapIndex, mapLayers, resolve) {\n",
       "    if (isStatic) {\n",
       "      saveImage(mapIndex);\n",
       "    }\n",
       "\n",
       "    resolve(mapLayers);\n",
       "  }\n",
       "\n",
       "  function getMapLayers(layers, numLayers, hasLegends, map, mapIndex) {\n",
       "    return layers.map((layer, layerIndex) => {\n",
       "      return initMapLayer(layer, layerIndex, numLayers, hasLegends, map, mapIndex);\n",
       "    });\n",
       "  }\n",
       "\n",
       "  function setInteractiveLayers(map, layers, mapLayers) {\n",
       "    const { interactiveLayers, interactiveMapLayers } = getInteractiveLayers(layers, mapLayers);\n",
       "\n",
       "    if (interactiveLayers && interactiveLayers.length > 0) {\n",
       "      setInteractivity(map, interactiveLayers, interactiveMapLayers);\n",
       "    }\n",
       "  }\n",
       "\n",
       "  function createLegend$1(isDefaultLegend, mapLayers) {\n",
       "    if (isDefaultLegend) {\n",
       "      createDefaultLegend(mapLayers);\n",
       "    }\n",
       "  }\n",
       "\n",
       "  function createMap(container, basemapStyle, bounds, accessToken) {\n",
       "    const map = createMapboxGLMap(container, basemapStyle, accessToken);\n",
       "\n",
       "    map.addControl(attributionControl);\n",
       "    map.fitBounds(bounds, FIT_BOUNDS_SETTINGS);\n",
       "\n",
       "    return map;\n",
       "  }\n",
       "\n",
       "  function createMapboxGLMap(container, style, accessToken) {\n",
       "    if (accessToken) {\n",
       "      mapboxgl.accessToken = accessToken;\n",
       "    }\n",
       "\n",
       "    return new mapboxgl.Map({\n",
       "      container,\n",
       "      style,\n",
       "      zoom: 9,\n",
       "      dragRotate: false,\n",
       "      attributionControl: false\n",
       "    });\n",
       "  }\n",
       "\n",
       "  function init(settings) {\n",
       "    setReady(settings);\n",
       "  }\n",
       "\n",
       "  return init;\n",
       "\n",
       "}());\n",
       "</script>\n",
       "<script>\n",
       "  document\n",
       "  .querySelector('as-responsive-content')\n",
       "  .addEventListener('ready', () => {\n",
       "    const basecolor = '';\n",
       "    const basemap = 'Positron';\n",
       "    const bounds = [[-122.356766, 47.5775032], [-122.296074, 47.6243057]];\n",
       "    const camera = null;\n",
       "    const default_legend = 'False' === 'true';\n",
       "    const has_legends = 'False' === 'true';\n",
       "    const is_static = 'None' === 'true';\n",
       "    const layers = [{&quot;credentials&quot;: null, &quot;data&quot;: &quot;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&quot;, &quot;has_legend_list&quot;: false, &quot;interactivity&quot;: [{&quot;attrs&quot;: [{&quot;name&quot;: &quot;v753a00&quot;, &quot;title&quot;: &quot;shape_pt_sequence&quot;}], &quot;event&quot;: &quot;click&quot;}], &quot;legend&quot;: {}, &quot;type&quot;: &quot;GeoJSON&quot;, &quot;viz&quot;: &quot;@v753a00: $shape_pt_sequence\\nwidth: ramp(linear(zoom(),0,18),[2,10])\\nstrokeWidth: ramp(linear(zoom(),0,18),[0,1])\\nstrokeColor: opacity(#222,ramp(linear(zoom(),0,18),[0,0.6]))\\nopacity: 1\\ncolor: black&quot;, &quot;widgets&quot;: []}, {&quot;credentials&quot;: null, &quot;data&quot;: &quot;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&quot;, &quot;has_legend_list&quot;: false, &quot;interactivity&quot;: [{&quot;attrs&quot;: [{&quot;name&quot;: &quot;v753a00&quot;, &quot;title&quot;: &quot;shape_pt_sequence&quot;}], &quot;event&quot;: &quot;hover&quot;}], &quot;legend&quot;: {}, &quot;type&quot;: &quot;GeoJSON&quot;, &quot;viz&quot;: &quot;@v753a00: $shape_pt_sequence\\nwidth: ramp(linear(zoom(),0,18),[2,10])\\nstrokeWidth: ramp(linear(zoom(),0,18),[0,1])\\nstrokeColor: opacity(#222,ramp(linear(zoom(),0,18),[0,0.6]))\\nopacity: 1\\ncolor: blue&quot;, &quot;widgets&quot;: []}, {&quot;credentials&quot;: null, &quot;data&quot;: &quot;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&quot;, &quot;has_legend_list&quot;: false, &quot;interactivity&quot;: [{&quot;attrs&quot;: [{&quot;name&quot;: &quot;vc7957f&quot;, &quot;title&quot;: &quot;shape_dist_traveled_to_closest_pt&quot;}], &quot;event&quot;: &quot;hover&quot;}], &quot;legend&quot;: {}, &quot;type&quot;: &quot;GeoJSON&quot;, &quot;viz&quot;: &quot;@vc7957f: $shape_dist_traveled_to_closest_pt\\nwidth: ramp(linear(zoom(),0,18),[2,10])\\nstrokeWidth: ramp(linear(zoom(),0,18),[0,1])\\nstrokeColor: opacity(#222,ramp(linear(zoom(),0,18),[0,0.6]))\\nopacity: 1\\ncolor: red&quot;, &quot;widgets&quot;: []}];\n",
       "    const mapboxtoken = '';\n",
       "    const show_info = 'None' === 'true';\n",
       "\n",
       "    init({\n",
       "      basecolor,\n",
       "      basemap,\n",
       "      bounds,\n",
       "      camera,\n",
       "      default_legend,\n",
       "      has_legends,\n",
       "      is_static,\n",
       "      layers,\n",
       "      mapboxtoken,\n",
       "      show_info\n",
       "    });\n",
       "});\n",
       "</script>\n",
       "</html>\n",
       "\">\n",
       "\n",
       "</iframe>"
      ],
      "text/plain": [
       "<cartoframes.viz.map.Map at 0x7f8d6d3297f0>"
      ]
     },
     "metadata": {},
     "output_type": "display_data"
    }
   ],
   "source": [
    "far_vehicles = position_w_node_schedule[position_w_node_schedule['distance_btw_veh_and_shape']>veh_dist_to_shape_std_dev]\n",
    "\n",
    "###############################################\n",
    "## closest points ############################\n",
    "###############################################\n",
    "\n",
    "closest_pt_df = far_vehicles[['time_pct','closest_pt_coords',\n",
    "                                  'shape_dist_traveled_to_closest_pt',\n",
    "                                  'actual_time_from_scheduled_start']].copy()\n",
    "closest_pt_df['geometry'] = closest_pt_df['closest_pt_coords'].apply(lambda x: Point(x))\n",
    "closest_pt_df['time_pct_str'] = closest_pt_df['time_pct'].apply(lambda x: x.strftime(\"%H:%M:%S\"))\n",
    "closest_pt_df.drop(['time_pct','closest_pt_coords'], axis=1, inplace=True)\n",
    "closest_pt_geo = gpd.GeoDataFrame(closest_pt_df, crs={'init':'4326'},geometry='geometry')\n",
    "\n",
    "###############################################\n",
    "## vehicle points ############################\n",
    "###############################################\n",
    "\n",
    "vehicle_pt_df = far_vehicles[['time_pct','vehicle_lat','vehicle_long','shape_dist_traveled',\n",
    "                                      'shape_pt_sequence','distance_btw_veh_and_shape',\n",
    "                                      'actual_time_from_scheduled_start']].copy()\n",
    "vehicle_pt_df['time_pct_str'] = vehicle_pt_df['time_pct'].apply(lambda x: x.strftime(\"%H:%M:%S\"))\n",
    "vehicle_pt_df.drop(['time_pct'], axis=1, inplace=True)\n",
    "vehicle_pt_df['geometry'] = vehicle_pt_df.apply(lambda x: Point(x.vehicle_long, x.vehicle_lat), axis=1)\n",
    "vehicle_pt_geo = gpd.GeoDataFrame(vehicle_pt_df, crs={'init':'4326'},geometry='geometry')\n",
    "\n",
    "###############################################\n",
    "## route vertex points ####### route_vertex_geo\n",
    "###############################################\n",
    "\n",
    "display(Map(\n",
    "\n",
    "    [Layer(route_vertex_geo,\n",
    "          'color: black',\n",
    "           popup=Popup({\n",
    "        'click': {\n",
    "            'title': 'shape_pt_sequence',\n",
    "            'value': '$shape_pt_sequence'\n",
    "        }\n",
    "    })\n",
    "         ),\n",
    "     Layer(vehicle_pt_geo,\n",
    "           'color: blue',\n",
    "           popup=Popup({\n",
    "        'hover': {\n",
    "            'title': 'shape_pt_sequence',\n",
    "            'value': '$shape_pt_sequence'\n",
    "        }\n",
    "    })\n",
    "         ),\n",
    "     Layer(closest_pt_geo,\n",
    "           'color: red',\n",
    "           popup=Popup({\n",
    "        'hover': {\n",
    "            'title': 'shape_dist_traveled_to_closest_pt',\n",
    "            'value': '$shape_dist_traveled_to_closest_pt'\n",
    "        }\n",
    "    })\n",
    "         )\n",
    "\n",
    "    ]\n",
    "))"
   ]
  },
  {
   "cell_type": "code",
   "execution_count": null,
   "metadata": {},
   "outputs": [],
   "source": []
  },
  {
   "cell_type": "code",
   "execution_count": 53,
   "metadata": {
    "ExecuteTime": {
     "end_time": "2019-12-05T15:47:52.164241Z",
     "start_time": "2019-12-05T15:47:51.223579Z"
    }
   },
   "outputs": [
    {
     "data": {
      "text/plain": [
       "<matplotlib.legend.Legend at 0x7f8d342844a8>"
      ]
     },
     "execution_count": 53,
     "metadata": {},
     "output_type": "execute_result"
    },
    {
     "data": {
      "image/png": "[encoded data removed]",
      "text/plain": [
       "<Figure size 360x3600 with 1 Axes>"
      ]
     },
     "metadata": {
      "needs_background": "light"
     },
     "output_type": "display_data"
    }
   ],
   "source": [
    "fig, ax = plt.subplots(figsize=(5,50))\n",
    "shape_pt_sequence_of_interest = 117\n",
    "close_pt = position_w_node_schedule[(position_w_node_schedule['distance_btw_veh_and_shape']>veh_dist_to_shape_std_dev)&\n",
    "                        (position_w_node_schedule['shape_pt_sequence']==shape_pt_sequence_of_interest)][['time_pct','closest_pt_coords','shape_pt_sequence',\n",
    "                                  'shape_dist_traveled_to_closest_pt','vehicle_lat','vehicle_long',\n",
    "                                  'actual_time_from_scheduled_start']].iloc[0]\n",
    "close_pt_geometry = Point(close_pt['closest_pt_coords'])\n",
    "vehicle_pt = np.array([close_pt['vehicle_long'], close_pt['vehicle_lat']])\n",
    "vehicle_pt_shp = Point(vehicle_pt)\n",
    "vehicle_gpd = gpd.GeoDataFrame([{'name':'vehicle_pt'}], crs={'init':'4326'},geometry=[vehicle_pt_shp])\n",
    "close_pt_geo = gpd.GeoDataFrame([{'name':'close_pt'}], crs={'init':'4326'}, geometry=[close_pt_geometry])\n",
    "shape_pt_data = f2.get_shape_point_data(full_shapes_gtfs, \n",
    "                                        shape_of_interest_id, \n",
    "                                        close_pt['shape_pt_sequence'])\n",
    "adjacent_pt_data = f2.get_adjacent_shape_point_data(full_shapes_gtfs, shape_pt_data.index[0])\n",
    "adjacent_list = adjacent_pt_data['shape_pt_sequence'].tolist()\n",
    "adjacent_list.append(shape_pt_sequence_of_interest)\n",
    "route_pts = route_vertex_geo[route_vertex_geo['shape_pt_sequence'].isin(adjacent_list)]\n",
    "x_max = max(close_pt_geo.geometry.x.max(axis=0), route_pts.geometry.x.max(axis=0))+1e-4\n",
    "x_min = min(close_pt_geo.geometry.x.min(axis=0), route_pts.geometry.x.min(axis=0))-1e-4\n",
    "y_max = max(close_pt_geo.geometry.y.max(axis=0), route_pts.geometry.y.max(axis=0))+1e-8\n",
    "y_min = min(close_pt_geo.geometry.y.min(axis=0), route_pts.geometry.y.min(axis=0))-1e-8\n",
    "close_pt_geo.plot(ax=ax, color='blue', label='closest_pt')\n",
    "route_pts.plot(ax=ax, color='black', label='route_pts')\n",
    "vehicle_gpd.plot(ax=ax, color='red', label='vehicle_pt')\n",
    "ax.set_xlim(x_min, x_max)\n",
    "ax.legend()"
   ]
  },
  {
   "cell_type": "code",
   "execution_count": 59,
   "metadata": {},
   "outputs": [
    {
     "data": {
      "text/html": [
       "<div>\n",
       "<style scoped>\n",
       "    .dataframe tbody tr th:only-of-type {\n",
       "        vertical-align: middle;\n",
       "    }\n",
       "\n",
       "    .dataframe tbody tr th {\n",
       "        vertical-align: top;\n",
       "    }\n",
       "\n",
       "    .dataframe thead th {\n",
       "        text-align: right;\n",
       "    }\n",
       "</style>\n",
       "<table border=\"1\" class=\"dataframe\">\n",
       "  <thead>\n",
       "    <tr style=\"text-align: right;\">\n",
       "      <th></th>\n",
       "      <th>shape_id</th>\n",
       "      <th>shape_pt_lat</th>\n",
       "      <th>shape_pt_lon</th>\n",
       "      <th>shape_pt_sequence</th>\n",
       "      <th>shape_dist_traveled</th>\n",
       "      <th>start_gtfs_date</th>\n",
       "      <th>end_gtfs_date</th>\n",
       "    </tr>\n",
       "  </thead>\n",
       "  <tbody>\n",
       "    <tr>\n",
       "      <th>272985</th>\n",
       "      <td>40008003</td>\n",
       "      <td>47.621143</td>\n",
       "      <td>-122.299637</td>\n",
       "      <td>117</td>\n",
       "      <td>16741.6</td>\n",
       "      <td>2019-04-20</td>\n",
       "      <td>2019-05-09</td>\n",
       "    </tr>\n",
       "  </tbody>\n",
       "</table>\n",
       "</div>"
      ],
      "text/plain": [
       "        shape_id  shape_pt_lat  shape_pt_lon  shape_pt_sequence  \\\n",
       "272985  40008003     47.621143   -122.299637                117   \n",
       "\n",
       "        shape_dist_traveled start_gtfs_date end_gtfs_date  \n",
       "272985              16741.6      2019-04-20    2019-05-09  "
      ]
     },
     "execution_count": 59,
     "metadata": {},
     "output_type": "execute_result"
    }
   ],
   "source": [
    "shape_pt_data"
   ]
  },
  {
   "cell_type": "code",
   "execution_count": 58,
   "metadata": {},
   "outputs": [
    {
     "data": {
      "text/html": [
       "<div>\n",
       "<style scoped>\n",
       "    .dataframe tbody tr th:only-of-type {\n",
       "        vertical-align: middle;\n",
       "    }\n",
       "\n",
       "    .dataframe tbody tr th {\n",
       "        vertical-align: top;\n",
       "    }\n",
       "\n",
       "    .dataframe thead th {\n",
       "        text-align: right;\n",
       "    }\n",
       "</style>\n",
       "<table border=\"1\" class=\"dataframe\">\n",
       "  <thead>\n",
       "    <tr style=\"text-align: right;\">\n",
       "      <th></th>\n",
       "      <th>shape_id</th>\n",
       "      <th>shape_pt_lat</th>\n",
       "      <th>shape_pt_lon</th>\n",
       "      <th>shape_pt_sequence</th>\n",
       "      <th>shape_dist_traveled</th>\n",
       "      <th>start_gtfs_date</th>\n",
       "      <th>end_gtfs_date</th>\n",
       "    </tr>\n",
       "  </thead>\n",
       "  <tbody>\n",
       "    <tr>\n",
       "      <th>272984</th>\n",
       "      <td>40008003</td>\n",
       "      <td>47.620979</td>\n",
       "      <td>-122.299873</td>\n",
       "      <td>116</td>\n",
       "      <td>16656.7</td>\n",
       "      <td>2019-04-20</td>\n",
       "      <td>2019-05-09</td>\n",
       "    </tr>\n",
       "    <tr>\n",
       "      <th>272986</th>\n",
       "      <td>40008003</td>\n",
       "      <td>47.621365</td>\n",
       "      <td>-122.299309</td>\n",
       "      <td>118</td>\n",
       "      <td>16853.8</td>\n",
       "      <td>2019-04-20</td>\n",
       "      <td>2019-05-09</td>\n",
       "    </tr>\n",
       "  </tbody>\n",
       "</table>\n",
       "</div>"
      ],
      "text/plain": [
       "        shape_id  shape_pt_lat  shape_pt_lon  shape_pt_sequence  \\\n",
       "272984  40008003     47.620979   -122.299873                116   \n",
       "272986  40008003     47.621365   -122.299309                118   \n",
       "\n",
       "        shape_dist_traveled start_gtfs_date end_gtfs_date  \n",
       "272984              16656.7      2019-04-20    2019-05-09  \n",
       "272986              16853.8      2019-04-20    2019-05-09  "
      ]
     },
     "execution_count": 58,
     "metadata": {},
     "output_type": "execute_result"
    }
   ],
   "source": [
    "adjacent_pt_data"
   ]
  },
  {
   "cell_type": "code",
   "execution_count": 55,
   "metadata": {},
   "outputs": [
    {
     "data": {
      "text/plain": [
       "0    POINT (-122.29970 47.62117)\n",
       "Name: geometry, dtype: geometry"
      ]
     },
     "execution_count": 55,
     "metadata": {},
     "output_type": "execute_result"
    }
   ],
   "source": [
    "close_pt_geo.geometry"
   ]
  },
  {
   "cell_type": "code",
   "execution_count": 56,
   "metadata": {},
   "outputs": [
    {
     "data": {
      "text/plain": [
       "272984    POINT (-122.29987 47.62098)\n",
       "272985    POINT (-122.29964 47.62114)\n",
       "272986    POINT (-122.29931 47.62136)\n",
       "Name: geometry, dtype: geometry"
      ]
     },
     "execution_count": 56,
     "metadata": {},
     "output_type": "execute_result"
    }
   ],
   "source": [
    "route_pts.geometry"
   ]
  },
  {
   "cell_type": "code",
   "execution_count": 57,
   "metadata": {},
   "outputs": [
    {
     "data": {
      "text/plain": [
       "0    POINT (-122.29970 47.62110)\n",
       "Name: geometry, dtype: geometry"
      ]
     },
     "execution_count": 57,
     "metadata": {},
     "output_type": "execute_result"
    }
   ],
   "source": [
    "vehicle_gpd.geometry"
   ]
  },
  {
   "cell_type": "code",
   "execution_count": 178,
   "metadata": {
    "ExecuteTime": {
     "end_time": "2019-12-05T15:48:15.788140Z",
     "start_time": "2019-12-05T15:48:15.481980Z"
    }
   },
   "outputs": [
    {
     "data": {
      "text/html": [
       "<div>\n",
       "<style scoped>\n",
       "    .dataframe tbody tr th:only-of-type {\n",
       "        vertical-align: middle;\n",
       "    }\n",
       "\n",
       "    .dataframe tbody tr th {\n",
       "        vertical-align: top;\n",
       "    }\n",
       "\n",
       "    .dataframe thead th {\n",
       "        text-align: right;\n",
       "    }\n",
       "</style>\n",
       "<table border=\"1\" class=\"dataframe\">\n",
       "  <thead>\n",
       "    <tr style=\"text-align: right;\">\n",
       "      <th></th>\n",
       "      <th>shape_id</th>\n",
       "      <th>shape_pt_lat</th>\n",
       "      <th>shape_pt_lon</th>\n",
       "      <th>shape_pt_sequence</th>\n",
       "      <th>shape_dist_traveled</th>\n",
       "      <th>start_gtfs_date</th>\n",
       "      <th>end_gtfs_date</th>\n",
       "    </tr>\n",
       "  </thead>\n",
       "  <tbody>\n",
       "    <tr>\n",
       "      <td>272984</td>\n",
       "      <td>40008003</td>\n",
       "      <td>47.620979</td>\n",
       "      <td>-122.299873</td>\n",
       "      <td>116</td>\n",
       "      <td>16656.7</td>\n",
       "      <td>2019-04-20</td>\n",
       "      <td>2019-05-09</td>\n",
       "    </tr>\n",
       "    <tr>\n",
       "      <td>272986</td>\n",
       "      <td>40008003</td>\n",
       "      <td>47.621365</td>\n",
       "      <td>-122.299309</td>\n",
       "      <td>118</td>\n",
       "      <td>16853.8</td>\n",
       "      <td>2019-04-20</td>\n",
       "      <td>2019-05-09</td>\n",
       "    </tr>\n",
       "  </tbody>\n",
       "</table>\n",
       "</div>"
      ],
      "text/plain": [
       "        shape_id  shape_pt_lat  shape_pt_lon  shape_pt_sequence  \\\n",
       "272984  40008003     47.620979   -122.299873                116   \n",
       "272986  40008003     47.621365   -122.299309                118   \n",
       "\n",
       "        shape_dist_traveled start_gtfs_date end_gtfs_date  \n",
       "272984              16656.7      2019-04-20    2019-05-09  \n",
       "272986              16853.8      2019-04-20    2019-05-09  "
      ]
     },
     "execution_count": 178,
     "metadata": {},
     "output_type": "execute_result"
    }
   ],
   "source": [
    "shape_pt_data = f2.get_shape_point_data(full_shapes_gtfs, \n",
    "                                        shape_of_interest_id, \n",
    "                                        close_pt['shape_pt_sequence'])\n",
    "adjacent_shape_pt_data = f2.get_adjacent_shape_point_data(full_shapes_gtfs, shape_pt_data.index[0])\n",
    "adjacent_shape_pt_data"
   ]
  },
  {
   "cell_type": "code",
   "execution_count": 179,
   "metadata": {
    "ExecuteTime": {
     "end_time": "2019-12-05T15:48:16.106002Z",
     "start_time": "2019-12-05T15:48:15.792734Z"
    }
   },
   "outputs": [],
   "source": [
    "vehicle_pt = np.array([close_pt['vehicle_long'], close_pt['vehicle_lat']])\n",
    "closest_shape_pt = shape_pt_data[['shape_pt_lon', 'shape_pt_lat']].values\n",
    "adjacent_pts = adjacent_shape_pt_data[['shape_pt_lon', 'shape_pt_lat']].values"
   ]
  },
  {
   "cell_type": "code",
   "execution_count": 180,
   "metadata": {
    "ExecuteTime": {
     "end_time": "2019-12-05T15:48:16.440854Z",
     "start_time": "2019-12-05T15:48:16.167993Z"
    }
   },
   "outputs": [],
   "source": [
    "closest_pt, dist_ratio = f2.get_projection_and_dist_ratio(vehicle_pt, closest_shape_pt, adjacent_pts)"
   ]
  },
  {
   "cell_type": "code",
   "execution_count": 156,
   "metadata": {
    "ExecuteTime": {
     "end_time": "2019-12-05T15:37:06.252728Z",
     "start_time": "2019-12-05T15:37:05.961538Z"
    }
   },
   "outputs": [],
   "source": [
    "dist_squared = np.sum((vehicle_pt - closest_pt)**2, axis=1)"
   ]
  },
  {
   "cell_type": "code",
   "execution_count": 158,
   "metadata": {
    "ExecuteTime": {
     "end_time": "2019-12-05T15:37:37.972441Z",
     "start_time": "2019-12-05T15:37:37.640639Z"
    }
   },
   "outputs": [
    {
     "data": {
      "text/plain": [
       "array([[-122.31271356,   47.62027178],\n",
       "       [-122.31273384,   47.6204948 ]])"
      ]
     },
     "execution_count": 158,
     "metadata": {},
     "output_type": "execute_result"
    }
   ],
   "source": [
    "closest_pt"
   ]
  },
  {
   "cell_type": "code",
   "execution_count": 157,
   "metadata": {
    "ExecuteTime": {
     "end_time": "2019-12-05T15:37:21.029183Z",
     "start_time": "2019-12-05T15:37:20.690116Z"
    }
   },
   "outputs": [
    {
     "data": {
      "text/plain": [
       "array([1.32867326e-07, 9.15700020e-08])"
      ]
     },
     "execution_count": 157,
     "metadata": {},
     "output_type": "execute_result"
    }
   ],
   "source": [
    "dist_squared"
   ]
  },
  {
   "cell_type": "code",
   "execution_count": 159,
   "metadata": {
    "ExecuteTime": {
     "end_time": "2019-12-05T15:38:10.465290Z",
     "start_time": "2019-12-05T15:38:10.099368Z"
    }
   },
   "outputs": [],
   "source": [
    "min_index = np.argmin(dist_squared)"
   ]
  },
  {
   "cell_type": "code",
   "execution_count": 160,
   "metadata": {
    "ExecuteTime": {
     "end_time": "2019-12-05T15:38:14.478699Z",
     "start_time": "2019-12-05T15:38:14.156018Z"
    }
   },
   "outputs": [],
   "source": [
    "closest_pt = closest_pt[min_index]\n",
    "dist_ratio = dist_ratio.reshape(-1)[min_index]"
   ]
  },
  {
   "cell_type": "code",
   "execution_count": 161,
   "metadata": {
    "ExecuteTime": {
     "end_time": "2019-12-05T15:38:27.028312Z",
     "start_time": "2019-12-05T15:38:26.633943Z"
    }
   },
   "outputs": [],
   "source": [
    "closest_shape_dist = shape_pt_data.iloc[0].shape_dist_traveled\n",
    "next_shape_dist = adjacent_shape_pt_data.iloc[min_index].shape_dist_traveled"
   ]
  },
  {
   "cell_type": "code",
   "execution_count": 162,
   "metadata": {
    "ExecuteTime": {
     "end_time": "2019-12-05T15:38:37.452141Z",
     "start_time": "2019-12-05T15:38:37.147341Z"
    }
   },
   "outputs": [],
   "source": [
    "shape_dist_traveled = closest_shape_dist + dist_ratio * (next_shape_dist - closest_shape_dist)"
   ]
  },
  {
   "cell_type": "code",
   "execution_count": 182,
   "metadata": {
    "ExecuteTime": {
     "end_time": "2019-12-05T15:49:44.567922Z",
     "start_time": "2019-12-05T15:49:43.341377Z"
    }
   },
   "outputs": [
    {
     "data": {
      "text/plain": [
       "(-122.29997300000001, -122.29920899999999)"
      ]
     },
     "execution_count": 182,
     "metadata": {},
     "output_type": "execute_result"
    },
    {
     "data": {
      "image/png": "[encoded data removed]",
      "text/plain": [
       "<Figure size 360x3600 with 1 Axes>"
      ]
     },
     "metadata": {
      "needs_background": "light"
     },
     "output_type": "display_data"
    }
   ],
   "source": [
    "fig, ax = plt.subplots(figsize=(5,50))\n",
    "close_pt = position_w_node_schedule[(position_w_node_schedule['distance_btw_veh_and_shape']>veh_dist_to_shape_std_dev)&\n",
    "                        (position_w_node_schedule['shape_pt_sequence']==shape_pt_sequence_of_interest)][['time_pct','closest_pt_coords','shape_pt_sequence',\n",
    "                                  'shape_dist_traveled_to_closest_pt','vehicle_lat','vehicle_long',\n",
    "                                  'actual_time_from_scheduled_start']].iloc[0]\n",
    "close_pt_1_geometry = Point(closest_pt[0])\n",
    "close_pt_2_geometry = Point(closest_pt[1])\n",
    "vehicle_pt = np.array([close_pt['vehicle_long'], close_pt['vehicle_lat']])\n",
    "vehicle_pt_shp = Point(vehicle_pt)\n",
    "vehicle_gpd = gpd.GeoDataFrame([{'name':'vehicle_pt'}], crs={'init':'4326'},geometry=[vehicle_pt_shp])\n",
    "close_pt_1_geo = gpd.GeoDataFrame([{'name':'close_pt_1'}], crs={'init':'4326'}, geometry=[close_pt_1_geometry])\n",
    "close_pt_2_geo = gpd.GeoDataFrame([{'name':'close_pt_2'}], crs={'init':'4326'}, geometry=[close_pt_2_geometry])\n",
    "shape_pt_data = f2.get_shape_point_data(full_shapes_gtfs, \n",
    "                                        shape_of_interest_id, \n",
    "                                        close_pt['shape_pt_sequence'])\n",
    "adjacent_pt_data = f2.get_adjacent_shape_point_data(full_shapes_gtfs, shape_pt_data.index[0])\n",
    "adjacent_list = adjacent_pt_data['shape_pt_sequence'].tolist()\n",
    "adjacent_list.append(shape_pt_sequence_of_interest)\n",
    "route_pts = route_vertex_geo[route_vertex_geo['shape_pt_sequence'].isin(adjacent_list)]\n",
    "x_max = max(close_pt_geo.geometry.x.max(axis=0), route_pts.geometry.x.max(axis=0))+1e-4\n",
    "x_min = min(close_pt_geo.geometry.x.min(axis=0), route_pts.geometry.x.min(axis=0))-1e-4\n",
    "y_max = max(close_pt_geo.geometry.y.max(axis=0), route_pts.geometry.y.max(axis=0))+1e-6\n",
    "y_min = min(close_pt_geo.geometry.y.min(axis=0), route_pts.geometry.y.min(axis=0))-1e-6\n",
    "close_pt_1_geo.plot(ax=ax, color='blue')\n",
    "close_pt_2_geo.plot(ax=ax, color='blue')\n",
    "route_pts.plot(ax=ax, color='black')\n",
    "vehicle_gpd.plot(ax=ax, color='red')\n",
    "ax.set_xlim(x_min, x_max)"
   ]
  },
  {
   "cell_type": "markdown",
   "metadata": {},
   "source": [
    "# let's remove anything associated with the first or last point on the route vertex & veh_to_shape_dist > standard dev"
   ]
  },
  {
   "cell_type": "code",
   "execution_count": 61,
   "metadata": {
    "ExecuteTime": {
     "end_time": "2019-12-05T14:37:10.155407Z",
     "start_time": "2019-12-05T14:37:09.187928Z"
    }
   },
   "outputs": [
    {
     "data": {
      "image/png": "[encoded data removed]",
      "text/plain": [
       "<Figure size 720x432 with 1 Axes>"
      ]
     },
     "metadata": {
      "needs_background": "light"
     },
     "output_type": "display_data"
    }
   ],
   "source": [
    "filtered_position_w_node_schedule = position_w_node_schedule[\n",
    "    (position_w_node_schedule['shape_pt_sequence']!=position_w_node_schedule['shape_pt_sequence'].min())\n",
    "    &\n",
    "    (position_w_node_schedule['shape_pt_sequence']!=position_w_node_schedule['shape_pt_sequence'].max())\n",
    "    &\n",
    "    (position_w_node_schedule['distance_btw_veh_and_shape']<veh_dist_to_shape_std_dev)\n",
    "]\n",
    "\n",
    "fig, ax = plt.subplots(figsize=(10,6))\n",
    "_ = ax.hist(filtered_position_w_node_schedule['diff_shape_distance_traveled'].values, bins=20)"
   ]
  },
  {
   "cell_type": "markdown",
   "metadata": {},
   "source": [
    "# MAP IT -- compare `shape_dist_traveled_to_closest_pt` vs. `shape_dist_traveled` of the \"nearest route point\" on graph with x-axis = actual time from scheduled start"
   ]
  },
  {
   "cell_type": "code",
   "execution_count": 63,
   "metadata": {
    "ExecuteTime": {
     "end_time": "2019-12-05T14:38:16.358477Z",
     "start_time": "2019-12-05T14:38:15.590489Z"
    }
   },
   "outputs": [
    {
     "data": {
      "application/vnd.jupyter.widget-view+json": {
       "model_id": "0f5eee00fa6a4f9d8fc255d8da54d31c",
       "version_major": 2,
       "version_minor": 0
      },
      "text/plain": [
       "interactive(children=(Dropdown(description='x', options=('2019_4_30_43237080_8030', '2019_4_30_43237021_8035',…"
      ]
     },
     "metadata": {},
     "output_type": "display_data"
    }
   ],
   "source": [
    "@interact\n",
    "def show_one_unique_trip(x=list(position_w_node_schedule['month_day_trip_veh'].unique())):\n",
    "    \n",
    "    onetrip_df = position_w_node_schedule[\n",
    "                                        position_w_node_schedule['month_day_trip_veh']==x].copy()\n",
    "    \n",
    "    ###############################################\n",
    "    ## closest points ############################\n",
    "    ###############################################\n",
    "    \n",
    "    closest_pt_df = onetrip_df[['time_pct','closest_pt_coords',\n",
    "                                      'shape_dist_traveled_to_closest_pt',\n",
    "                                      'actual_time_from_scheduled_start']].copy()\n",
    "    closest_pt_df['geometry'] = closest_pt_df['closest_pt_coords'].apply(lambda x: Point(x))\n",
    "    closest_pt_df['time_pct_str'] = closest_pt_df['time_pct'].apply(lambda x: x.strftime(\"%H:%M:%S\"))\n",
    "    closest_pt_df.drop(['time_pct','closest_pt_coords'], axis=1, inplace=True)\n",
    "    closest_pt_geo = gpd.GeoDataFrame(closest_pt_df, crs={'init':'4326'},geometry='geometry')\n",
    "    \n",
    "    ###############################################\n",
    "    ## nearest vertex points ############################\n",
    "    ###############################################\n",
    "    \n",
    "    closest_pt_df = onetrip_df[['time_pct','closest_pt_coords',\n",
    "                                      'shape_dist_traveled_to_closest_pt',\n",
    "                                      'actual_time_from_scheduled_start']].copy()\n",
    "    closest_pt_df['geometry'] = closest_pt_df['closest_pt_coords'].apply(lambda x: Point(x))\n",
    "    closest_pt_df['time_pct_str'] = closest_pt_df['time_pct'].apply(lambda x: x.strftime(\"%H:%M:%S\"))\n",
    "    closest_pt_df.drop(['time_pct','closest_pt_coords'], axis=1, inplace=True)\n",
    "    closest_pt_geo = gpd.GeoDataFrame(closest_pt_df, crs={'init':'4326'},geometry='geometry')\n",
    "    \n",
    "    ###############################################\n",
    "    ## vehicle points ############################\n",
    "    ###############################################\n",
    "    \n",
    "    vehicle_pt_df = onetrip_df[['time_pct','vehicle_lat','vehicle_long',\n",
    "                                          'shape_pt_sequence','distance_btw_veh_and_shape',\n",
    "                                          'actual_time_from_scheduled_start']].copy()\n",
    "    vehicle_pt_df['time_pct_str'] = vehicle_pt_df['time_pct'].apply(lambda x: x.strftime(\"%H:%M:%S\"))\n",
    "    vehicle_pt_df.drop(['time_pct'], axis=1, inplace=True)\n",
    "    vehicle_pt_df['geometry'] = vehicle_pt_df.apply(lambda x: Point(x.vehicle_long, x.vehicle_lat), axis=1)\n",
    "    vehicle_pt_geo = gpd.GeoDataFrame(vehicle_pt_df, crs={'init':'4326'},geometry='geometry')\n",
    "    \n",
    "    ###############################################\n",
    "    ## route vertex points ####### route_vertex_geo\n",
    "    ###############################################\n",
    "    \n",
    "    display(Map(\n",
    "        \n",
    "        [Layer(route_vertex_geo,\n",
    "              'color: black',\n",
    "               popup=Popup({\n",
    "            'click': {\n",
    "                'title': 'shape_pt_sequence',\n",
    "                'value': '$shape_pt_sequence'\n",
    "            }\n",
    "        })\n",
    "             ),\n",
    "         Layer(vehicle_pt_geo,\n",
    "               'color: blue',\n",
    "               popup=Popup({\n",
    "            'hover': {\n",
    "                'title': 'time observation',\n",
    "                'value': '$time_pct_str'\n",
    "            }\n",
    "        })\n",
    "             ),\n",
    "         Layer(closest_pt_geo,\n",
    "               'color: red',\n",
    "               popup=Popup({\n",
    "            'hover': {\n",
    "                'title': 'shape_dist_traveled_to_closest_pt',\n",
    "                'value': '$shape_dist_traveled_to_closest_pt'\n",
    "            }\n",
    "        })\n",
    "             )\n",
    "         \n",
    "        ]\n",
    "    ))\n",
    "    "
   ]
  },
  {
   "cell_type": "code",
   "execution_count": null,
   "metadata": {},
   "outputs": [],
   "source": []
  }
 ],
 "metadata": {
  "kernelspec": {
   "display_name": "Python 3",
   "language": "python",
   "name": "python3"
  },
  "language_info": {
   "codemirror_mode": {
    "name": "ipython",
    "version": 3
   },
   "file_extension": ".py",
   "mimetype": "text/x-python",
   "name": "python",
   "nbconvert_exporter": "python",
   "pygments_lexer": "ipython3",
   "version": "3.7.3"
  }
 },
 "nbformat": 4,
 "nbformat_minor": 4
}
