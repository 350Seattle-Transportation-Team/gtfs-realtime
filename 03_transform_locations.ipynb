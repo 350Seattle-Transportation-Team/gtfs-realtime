{
 "cells": [
  {
   "cell_type": "markdown",
   "metadata": {},
   "source": [
    "# importing matplotlib for plotting at the bottom of this notebook"
   ]
  },
  {
   "cell_type": "code",
   "execution_count": 53,
   "metadata": {
    "ExecuteTime": {
     "end_time": "2019-06-13T05:41:22.946587Z",
     "start_time": "2019-06-13T05:41:21.705727Z"
    }
   },
   "outputs": [
    {
     "name": "stdout",
     "output_type": "stream",
     "text": [
      "The autoreload extension is already loaded. To reload it, use:\n",
      "  %reload_ext autoreload\n",
      "Wed Jun 12 22:41:22 PDT 2019\n",
      "benjaminmalnor\n"
     ]
    }
   ],
   "source": [
    "import matplotlib.pyplot as plt\n",
    "from os import listdir\n",
    "from os.path import isfile, join\n",
    "%matplotlib inline\n",
    "%load_ext autoreload\n",
    "%autoreload 2\n",
    "\n",
    "!date\n",
    "!whoami"
   ]
  },
  {
   "cell_type": "markdown",
   "metadata": {},
   "source": [
    "# load in all functions from `route_shape_process_scripts.py` file"
   ]
  },
  {
   "cell_type": "code",
   "execution_count": 54,
   "metadata": {
    "ExecuteTime": {
     "end_time": "2019-06-13T05:41:24.038112Z",
     "start_time": "2019-06-13T05:41:23.992542Z"
    }
   },
   "outputs": [],
   "source": [
    "from route_shape_process_scripts import *"
   ]
  },
  {
   "cell_type": "markdown",
   "metadata": {},
   "source": [
    "# General transformation flow in this notebook:\n",
    "- import gtfs files\n",
    "- pick a route of interest\n",
    "- grab position files for all routes\n",
    "- filter positions for only that route\n",
    "- add time index (this is used to break up positions by datetime and join with gtfs)\n",
    "- get popular shape in both route directions (direction_id)\n",
    "- make a route_vertex geopandas dataframe - we'll use this to find \"nearest\" route node\n",
    "- take all positions and find closest route node\n",
    "- append route info (distance traveled / shape_pt_sequence)\n",
    "- create timing metrics based on `trip_start_time` and `time_pct` <- position observation time - converted to Pacific"
   ]
  },
  {
   "cell_type": "markdown",
   "metadata": {},
   "source": [
    "# import gtfs from 01_gtfs_transform notebook output"
   ]
  },
  {
   "cell_type": "code",
   "execution_count": 55,
   "metadata": {
    "ExecuteTime": {
     "end_time": "2019-06-13T05:41:26.008893Z",
     "start_time": "2019-06-13T05:41:25.957932Z"
    }
   },
   "outputs": [],
   "source": [
    "#if you ran notebook 01_gtfs this path should be correct\n",
    "gtfs_merge_file_path = \"../data/gtfs_merge/\"\n",
    "agg_filename = [f for f in listdir(gtfs_merge_file_path) if isfile(join(gtfs_merge_file_path, f)) \n",
    "                and 'agg' in f][0]\n",
    "routes_filename = [f for f in listdir(gtfs_merge_file_path) if isfile(join(gtfs_merge_file_path, f)) \n",
    "                and 'routes' in f][0]\n",
    "shapes_filename = [f for f in listdir(gtfs_merge_file_path) if isfile(join(gtfs_merge_file_path, f)) \n",
    "                and 'shapes' in f][0]\n",
    "trips_filename = [f for f in listdir(gtfs_merge_file_path) if isfile(join(gtfs_merge_file_path, f)) \n",
    "                and 'trips' in f][0]"
   ]
  },
  {
   "cell_type": "code",
   "execution_count": 41,
   "metadata": {
    "ExecuteTime": {
     "end_time": "2019-06-13T05:31:19.905514Z",
     "start_time": "2019-06-13T05:30:00.840679Z"
    }
   },
   "outputs": [],
   "source": [
    "full_routes_gtfs = pd.read_csv(f\"{gtfs_merge_file_path}{routes_filename}\", low_memory=False)\n",
    "full_shapes_gtfs = pd.read_csv(f\"{gtfs_merge_file_path}{shapes_filename}\", low_memory=False)\n",
    "full_trips_gtfs = pd.read_csv(f\"{gtfs_merge_file_path}{trips_filename}\", low_memory=False)\n",
    "full_trip_stop_schedule = pd.read_csv(f\"{gtfs_merge_file_path}{agg_filename}\", low_memory=False)"
   ]
  },
  {
   "cell_type": "code",
   "execution_count": 42,
   "metadata": {
    "ExecuteTime": {
     "end_time": "2019-06-13T05:31:34.394979Z",
     "start_time": "2019-06-13T05:31:23.714907Z"
    }
   },
   "outputs": [],
   "source": [
    "tripid_w_starttime = full_trip_stop_schedule.groupby('trip_id')\\\n",
    "                        .agg({'trip_start_time':'min'})\\\n",
    "                        .reset_index()"
   ]
  },
  {
   "cell_type": "markdown",
   "metadata": {},
   "source": [
    "# break up the gtfs by `start date` and `end date`. TODO: there is a better way to do this. Right now, we want to make sure the vehicle position observation is joined with the `right` gtfs information. The simplest way to do that is to break up the position file by date and break up the gtfs by date and only join where the date windows match. "
   ]
  },
  {
   "cell_type": "code",
   "execution_count": 43,
   "metadata": {
    "ExecuteTime": {
     "end_time": "2019-06-13T05:32:33.157266Z",
     "start_time": "2019-06-13T05:32:27.039546Z"
    }
   },
   "outputs": [],
   "source": [
    "full_trip_stop_schedule_dict = {}\n",
    "for name, group in full_trip_stop_schedule.groupby(['start_gtfs_date','end_gtfs_date']):\n",
    "    full_trip_stop_schedule_dict[name] = group"
   ]
  },
  {
   "cell_type": "markdown",
   "metadata": {},
   "source": [
    "# analyze September --> November"
   ]
  },
  {
   "cell_type": "markdown",
   "metadata": {},
   "source": [
    "## get route name -- id dictionary. Nathaniel has a better class for this in `/data_transformations` but I haven't incorporated it yet. the below dictionary works as a quick/dirty way to input `route_short_name` and output `route_id`"
   ]
  },
  {
   "cell_type": "code",
   "execution_count": 12,
   "metadata": {
    "ExecuteTime": {
     "end_time": "2019-06-13T04:49:19.045457Z",
     "start_time": "2019-06-13T04:49:19.008668Z"
    }
   },
   "outputs": [],
   "source": [
    "route_name_to_id_dict = dict(zip(full_routes_gtfs.route_short_name.tolist(),full_routes_gtfs.route_id.tolist()))"
   ]
  },
  {
   "cell_type": "markdown",
   "metadata": {},
   "source": [
    "## select a route"
   ]
  },
  {
   "cell_type": "code",
   "execution_count": 30,
   "metadata": {
    "ExecuteTime": {
     "end_time": "2019-06-13T05:09:27.108310Z",
     "start_time": "2019-06-13T05:09:27.071179Z"
    }
   },
   "outputs": [
    {
     "data": {
      "text/plain": [
       "100001"
      ]
     },
     "execution_count": 30,
     "metadata": {},
     "output_type": "execute_result"
    }
   ],
   "source": [
    "#get_select_routeid_name(full_routes_gtfs, ['E Line'])[2]\n",
    "route_of_interest = '1'\n",
    "route_of_interest_id = route_name_to_id_dict[route_of_interest]\n",
    "route_of_interest_id"
   ]
  },
  {
   "cell_type": "markdown",
   "metadata": {},
   "source": [
    "# get all position files for these months"
   ]
  },
  {
   "cell_type": "code",
   "execution_count": 22,
   "metadata": {
    "ExecuteTime": {
     "end_time": "2019-06-13T05:00:44.110550Z",
     "start_time": "2019-06-13T05:00:24.701175Z"
    }
   },
   "outputs": [],
   "source": [
    "position_file_location = \"../data/intermed/\"\n",
    "month_list = ['201809', '201810', '201811']\n",
    "full_route_positions = get_positions_months(month_list, position_file_location)"
   ]
  },
  {
   "cell_type": "markdown",
   "metadata": {},
   "source": [
    "# take only the positions for the choosen route_id"
   ]
  },
  {
   "cell_type": "code",
   "execution_count": 23,
   "metadata": {
    "ExecuteTime": {
     "end_time": "2019-06-13T05:00:55.886344Z",
     "start_time": "2019-06-13T05:00:55.613258Z"
    }
   },
   "outputs": [],
   "source": [
    "single_route_positions = full_route_positions[full_route_positions['route_id']==input_dict['route_id']]"
   ]
  },
  {
   "cell_type": "markdown",
   "metadata": {},
   "source": [
    "# make sure the route dataframe is not empty"
   ]
  },
  {
   "cell_type": "code",
   "execution_count": 25,
   "metadata": {
    "ExecuteTime": {
     "end_time": "2019-06-13T05:08:42.635617Z",
     "start_time": "2019-06-13T05:08:42.600066Z"
    }
   },
   "outputs": [
    {
     "data": {
      "text/plain": [
       "False"
      ]
     },
     "execution_count": 25,
     "metadata": {},
     "output_type": "execute_result"
    }
   ],
   "source": [
    "single_route_positions.empty"
   ]
  },
  {
   "cell_type": "markdown",
   "metadata": {},
   "source": [
    "# add time index columns"
   ]
  },
  {
   "cell_type": "code",
   "execution_count": 26,
   "metadata": {
    "ExecuteTime": {
     "end_time": "2019-06-13T05:08:46.520772Z",
     "start_time": "2019-06-13T05:08:46.154226Z"
    }
   },
   "outputs": [],
   "source": [
    "single_route_positions = convert_index_to_pct(single_route_positions)\n",
    "single_route_positions = add_time_index_columns(single_route_positions)"
   ]
  },
  {
   "cell_type": "markdown",
   "metadata": {},
   "source": [
    "# find the most popular shape on that route id going in one direction"
   ]
  },
  {
   "cell_type": "code",
   "execution_count": 32,
   "metadata": {
    "ExecuteTime": {
     "end_time": "2019-06-13T05:10:02.732701Z",
     "start_time": "2019-06-13T05:10:02.627463Z"
    }
   },
   "outputs": [],
   "source": [
    "direction = 1\n",
    "shape_of_interest_id, trip_headsign = get_most_used_shape_id_per_direction(full_trip_stop_schedule, \n",
    "                                                                           route_of_interest_id, \n",
    "                                                                           direction)"
   ]
  },
  {
   "cell_type": "markdown",
   "metadata": {},
   "source": [
    "# make one route_vertex_geo from shape_id"
   ]
  },
  {
   "cell_type": "code",
   "execution_count": 33,
   "metadata": {
    "ExecuteTime": {
     "end_time": "2019-06-13T05:10:13.682820Z",
     "start_time": "2019-06-13T05:10:13.574134Z"
    }
   },
   "outputs": [],
   "source": [
    "route_vertex_geo = make_geopandas_shape_df(full_shapes_gtfs, shape_of_interest_id)"
   ]
  },
  {
   "cell_type": "markdown",
   "metadata": {},
   "source": [
    "# join position table with trip gtfs information"
   ]
  },
  {
   "cell_type": "code",
   "execution_count": 34,
   "metadata": {
    "ExecuteTime": {
     "end_time": "2019-06-13T05:10:30.538341Z",
     "start_time": "2019-06-13T05:10:20.708197Z"
    }
   },
   "outputs": [
    {
     "name": "stdout",
     "output_type": "stream",
     "text": [
      "('2018-08-15', '2018-09-23')\n",
      "('2018-09-24', '2018-09-24')\n",
      "('2018-09-25', '2018-11-01')\n",
      "('2018-11-02', '2018-11-09')\n",
      "('2018-11-10', '2018-11-28')\n",
      "('2018-11-29', '2018-12-11')\n",
      "('2018-12-12', '2019-01-01')\n"
     ]
    }
   ],
   "source": [
    "positions_w_trips = {}\n",
    "for name, group in full_trips_gtfs.groupby(['start_gtfs_date','end_gtfs_date']):\n",
    "    print(name)\n",
    "    positions_w_trips[name] = join_positions_with_gtfs_trips(single_route_positions, group, name[0], name[1])"
   ]
  },
  {
   "cell_type": "markdown",
   "metadata": {},
   "source": [
    "# merge all dictionaries into one"
   ]
  },
  {
   "cell_type": "code",
   "execution_count": 35,
   "metadata": {
    "ExecuteTime": {
     "end_time": "2019-06-13T05:10:54.323716Z",
     "start_time": "2019-06-13T05:10:53.880835Z"
    }
   },
   "outputs": [
    {
     "name": "stdout",
     "output_type": "stream",
     "text": [
      "('2018-08-15', '2018-09-23')\n",
      "('2018-09-24', '2018-09-24')\n",
      "('2018-09-25', '2018-11-01')\n",
      "('2018-11-02', '2018-11-09')\n",
      "('2018-11-10', '2018-11-28')\n",
      "('2018-11-29', '2018-12-11')\n",
      "('2018-12-12', '2019-01-01')\n"
     ]
    }
   ],
   "source": [
    "for idx, dict_group in enumerate(positions_w_trips.keys()):\n",
    "    print(dict_group)\n",
    "    if positions_w_trips[dict_group].empty:\n",
    "        pass\n",
    "    else:\n",
    "        if idx == 0:\n",
    "            unpacked_positions_full = positions_w_trips[dict_group].copy()\n",
    "        else:\n",
    "            unpacked_positions_full = unpacked_positions_full.append(positions_w_trips[dict_group])"
   ]
  },
  {
   "cell_type": "markdown",
   "metadata": {},
   "source": [
    "# only take positions along one `shape_id`"
   ]
  },
  {
   "cell_type": "code",
   "execution_count": 36,
   "metadata": {
    "ExecuteTime": {
     "end_time": "2019-06-13T05:11:09.101444Z",
     "start_time": "2019-06-13T05:11:08.991468Z"
    }
   },
   "outputs": [],
   "source": [
    "unpacked_positions_one_shape = unpacked_positions_full[unpacked_positions_full['shape_id']==shape_of_interest_id]"
   ]
  },
  {
   "cell_type": "markdown",
   "metadata": {},
   "source": [
    "# try parallel below - I don't think the parallel function will work on a Windows computer (I've had trouble in the past). It should work fine on a Mac."
   ]
  },
  {
   "cell_type": "markdown",
   "metadata": {},
   "source": [
    "### the below takes ~1-2 minutes on my computer depending on the shape/number of trips"
   ]
  },
  {
   "cell_type": "code",
   "execution_count": 37,
   "metadata": {
    "ExecuteTime": {
     "end_time": "2019-06-13T05:11:45.947513Z",
     "start_time": "2019-06-13T05:11:28.575389Z"
    },
    "scrolled": false
   },
   "outputs": [
    {
     "name": "stdout",
     "output_type": "stream",
     "text": [
      "17.333288192749023\n"
     ]
    }
   ],
   "source": [
    "if __name__ == \"__main__\":\n",
    "    start = time.time()\n",
    "    positions_w_near_node_df = get_close_node_process(unpacked_positions_one_shape, route_vertex_geo)\n",
    "    end = time.time()\n",
    "    print(end - start)"
   ]
  },
  {
   "cell_type": "markdown",
   "metadata": {},
   "source": [
    "# convert `time_pct` to Pacific time for datetime tranforms below"
   ]
  },
  {
   "cell_type": "code",
   "execution_count": 38,
   "metadata": {
    "ExecuteTime": {
     "end_time": "2019-06-13T05:12:12.806117Z",
     "start_time": "2019-06-13T05:12:07.972345Z"
    }
   },
   "outputs": [],
   "source": [
    "positions_w_near_node_datetime = datetime_transform_df(positions_w_near_node_df)"
   ]
  },
  {
   "cell_type": "code",
   "execution_count": 44,
   "metadata": {
    "ExecuteTime": {
     "end_time": "2019-06-13T05:33:02.554913Z",
     "start_time": "2019-06-13T05:32:47.897311Z"
    }
   },
   "outputs": [],
   "source": [
    "position_w_node_schedule = join_tripstart(positions_w_near_node_datetime, \n",
    "                                                            full_trip_stop_schedule, \n",
    "                                                            tripid_w_starttime)"
   ]
  },
  {
   "cell_type": "code",
   "execution_count": 46,
   "metadata": {
    "ExecuteTime": {
     "end_time": "2019-06-13T05:34:17.346461Z",
     "start_time": "2019-06-13T05:34:09.731620Z"
    }
   },
   "outputs": [],
   "source": [
    "position_w_node_schedule['distance_btw_veh_and_shape'] = position_w_node_schedule\\\n",
    "                                                                .apply(lambda x: calc_distance(x['vehicle_lat'],\n",
    "                                                                x['vehicle_long'], \n",
    "                                                                x['shape_pt_lat'],\n",
    "                                                               x['shape_pt_lon']), axis=1)"
   ]
  },
  {
   "cell_type": "markdown",
   "metadata": {},
   "source": [
    "# below is an interactive graph if you installed `ipywidgets`"
   ]
  },
  {
   "cell_type": "markdown",
   "metadata": {},
   "source": [
    "# importing interactive libraries for interactive plots at the bottom of this notebook, you can comment these out if you just want to do transformations"
   ]
  },
  {
   "cell_type": "code",
   "execution_count": 47,
   "metadata": {
    "ExecuteTime": {
     "end_time": "2019-06-13T05:35:20.239333Z",
     "start_time": "2019-06-13T05:35:20.191124Z"
    }
   },
   "outputs": [],
   "source": [
    "#comment out these libraries if you don't want/have interactive widgets\n",
    "import ipywidgets as widgets\n",
    "from ipywidgets import interact, interact_manual"
   ]
  },
  {
   "cell_type": "markdown",
   "metadata": {},
   "source": [
    "# look at one unique trip"
   ]
  },
  {
   "cell_type": "code",
   "execution_count": 50,
   "metadata": {
    "ExecuteTime": {
     "end_time": "2019-06-13T05:36:41.400739Z",
     "start_time": "2019-06-13T05:36:40.925243Z"
    },
    "scrolled": false
   },
   "outputs": [
    {
     "data": {
      "application/vnd.jupyter.widget-view+json": {
       "model_id": "e08d82cb39684e5abdb86cb212df48da",
       "version_major": 2,
       "version_minor": 0
      },
      "text/plain": [
       "interactive(children=(Dropdown(description='x', options=('2018_8_31_39476797_4309', '2018_8_31_39476773_4331',…"
      ]
     },
     "metadata": {},
     "output_type": "display_data"
    }
   ],
   "source": [
    "@interact\n",
    "def show_one_unique_trip(x=list(position_w_node_schedule['month_day_trip_veh'].unique())):\n",
    "    onetrip_df = position_w_node_schedule[\n",
    "        position_w_node_schedule['month_day_trip_veh']==x][\n",
    "                                                                    ['month_day_trip_veh',\n",
    "                                                                     'trip_id',\n",
    "                                                                     'route_id',\n",
    "                                                                     'stop_name',\n",
    "                                                                     'shape_pt_sequence',\n",
    "                                                                     'shape_dist_traveled',\n",
    "                                                                     'time_pct',\n",
    "                                                                    'trip_start_time',\n",
    "                                                                    'arrival_time',\n",
    "                                                                     'actual_time_from_scheduled_start',\n",
    "                                                                     'scheduled_time_from_scheduled_start'\n",
    "                                                                    ]]\n",
    "\n",
    "    x = onetrip_df['shape_dist_traveled'].values\n",
    "    y1 = onetrip_df['actual_time_from_scheduled_start'].values\n",
    "    y2 = onetrip_df['scheduled_time_from_scheduled_start'].values\n",
    "\n",
    "    x_labels = onetrip_df['stop_name'].values\n",
    "    fig, ax = plt.subplots(figsize=(15,7))\n",
    "    ax.scatter(x, y1, label='actual_time', color='red')\n",
    "    ax.scatter(x, y2, label='sched_time', color='blue')\n",
    "    _ = ax.legend()"
   ]
  },
  {
   "cell_type": "markdown",
   "metadata": {},
   "source": [
    "# look at a particular `trip_id` (pretty messy right now- need to work on this graph)"
   ]
  },
  {
   "cell_type": "code",
   "execution_count": 52,
   "metadata": {
    "ExecuteTime": {
     "end_time": "2019-06-13T05:37:27.306134Z",
     "start_time": "2019-06-13T05:37:26.925052Z"
    }
   },
   "outputs": [
    {
     "data": {
      "application/vnd.jupyter.widget-view+json": {
       "model_id": "4a9d755bb5c442b2bb52af614c9192dc",
       "version_major": 2,
       "version_minor": 0
      },
      "text/plain": [
       "interactive(children=(Dropdown(description='x', options=(39476797, 39476773, 39476829, 39476731, 39476726, 394…"
      ]
     },
     "metadata": {},
     "output_type": "display_data"
    }
   ],
   "source": [
    "@interact\n",
    "def show_one_tripid(x=list(position_w_node_schedule['trip_id'].unique())):\n",
    "    onetrip_df = position_w_node_schedule[\n",
    "        position_w_node_schedule['trip_id']==x][\n",
    "                                                                    ['month_day_trip_veh',\n",
    "                                                                     'trip_id',\n",
    "                                                                     'hour',\n",
    "                                                                     'dow',\n",
    "                                                                     'route_id',\n",
    "                                                                     'shape_pt_sequence',\n",
    "                                                                     'shape_dist_traveled',\n",
    "                                                                     'time_pct',\n",
    "                                                                    'trip_start_time',\n",
    "                                                                     'stop_name',\n",
    "                                                                    'arrival_time',\n",
    "                                                                     'actual_time_from_scheduled_start',\n",
    "                                                                     'scheduled_time_from_scheduled_start'\n",
    "                                                                    ]]\n",
    "\n",
    "    x = onetrip_df['shape_dist_traveled'].values\n",
    "    y1 = onetrip_df['actual_time_from_scheduled_start'].values\n",
    "    y2 = onetrip_df['scheduled_time_from_scheduled_start'].values\n",
    "\n",
    "    x_labels = onetrip_df['stop_name'].values\n",
    "    fig, ax = plt.subplots(figsize=(15,7))\n",
    "    ax.scatter(x, y1, label='actual_time', color='red')\n",
    "    ax.scatter(x, y2, label='sched_time', color='blue')\n",
    "    hours = str(onetrip_df['hour'].unique().tolist())\n",
    "    dow = str(onetrip_df['dow'].unique().tolist())\n",
    "    ax.legend()\n",
    "    title_str = \"day of week {}, hour(s) {}\".format(dow, hours)\n",
    "    _ = ax.set_title(title_str, fontsize=14)"
   ]
  },
  {
   "cell_type": "code",
   "execution_count": null,
   "metadata": {},
   "outputs": [],
   "source": []
  }
 ],
 "metadata": {
  "kernelspec": {
   "display_name": "Python 3",
   "language": "python",
   "name": "python3"
  },
  "language_info": {
   "codemirror_mode": {
    "name": "ipython",
    "version": 3
   },
   "file_extension": ".py",
   "mimetype": "text/x-python",
   "name": "python",
   "nbconvert_exporter": "python",
   "pygments_lexer": "ipython3",
   "version": "3.6.5"
  }
 },
 "nbformat": 4,
 "nbformat_minor": 2
}
