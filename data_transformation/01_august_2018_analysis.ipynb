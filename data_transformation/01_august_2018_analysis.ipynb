{
 "cells": [
  {
   "cell_type": "code",
   "execution_count": 1,
   "metadata": {},
   "outputs": [],
   "source": [
    "import pandas as pd\n",
    "import numpy as np\n",
    "\n",
    "from shapely.geometry import Point\n",
    "from shapely.ops import nearest_points\n",
    "from geopy.distance import great_circle\n",
    "import matplotlib.pyplot as plt\n",
    "from tqdm import tqdm as tqdm_base, tqdm_notebook as tqdm\n",
    "\n",
    "tqdm_base.pandas()"
   ]
  },
  {
   "cell_type": "code",
   "execution_count": 16,
   "metadata": {},
   "outputs": [],
   "source": [
    "import os\n",
    "import gtfs_transformer as gt"
   ]
  },
  {
   "cell_type": "code",
   "execution_count": 2,
   "metadata": {},
   "outputs": [],
   "source": [
    "%load_ext autoreload\n",
    "%autoreload 2"
   ]
  },
  {
   "cell_type": "markdown",
   "metadata": {},
   "source": [
    "## Read positions from August 2018"
   ]
  },
  {
   "cell_type": "code",
   "execution_count": 4,
   "metadata": {},
   "outputs": [],
   "source": [
    "locations_df = pd.read_hdf('../data/intermed/positions_201808.h5', key='df')"
   ]
  },
  {
   "cell_type": "code",
   "execution_count": 5,
   "metadata": {},
   "outputs": [
    {
     "data": {
      "text/html": [
       "<div>\n",
       "<style scoped>\n",
       "    .dataframe tbody tr th:only-of-type {\n",
       "        vertical-align: middle;\n",
       "    }\n",
       "\n",
       "    .dataframe tbody tr th {\n",
       "        vertical-align: top;\n",
       "    }\n",
       "\n",
       "    .dataframe thead th {\n",
       "        text-align: right;\n",
       "    }\n",
       "</style>\n",
       "<table border=\"1\" class=\"dataframe\">\n",
       "  <thead>\n",
       "    <tr style=\"text-align: right;\">\n",
       "      <th></th>\n",
       "      <th>route_id</th>\n",
       "      <th>timestamp</th>\n",
       "      <th>trip_id</th>\n",
       "      <th>vehicle_id</th>\n",
       "      <th>vehicle_lat</th>\n",
       "      <th>vehicle_long</th>\n",
       "      <th>time_utc</th>\n",
       "      <th>time_pct</th>\n",
       "    </tr>\n",
       "    <tr>\n",
       "      <th>timestamp_utc</th>\n",
       "      <th></th>\n",
       "      <th></th>\n",
       "      <th></th>\n",
       "      <th></th>\n",
       "      <th></th>\n",
       "      <th></th>\n",
       "      <th></th>\n",
       "      <th></th>\n",
       "    </tr>\n",
       "  </thead>\n",
       "  <tbody>\n",
       "    <tr>\n",
       "      <th>2018-07-31 23:55:06</th>\n",
       "      <td>100495</td>\n",
       "      <td>1533081306</td>\n",
       "      <td>39570076</td>\n",
       "      <td>8109</td>\n",
       "      <td>47.606529</td>\n",
       "      <td>-122.322571</td>\n",
       "      <td>2018-07-31 23:55:06</td>\n",
       "      <td>2018-07-31 16:55:06-07:00</td>\n",
       "    </tr>\n",
       "    <tr>\n",
       "      <th>2018-07-31 23:55:06</th>\n",
       "      <td>100128</td>\n",
       "      <td>1533081306</td>\n",
       "      <td>39494444</td>\n",
       "      <td>1154</td>\n",
       "      <td>47.754990</td>\n",
       "      <td>-122.155212</td>\n",
       "      <td>2018-07-31 23:55:06</td>\n",
       "      <td>2018-07-31 16:55:06-07:00</td>\n",
       "    </tr>\n",
       "    <tr>\n",
       "      <th>2018-07-31 23:55:07</th>\n",
       "      <td>102574</td>\n",
       "      <td>1533081307</td>\n",
       "      <td>39515435</td>\n",
       "      <td>7006</td>\n",
       "      <td>47.599838</td>\n",
       "      <td>-122.329063</td>\n",
       "      <td>2018-07-31 23:55:07</td>\n",
       "      <td>2018-07-31 16:55:07-07:00</td>\n",
       "    </tr>\n",
       "    <tr>\n",
       "      <th>2018-07-31 23:55:09</th>\n",
       "      <td>100061</td>\n",
       "      <td>1533081309</td>\n",
       "      <td>39571262</td>\n",
       "      <td>7167</td>\n",
       "      <td>47.383316</td>\n",
       "      <td>-122.230255</td>\n",
       "      <td>2018-07-31 23:55:09</td>\n",
       "      <td>2018-07-31 16:55:09-07:00</td>\n",
       "    </tr>\n",
       "    <tr>\n",
       "      <th>2018-07-31 23:55:31</th>\n",
       "      <td>100146</td>\n",
       "      <td>1533081331</td>\n",
       "      <td>39496283</td>\n",
       "      <td>6900</td>\n",
       "      <td>47.596931</td>\n",
       "      <td>-122.328285</td>\n",
       "      <td>2018-07-31 23:55:31</td>\n",
       "      <td>2018-07-31 16:55:31-07:00</td>\n",
       "    </tr>\n",
       "  </tbody>\n",
       "</table>\n",
       "</div>"
      ],
      "text/plain": [
       "                     route_id   timestamp   trip_id  vehicle_id  vehicle_lat  \\\n",
       "timestamp_utc                                                                  \n",
       "2018-07-31 23:55:06    100495  1533081306  39570076        8109    47.606529   \n",
       "2018-07-31 23:55:06    100128  1533081306  39494444        1154    47.754990   \n",
       "2018-07-31 23:55:07    102574  1533081307  39515435        7006    47.599838   \n",
       "2018-07-31 23:55:09    100061  1533081309  39571262        7167    47.383316   \n",
       "2018-07-31 23:55:31    100146  1533081331  39496283        6900    47.596931   \n",
       "\n",
       "                     vehicle_long             time_utc  \\\n",
       "timestamp_utc                                            \n",
       "2018-07-31 23:55:06   -122.322571  2018-07-31 23:55:06   \n",
       "2018-07-31 23:55:06   -122.155212  2018-07-31 23:55:06   \n",
       "2018-07-31 23:55:07   -122.329063  2018-07-31 23:55:07   \n",
       "2018-07-31 23:55:09   -122.230255  2018-07-31 23:55:09   \n",
       "2018-07-31 23:55:31   -122.328285  2018-07-31 23:55:31   \n",
       "\n",
       "                                      time_pct  \n",
       "timestamp_utc                                   \n",
       "2018-07-31 23:55:06  2018-07-31 16:55:06-07:00  \n",
       "2018-07-31 23:55:06  2018-07-31 16:55:06-07:00  \n",
       "2018-07-31 23:55:07  2018-07-31 16:55:07-07:00  \n",
       "2018-07-31 23:55:09  2018-07-31 16:55:09-07:00  \n",
       "2018-07-31 23:55:31  2018-07-31 16:55:31-07:00  "
      ]
     },
     "execution_count": 5,
     "metadata": {},
     "output_type": "execute_result"
    }
   ],
   "source": [
    "locations_df.head()"
   ]
  },
  {
   "cell_type": "code",
   "execution_count": 6,
   "metadata": {},
   "outputs": [
    {
     "data": {
      "text/plain": [
       "79683368"
      ]
     },
     "execution_count": 6,
     "metadata": {},
     "output_type": "execute_result"
    }
   ],
   "source": [
    "locations_df.size"
   ]
  },
  {
   "cell_type": "code",
   "execution_count": 7,
   "metadata": {},
   "outputs": [
    {
     "data": {
      "text/plain": [
       "(9960421, 8)"
      ]
     },
     "execution_count": 7,
     "metadata": {},
     "output_type": "execute_result"
    }
   ],
   "source": [
    "locations_df.shape"
   ]
  },
  {
   "cell_type": "code",
   "execution_count": 8,
   "metadata": {},
   "outputs": [
    {
     "data": {
      "text/plain": [
       "Timestamp('2018-08-01 00:00:00')"
      ]
     },
     "execution_count": 8,
     "metadata": {},
     "output_type": "execute_result"
    }
   ],
   "source": [
    "pd.to_datetime('August 2018')"
   ]
  },
  {
   "cell_type": "code",
   "execution_count": 11,
   "metadata": {},
   "outputs": [
    {
     "data": {
      "text/plain": [
       "['01_transform_source_data.ipynb',\n",
       " '03_e_segment_analysis.html',\n",
       " '.DS_Store',\n",
       " 'unpack_pb_files.py',\n",
       " '04_transform_d_locations.ipynb',\n",
       " '02_transform_e_locations.html',\n",
       " 'data_transformation',\n",
       " 'README.md',\n",
       " 'download_raw_locations.sh',\n",
       " '.gitignore',\n",
       " 'route_shape_process',\n",
       " '03_e_segment_analysis.ipynb',\n",
       " '02_transform_e_locations.ipynb',\n",
       " '.ipynb_checkpoints',\n",
       " '.git',\n",
       " 'data']"
      ]
     },
     "execution_count": 11,
     "metadata": {},
     "output_type": "execute_result"
    }
   ],
   "source": [
    "os.listdir('..')"
   ]
  },
  {
   "cell_type": "code",
   "execution_count": 15,
   "metadata": {},
   "outputs": [
    {
     "name": "stdout",
     "output_type": "stream",
     "text": [
      "01_transform_source_data.ipynb ../01_transform_source_data.ipynb\n",
      "03_e_segment_analysis.html ../03_e_segment_analysis.html\n",
      ".DS_Store ../.DS_Store\n",
      "unpack_pb_files.py ../unpack_pb_files.py\n",
      "04_transform_d_locations.ipynb ../04_transform_d_locations.ipynb\n",
      "02_transform_e_locations.html ../02_transform_e_locations.html\n",
      "data_transformation ../data_transformation\n",
      "README.md ../README.md\n",
      "download_raw_locations.sh ../download_raw_locations.sh\n",
      ".gitignore ../.gitignore\n",
      "route_shape_process ../route_shape_process\n",
      "03_e_segment_analysis.ipynb ../03_e_segment_analysis.ipynb\n",
      "02_transform_e_locations.ipynb ../02_transform_e_locations.ipynb\n",
      ".ipynb_checkpoints ../.ipynb_checkpoints\n",
      ".git ../.git\n",
      "data ../data\n"
     ]
    }
   ],
   "source": [
    "for entry in os.scandir('..'):\n",
    "    print(entry.name, entry.path)"
   ]
  },
  {
   "cell_type": "code",
   "execution_count": 19,
   "metadata": {},
   "outputs": [
    {
     "name": "stdout",
     "output_type": "stream",
     "text": [
      "\u001b[34mgtfs_20180118\u001b[m\u001b[m \u001b[34mgtfs_20180611\u001b[m\u001b[m \u001b[34mgtfs_20180718\u001b[m\u001b[m\r\n",
      "\u001b[34mgtfs_20180511\u001b[m\u001b[m \u001b[34mgtfs_20180717\u001b[m\u001b[m \u001b[34mgtfs_20180815\u001b[m\u001b[m\r\n"
     ]
    }
   ],
   "source": [
    "!ls ../data/source/"
   ]
  },
  {
   "cell_type": "code",
   "execution_count": 26,
   "metadata": {},
   "outputs": [],
   "source": [
    "gtfs_aug18 = gt.GTFS('../data/source/gtfs_20180815')"
   ]
  },
  {
   "cell_type": "code",
   "execution_count": 27,
   "metadata": {},
   "outputs": [
    {
     "data": {
      "text/plain": [
       "dict_keys(['fare_attributes', 'block_trip', 'agency', 'fare_rules', 'calendar_dates', 'stop_times', 'shapes', 'trips', 'stops', 'block', 'calendar', 'routes'])"
      ]
     },
     "execution_count": 27,
     "metadata": {},
     "output_type": "execute_result"
    }
   ],
   "source": [
    "gtfs_aug18.__dict__.keys()"
   ]
  },
  {
   "cell_type": "code",
   "execution_count": 25,
   "metadata": {},
   "outputs": [
    {
     "data": {
      "text/plain": [
       "'abcd'"
      ]
     },
     "execution_count": 25,
     "metadata": {},
     "output_type": "execute_result"
    }
   ],
   "source": [
    "'abcdefg'[:-3]"
   ]
  },
  {
   "cell_type": "code",
   "execution_count": 28,
   "metadata": {},
   "outputs": [
    {
     "data": {
      "text/html": [
       "<div>\n",
       "<style scoped>\n",
       "    .dataframe tbody tr th:only-of-type {\n",
       "        vertical-align: middle;\n",
       "    }\n",
       "\n",
       "    .dataframe tbody tr th {\n",
       "        vertical-align: top;\n",
       "    }\n",
       "\n",
       "    .dataframe thead th {\n",
       "        text-align: right;\n",
       "    }\n",
       "</style>\n",
       "<table border=\"1\" class=\"dataframe\">\n",
       "  <thead>\n",
       "    <tr style=\"text-align: right;\">\n",
       "      <th></th>\n",
       "      <th>route_id</th>\n",
       "      <th>agency_id</th>\n",
       "      <th>route_short_name</th>\n",
       "      <th>route_long_name</th>\n",
       "      <th>route_desc</th>\n",
       "      <th>route_type</th>\n",
       "      <th>route_url</th>\n",
       "      <th>route_color</th>\n",
       "      <th>route_text_color</th>\n",
       "    </tr>\n",
       "  </thead>\n",
       "  <tbody>\n",
       "    <tr>\n",
       "      <th>0</th>\n",
       "      <td>100001</td>\n",
       "      <td>KCM</td>\n",
       "      <td>1</td>\n",
       "      <td>NaN</td>\n",
       "      <td>Kinnear - Downtown Seattle</td>\n",
       "      <td>3</td>\n",
       "      <td>http://metro.kingcounty.gov/schedules/001/n0.html</td>\n",
       "      <td>NaN</td>\n",
       "      <td>NaN</td>\n",
       "    </tr>\n",
       "    <tr>\n",
       "      <th>1</th>\n",
       "      <td>100002</td>\n",
       "      <td>KCM</td>\n",
       "      <td>10</td>\n",
       "      <td>NaN</td>\n",
       "      <td>Capitol Hill - Downtown Seattle</td>\n",
       "      <td>3</td>\n",
       "      <td>http://metro.kingcounty.gov/schedules/010/n0.html</td>\n",
       "      <td>NaN</td>\n",
       "      <td>NaN</td>\n",
       "    </tr>\n",
       "    <tr>\n",
       "      <th>2</th>\n",
       "      <td>100003</td>\n",
       "      <td>KCM</td>\n",
       "      <td>101</td>\n",
       "      <td>NaN</td>\n",
       "      <td>Renton Transit Center - Downtown Seattle</td>\n",
       "      <td>3</td>\n",
       "      <td>http://metro.kingcounty.gov/schedules/101/n0.html</td>\n",
       "      <td>NaN</td>\n",
       "      <td>NaN</td>\n",
       "    </tr>\n",
       "    <tr>\n",
       "      <th>3</th>\n",
       "      <td>100004</td>\n",
       "      <td>KCM</td>\n",
       "      <td>105</td>\n",
       "      <td>NaN</td>\n",
       "      <td>Renton Highlands - Renton Transit Center</td>\n",
       "      <td>3</td>\n",
       "      <td>http://metro.kingcounty.gov/schedules/105/n0.html</td>\n",
       "      <td>NaN</td>\n",
       "      <td>NaN</td>\n",
       "    </tr>\n",
       "    <tr>\n",
       "      <th>4</th>\n",
       "      <td>100005</td>\n",
       "      <td>KCM</td>\n",
       "      <td>106</td>\n",
       "      <td>NaN</td>\n",
       "      <td>Renton Transit Center - Skyway - Downtown Seattle</td>\n",
       "      <td>3</td>\n",
       "      <td>http://metro.kingcounty.gov/schedules/106/n0.html</td>\n",
       "      <td>NaN</td>\n",
       "      <td>NaN</td>\n",
       "    </tr>\n",
       "  </tbody>\n",
       "</table>\n",
       "</div>"
      ],
      "text/plain": [
       "   route_id agency_id route_short_name  route_long_name  \\\n",
       "0    100001       KCM                1              NaN   \n",
       "1    100002       KCM               10              NaN   \n",
       "2    100003       KCM              101              NaN   \n",
       "3    100004       KCM              105              NaN   \n",
       "4    100005       KCM              106              NaN   \n",
       "\n",
       "                                          route_desc  route_type  \\\n",
       "0                         Kinnear - Downtown Seattle           3   \n",
       "1                    Capitol Hill - Downtown Seattle           3   \n",
       "2           Renton Transit Center - Downtown Seattle           3   \n",
       "3           Renton Highlands - Renton Transit Center           3   \n",
       "4  Renton Transit Center - Skyway - Downtown Seattle           3   \n",
       "\n",
       "                                           route_url  route_color  \\\n",
       "0  http://metro.kingcounty.gov/schedules/001/n0.html          NaN   \n",
       "1  http://metro.kingcounty.gov/schedules/010/n0.html          NaN   \n",
       "2  http://metro.kingcounty.gov/schedules/101/n0.html          NaN   \n",
       "3  http://metro.kingcounty.gov/schedules/105/n0.html          NaN   \n",
       "4  http://metro.kingcounty.gov/schedules/106/n0.html          NaN   \n",
       "\n",
       "   route_text_color  \n",
       "0               NaN  \n",
       "1               NaN  \n",
       "2               NaN  \n",
       "3               NaN  \n",
       "4               NaN  "
      ]
     },
     "execution_count": 28,
     "metadata": {},
     "output_type": "execute_result"
    }
   ],
   "source": [
    "gtfs_aug18.routes.head()"
   ]
  },
  {
   "cell_type": "code",
   "execution_count": 29,
   "metadata": {},
   "outputs": [
    {
     "data": {
      "text/html": [
       "<div>\n",
       "<style scoped>\n",
       "    .dataframe tbody tr th:only-of-type {\n",
       "        vertical-align: middle;\n",
       "    }\n",
       "\n",
       "    .dataframe tbody tr th {\n",
       "        vertical-align: top;\n",
       "    }\n",
       "\n",
       "    .dataframe thead th {\n",
       "        text-align: right;\n",
       "    }\n",
       "</style>\n",
       "<table border=\"1\" class=\"dataframe\">\n",
       "  <thead>\n",
       "    <tr style=\"text-align: right;\">\n",
       "      <th></th>\n",
       "      <th>stop_id</th>\n",
       "      <th>stop_code</th>\n",
       "      <th>stop_name</th>\n",
       "      <th>stop_desc</th>\n",
       "      <th>stop_lat</th>\n",
       "      <th>stop_lon</th>\n",
       "      <th>zone_id</th>\n",
       "      <th>stop_url</th>\n",
       "      <th>location_type</th>\n",
       "      <th>parent_station</th>\n",
       "      <th>stop_timezone</th>\n",
       "    </tr>\n",
       "  </thead>\n",
       "  <tbody>\n",
       "    <tr>\n",
       "      <th>0</th>\n",
       "      <td>1000</td>\n",
       "      <td>NaN</td>\n",
       "      <td>Pine St &amp; 9th Ave</td>\n",
       "      <td>NaN</td>\n",
       "      <td>47.613415</td>\n",
       "      <td>-122.332138</td>\n",
       "      <td>21</td>\n",
       "      <td>NaN</td>\n",
       "      <td>0</td>\n",
       "      <td>NaN</td>\n",
       "      <td>America/Los_Angeles</td>\n",
       "    </tr>\n",
       "    <tr>\n",
       "      <th>1</th>\n",
       "      <td>10000</td>\n",
       "      <td>NaN</td>\n",
       "      <td>NE 55th St &amp; 43rd Ave NE</td>\n",
       "      <td>NaN</td>\n",
       "      <td>47.668575</td>\n",
       "      <td>-122.283653</td>\n",
       "      <td>1</td>\n",
       "      <td>NaN</td>\n",
       "      <td>0</td>\n",
       "      <td>NaN</td>\n",
       "      <td>America/Los_Angeles</td>\n",
       "    </tr>\n",
       "    <tr>\n",
       "      <th>2</th>\n",
       "      <td>10005</td>\n",
       "      <td>NaN</td>\n",
       "      <td>40th Ave NE &amp; NE 51st St</td>\n",
       "      <td>NaN</td>\n",
       "      <td>47.665886</td>\n",
       "      <td>-122.284897</td>\n",
       "      <td>1</td>\n",
       "      <td>NaN</td>\n",
       "      <td>0</td>\n",
       "      <td>NaN</td>\n",
       "      <td>America/Los_Angeles</td>\n",
       "    </tr>\n",
       "    <tr>\n",
       "      <th>3</th>\n",
       "      <td>10010</td>\n",
       "      <td>NaN</td>\n",
       "      <td>NE 55th St &amp; 39th Ave NE</td>\n",
       "      <td>NaN</td>\n",
       "      <td>47.668579</td>\n",
       "      <td>-122.285667</td>\n",
       "      <td>1</td>\n",
       "      <td>NaN</td>\n",
       "      <td>0</td>\n",
       "      <td>NaN</td>\n",
       "      <td>America/Los_Angeles</td>\n",
       "    </tr>\n",
       "    <tr>\n",
       "      <th>4</th>\n",
       "      <td>10020</td>\n",
       "      <td>NaN</td>\n",
       "      <td>NE 55th St &amp; 37th Ave NE</td>\n",
       "      <td>NaN</td>\n",
       "      <td>47.668579</td>\n",
       "      <td>-122.288300</td>\n",
       "      <td>1</td>\n",
       "      <td>NaN</td>\n",
       "      <td>0</td>\n",
       "      <td>NaN</td>\n",
       "      <td>America/Los_Angeles</td>\n",
       "    </tr>\n",
       "  </tbody>\n",
       "</table>\n",
       "</div>"
      ],
      "text/plain": [
       "   stop_id  stop_code                 stop_name  stop_desc   stop_lat  \\\n",
       "0     1000        NaN         Pine St & 9th Ave        NaN  47.613415   \n",
       "1    10000        NaN  NE 55th St & 43rd Ave NE        NaN  47.668575   \n",
       "2    10005        NaN  40th Ave NE & NE 51st St        NaN  47.665886   \n",
       "3    10010        NaN  NE 55th St & 39th Ave NE        NaN  47.668579   \n",
       "4    10020        NaN  NE 55th St & 37th Ave NE        NaN  47.668579   \n",
       "\n",
       "     stop_lon  zone_id  stop_url  location_type  parent_station  \\\n",
       "0 -122.332138       21       NaN              0             NaN   \n",
       "1 -122.283653        1       NaN              0             NaN   \n",
       "2 -122.284897        1       NaN              0             NaN   \n",
       "3 -122.285667        1       NaN              0             NaN   \n",
       "4 -122.288300        1       NaN              0             NaN   \n",
       "\n",
       "         stop_timezone  \n",
       "0  America/Los_Angeles  \n",
       "1  America/Los_Angeles  \n",
       "2  America/Los_Angeles  \n",
       "3  America/Los_Angeles  \n",
       "4  America/Los_Angeles  "
      ]
     },
     "execution_count": 29,
     "metadata": {},
     "output_type": "execute_result"
    }
   ],
   "source": [
    "gtfs_aug18.stops.head()"
   ]
  },
  {
   "cell_type": "code",
   "execution_count": null,
   "metadata": {},
   "outputs": [],
   "source": []
  }
 ],
 "metadata": {
  "kernelspec": {
   "display_name": "realtime-buses",
   "language": "python",
   "name": "realtime-buses"
  },
  "language_info": {
   "codemirror_mode": {
    "name": "ipython",
    "version": 3
   },
   "file_extension": ".py",
   "mimetype": "text/x-python",
   "name": "python",
   "nbconvert_exporter": "python",
   "pygments_lexer": "ipython3",
   "version": "3.6.8"
  }
 },
 "nbformat": 4,
 "nbformat_minor": 2
}
